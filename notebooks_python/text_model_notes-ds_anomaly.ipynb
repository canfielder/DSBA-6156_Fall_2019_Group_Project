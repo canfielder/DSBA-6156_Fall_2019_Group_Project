{
 "cells": [
  {
   "cell_type": "markdown",
   "metadata": {},
   "source": [
    "# Defining Parameters\n",
    "\n",
    "* **Data**: Notes - Discharge"
   ]
  },
  {
   "cell_type": "code",
   "execution_count": 50,
   "metadata": {},
   "outputs": [],
   "source": [
    "scoring_metric = 'f1_weighted'\n",
    "max_iter_log = 500\n",
    "max_features = 3000\n",
    "svd_features = 900\n",
    "\n",
    "#Randomized Search Metric\n",
    "n_iter_search = 25"
   ]
  },
  {
   "cell_type": "markdown",
   "metadata": {},
   "source": [
    "# Library Calls"
   ]
  },
  {
   "cell_type": "code",
   "execution_count": 51,
   "metadata": {},
   "outputs": [],
   "source": [
    "import pandas as pd\n",
    "import numpy as np\n",
    "import seaborn as sns\n",
    "import feather\n",
    "import nltk\n",
    "import re\n",
    "import string\n",
    "import sklearn\n",
    "import matplotlib.pyplot as plt\n",
    "\n",
    "from scipy.stats import randint as sp_randint\n",
    "from sklearn.decomposition import TruncatedSVD\n",
    "from nltk.tokenize import sent_tokenize\n",
    "from sklearn.feature_extraction.text import CountVectorizer, TfidfVectorizer\n",
    "\n",
    "from sklearn.model_selection import GridSearchCV, RandomizedSearchCV,  cross_val_score, cross_validate\n",
    "\n",
    "from sklearn.svm import SVC, OneClassSVM \n",
    "from sklearn.ensemble import IsolationForest\n",
    "\n",
    "from sklearn.metrics import classification_report, roc_curve, roc_auc_score\n",
    "from sklearn.metrics import accuracy_score,precision_recall_fscore_support\n",
    "from sklearn.metrics import make_scorer, accuracy_score, precision_score, recall_score, f1_score, balanced_accuracy_score\n",
    "from sklearn.metrics import confusion_matrix\n",
    "\n",
    "# Random State\n",
    "rng = np.random.RandomState(5590)\n",
    "solver_log = 'saga'"
   ]
  },
  {
   "cell_type": "markdown",
   "metadata": {},
   "source": [
    "# Data Import and Processing\n",
    "## !!!One Data Frame Import Must Be Commented Out!!!!"
   ]
  },
  {
   "cell_type": "code",
   "execution_count": 52,
   "metadata": {},
   "outputs": [],
   "source": [
    "df_all = None\n",
    "df_ds = None"
   ]
  },
  {
   "cell_type": "code",
   "execution_count": 53,
   "metadata": {},
   "outputs": [],
   "source": [
    "# All Available Notes\n",
    "#df_all = pd.read_csv('./data/text_processed_all.csv.gz', compression='gzip', low_memory=False)\n",
    "\n",
    "# Dishcharge Summary Notes Onlly\n",
    "df_ds = pd.read_csv('./data/text_processed_discharge_summary.csv.gz', compression='gzip', low_memory=False)"
   ]
  },
  {
   "cell_type": "markdown",
   "metadata": {},
   "source": [
    "# Define Data Frame"
   ]
  },
  {
   "cell_type": "markdown",
   "metadata": {},
   "source": [
    "Here we do a check to see which data frame we are analyzing, All Notes or Discharge Notes"
   ]
  },
  {
   "cell_type": "code",
   "execution_count": 54,
   "metadata": {},
   "outputs": [],
   "source": [
    "if df_all is not None:\n",
    "    df = df_all\n",
    "else:\n",
    "    df = df_ds\n",
    "      \n",
    "# Convert HADMID to String\n",
    "df.hadm_id = df.hadm_id.astype('int64').astype(str)\n",
    "\n",
    "# Convert Readmit_30 to Int\n",
    "df.readmit_30 = df.readmit_30.astype('int')"
   ]
  },
  {
   "cell_type": "markdown",
   "metadata": {},
   "source": [
    "# Functions"
   ]
  },
  {
   "cell_type": "markdown",
   "metadata": {},
   "source": [
    "## Modified Tokenizer\n",
    "Define a modified tokenizer function. This function will remove numbers and characters, as well as set all words to lower case."
   ]
  },
  {
   "cell_type": "code",
   "execution_count": 55,
   "metadata": {},
   "outputs": [],
   "source": [
    "def tokenize_note_events(text):\n",
    "    #create a list of all characters and numbers\n",
    "    num_puct_list = string.punctuation+'0123456789'\n",
    "    \n",
    "    # Create a dictionary aligning each numeric and chcarter to a space\n",
    "    t = str.maketrans(dict.fromkeys(num_puct_list, \" \"))\n",
    "    \n",
    "    # Convert Text to lower case and apply dictionary\n",
    "    text = text.lower().translate(t)\n",
    "    \n",
    "    #tokenize\n",
    "    tokens = nltk.word_tokenize(text)\n",
    "    return tokens"
   ]
  },
  {
   "cell_type": "markdown",
   "metadata": {},
   "source": [
    "## Custom Stop Words\n",
    "Define custom stop words"
   ]
  },
  {
   "cell_type": "code",
   "execution_count": 56,
   "metadata": {},
   "outputs": [],
   "source": [
    "stop_words = ['the','and','to','of','was','with','a','on','in','for','name',\n",
    " 'is','patient','s','he','at','as','or','one','she','his','her','am', \n",
    " 'were','you','pt','pm','by','be','had','your','this','date', 'from',\n",
    " 'there','an','that','p','are','have','has','h','but','o', \n",
    " 'namepattern','which','every','also', 'w', 'd', 'c', 'l', \n",
    " 'q', 'r', 'x', 't', 'm']"
   ]
  },
  {
   "cell_type": "markdown",
   "metadata": {},
   "source": [
    "## Text Processing Function with Truncated SVD\n",
    "The following function performs all of the prec-processing steps, using sub-sampling to balance the data. The function tokenizes the text using 1-grams and 2-grams. The function returns a processed predictor dataframe for the training and validation data, as well as the target variable for the training and validation data."
   ]
  },
  {
   "cell_type": "code",
   "execution_count": 57,
   "metadata": {},
   "outputs": [],
   "source": [
    "def text_processing(df):\n",
    "    # Clean the Entire Data Set of numbers, characters, carriage returns, and new lines\n",
    "    df.text = df.text.fillna(' ')\n",
    "    df.text = df.text.str.replace('\\n',' ')\n",
    "    df.text = df.text.str.replace('\\r',' ')\n",
    "    \n",
    "    # Split into Train, Valid and Test\n",
    "    ## Shuffle\n",
    "    df = df.sample(n = len(df), random_state = rng)\n",
    "    df = df.reset_index(drop = True)\n",
    "    \n",
    "    ## Extract Data for Test and Valid Sampling\n",
    "    df_v_te = df.sample(frac=0.40, random_state = rng)\n",
    "    \n",
    "    ## Test Sample\n",
    "    df_te = df_v_te.sample(frac = 0.5, random_state = rng)\n",
    "    \n",
    "    ## Valid Sample\n",
    "    df_v = df_v_te.drop(df_te.index)\n",
    "\n",
    "    ## Training Sample\n",
    "    df_tr = df.drop(df_v_te.index)\n",
    "    \n",
    "    # Split the training data into normal and outlier data.\n",
    "    df_tr_normal = df_tr[df_tr['readmit_30']==0]\n",
    "    df_tr_outlier = df_tr[df_tr['readmit_30']==1]\n",
    "    \n",
    "    \n",
    "    # Initialize Vectorizer and SVD\n",
    "    ## Use Modified Tokenizer, Set number of n-grams, use custom stop words\n",
    "    vect = CountVectorizer(max_features = max_features, \n",
    "                           tokenizer = tokenize_note_events, \n",
    "                           ngram_range = (1,2),\n",
    "                           stop_words=stop_words\n",
    "                          )\n",
    "\n",
    "    # Transform Text\n",
    "    # Fit Vectorizer on Training Data\n",
    "    vect.fit(df_tr.text.values)\n",
    "\n",
    "    # Transform the text into vectors.\n",
    "    x_tr_all_tf = vect.transform(df_tr.text.values)\n",
    "    x_tr_normal_tf = vect.transform(df_tr_normal.text.values)\n",
    "    x_tr_outlier_tf = vect.transform(df_tr_outlier.text.values)\n",
    "    x_v_tf = vect.transform(df_v.text.values)\n",
    "    x_te_tf  = vect.transform(df_te.text.values)\n",
    "\n",
    "    # Define Target Variables\n",
    "    y_tr_all = df_tr.readmit_30\n",
    "    y_tr_normal = df_tr_normal.readmit_30\n",
    "    y_tr_outlier = df_tr_outlier.readmit_30\n",
    "    y_v = df_v.readmit_30\n",
    "    y_te = df_te.readmit_30\n",
    "    \n",
    "    return x_tr_all_tf, x_tr_normal_tf, x_tr_outlier_tf, x_v_tf, x_te_tf, y_tr_all, y_tr_normal, x_tr_outlier_tf, y_v, y_te"
   ]
  },
  {
   "cell_type": "markdown",
   "metadata": {},
   "source": [
    "## Truncated SVD"
   ]
  },
  {
   "cell_type": "code",
   "execution_count": 58,
   "metadata": {},
   "outputs": [],
   "source": [
    "def trunc_svd(x_tr_all, x_tr_normal, x_tr_outlier, x_v, x_te, n):\n",
    "    svd = TruncatedSVD(n_components = n, n_iter = 7, random_state = rng)\n",
    "    \n",
    "    # Fit SVD on Training Data\n",
    "    svd.fit(x_tr_all)\n",
    "    \n",
    "    # Transform Sparse Matrices\n",
    "    x_tr_all_svd = svd.transform(x_tr_all)\n",
    "    x_tr_normal_svd = svd.transform(x_tr_normal)\n",
    "    x_tr_outlier_svd = svd.transform(x_tr_outlier)\n",
    "    x_v_svd = svd.transform(x_v)\n",
    "    x_te_svd  = svd.transform(x_te)\n",
    "    \n",
    "    return x_tr_all_svd, x_tr_normal_svd, x_tr_outlier_svd, x_v_svd, x_te_svd"
   ]
  },
  {
   "cell_type": "markdown",
   "metadata": {},
   "source": [
    "## Model Output"
   ]
  },
  {
   "cell_type": "markdown",
   "metadata": {},
   "source": [
    "### Scoring Metrics\n",
    "The following functions calculate the scoring metrics the models will be evlauted on."
   ]
  },
  {
   "cell_type": "code",
   "execution_count": 59,
   "metadata": {},
   "outputs": [],
   "source": [
    "def calc_specificity(y_actual, y_pred, thresh):\n",
    "    # calculates specificity\n",
    "    return sum((y_pred < thresh) & (y_actual == 0)) /sum(y_actual ==0)\n",
    "\n",
    "def calc_prevalence(y_actual):\n",
    "    # calculates prevalence\n",
    "    return sum((y_actual == 1)) /len(y_actual)"
   ]
  },
  {
   "cell_type": "markdown",
   "metadata": {},
   "source": [
    "### Scoring Output\n",
    "The following code generates the visual output of the scoring metrics."
   ]
  },
  {
   "cell_type": "code",
   "execution_count": 60,
   "metadata": {},
   "outputs": [],
   "source": [
    "def roc_curve_plot(y_tr, y_tr_preds, y_v, y_v_preds):\n",
    "    \n",
    "    fpr_tr, tpr_tr, thresholds_tr = roc_curve(y_tr, y_tr_preds)\n",
    "    fpr_v, tpr_v, thresholds_v = roc_curve(y_v, y_v_preds)\n",
    "    \n",
    "    plt.plot(fpr_tr, tpr_tr,'r-', label = 'Train AUC: %.2f'%roc_auc_score(y_tr, y_tr_preds))\n",
    "    plt.plot(fpr_v, tpr_v,'b-',label = 'Valid AUC: %.2f'%roc_auc_score(y_v, y_v_preds))\n",
    "    plt.plot([0,1],[0,1],'-k')\n",
    "    plt.xlabel('False Positive Rate')\n",
    "    plt.ylabel('True Positive Rate')\n",
    "    plt.legend()\n",
    "    plt.show()"
   ]
  },
  {
   "cell_type": "markdown",
   "metadata": {},
   "source": [
    "### Confusion Matrix"
   ]
  },
  {
   "cell_type": "code",
   "execution_count": 61,
   "metadata": {},
   "outputs": [],
   "source": [
    "def pretty_cm(y_pred, y_truth, labels):\n",
    "    '''\n",
    "    'Pretty' implementation of a confusion matrix with some evaluation statistics.\n",
    "    \n",
    "    Input:\n",
    "    y_pred - object with class predictions from the model\n",
    "    y_truth - object with actual classes\n",
    "    labels - list containing label names\n",
    "    '''\n",
    "    \n",
    "    cm = confusion_matrix(y_truth, y_pred)\n",
    "    ax= plt.subplot()\n",
    "    sns.heatmap(cm, annot=True, fmt=\"d\", linewidths=.5, square = True, cmap = 'BuGn_r')\n",
    "    ax.set_xlabel('Predicted label')\n",
    "    ax.set_ylabel('Actual label')\n",
    "    ax.set_title('Confusion Matrix', size = 15) \n",
    "    ax.xaxis.set_ticklabels(labels)\n",
    "    ax.yaxis.set_ticklabels(labels)\n",
    "    \n",
    "    print('#######################')\n",
    "    print('Evaluation metrics ####')\n",
    "    print('#######################')\n",
    "    print('Accuracy: {:.3f}'.format(accuracy_score(y_truth, y_pred)))\n",
    "    print('AUC Score: {:.3f}'.format(roc_auc_score(y_truth, y_pred)))\n",
    "    print('Precision: {:.3f}'.format(precision_score(y_truth, y_pred)))\n",
    "    print('Precision Weighted: {:.3f}'.format(precision_score(y_truth, y_pred, average = 'weighted')))\n",
    "    print('Recall: {:.3f}'.format(recall_score(y_truth, y_pred)))\n",
    "    print('Recall Weighted: {:.3f}'.format(recall_score(y_truth, y_pred, average = 'weighted')))\n",
    "    print('F1: {:.3f}'.format(f1_score(y_truth, y_pred)))\n",
    "    print('F1 Weighted: {:.3f}'.format(f1_score(y_truth, y_pred, average = 'weighted')))\n",
    "    print('Prevelance: {:.3f}'.format(calc_prevalence(y_truth)))"
   ]
  },
  {
   "cell_type": "markdown",
   "metadata": {},
   "source": [
    "## Model Execution"
   ]
  },
  {
   "cell_type": "markdown",
   "metadata": {},
   "source": [
    "The following function trains a default model to the training data and generates training and validation scores."
   ]
  },
  {
   "cell_type": "code",
   "execution_count": 62,
   "metadata": {},
   "outputs": [],
   "source": [
    "def train_model_default(clf, x_tr, x_v):\n",
    "    \n",
    "    clf.fit(x_tr, y_tr)\n",
    "\n",
    "    y_tr_preds = clf.predict_proba(x_tr)[:,1]\n",
    "    y_v_preds = clf.predict_proba(x_v)[:,1]\n",
    "\n",
    "    roc_curve_plot(y_tr, y_tr_preds, y_v, y_v_preds)"
   ]
  },
  {
   "cell_type": "markdown",
   "metadata": {},
   "source": [
    "The following function takes in the optimized model and generates training and validation scores\n"
   ]
  },
  {
   "cell_type": "code",
   "execution_count": 63,
   "metadata": {},
   "outputs": [],
   "source": [
    "def opt_model_scoring(clf, x_tr, x_v):\n",
    "    \n",
    "    y_tr_preds = clf.predict_proba(x_tr)[:,1]\n",
    "    y_v_preds = clf.predict_proba(x_v)[:,1]\n",
    "\n",
    "    roc_curve_plot(y_tr, y_tr_preds, y_v, y_v_preds)"
   ]
  },
  {
   "cell_type": "markdown",
   "metadata": {},
   "source": [
    "The following function runs the gridsearchcv"
   ]
  },
  {
   "cell_type": "markdown",
   "metadata": {},
   "source": [
    "## Data Processing"
   ]
  },
  {
   "cell_type": "markdown",
   "metadata": {},
   "source": [
    "Split the Data into train, validation, and test data sets."
   ]
  },
  {
   "cell_type": "code",
   "execution_count": 64,
   "metadata": {
    "scrolled": true
   },
   "outputs": [],
   "source": [
    "df = df.sample(frac = 1, random_state = rng)\n",
    "\n",
    "x_tr_all_tf, x_tr_normal_tf, x_tr_outlier_tf, x_v_tf, x_te_tf, y_tr_all, y_tr_normal, y_tr_outlier_tf, y_v, y_te = text_processing(df)"
   ]
  },
  {
   "cell_type": "markdown",
   "metadata": {},
   "source": [
    "Split the training data into normal and outlier data."
   ]
  },
  {
   "cell_type": "code",
   "execution_count": 65,
   "metadata": {},
   "outputs": [
    {
     "data": {
      "text/plain": [
       "24559"
      ]
     },
     "execution_count": 65,
     "metadata": {},
     "output_type": "execute_result"
    }
   ],
   "source": [
    "x_tr_normal_tf.shape[0]"
   ]
  },
  {
   "cell_type": "code",
   "execution_count": 66,
   "metadata": {},
   "outputs": [],
   "source": [
    "# Proportion of Outliers\n",
    "outlier_prop = x_tr_outlier_tf.shape[0] / x_tr_normal_tf.shape[0]"
   ]
  },
  {
   "cell_type": "markdown",
   "metadata": {},
   "source": [
    "### Dimension Reduction"
   ]
  },
  {
   "cell_type": "code",
   "execution_count": 67,
   "metadata": {},
   "outputs": [],
   "source": [
    "x_tr_all, x_tr_normal, x_tr_outlier, x_v, x_te = trunc_svd(x_tr_all_tf, x_tr_normal_tf, x_tr_outlier_tf, x_v_tf, x_te_tf, svd_features)"
   ]
  },
  {
   "cell_type": "markdown",
   "metadata": {},
   "source": [
    "## Modeling - Default Settings"
   ]
  },
  {
   "cell_type": "markdown",
   "metadata": {},
   "source": [
    "### One Class SVM\n",
    "\n",
    "One class SVM trains the model on only normal (non-readmit) data. Then predicts on full data."
   ]
  },
  {
   "cell_type": "code",
   "execution_count": 68,
   "metadata": {},
   "outputs": [],
   "source": [
    "clf = OneClassSVM(kernel='rbf', nu=outlier_prop, gamma = 0.000001) "
   ]
  },
  {
   "cell_type": "code",
   "execution_count": 69,
   "metadata": {
    "scrolled": true
   },
   "outputs": [
    {
     "data": {
      "text/plain": [
       "OneClassSVM(cache_size=200, coef0=0.0, degree=3, gamma=1e-06, kernel='rbf',\n",
       "            max_iter=-1, nu=0.07190846532839285, random_state=None,\n",
       "            shrinking=True, tol=0.001, verbose=False)"
      ]
     },
     "execution_count": 69,
     "metadata": {},
     "output_type": "execute_result"
    }
   ],
   "source": [
    "clf.fit(x_tr_normal)"
   ]
  },
  {
   "cell_type": "code",
   "execution_count": 70,
   "metadata": {},
   "outputs": [
    {
     "name": "stdout",
     "output_type": "stream",
     "text": [
      "#######################\n",
      "Evaluation metrics ####\n",
      "#######################\n",
      "Accuracy: 0.873\n",
      "AUC Score: 0.517\n",
      "Precision: 0.096\n",
      "Precision Weighted: 0.879\n",
      "Recall: 0.106\n",
      "Recall Weighted: 0.873\n",
      "F1: 0.101\n",
      "F1 Weighted: 0.876\n",
      "Prevelance: 0.067\n"
     ]
    },
    {
     "data": {
      "image/png": "[encoded data removed]",
      "text/plain": [
       "<Figure size 432x288 with 2 Axes>"
      ]
     },
     "metadata": {
      "needs_background": "light"
     },
     "output_type": "display_data"
    }
   ],
   "source": [
    "# Training\n",
    "x = x_tr_all\n",
    "y = y_tr_all\n",
    "y_pred = clf.predict(x)\n",
    "y_pred = [1 if x == -1 else 0 for x in y_pred]\n",
    "y_pred = pd.Series(y_pred)\n",
    "pretty_cm(y_pred, y, [0, 1])"
   ]
  },
  {
   "cell_type": "code",
   "execution_count": 71,
   "metadata": {},
   "outputs": [
    {
     "name": "stdout",
     "output_type": "stream",
     "text": [
      "#######################\n",
      "Evaluation metrics ####\n",
      "#######################\n",
      "Accuracy: 0.879\n",
      "AUC Score: 0.516\n",
      "Precision: 0.088\n",
      "Precision Weighted: 0.887\n",
      "Recall: 0.101\n",
      "Recall Weighted: 0.879\n",
      "F1: 0.094\n",
      "F1 Weighted: 0.883\n",
      "Prevelance: 0.062\n"
     ]
    },
    {
     "data": {
      "image/png": "[encoded data removed]",
      "text/plain": [
       "<Figure size 432x288 with 2 Axes>"
      ]
     },
     "metadata": {
      "needs_background": "light"
     },
     "output_type": "display_data"
    }
   ],
   "source": [
    "# Validation\n",
    "x = x_v\n",
    "y = y_v\n",
    "y_pred = clf.predict(x)\n",
    "y_pred = [1 if x == -1 else 0 for x in y_pred]\n",
    "y_pred = pd.Series(y_pred)\n",
    "pretty_cm(y_pred, y, [0, 1])"
   ]
  },
  {
   "cell_type": "markdown",
   "metadata": {},
   "source": [
    "### Isolation Forest"
   ]
  },
  {
   "cell_type": "markdown",
   "metadata": {},
   "source": [
    "#### Fit on No-Outlier Data"
   ]
  },
  {
   "cell_type": "code",
   "execution_count": 72,
   "metadata": {},
   "outputs": [
    {
     "name": "stderr",
     "output_type": "stream",
     "text": [
      "[Parallel(n_jobs=1)]: Using backend SequentialBackend with 1 concurrent workers.\n",
      "[Parallel(n_jobs=1)]: Done   1 out of   1 | elapsed:   27.9s finished\n"
     ]
    },
    {
     "data": {
      "text/plain": [
       "IsolationForest(behaviour='new', bootstrap=False,\n",
       "                contamination=0.07190846532839285, max_features=1.0,\n",
       "                max_samples=100, n_estimators=100, n_jobs=None,\n",
       "                random_state=<mtrand.RandomState object at 0x0000027BD01BBE58>,\n",
       "                verbose=1, warm_start=False)"
      ]
     },
     "execution_count": 72,
     "metadata": {},
     "output_type": "execute_result"
    }
   ],
   "source": [
    "iforest = IsolationForest(max_samples=100, random_state=rng, contamination= outlier_prop,  behaviour=\"new\", verbose = 1)\n",
    "\n",
    "iforest.fit(x_tr_normal)"
   ]
  },
  {
   "cell_type": "code",
   "execution_count": 73,
   "metadata": {},
   "outputs": [
    {
     "name": "stdout",
     "output_type": "stream",
     "text": [
      "#######################\n",
      "Evaluation metrics ####\n",
      "#######################\n",
      "Accuracy: 0.873\n",
      "AUC Score: 0.519\n",
      "Precision: 0.099\n",
      "Precision Weighted: 0.879\n",
      "Recall: 0.109\n",
      "Recall Weighted: 0.873\n",
      "F1: 0.104\n",
      "F1 Weighted: 0.876\n",
      "Prevelance: 0.067\n"
     ]
    },
    {
     "data": {
      "image/png": "[encoded data removed]",
      "text/plain": [
       "<Figure size 432x288 with 2 Axes>"
      ]
     },
     "metadata": {
      "needs_background": "light"
     },
     "output_type": "display_data"
    }
   ],
   "source": [
    "# Training\n",
    "x = x_tr_all\n",
    "y = y_tr_all\n",
    "clf = iforest\n",
    "y_pred = clf.predict(x)\n",
    "y_pred = [1 if x == -1 else 0 for x in y_pred]\n",
    "y_pred = pd.Series(y_pred)\n",
    "pretty_cm(y_pred, y, [0, 1])"
   ]
  },
  {
   "cell_type": "code",
   "execution_count": 74,
   "metadata": {},
   "outputs": [
    {
     "name": "stdout",
     "output_type": "stream",
     "text": [
      "#######################\n",
      "Evaluation metrics ####\n",
      "#######################\n",
      "Accuracy: 0.884\n",
      "AUC Score: 0.519\n",
      "Precision: 0.095\n",
      "Precision Weighted: 0.888\n",
      "Recall: 0.101\n",
      "Recall Weighted: 0.884\n",
      "F1: 0.098\n",
      "F1 Weighted: 0.886\n",
      "Prevelance: 0.062\n"
     ]
    },
    {
     "data": {
      "image/png": "[encoded data removed]",
      "text/plain": [
       "<Figure size 432x288 with 2 Axes>"
      ]
     },
     "metadata": {
      "needs_background": "light"
     },
     "output_type": "display_data"
    }
   ],
   "source": [
    "# Validation\n",
    "x = x_v\n",
    "y = y_v\n",
    "clf = iforest\n",
    "y_pred = clf.predict(x)\n",
    "y_pred = [1 if x == -1 else 0 for x in y_pred]\n",
    "y_pred = pd.Series(y_pred)\n",
    "pretty_cm(y_pred, y, [0, 1])"
   ]
  },
  {
   "cell_type": "markdown",
   "metadata": {},
   "source": [
    "#### Fit on All Data"
   ]
  },
  {
   "cell_type": "code",
   "execution_count": 75,
   "metadata": {},
   "outputs": [
    {
     "name": "stderr",
     "output_type": "stream",
     "text": [
      "[Parallel(n_jobs=1)]: Using backend SequentialBackend with 1 concurrent workers.\n",
      "[Parallel(n_jobs=1)]: Done   1 out of   1 | elapsed:   30.0s finished\n"
     ]
    },
    {
     "data": {
      "text/plain": [
       "IsolationForest(behaviour='new', bootstrap=False,\n",
       "                contamination=0.07190846532839285, max_features=1.0,\n",
       "                max_samples=100, n_estimators=100, n_jobs=None,\n",
       "                random_state=<mtrand.RandomState object at 0x0000027BD01BBE58>,\n",
       "                verbose=1, warm_start=False)"
      ]
     },
     "execution_count": 75,
     "metadata": {},
     "output_type": "execute_result"
    }
   ],
   "source": [
    "iforest = IsolationForest(max_samples=100, random_state=rng, contamination= outlier_prop,  behaviour=\"new\", verbose = 1)\n",
    "\n",
    "iforest.fit(x_tr_all)"
   ]
  },
  {
   "cell_type": "code",
   "execution_count": 76,
   "metadata": {},
   "outputs": [
    {
     "name": "stdout",
     "output_type": "stream",
     "text": [
      "#######################\n",
      "Evaluation metrics ####\n",
      "#######################\n",
      "Accuracy: 0.875\n",
      "AUC Score: 0.518\n",
      "Precision: 0.098\n",
      "Precision Weighted: 0.879\n",
      "Recall: 0.105\n",
      "Recall Weighted: 0.875\n",
      "F1: 0.102\n",
      "F1 Weighted: 0.877\n",
      "Prevelance: 0.067\n"
     ]
    },
    {
     "data": {
      "image/png": "[encoded data removed]",
      "text/plain": [
       "<Figure size 432x288 with 2 Axes>"
      ]
     },
     "metadata": {
      "needs_background": "light"
     },
     "output_type": "display_data"
    }
   ],
   "source": [
    "# Training\n",
    "x = x_tr_all\n",
    "y = y_tr_all\n",
    "clf = iforest\n",
    "y_pred = clf.predict(x)\n",
    "y_pred = [1 if x == -1 else 0 for x in y_pred]\n",
    "y_pred = pd.Series(y_pred)\n",
    "pretty_cm(y_pred, y, [0, 1])"
   ]
  },
  {
   "cell_type": "code",
   "execution_count": 77,
   "metadata": {},
   "outputs": [
    {
     "name": "stdout",
     "output_type": "stream",
     "text": [
      "#######################\n",
      "Evaluation metrics ####\n",
      "#######################\n",
      "Accuracy: 0.881\n",
      "AUC Score: 0.513\n",
      "Precision: 0.085\n",
      "Precision Weighted: 0.887\n",
      "Recall: 0.094\n",
      "Recall Weighted: 0.881\n",
      "F1: 0.089\n",
      "F1 Weighted: 0.884\n",
      "Prevelance: 0.062\n"
     ]
    },
    {
     "data": {
      "image/png": "[encoded data removed]",
      "text/plain": [
       "<Figure size 432x288 with 2 Axes>"
      ]
     },
     "metadata": {
      "needs_background": "light"
     },
     "output_type": "display_data"
    }
   ],
   "source": [
    "# Validation\n",
    "x = x_v\n",
    "y = y_v\n",
    "clf = iforest\n",
    "y_pred = clf.predict(x)\n",
    "y_pred = [1 if x == -1 else 0 for x in y_pred]\n",
    "y_pred = pd.Series(y_pred)\n",
    "\n",
    "pretty_cm(y_pred, y, [0, 1])"
   ]
  },
  {
   "cell_type": "markdown",
   "metadata": {},
   "source": [
    "### Visual Method\n",
    "The following method is based on generating a histogram of scores and seeing if you can visually identify a cluster of outliers.\n",
    "\n",
    "https://www.depends-on-the-definition.com/detecting-network-attacks-with-isolation-forests/"
   ]
  },
  {
   "cell_type": "code",
   "execution_count": 78,
   "metadata": {},
   "outputs": [
    {
     "data": {
      "image/png": "[encoded data removed]",
      "text/plain": [
       "<Figure size 432x288 with 1 Axes>"
      ]
     },
     "metadata": {
      "needs_background": "light"
     },
     "output_type": "display_data"
    }
   ],
   "source": [
    "#Validation\n",
    "scores = iforest.decision_function(x_tr_all)\n",
    "plt.figure(figsize=(6, 4))\n",
    "plt.hist(scores, bins=50);"
   ]
  },
  {
   "cell_type": "code",
   "execution_count": 79,
   "metadata": {},
   "outputs": [
    {
     "data": {
      "image/png": "[encoded data removed]",
      "text/plain": [
       "<Figure size 432x288 with 1 Axes>"
      ]
     },
     "metadata": {
      "needs_background": "light"
     },
     "output_type": "display_data"
    }
   ],
   "source": [
    "#Validation\n",
    "scores = iforest.decision_function(x_v)\n",
    "plt.figure(figsize=(6, 4))\n",
    "plt.hist(scores, bins=50);"
   ]
  },
  {
   "cell_type": "markdown",
   "metadata": {},
   "source": [
    "## Parameter Optimization"
   ]
  },
  {
   "cell_type": "markdown",
   "metadata": {},
   "source": [
    "### One Class SVM"
   ]
  },
  {
   "cell_type": "markdown",
   "metadata": {},
   "source": [
    "It is difficult and complicated to run a grid search for One Class SVM. The following code box is meant for manual adjustments of gamma."
   ]
  },
  {
   "cell_type": "code",
   "execution_count": 80,
   "metadata": {},
   "outputs": [
    {
     "name": "stdout",
     "output_type": "stream",
     "text": [
      "#######################\n",
      "Evaluation metrics ####\n",
      "#######################\n",
      "Accuracy: 0.849\n",
      "AUC Score: 0.515\n",
      "Precision: 0.079\n",
      "Precision Weighted: 0.886\n",
      "Recall: 0.134\n",
      "Recall Weighted: 0.849\n",
      "F1: 0.100\n",
      "F1 Weighted: 0.867\n",
      "Prevelance: 0.062\n"
     ]
    },
    {
     "data": {
      "image/png": "[encoded data removed]",
      "text/plain": [
       "<Figure size 432x288 with 2 Axes>"
      ]
     },
     "metadata": {
      "needs_background": "light"
     },
     "output_type": "display_data"
    }
   ],
   "source": [
    "svm = OneClassSVM(kernel='rbf', nu=outlier_prop, gamma = 1e-9) \n",
    "\n",
    "svm.fit(x_tr_normal)\n",
    "\n",
    "# Validation\n",
    "x = x_v\n",
    "y = y_v\n",
    "y_pred = svm.predict(x)\n",
    "y_pred = [1 if x == -1 else 0 for x in y_pred]\n",
    "y_pred = pd.Series(y_pred)\n",
    "pretty_cm(y_pred, y, [0, 1])"
   ]
  },
  {
   "cell_type": "markdown",
   "metadata": {},
   "source": [
    "The following method allows for One Class SVM to be looped over hyperparameters. \n",
    "Method based on:\n",
    "https://stackoverflow.com/questions/44698928/is-there-a-way-to-perform-grid-search-hyper-parameter-optimization-on-one-class"
   ]
  },
  {
   "cell_type": "code",
   "execution_count": 81,
   "metadata": {},
   "outputs": [],
   "source": [
    "# gammas = np.logspace(-9, 3, 13)\n",
    "# nus = np.linspace(0.01, 0.1, 5)\n",
    "\n",
    "# clf = OneClassSVM()\n",
    "\n",
    "# results = []\n",
    "\n",
    "# train_x = x_tr_normal\n",
    "# valid_x = x_v\n",
    "\n",
    "\n",
    "# for gamma in gammas:\n",
    "#     for nu in nus:\n",
    "#         clf.set_params(gamma=gamma, nu=nu)\n",
    "\n",
    "#         clf.fit(train_x)\n",
    "\n",
    "#         y_pred = clf.predict(valid_x)\n",
    "        \n",
    "#         y_pred = [1 if x == -1 else 0 for x in y_pred]\n",
    "\n",
    "#         if 1. in y_pred:  # Check if at least 1 review is predicted to be in the class\n",
    "#             results.append(((gamma, nu), (accuracy_score(y_true, y_pred),\n",
    "#                                               precision_score(y_true, y_pred),\n",
    "#                                               recall_score(y_true, y_pred),\n",
    "#                                               f1_score(y_true, y_pred),\n",
    "#                                               roc_auc_score(y_true, y_pred),\n",
    "#                                               ))\n",
    "#                                )"
   ]
  },
  {
   "cell_type": "markdown",
   "metadata": {},
   "source": [
    "### Isoaltion Forest"
   ]
  },
  {
   "cell_type": "markdown",
   "metadata": {},
   "source": [
    "#### AUC Score\n",
    "Best Tuning Metric so far."
   ]
  },
  {
   "cell_type": "code",
   "execution_count": 82,
   "metadata": {},
   "outputs": [],
   "source": [
    "# Model\n",
    "clf = IsolationForest(random_state=rng,  behaviour=\"new\")\n",
    "\n",
    "# Parameters\n",
    "param_dist = {'n_estimators':sp_randint(100,400),\n",
    "                   'max_samples': sp_randint(100,500), \n",
    "                   'contamination': [0.01, 0.05, 0.1, 0.2], \n",
    "                   'max_features': sp_randint(1,20), \n",
    "                   'bootstrap': [True, False]}\n",
    "\n",
    "# Scorer\n",
    "scorer = 'roc_auc'\n",
    "\n",
    "# Number of Search\n",
    "n_iter_search = n_iter_search\n",
    "\n",
    "# Radomizer\n",
    "random_if_estimator = RandomizedSearchCV(clf, \n",
    "                                       param_dist,\n",
    "                                       n_iter = n_iter_search,\n",
    "                                       scoring = scorer, \n",
    "                                       cv = 5,\n",
    "                                       n_jobs = 4,\n",
    "                                       verbose = 1,\n",
    "                                       return_train_score = True)"
   ]
  },
  {
   "cell_type": "code",
   "execution_count": 83,
   "metadata": {
    "scrolled": true
   },
   "outputs": [
    {
     "name": "stdout",
     "output_type": "stream",
     "text": [
      "Fitting 5 folds for each of 25 candidates, totalling 125 fits\n"
     ]
    },
    {
     "name": "stderr",
     "output_type": "stream",
     "text": [
      "[Parallel(n_jobs=4)]: Using backend LokyBackend with 4 concurrent workers.\n",
      "[Parallel(n_jobs=4)]: Done  42 tasks      | elapsed:  1.8min\n",
      "[Parallel(n_jobs=4)]: Done 125 out of 125 | elapsed:  5.3min finished\n"
     ]
    },
    {
     "data": {
      "text/plain": [
       "RandomizedSearchCV(cv=5, error_score='raise-deprecating',\n",
       "                   estimator=IsolationForest(behaviour='new', bootstrap=False,\n",
       "                                             contamination='legacy',\n",
       "                                             max_features=1.0,\n",
       "                                             max_samples='auto',\n",
       "                                             n_estimators=100, n_jobs=None,\n",
       "                                             random_state=<mtrand.RandomState object at 0x0000027BD01BBE58>,\n",
       "                                             verbose=0, warm_start=False),\n",
       "                   iid='warn', n_iter=25, n_jobs=4,\n",
       "                   param_distributions={'bootstra...\n",
       "                                        'max_features': <scipy.stats._distn_infrastructure.rv_frozen object at 0x0000027C36BC7F60>,\n",
       "                                        'max_samples': <scipy.stats._distn_infrastructure.rv_frozen object at 0x0000027C36BC7DD8>,\n",
       "                                        'n_estimators': <scipy.stats._distn_infrastructure.rv_frozen object at 0x0000027C36BC7BE0>},\n",
       "                   pre_dispatch='2*n_jobs', random_state=None, refit=True,\n",
       "                   return_train_score=True, scoring='roc_auc', verbose=1)"
      ]
     },
     "execution_count": 83,
     "metadata": {},
     "output_type": "execute_result"
    }
   ],
   "source": [
    "random_if_estimator.fit(x_tr_all, y_tr_all)"
   ]
  },
  {
   "cell_type": "code",
   "execution_count": 84,
   "metadata": {},
   "outputs": [
    {
     "name": "stdout",
     "output_type": "stream",
     "text": [
      "Scorer\n",
      "make_scorer(roc_auc_score, needs_threshold=True)\n",
      "\n",
      "Best Score\n",
      "0.4013941002283876\n",
      "\n",
      "Best Score Parameters\n",
      "{'bootstrap': False, 'contamination': 0.01, 'max_features': 1, 'max_samples': 158, 'n_estimators': 129}\n"
     ]
    }
   ],
   "source": [
    "print('Scorer')\n",
    "print(random_if_estimator.scorer_)\n",
    "print(\"\")\n",
    "print(\"Best Score\")\n",
    "print(random_if_estimator.best_score_)\n",
    "print(\"\")\n",
    "print(\"Best Score Parameters\")\n",
    "print(random_if_estimator.best_params_)"
   ]
  },
  {
   "cell_type": "code",
   "execution_count": 85,
   "metadata": {},
   "outputs": [],
   "source": [
    "clf_auc = random_if_estimator.best_estimator_\n",
    "clf = clf_auc"
   ]
  },
  {
   "cell_type": "code",
   "execution_count": 86,
   "metadata": {},
   "outputs": [
    {
     "name": "stdout",
     "output_type": "stream",
     "text": [
      "#######################\n",
      "Evaluation metrics ####\n",
      "#######################\n",
      "Accuracy: 0.925\n",
      "AUC Score: 0.505\n",
      "Precision: 0.125\n",
      "Precision Weighted: 0.879\n",
      "Recall: 0.019\n",
      "Recall Weighted: 0.925\n",
      "F1: 0.033\n",
      "F1 Weighted: 0.899\n",
      "Prevelance: 0.067\n"
     ]
    },
    {
     "data": {
      "image/png": "[encoded data removed]",
      "text/plain": [
       "<Figure size 432x288 with 2 Axes>"
      ]
     },
     "metadata": {
      "needs_background": "light"
     },
     "output_type": "display_data"
    }
   ],
   "source": [
    "# Training\n",
    "x = x_tr_all\n",
    "y = y_tr_all\n",
    "y_pred = clf.predict(x)\n",
    "y_pred = [1 if x == -1 else 0 for x in y_pred]\n",
    "y_pred = pd.Series(y_pred)\n",
    "pretty_cm(y_pred, y, [0, 1])"
   ]
  },
  {
   "cell_type": "code",
   "execution_count": 87,
   "metadata": {},
   "outputs": [
    {
     "name": "stdout",
     "output_type": "stream",
     "text": [
      "#######################\n",
      "Evaluation metrics ####\n",
      "#######################\n",
      "Accuracy: 0.931\n",
      "AUC Score: 0.504\n",
      "Precision: 0.113\n",
      "Precision Weighted: 0.887\n",
      "Recall: 0.017\n",
      "Recall Weighted: 0.931\n",
      "F1: 0.029\n",
      "F1 Weighted: 0.906\n",
      "Prevelance: 0.062\n"
     ]
    },
    {
     "data": {
      "image/png": "[encoded data removed]",
      "text/plain": [
       "<Figure size 432x288 with 2 Axes>"
      ]
     },
     "metadata": {
      "needs_background": "light"
     },
     "output_type": "display_data"
    }
   ],
   "source": [
    "# Validation\n",
    "x = x_v\n",
    "y = y_v\n",
    "y_pred = clf.predict(x)\n",
    "y_pred = [1 if x == -1 else 0 for x in y_pred]\n",
    "y_pred = pd.Series(y_pred)\n",
    "\n",
    "pretty_cm(y_pred, y, [0, 1])"
   ]
  },
  {
   "cell_type": "markdown",
   "metadata": {},
   "source": [
    "### F1 Weighted\n",
    "Ran once and performed poorly. Do not run again."
   ]
  },
  {
   "cell_type": "code",
   "execution_count": 88,
   "metadata": {},
   "outputs": [],
   "source": [
    "# Model\n",
    "clf = IsolationForest(random_state=rng,  behaviour=\"new\")\n",
    "\n",
    "# Parameters\n",
    "param_dist = {'n_estimators':sp_randint(100,400),\n",
    "                   'max_samples': sp_randint(100,500), \n",
    "                   'contamination': [0.01, 0.05, 0.1, 0.2], \n",
    "                   'max_features': sp_randint(1,20), \n",
    "                   'bootstrap': [True, False]}\n",
    "\n",
    "# Scorer\n",
    "scorer = 'f1_weighted'\n",
    "\n",
    "# Number of Search\n",
    "n_iter_search = n_iter_search\n",
    "\n",
    "# Radomizer\n",
    "random_if_estimator = RandomizedSearchCV(clf, \n",
    "                                       param_dist,\n",
    "                                       n_iter = n_iter_search,\n",
    "                                       scoring = scorer, \n",
    "                                       cv=5,\n",
    "                                       n_jobs = 4,\n",
    "                                       verbose = 1,\n",
    "                                       return_train_score = True)"
   ]
  },
  {
   "cell_type": "code",
   "execution_count": 89,
   "metadata": {},
   "outputs": [
    {
     "name": "stdout",
     "output_type": "stream",
     "text": [
      "Fitting 5 folds for each of 25 candidates, totalling 125 fits\n"
     ]
    },
    {
     "name": "stderr",
     "output_type": "stream",
     "text": [
      "[Parallel(n_jobs=4)]: Using backend LokyBackend with 4 concurrent workers.\n",
      "[Parallel(n_jobs=4)]: Done  42 tasks      | elapsed:  2.6min\n",
      "[Parallel(n_jobs=4)]: Done 125 out of 125 | elapsed:  6.7min finished\n"
     ]
    },
    {
     "data": {
      "text/plain": [
       "RandomizedSearchCV(cv=5, error_score='raise-deprecating',\n",
       "                   estimator=IsolationForest(behaviour='new', bootstrap=False,\n",
       "                                             contamination='legacy',\n",
       "                                             max_features=1.0,\n",
       "                                             max_samples='auto',\n",
       "                                             n_estimators=100, n_jobs=None,\n",
       "                                             random_state=<mtrand.RandomState object at 0x0000027BD01BBE58>,\n",
       "                                             verbose=0, warm_start=False),\n",
       "                   iid='warn', n_iter=25, n_jobs=4,\n",
       "                   param_distributions={'bootstra...\n",
       "                                        'max_features': <scipy.stats._distn_infrastructure.rv_frozen object at 0x0000027B804F6780>,\n",
       "                                        'max_samples': <scipy.stats._distn_infrastructure.rv_frozen object at 0x0000027B804F6550>,\n",
       "                                        'n_estimators': <scipy.stats._distn_infrastructure.rv_frozen object at 0x0000027B804F6208>},\n",
       "                   pre_dispatch='2*n_jobs', random_state=None, refit=True,\n",
       "                   return_train_score=True, scoring='f1_weighted', verbose=1)"
      ]
     },
     "execution_count": 89,
     "metadata": {},
     "output_type": "execute_result"
    }
   ],
   "source": [
    "random_if_estimator.fit(x_tr_all, y_tr_all)"
   ]
  },
  {
   "cell_type": "code",
   "execution_count": 90,
   "metadata": {},
   "outputs": [
    {
     "name": "stdout",
     "output_type": "stream",
     "text": [
      "Scorer\n",
      "make_scorer(f1_score, pos_label=None, average=weighted)\n",
      "\n",
      "Best Score\n",
      "0.008356773626531738\n",
      "\n",
      "Best Score Parameters\n",
      "{'bootstrap': False, 'contamination': 0.01, 'max_features': 5, 'max_samples': 326, 'n_estimators': 252}\n"
     ]
    }
   ],
   "source": [
    "print('Scorer')\n",
    "print(random_if_estimator.scorer_)\n",
    "print(\"\")\n",
    "print(\"Best Score\")\n",
    "print(random_if_estimator.best_score_)\n",
    "print(\"\")\n",
    "print(\"Best Score Parameters\")\n",
    "print(random_if_estimator.best_params_)"
   ]
  },
  {
   "cell_type": "code",
   "execution_count": 91,
   "metadata": {},
   "outputs": [],
   "source": [
    "clf_f1 = random_if_estimator.best_estimator_\n",
    "clf = clf_f1"
   ]
  },
  {
   "cell_type": "code",
   "execution_count": 92,
   "metadata": {},
   "outputs": [
    {
     "name": "stdout",
     "output_type": "stream",
     "text": [
      "#######################\n",
      "Evaluation metrics ####\n",
      "#######################\n",
      "Accuracy: 0.926\n",
      "AUC Score: 0.506\n",
      "Precision: 0.140\n",
      "Precision Weighted: 0.880\n",
      "Recall: 0.021\n",
      "Recall Weighted: 0.926\n",
      "F1: 0.036\n",
      "F1 Weighted: 0.899\n",
      "Prevelance: 0.067\n"
     ]
    },
    {
     "data": {
      "image/png": "[encoded data removed]",
      "text/plain": [
       "<Figure size 432x288 with 2 Axes>"
      ]
     },
     "metadata": {
      "needs_background": "light"
     },
     "output_type": "display_data"
    }
   ],
   "source": [
    "# Training\n",
    "x = x_tr_all\n",
    "y = y_tr_all\n",
    "y_pred = clf.predict(x)\n",
    "y_pred = [1 if x == -1 else 0 for x in y_pred]\n",
    "y_pred = pd.Series(y_pred)\n",
    "pretty_cm(y_pred, y, [0, 1])"
   ]
  },
  {
   "cell_type": "code",
   "execution_count": 93,
   "metadata": {},
   "outputs": [
    {
     "name": "stdout",
     "output_type": "stream",
     "text": [
      "#######################\n",
      "Evaluation metrics ####\n",
      "#######################\n",
      "Accuracy: 0.930\n",
      "AUC Score: 0.503\n",
      "Precision: 0.098\n",
      "Precision Weighted: 0.886\n",
      "Recall: 0.015\n",
      "Recall Weighted: 0.930\n",
      "F1: 0.026\n",
      "F1 Weighted: 0.906\n",
      "Prevelance: 0.062\n"
     ]
    },
    {
     "data": {
      "image/png": "[encoded data removed]",
      "text/plain": [
       "<Figure size 432x288 with 2 Axes>"
      ]
     },
     "metadata": {
      "needs_background": "light"
     },
     "output_type": "display_data"
    }
   ],
   "source": [
    "# Validatin\n",
    "x = x_v\n",
    "y = y_v\n",
    "y_pred = clf.predict(x)\n",
    "y_pred = [1 if x == -1 else 0 for x in y_pred]\n",
    "y_pred = pd.Series(y_pred)\n",
    "pretty_cm(y_pred, y, [0, 1])"
   ]
  },
  {
   "cell_type": "markdown",
   "metadata": {},
   "source": [
    "# Test Set Scoring"
   ]
  },
  {
   "cell_type": "markdown",
   "metadata": {},
   "source": [
    "## General Function"
   ]
  },
  {
   "cell_type": "code",
   "execution_count": 94,
   "metadata": {},
   "outputs": [],
   "source": [
    "def test_score(clf, x):\n",
    "    \n",
    "    print(\"Detailed classification report:\")\n",
    "    print()\n",
    "    print(\"The model is trained and tuned on the training and validation sets..\")\n",
    "    print(\"The scores are computed on the test set.\")\n",
    "    print()\n",
    "    y_true, y_pred = y_te, clf.predict(x)\n",
    "    y_pred = [1 if x == -1 else 0 for x in y_pred]\n",
    "    print(classification_report(y_true, y_pred, digits = 3))\n",
    "    print()\n",
    "    \n",
    "    prevalence_te = '%.3f' %calc_prevalence(y_true)\n",
    "    auc_score_te = '%.3f' %roc_auc_score(y_true, y_pred)\n",
    "    print('AUC Score: ', auc_score_te)\n",
    "    print('Positive Target Prevalence: ', prevalence_te)\n",
    "    "
   ]
  },
  {
   "cell_type": "code",
   "execution_count": 95,
   "metadata": {},
   "outputs": [],
   "source": [
    "def test_score_cv(clf, x):\n",
    "    scoring = ['roc_auc', 'accuracy', 'balanced_accuracy', 'precision', 'recall', 'f1']\n",
    "    \n",
    "    results = cross_validate(estimator = clf,\n",
    "                                          X = x,\n",
    "                                          y = y_te,\n",
    "                                          cv = 5,\n",
    "                                          scoring = scoring)\n",
    "    for metric_name in results.keys():\n",
    "        average_score = np.average(results[metric_name])\n",
    "        print('%s : %.3f' % (metric_name, average_score))\n",
    "    \n",
    "    prevalence_te = '%.3f' %calc_prevalence(y_te)\n",
    "    print('positive target prevalence: ', prevalence_te)"
   ]
  },
  {
   "cell_type": "markdown",
   "metadata": {},
   "source": [
    "## One Class SVM"
   ]
  },
  {
   "cell_type": "code",
   "execution_count": 96,
   "metadata": {},
   "outputs": [
    {
     "name": "stdout",
     "output_type": "stream",
     "text": [
      "#######################\n",
      "Evaluation metrics ####\n",
      "#######################\n",
      "Accuracy: 0.845\n",
      "AUC Score: 0.513\n",
      "Precision: 0.083\n",
      "Precision Weighted: 0.876\n",
      "Recall: 0.129\n",
      "Recall Weighted: 0.845\n",
      "F1: 0.101\n",
      "F1 Weighted: 0.860\n",
      "Prevelance: 0.068\n"
     ]
    },
    {
     "data": {
      "image/png": "[encoded data removed]",
      "text/plain": [
       "<Figure size 432x288 with 2 Axes>"
      ]
     },
     "metadata": {
      "needs_background": "light"
     },
     "output_type": "display_data"
    }
   ],
   "source": [
    "# Test\n",
    "x = x_te\n",
    "y = y_te\n",
    "y_pred = svm.predict(x)\n",
    "y_pred = [1 if x == -1 else 0 for x in y_pred]\n",
    "y_pred = pd.Series(y_pred)\n",
    "pretty_cm(y_pred, y, [0, 1])"
   ]
  },
  {
   "cell_type": "markdown",
   "metadata": {},
   "source": [
    "## Isolation Forest"
   ]
  },
  {
   "cell_type": "markdown",
   "metadata": {},
   "source": [
    "#### AUC"
   ]
  },
  {
   "cell_type": "code",
   "execution_count": 97,
   "metadata": {
    "scrolled": true
   },
   "outputs": [
    {
     "name": "stdout",
     "output_type": "stream",
     "text": [
      "#######################\n",
      "Evaluation metrics ####\n",
      "#######################\n",
      "Accuracy: 0.925\n",
      "AUC Score: 0.501\n",
      "Precision: 0.085\n",
      "Precision Weighted: 0.875\n",
      "Recall: 0.010\n",
      "Recall Weighted: 0.925\n",
      "F1: 0.018\n",
      "F1 Weighted: 0.897\n",
      "Prevelance: 0.068\n"
     ]
    },
    {
     "data": {
      "image/png": "[encoded data removed]",
      "text/plain": [
       "<Figure size 432x288 with 2 Axes>"
      ]
     },
     "metadata": {
      "needs_background": "light"
     },
     "output_type": "display_data"
    }
   ],
   "source": [
    "clf = clf_auc\n",
    "\n",
    "# Test\n",
    "x = x_te\n",
    "y = y_te\n",
    "y_pred = clf.predict(x)\n",
    "y_pred = [1 if x == -1 else 0 for x in y_pred]\n",
    "y_pred = pd.Series(y_pred)\n",
    "\n",
    "pretty_cm(y_pred, y, [0, 1])"
   ]
  },
  {
   "cell_type": "markdown",
   "metadata": {},
   "source": [
    "#### F1 Weighted"
   ]
  },
  {
   "cell_type": "code",
   "execution_count": 98,
   "metadata": {},
   "outputs": [
    {
     "name": "stdout",
     "output_type": "stream",
     "text": [
      "#######################\n",
      "Evaluation metrics ####\n",
      "#######################\n",
      "Accuracy: 0.925\n",
      "AUC Score: 0.502\n",
      "Precision: 0.103\n",
      "Precision Weighted: 0.876\n",
      "Recall: 0.013\n",
      "Recall Weighted: 0.925\n",
      "F1: 0.024\n",
      "F1 Weighted: 0.898\n",
      "Prevelance: 0.068\n"
     ]
    },
    {
     "data": {
      "image/png": "[encoded data removed]",
      "text/plain": [
       "<Figure size 432x288 with 2 Axes>"
      ]
     },
     "metadata": {
      "needs_background": "light"
     },
     "output_type": "display_data"
    }
   ],
   "source": [
    "clf = clf_f1\n",
    "\n",
    "# Test\n",
    "x = x_te\n",
    "y = y_te\n",
    "y_pred = clf.predict(x)\n",
    "y_pred = [1 if x == -1 else 0 for x in y_pred]\n",
    "y_pred = pd.Series(y_pred)\n",
    "\n",
    "pretty_cm(y_pred, y, [0, 1])"
   ]
  }
 ],
 "metadata": {
  "kernelspec": {
   "display_name": "Python 3",
   "language": "python",
   "name": "python3"
  },
  "language_info": {
   "codemirror_mode": {
    "name": "ipython",
    "version": 3
   },
   "file_extension": ".py",
   "mimetype": "text/x-python",
   "name": "python",
   "nbconvert_exporter": "python",
   "pygments_lexer": "ipython3",
   "version": "3.7.3"
  }
 },
 "nbformat": 4,
 "nbformat_minor": 2
}
