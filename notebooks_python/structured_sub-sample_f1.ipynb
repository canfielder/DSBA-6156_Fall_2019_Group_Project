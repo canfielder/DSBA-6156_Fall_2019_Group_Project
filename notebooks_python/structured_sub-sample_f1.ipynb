{
 "cells": [
  {
   "cell_type": "markdown",
   "metadata": {},
   "source": [
    "# Note\n",
    "Previous notebook drafts have analyzed several classification methods not included here, particularly SVM methods. The SVM classifiers did not return quality results and took long times to run. They are therefore not included in this analysis."
   ]
  },
  {
   "cell_type": "markdown",
   "metadata": {},
   "source": [
    "# Defining Parameters\n",
    "\n",
    "* **Data**: Structured\n",
    "* **Model Imbalance**: ADASYN\n",
    "* **Grid Search Scoring Parameter**: f1_macro"
   ]
  },
  {
   "cell_type": "code",
   "execution_count": 2,
   "metadata": {},
   "outputs": [],
   "source": [
    "scoring_metric = 'f1_macro'\n",
    "max_iter_log = 5000"
   ]
  },
  {
   "cell_type": "markdown",
   "metadata": {},
   "source": [
    "# Library Calls"
   ]
  },
  {
   "cell_type": "code",
   "execution_count": 3,
   "metadata": {},
   "outputs": [],
   "source": [
    "import pandas as pd\n",
    "import numpy as np\n",
    "import feather\n",
    "import nltk\n",
    "import re\n",
    "import string\n",
    "import yellowbrick\n",
    "import sklearn\n",
    "import matplotlib.pyplot as plt\n",
    "\n",
    "from sklearn.decomposition import TruncatedSVD\n",
    "from nltk.tokenize import sent_tokenize\n",
    "from sklearn.feature_extraction.text import CountVectorizer, TfidfVectorizer\n",
    "from yellowbrick.text import FreqDistVisualizer\n",
    "from yellowbrick.features import RadViz\n",
    "\n",
    "from sklearn.model_selection import GridSearchCV\n",
    "\n",
    "from imblearn.over_sampling import ADASYN \n",
    "\n",
    "from collections import Counter\n",
    "\n",
    "from sklearn.svm import SVC, LinearSVC\n",
    "from sklearn.ensemble import RandomForestClassifier, GradientBoostingClassifier, AdaBoostClassifier\n",
    "from sklearn.linear_model import LogisticRegression\n",
    "from sklearn.naive_bayes import MultinomialNB, GaussianNB, ComplementNB, BernoulliNB\n",
    "from sklearn.neighbors import KNeighborsClassifier\n",
    "from xgboost import XGBClassifier\n",
    "\n",
    "from sklearn.metrics import classification_report, roc_curve, roc_auc_score\n",
    "from sklearn.metrics import accuracy_score,precision_recall_fscore_support\n",
    "from sklearn.metrics import make_scorer, accuracy_score, precision_score, recall_score, f1_score, balanced_accuracy_score\n",
    "\n",
    "from sklearn.model_selection import cross_val_score, cross_validate\n",
    "\n",
    "# Random State\n",
    "random_state = 5590\n",
    "solver_log = 'saga'"
   ]
  },
  {
   "cell_type": "markdown",
   "metadata": {},
   "source": [
    "# Data Import and Processing"
   ]
  },
  {
   "cell_type": "code",
   "execution_count": 4,
   "metadata": {},
   "outputs": [],
   "source": [
    "path = './data/df_structured_export.feather'\n",
    "\n",
    "df = feather.read_dataframe(path)"
   ]
  },
  {
   "cell_type": "markdown",
   "metadata": {},
   "source": [
    "# Inspect Data Frame"
   ]
  },
  {
   "cell_type": "markdown",
   "metadata": {},
   "source": [
    "Here we do a check to see which data frame we are analyzing, All Notes or Discharge Notes"
   ]
  },
  {
   "cell_type": "code",
   "execution_count": 5,
   "metadata": {},
   "outputs": [
    {
     "data": {
      "text/html": [
       "<div>\n",
       "<style scoped>\n",
       "    .dataframe tbody tr th:only-of-type {\n",
       "        vertical-align: middle;\n",
       "    }\n",
       "\n",
       "    .dataframe tbody tr th {\n",
       "        vertical-align: top;\n",
       "    }\n",
       "\n",
       "    .dataframe thead th {\n",
       "        text-align: right;\n",
       "    }\n",
       "</style>\n",
       "<table border=\"1\" class=\"dataframe\">\n",
       "  <thead>\n",
       "    <tr style=\"text-align: right;\">\n",
       "      <th></th>\n",
       "      <th>hadm_id</th>\n",
       "      <th>subject_id</th>\n",
       "      <th>readmit_30</th>\n",
       "      <th>age_yr</th>\n",
       "      <th>length_stay_hr_log</th>\n",
       "      <th>icu_stay</th>\n",
       "      <th>albumin_test</th>\n",
       "      <th>albumin_flag</th>\n",
       "      <th>calcium_test</th>\n",
       "      <th>calcium_flag</th>\n",
       "      <th>...</th>\n",
       "      <th>marital_status_WIDOWED</th>\n",
       "      <th>marital_status_SEPARATED</th>\n",
       "      <th>marital_status_UNKNOWN</th>\n",
       "      <th>marital_status_LIFE_PARTNER</th>\n",
       "      <th>ethnicity_UNKNOWN</th>\n",
       "      <th>ethnicity_OTHER</th>\n",
       "      <th>ethnicity_HISPANIC</th>\n",
       "      <th>ethnicity_BLACK</th>\n",
       "      <th>ethnicity_ASIAN</th>\n",
       "      <th>gender_F</th>\n",
       "    </tr>\n",
       "  </thead>\n",
       "  <tbody>\n",
       "    <tr>\n",
       "      <th>0</th>\n",
       "      <td>165315</td>\n",
       "      <td>00022</td>\n",
       "      <td>0</td>\n",
       "      <td>65.0</td>\n",
       "      <td>4.781360</td>\n",
       "      <td>1</td>\n",
       "      <td>0</td>\n",
       "      <td>0</td>\n",
       "      <td>1</td>\n",
       "      <td>0</td>\n",
       "      <td>...</td>\n",
       "      <td>0</td>\n",
       "      <td>0</td>\n",
       "      <td>0</td>\n",
       "      <td>0</td>\n",
       "      <td>0</td>\n",
       "      <td>0</td>\n",
       "      <td>0</td>\n",
       "      <td>0</td>\n",
       "      <td>0</td>\n",
       "      <td>1</td>\n",
       "    </tr>\n",
       "    <tr>\n",
       "      <th>1</th>\n",
       "      <td>152223</td>\n",
       "      <td>00023</td>\n",
       "      <td>0</td>\n",
       "      <td>71.2</td>\n",
       "      <td>7.043301</td>\n",
       "      <td>1</td>\n",
       "      <td>0</td>\n",
       "      <td>0</td>\n",
       "      <td>1</td>\n",
       "      <td>1</td>\n",
       "      <td>...</td>\n",
       "      <td>0</td>\n",
       "      <td>0</td>\n",
       "      <td>0</td>\n",
       "      <td>0</td>\n",
       "      <td>0</td>\n",
       "      <td>0</td>\n",
       "      <td>0</td>\n",
       "      <td>0</td>\n",
       "      <td>0</td>\n",
       "      <td>0</td>\n",
       "    </tr>\n",
       "    <tr>\n",
       "      <th>2</th>\n",
       "      <td>124321</td>\n",
       "      <td>00023</td>\n",
       "      <td>0</td>\n",
       "      <td>75.3</td>\n",
       "      <td>7.343408</td>\n",
       "      <td>1</td>\n",
       "      <td>1</td>\n",
       "      <td>0</td>\n",
       "      <td>1</td>\n",
       "      <td>1</td>\n",
       "      <td>...</td>\n",
       "      <td>0</td>\n",
       "      <td>0</td>\n",
       "      <td>0</td>\n",
       "      <td>0</td>\n",
       "      <td>0</td>\n",
       "      <td>0</td>\n",
       "      <td>0</td>\n",
       "      <td>0</td>\n",
       "      <td>0</td>\n",
       "      <td>0</td>\n",
       "    </tr>\n",
       "    <tr>\n",
       "      <th>3</th>\n",
       "      <td>161859</td>\n",
       "      <td>00024</td>\n",
       "      <td>0</td>\n",
       "      <td>39.0</td>\n",
       "      <td>6.100137</td>\n",
       "      <td>1</td>\n",
       "      <td>0</td>\n",
       "      <td>0</td>\n",
       "      <td>1</td>\n",
       "      <td>0</td>\n",
       "      <td>...</td>\n",
       "      <td>0</td>\n",
       "      <td>0</td>\n",
       "      <td>0</td>\n",
       "      <td>0</td>\n",
       "      <td>0</td>\n",
       "      <td>0</td>\n",
       "      <td>0</td>\n",
       "      <td>0</td>\n",
       "      <td>0</td>\n",
       "      <td>0</td>\n",
       "    </tr>\n",
       "    <tr>\n",
       "      <th>4</th>\n",
       "      <td>129635</td>\n",
       "      <td>00025</td>\n",
       "      <td>0</td>\n",
       "      <td>59.0</td>\n",
       "      <td>6.405992</td>\n",
       "      <td>1</td>\n",
       "      <td>1</td>\n",
       "      <td>1</td>\n",
       "      <td>1</td>\n",
       "      <td>1</td>\n",
       "      <td>...</td>\n",
       "      <td>0</td>\n",
       "      <td>0</td>\n",
       "      <td>0</td>\n",
       "      <td>0</td>\n",
       "      <td>0</td>\n",
       "      <td>0</td>\n",
       "      <td>0</td>\n",
       "      <td>0</td>\n",
       "      <td>0</td>\n",
       "      <td>0</td>\n",
       "    </tr>\n",
       "  </tbody>\n",
       "</table>\n",
       "<p>5 rows × 45 columns</p>\n",
       "</div>"
      ],
      "text/plain": [
       "  hadm_id subject_id  readmit_30  age_yr  length_stay_hr_log  icu_stay  \\\n",
       "0  165315      00022           0    65.0            4.781360         1   \n",
       "1  152223      00023           0    71.2            7.043301         1   \n",
       "2  124321      00023           0    75.3            7.343408         1   \n",
       "3  161859      00024           0    39.0            6.100137         1   \n",
       "4  129635      00025           0    59.0            6.405992         1   \n",
       "\n",
       "   albumin_test  albumin_flag  calcium_test  calcium_flag  ...  \\\n",
       "0             0             0             1             0  ...   \n",
       "1             0             0             1             1  ...   \n",
       "2             1             0             1             1  ...   \n",
       "3             0             0             1             0  ...   \n",
       "4             1             1             1             1  ...   \n",
       "\n",
       "   marital_status_WIDOWED  marital_status_SEPARATED  marital_status_UNKNOWN  \\\n",
       "0                       0                         0                       0   \n",
       "1                       0                         0                       0   \n",
       "2                       0                         0                       0   \n",
       "3                       0                         0                       0   \n",
       "4                       0                         0                       0   \n",
       "\n",
       "   marital_status_LIFE_PARTNER  ethnicity_UNKNOWN  ethnicity_OTHER  \\\n",
       "0                            0                  0                0   \n",
       "1                            0                  0                0   \n",
       "2                            0                  0                0   \n",
       "3                            0                  0                0   \n",
       "4                            0                  0                0   \n",
       "\n",
       "   ethnicity_HISPANIC  ethnicity_BLACK  ethnicity_ASIAN  gender_F  \n",
       "0                   0                0                0         1  \n",
       "1                   0                0                0         0  \n",
       "2                   0                0                0         0  \n",
       "3                   0                0                0         0  \n",
       "4                   0                0                0         0  \n",
       "\n",
       "[5 rows x 45 columns]"
      ]
     },
     "execution_count": 5,
     "metadata": {},
     "output_type": "execute_result"
    }
   ],
   "source": [
    "df.head()"
   ]
  },
  {
   "cell_type": "markdown",
   "metadata": {},
   "source": [
    "We need to drop the id variables."
   ]
  },
  {
   "cell_type": "code",
   "execution_count": 6,
   "metadata": {},
   "outputs": [],
   "source": [
    "df.drop(columns = ['hadm_id', 'subject_id'], inplace=True)"
   ]
  },
  {
   "cell_type": "code",
   "execution_count": 7,
   "metadata": {},
   "outputs": [
    {
     "data": {
      "text/html": [
       "<div>\n",
       "<style scoped>\n",
       "    .dataframe tbody tr th:only-of-type {\n",
       "        vertical-align: middle;\n",
       "    }\n",
       "\n",
       "    .dataframe tbody tr th {\n",
       "        vertical-align: top;\n",
       "    }\n",
       "\n",
       "    .dataframe thead th {\n",
       "        text-align: right;\n",
       "    }\n",
       "</style>\n",
       "<table border=\"1\" class=\"dataframe\">\n",
       "  <thead>\n",
       "    <tr style=\"text-align: right;\">\n",
       "      <th></th>\n",
       "      <th>0</th>\n",
       "      <th>1</th>\n",
       "      <th>2</th>\n",
       "      <th>3</th>\n",
       "      <th>4</th>\n",
       "    </tr>\n",
       "  </thead>\n",
       "  <tbody>\n",
       "    <tr>\n",
       "      <th>readmit_30</th>\n",
       "      <td>0.00000</td>\n",
       "      <td>0.000000</td>\n",
       "      <td>0.000000</td>\n",
       "      <td>0.000000</td>\n",
       "      <td>0.000000</td>\n",
       "    </tr>\n",
       "    <tr>\n",
       "      <th>age_yr</th>\n",
       "      <td>65.00000</td>\n",
       "      <td>71.200000</td>\n",
       "      <td>75.300000</td>\n",
       "      <td>39.000000</td>\n",
       "      <td>59.000000</td>\n",
       "    </tr>\n",
       "    <tr>\n",
       "      <th>length_stay_hr_log</th>\n",
       "      <td>4.78136</td>\n",
       "      <td>7.043301</td>\n",
       "      <td>7.343408</td>\n",
       "      <td>6.100137</td>\n",
       "      <td>6.405992</td>\n",
       "    </tr>\n",
       "    <tr>\n",
       "      <th>icu_stay</th>\n",
       "      <td>1.00000</td>\n",
       "      <td>1.000000</td>\n",
       "      <td>1.000000</td>\n",
       "      <td>1.000000</td>\n",
       "      <td>1.000000</td>\n",
       "    </tr>\n",
       "    <tr>\n",
       "      <th>albumin_test</th>\n",
       "      <td>0.00000</td>\n",
       "      <td>0.000000</td>\n",
       "      <td>1.000000</td>\n",
       "      <td>0.000000</td>\n",
       "      <td>1.000000</td>\n",
       "    </tr>\n",
       "    <tr>\n",
       "      <th>albumin_flag</th>\n",
       "      <td>0.00000</td>\n",
       "      <td>0.000000</td>\n",
       "      <td>0.000000</td>\n",
       "      <td>0.000000</td>\n",
       "      <td>1.000000</td>\n",
       "    </tr>\n",
       "    <tr>\n",
       "      <th>calcium_test</th>\n",
       "      <td>1.00000</td>\n",
       "      <td>1.000000</td>\n",
       "      <td>1.000000</td>\n",
       "      <td>1.000000</td>\n",
       "      <td>1.000000</td>\n",
       "    </tr>\n",
       "    <tr>\n",
       "      <th>calcium_flag</th>\n",
       "      <td>0.00000</td>\n",
       "      <td>1.000000</td>\n",
       "      <td>1.000000</td>\n",
       "      <td>0.000000</td>\n",
       "      <td>1.000000</td>\n",
       "    </tr>\n",
       "    <tr>\n",
       "      <th>magnesium_test</th>\n",
       "      <td>1.00000</td>\n",
       "      <td>1.000000</td>\n",
       "      <td>1.000000</td>\n",
       "      <td>1.000000</td>\n",
       "      <td>1.000000</td>\n",
       "    </tr>\n",
       "    <tr>\n",
       "      <th>magnesium_flag</th>\n",
       "      <td>0.00000</td>\n",
       "      <td>0.000000</td>\n",
       "      <td>0.000000</td>\n",
       "      <td>0.000000</td>\n",
       "      <td>0.000000</td>\n",
       "    </tr>\n",
       "    <tr>\n",
       "      <th>platelets_test</th>\n",
       "      <td>1.00000</td>\n",
       "      <td>1.000000</td>\n",
       "      <td>1.000000</td>\n",
       "      <td>1.000000</td>\n",
       "      <td>1.000000</td>\n",
       "    </tr>\n",
       "    <tr>\n",
       "      <th>platelets_flag</th>\n",
       "      <td>0.00000</td>\n",
       "      <td>1.000000</td>\n",
       "      <td>1.000000</td>\n",
       "      <td>0.000000</td>\n",
       "      <td>1.000000</td>\n",
       "    </tr>\n",
       "    <tr>\n",
       "      <th>urea_test</th>\n",
       "      <td>1.00000</td>\n",
       "      <td>1.000000</td>\n",
       "      <td>1.000000</td>\n",
       "      <td>1.000000</td>\n",
       "      <td>1.000000</td>\n",
       "    </tr>\n",
       "    <tr>\n",
       "      <th>urea_flag</th>\n",
       "      <td>0.00000</td>\n",
       "      <td>0.000000</td>\n",
       "      <td>1.000000</td>\n",
       "      <td>0.000000</td>\n",
       "      <td>1.000000</td>\n",
       "    </tr>\n",
       "    <tr>\n",
       "      <th>micro_bio_test</th>\n",
       "      <td>1.00000</td>\n",
       "      <td>1.000000</td>\n",
       "      <td>1.000000</td>\n",
       "      <td>0.000000</td>\n",
       "      <td>1.000000</td>\n",
       "    </tr>\n",
       "    <tr>\n",
       "      <th>admission_type_ELECTIVE</th>\n",
       "      <td>0.00000</td>\n",
       "      <td>1.000000</td>\n",
       "      <td>0.000000</td>\n",
       "      <td>0.000000</td>\n",
       "      <td>0.000000</td>\n",
       "    </tr>\n",
       "    <tr>\n",
       "      <th>admission_type_URGENT</th>\n",
       "      <td>0.00000</td>\n",
       "      <td>0.000000</td>\n",
       "      <td>0.000000</td>\n",
       "      <td>0.000000</td>\n",
       "      <td>0.000000</td>\n",
       "    </tr>\n",
       "    <tr>\n",
       "      <th>admission_location_PHYS_REF_NORMAL</th>\n",
       "      <td>0.00000</td>\n",
       "      <td>1.000000</td>\n",
       "      <td>0.000000</td>\n",
       "      <td>0.000000</td>\n",
       "      <td>0.000000</td>\n",
       "    </tr>\n",
       "    <tr>\n",
       "      <th>admission_location_TRANSFER_FROM_HOSP</th>\n",
       "      <td>0.00000</td>\n",
       "      <td>0.000000</td>\n",
       "      <td>1.000000</td>\n",
       "      <td>1.000000</td>\n",
       "      <td>0.000000</td>\n",
       "    </tr>\n",
       "    <tr>\n",
       "      <th>admission_location_CLINIC_REF_PREMATURE</th>\n",
       "      <td>0.00000</td>\n",
       "      <td>0.000000</td>\n",
       "      <td>0.000000</td>\n",
       "      <td>0.000000</td>\n",
       "      <td>0.000000</td>\n",
       "    </tr>\n",
       "    <tr>\n",
       "      <th>admission_location_OTHER</th>\n",
       "      <td>0.00000</td>\n",
       "      <td>0.000000</td>\n",
       "      <td>0.000000</td>\n",
       "      <td>0.000000</td>\n",
       "      <td>0.000000</td>\n",
       "    </tr>\n",
       "    <tr>\n",
       "      <th>discharge_location_OTHER</th>\n",
       "      <td>1.00000</td>\n",
       "      <td>0.000000</td>\n",
       "      <td>0.000000</td>\n",
       "      <td>0.000000</td>\n",
       "      <td>0.000000</td>\n",
       "    </tr>\n",
       "    <tr>\n",
       "      <th>discharge_location_HOME</th>\n",
       "      <td>0.00000</td>\n",
       "      <td>0.000000</td>\n",
       "      <td>0.000000</td>\n",
       "      <td>1.000000</td>\n",
       "      <td>1.000000</td>\n",
       "    </tr>\n",
       "    <tr>\n",
       "      <th>discharge_location_REHAB</th>\n",
       "      <td>0.00000</td>\n",
       "      <td>0.000000</td>\n",
       "      <td>0.000000</td>\n",
       "      <td>0.000000</td>\n",
       "      <td>0.000000</td>\n",
       "    </tr>\n",
       "    <tr>\n",
       "      <th>discharge_location_LONG_TERM_CARE_HOSPITAL</th>\n",
       "      <td>0.00000</td>\n",
       "      <td>0.000000</td>\n",
       "      <td>0.000000</td>\n",
       "      <td>0.000000</td>\n",
       "      <td>0.000000</td>\n",
       "    </tr>\n",
       "    <tr>\n",
       "      <th>discharge_location_SNF</th>\n",
       "      <td>0.00000</td>\n",
       "      <td>0.000000</td>\n",
       "      <td>0.000000</td>\n",
       "      <td>0.000000</td>\n",
       "      <td>0.000000</td>\n",
       "    </tr>\n",
       "    <tr>\n",
       "      <th>insurance_Private</th>\n",
       "      <td>1.00000</td>\n",
       "      <td>0.000000</td>\n",
       "      <td>0.000000</td>\n",
       "      <td>1.000000</td>\n",
       "      <td>1.000000</td>\n",
       "    </tr>\n",
       "    <tr>\n",
       "      <th>insurance_Medicaid</th>\n",
       "      <td>0.00000</td>\n",
       "      <td>0.000000</td>\n",
       "      <td>0.000000</td>\n",
       "      <td>0.000000</td>\n",
       "      <td>0.000000</td>\n",
       "    </tr>\n",
       "    <tr>\n",
       "      <th>insurance_Self_Pay</th>\n",
       "      <td>0.00000</td>\n",
       "      <td>0.000000</td>\n",
       "      <td>0.000000</td>\n",
       "      <td>0.000000</td>\n",
       "      <td>0.000000</td>\n",
       "    </tr>\n",
       "    <tr>\n",
       "      <th>insurance_Government</th>\n",
       "      <td>0.00000</td>\n",
       "      <td>0.000000</td>\n",
       "      <td>0.000000</td>\n",
       "      <td>0.000000</td>\n",
       "      <td>0.000000</td>\n",
       "    </tr>\n",
       "    <tr>\n",
       "      <th>marital_status_SINGLE</th>\n",
       "      <td>0.00000</td>\n",
       "      <td>0.000000</td>\n",
       "      <td>0.000000</td>\n",
       "      <td>1.000000</td>\n",
       "      <td>0.000000</td>\n",
       "    </tr>\n",
       "    <tr>\n",
       "      <th>marital_status_MISSING</th>\n",
       "      <td>0.00000</td>\n",
       "      <td>0.000000</td>\n",
       "      <td>0.000000</td>\n",
       "      <td>0.000000</td>\n",
       "      <td>0.000000</td>\n",
       "    </tr>\n",
       "    <tr>\n",
       "      <th>marital_status_DIVORCED</th>\n",
       "      <td>0.00000</td>\n",
       "      <td>0.000000</td>\n",
       "      <td>0.000000</td>\n",
       "      <td>0.000000</td>\n",
       "      <td>0.000000</td>\n",
       "    </tr>\n",
       "    <tr>\n",
       "      <th>marital_status_WIDOWED</th>\n",
       "      <td>0.00000</td>\n",
       "      <td>0.000000</td>\n",
       "      <td>0.000000</td>\n",
       "      <td>0.000000</td>\n",
       "      <td>0.000000</td>\n",
       "    </tr>\n",
       "    <tr>\n",
       "      <th>marital_status_SEPARATED</th>\n",
       "      <td>0.00000</td>\n",
       "      <td>0.000000</td>\n",
       "      <td>0.000000</td>\n",
       "      <td>0.000000</td>\n",
       "      <td>0.000000</td>\n",
       "    </tr>\n",
       "    <tr>\n",
       "      <th>marital_status_UNKNOWN</th>\n",
       "      <td>0.00000</td>\n",
       "      <td>0.000000</td>\n",
       "      <td>0.000000</td>\n",
       "      <td>0.000000</td>\n",
       "      <td>0.000000</td>\n",
       "    </tr>\n",
       "    <tr>\n",
       "      <th>marital_status_LIFE_PARTNER</th>\n",
       "      <td>0.00000</td>\n",
       "      <td>0.000000</td>\n",
       "      <td>0.000000</td>\n",
       "      <td>0.000000</td>\n",
       "      <td>0.000000</td>\n",
       "    </tr>\n",
       "    <tr>\n",
       "      <th>ethnicity_UNKNOWN</th>\n",
       "      <td>0.00000</td>\n",
       "      <td>0.000000</td>\n",
       "      <td>0.000000</td>\n",
       "      <td>0.000000</td>\n",
       "      <td>0.000000</td>\n",
       "    </tr>\n",
       "    <tr>\n",
       "      <th>ethnicity_OTHER</th>\n",
       "      <td>0.00000</td>\n",
       "      <td>0.000000</td>\n",
       "      <td>0.000000</td>\n",
       "      <td>0.000000</td>\n",
       "      <td>0.000000</td>\n",
       "    </tr>\n",
       "    <tr>\n",
       "      <th>ethnicity_HISPANIC</th>\n",
       "      <td>0.00000</td>\n",
       "      <td>0.000000</td>\n",
       "      <td>0.000000</td>\n",
       "      <td>0.000000</td>\n",
       "      <td>0.000000</td>\n",
       "    </tr>\n",
       "    <tr>\n",
       "      <th>ethnicity_BLACK</th>\n",
       "      <td>0.00000</td>\n",
       "      <td>0.000000</td>\n",
       "      <td>0.000000</td>\n",
       "      <td>0.000000</td>\n",
       "      <td>0.000000</td>\n",
       "    </tr>\n",
       "    <tr>\n",
       "      <th>ethnicity_ASIAN</th>\n",
       "      <td>0.00000</td>\n",
       "      <td>0.000000</td>\n",
       "      <td>0.000000</td>\n",
       "      <td>0.000000</td>\n",
       "      <td>0.000000</td>\n",
       "    </tr>\n",
       "    <tr>\n",
       "      <th>gender_F</th>\n",
       "      <td>1.00000</td>\n",
       "      <td>0.000000</td>\n",
       "      <td>0.000000</td>\n",
       "      <td>0.000000</td>\n",
       "      <td>0.000000</td>\n",
       "    </tr>\n",
       "  </tbody>\n",
       "</table>\n",
       "</div>"
      ],
      "text/plain": [
       "                                                   0          1          2  \\\n",
       "readmit_30                                   0.00000   0.000000   0.000000   \n",
       "age_yr                                      65.00000  71.200000  75.300000   \n",
       "length_stay_hr_log                           4.78136   7.043301   7.343408   \n",
       "icu_stay                                     1.00000   1.000000   1.000000   \n",
       "albumin_test                                 0.00000   0.000000   1.000000   \n",
       "albumin_flag                                 0.00000   0.000000   0.000000   \n",
       "calcium_test                                 1.00000   1.000000   1.000000   \n",
       "calcium_flag                                 0.00000   1.000000   1.000000   \n",
       "magnesium_test                               1.00000   1.000000   1.000000   \n",
       "magnesium_flag                               0.00000   0.000000   0.000000   \n",
       "platelets_test                               1.00000   1.000000   1.000000   \n",
       "platelets_flag                               0.00000   1.000000   1.000000   \n",
       "urea_test                                    1.00000   1.000000   1.000000   \n",
       "urea_flag                                    0.00000   0.000000   1.000000   \n",
       "micro_bio_test                               1.00000   1.000000   1.000000   \n",
       "admission_type_ELECTIVE                      0.00000   1.000000   0.000000   \n",
       "admission_type_URGENT                        0.00000   0.000000   0.000000   \n",
       "admission_location_PHYS_REF_NORMAL           0.00000   1.000000   0.000000   \n",
       "admission_location_TRANSFER_FROM_HOSP        0.00000   0.000000   1.000000   \n",
       "admission_location_CLINIC_REF_PREMATURE      0.00000   0.000000   0.000000   \n",
       "admission_location_OTHER                     0.00000   0.000000   0.000000   \n",
       "discharge_location_OTHER                     1.00000   0.000000   0.000000   \n",
       "discharge_location_HOME                      0.00000   0.000000   0.000000   \n",
       "discharge_location_REHAB                     0.00000   0.000000   0.000000   \n",
       "discharge_location_LONG_TERM_CARE_HOSPITAL   0.00000   0.000000   0.000000   \n",
       "discharge_location_SNF                       0.00000   0.000000   0.000000   \n",
       "insurance_Private                            1.00000   0.000000   0.000000   \n",
       "insurance_Medicaid                           0.00000   0.000000   0.000000   \n",
       "insurance_Self_Pay                           0.00000   0.000000   0.000000   \n",
       "insurance_Government                         0.00000   0.000000   0.000000   \n",
       "marital_status_SINGLE                        0.00000   0.000000   0.000000   \n",
       "marital_status_MISSING                       0.00000   0.000000   0.000000   \n",
       "marital_status_DIVORCED                      0.00000   0.000000   0.000000   \n",
       "marital_status_WIDOWED                       0.00000   0.000000   0.000000   \n",
       "marital_status_SEPARATED                     0.00000   0.000000   0.000000   \n",
       "marital_status_UNKNOWN                       0.00000   0.000000   0.000000   \n",
       "marital_status_LIFE_PARTNER                  0.00000   0.000000   0.000000   \n",
       "ethnicity_UNKNOWN                            0.00000   0.000000   0.000000   \n",
       "ethnicity_OTHER                              0.00000   0.000000   0.000000   \n",
       "ethnicity_HISPANIC                           0.00000   0.000000   0.000000   \n",
       "ethnicity_BLACK                              0.00000   0.000000   0.000000   \n",
       "ethnicity_ASIAN                              0.00000   0.000000   0.000000   \n",
       "gender_F                                     1.00000   0.000000   0.000000   \n",
       "\n",
       "                                                    3          4  \n",
       "readmit_30                                   0.000000   0.000000  \n",
       "age_yr                                      39.000000  59.000000  \n",
       "length_stay_hr_log                           6.100137   6.405992  \n",
       "icu_stay                                     1.000000   1.000000  \n",
       "albumin_test                                 0.000000   1.000000  \n",
       "albumin_flag                                 0.000000   1.000000  \n",
       "calcium_test                                 1.000000   1.000000  \n",
       "calcium_flag                                 0.000000   1.000000  \n",
       "magnesium_test                               1.000000   1.000000  \n",
       "magnesium_flag                               0.000000   0.000000  \n",
       "platelets_test                               1.000000   1.000000  \n",
       "platelets_flag                               0.000000   1.000000  \n",
       "urea_test                                    1.000000   1.000000  \n",
       "urea_flag                                    0.000000   1.000000  \n",
       "micro_bio_test                               0.000000   1.000000  \n",
       "admission_type_ELECTIVE                      0.000000   0.000000  \n",
       "admission_type_URGENT                        0.000000   0.000000  \n",
       "admission_location_PHYS_REF_NORMAL           0.000000   0.000000  \n",
       "admission_location_TRANSFER_FROM_HOSP        1.000000   0.000000  \n",
       "admission_location_CLINIC_REF_PREMATURE      0.000000   0.000000  \n",
       "admission_location_OTHER                     0.000000   0.000000  \n",
       "discharge_location_OTHER                     0.000000   0.000000  \n",
       "discharge_location_HOME                      1.000000   1.000000  \n",
       "discharge_location_REHAB                     0.000000   0.000000  \n",
       "discharge_location_LONG_TERM_CARE_HOSPITAL   0.000000   0.000000  \n",
       "discharge_location_SNF                       0.000000   0.000000  \n",
       "insurance_Private                            1.000000   1.000000  \n",
       "insurance_Medicaid                           0.000000   0.000000  \n",
       "insurance_Self_Pay                           0.000000   0.000000  \n",
       "insurance_Government                         0.000000   0.000000  \n",
       "marital_status_SINGLE                        1.000000   0.000000  \n",
       "marital_status_MISSING                       0.000000   0.000000  \n",
       "marital_status_DIVORCED                      0.000000   0.000000  \n",
       "marital_status_WIDOWED                       0.000000   0.000000  \n",
       "marital_status_SEPARATED                     0.000000   0.000000  \n",
       "marital_status_UNKNOWN                       0.000000   0.000000  \n",
       "marital_status_LIFE_PARTNER                  0.000000   0.000000  \n",
       "ethnicity_UNKNOWN                            0.000000   0.000000  \n",
       "ethnicity_OTHER                              0.000000   0.000000  \n",
       "ethnicity_HISPANIC                           0.000000   0.000000  \n",
       "ethnicity_BLACK                              0.000000   0.000000  \n",
       "ethnicity_ASIAN                              0.000000   0.000000  \n",
       "gender_F                                     0.000000   0.000000  "
      ]
     },
     "execution_count": 7,
     "metadata": {},
     "output_type": "execute_result"
    }
   ],
   "source": [
    "df.head().T"
   ]
  },
  {
   "cell_type": "markdown",
   "metadata": {},
   "source": [
    "# Functions"
   ]
  },
  {
   "cell_type": "code",
   "execution_count": 8,
   "metadata": {},
   "outputs": [],
   "source": [
    "def data_split(df):\n",
    "    # Split into Train, Valid and Test\n",
    "    ## Shuffle\n",
    "    df = df.sample(n = len(df), random_state= random_state)\n",
    "    df = df.reset_index(drop = True)\n",
    "    \n",
    "    ## Extract Data for Test and Valid Sampling\n",
    "    df_v_te = df.sample(frac=0.40, random_state = random_state)\n",
    "    \n",
    "    ## Test Sample\n",
    "    df_te = df_v_te.sample(frac = 0.5, random_state = random_state)\n",
    "    \n",
    "    ## Valid Sample\n",
    "    df_v = df_v_te.drop(df_te.index)\n",
    "\n",
    "    ## Training Sample\n",
    "    df_tr = df.drop(df_v_te.index)\n",
    "    \n",
    "\n",
    "    x_tr = df_tr.drop(columns = ['readmit_30'])\n",
    "    x_v = df_v.drop(columns = ['readmit_30'])\n",
    "    x_te  = df_te.drop(columns = ['readmit_30'])\n",
    "    \n",
    "    # Define Target Variables\n",
    "    y_tr = df_tr.readmit_30\n",
    "    y_v = df_v.readmit_30\n",
    "    y_te = df_te.readmit_30\n",
    "    \n",
    "    return x_tr, x_v, x_te, y_tr, y_v, y_te, df_tr"
   ]
  },
  {
   "cell_type": "markdown",
   "metadata": {},
   "source": [
    "## Sampling - Sub"
   ]
  },
  {
   "cell_type": "code",
   "execution_count": 9,
   "metadata": {},
   "outputs": [],
   "source": [
    "def sub_sample(df_tr):\n",
    "    \n",
    "    # Sub-Sampling\n",
    "    ## Split Data into Positive and Negative Target Returns\n",
    "    rows_readmit = df_tr.readmit_30 == 1\n",
    "    df_tr_pos = df_tr.loc[rows_readmit]\n",
    "    df_tr_neg = df_tr.loc[~rows_readmit]\n",
    "    \n",
    "    # Balance the Data, and Re-merge to a single data set\n",
    "    df_tr = pd.concat([df_tr_pos, \n",
    "                                df_tr_neg.sample(n = len(df_tr_pos))], \n",
    "                                axis = 0\n",
    "                          )\n",
    "\n",
    "    # shuffle the order of training samples \n",
    "    df_tr = df_tr.sample(n = len(df_tr)).reset_index(drop = True)\n",
    "    \n",
    "    x_tr = df_tr.drop(columns = ['readmit_30'])\n",
    "    \n",
    "    # Define Target Variables\n",
    "    y_tr = df_tr.readmit_30\n",
    "    \n",
    "    return x_tr, y_tr"
   ]
  },
  {
   "cell_type": "markdown",
   "metadata": {},
   "source": [
    "## Model Output"
   ]
  },
  {
   "cell_type": "markdown",
   "metadata": {},
   "source": [
    "### Scoring Metrics\n",
    "The following functions calculate the scoring metrics the models will be evlauted on."
   ]
  },
  {
   "cell_type": "code",
   "execution_count": 10,
   "metadata": {},
   "outputs": [],
   "source": [
    "def calc_accuracy(y_actual, y_pred, thresh):\n",
    "    # this function calculates the accuracy with probability threshold at thresh\n",
    "    return (sum((y_pred > thresh) & (y_actual == 1)) +\n",
    "            sum((y_pred < thresh) & (y_actual == 0))) /len(y_actual)\n",
    "\n",
    "def calc_recall(y_actual, y_pred, thresh):\n",
    "    # calculates the recall\n",
    "    return sum((y_pred > thresh) & (y_actual == 1)) /sum(y_actual)\n",
    "\n",
    "def calc_precision(y_actual, y_pred, thresh):\n",
    "    # calculates the precision\n",
    "    return sum((y_pred > thresh) & (y_actual == 1)) /sum(y_pred > thresh)\n",
    "\n",
    "def calc_specificity(y_actual, y_pred, thresh):\n",
    "    # calculates specificity\n",
    "    return sum((y_pred < thresh) & (y_actual == 0)) /sum(y_actual ==0)\n",
    "\n",
    "def calc_prevalence(y_actual):\n",
    "    # calculates prevalence\n",
    "    return sum((y_actual == 1)) /len(y_actual)"
   ]
  },
  {
   "cell_type": "markdown",
   "metadata": {},
   "source": [
    "### Scoring Output\n",
    "The following code generates the visual output of the scoring metrics."
   ]
  },
  {
   "cell_type": "code",
   "execution_count": 11,
   "metadata": {},
   "outputs": [],
   "source": [
    "def model_output(y_tr, y_tr_preds, y_v, y_v_preds):\n",
    "    \n",
    "    fpr_tr, tpr_tr, thresholds_tr = roc_curve(y_tr, y_tr_preds)\n",
    "    fpr_v, tpr_v, thresholds_v = roc_curve(y_v, y_v_preds)\n",
    "\n",
    "    thresh = 0.5\n",
    "\n",
    "    auc_t = '%.3f' %roc_auc_score(y_tr, y_tr_preds)\n",
    "    auc_v = '%.3f' %roc_auc_score(y_v, y_v_preds)\n",
    "    \n",
    "    acc_t = '%.3f' %calc_accuracy(y_tr, y_tr_preds, thresh)\n",
    "    acc_v = '%.3f' %calc_accuracy(y_v, y_v_preds, thresh)\n",
    "    \n",
    "    recall_raw_t = calc_recall(y_tr, y_tr_preds, thresh)\n",
    "    recall_raw_v = calc_recall(y_v, y_v_preds, thresh)\n",
    "    \n",
    "    recall_t = '%.3f' %recall_raw_t\n",
    "    recall_v = '%.3f' %recall_raw_v\n",
    "    \n",
    "    precision_raw_t = calc_precision(y_tr, y_tr_preds, thresh)\n",
    "    precision_raw_v = calc_precision(y_v, y_v_preds, thresh)\n",
    "    \n",
    "    precision_t = '%.3f' %precision_raw_t\n",
    "    precision_v = '%.3f' %precision_raw_v\n",
    "      \n",
    "    \n",
    "    f1_t = '%.3f' %((precision_raw_t * recall_raw_t)/(precision_raw_t + recall_raw_t))\n",
    "    f1_v = '%.3f' %((precision_raw_v * recall_raw_v)/(precision_raw_v + recall_raw_v))\n",
    "    \n",
    "    specificity_t = '%.3f' %calc_specificity(y_tr, y_tr_preds, thresh)\n",
    "    specificity_v = '%.3f' %calc_specificity(y_v, y_v_preds, thresh)\n",
    "    \n",
    "    prevalence_t = '%.3f' %calc_prevalence(y_tr)\n",
    "    prevalence_v = '%.3f' %calc_prevalence(y_v)\n",
    "    \n",
    "    \n",
    "    data = {'Score':['AUC', 'Accuracy', 'Precision', 'Recall', 'F1', 'Specificity', 'Prevalence'],\n",
    "            'Train':[auc_t, acc_t, precision_t, recall_t, f1_t, specificity_t, prevalence_t],\n",
    "            'Validation':[auc_v, acc_v, precision_v, recall_v,  f1_v, specificity_v, prevalence_v]\n",
    "           }\n",
    "    \n",
    "    df = pd.DataFrame(data)\n",
    "    \n",
    "    print(df)\n",
    "\n",
    "    plt.plot(fpr_tr, tpr_tr,'r-', label = 'Train AUC: %.2f'%roc_auc_score(y_tr, y_tr_preds))\n",
    "    plt.plot(fpr_v, tpr_v,'b-',label = 'Valid AUC: %.2f'%roc_auc_score(y_v, y_v_preds))\n",
    "    plt.plot([0,1],[0,1],'-k')\n",
    "    plt.xlabel('False Positive Rate')\n",
    "    plt.ylabel('True Positive Rate')\n",
    "    plt.legend()\n",
    "    plt.show()"
   ]
  },
  {
   "cell_type": "markdown",
   "metadata": {},
   "source": [
    "## Model Execution"
   ]
  },
  {
   "cell_type": "markdown",
   "metadata": {},
   "source": [
    "The following function trains a default model to the training data and generates training and validation scores."
   ]
  },
  {
   "cell_type": "code",
   "execution_count": 12,
   "metadata": {},
   "outputs": [],
   "source": [
    "def train_model_default(clf, x_tr, x_v, y_tr, y_v):\n",
    "    \n",
    "    clf.fit(x_tr, y_tr)\n",
    "\n",
    "    y_tr_preds = clf.predict_proba(x_tr)[:,1]\n",
    "    y_v_preds = clf.predict_proba(x_v)[:,1]\n",
    "\n",
    "    model_output(y_tr, y_tr_preds, y_v, y_v_preds)"
   ]
  },
  {
   "cell_type": "markdown",
   "metadata": {},
   "source": [
    "The following function takes in the optimized model and generates training and validation scores\n"
   ]
  },
  {
   "cell_type": "code",
   "execution_count": 13,
   "metadata": {},
   "outputs": [],
   "source": [
    "def opt_model_scoring(clf, x_tr, x_v, y_tr, y_v):\n",
    "    \n",
    "    y_tr_preds = clf.predict_proba(x_tr)[:,1]\n",
    "    y_v_preds = clf.predict_proba(x_v)[:,1]\n",
    "\n",
    "    model_output(y_tr, y_tr_preds, y_v, y_v_preds)"
   ]
  },
  {
   "cell_type": "markdown",
   "metadata": {},
   "source": [
    "The following function runs the gridsearchcv"
   ]
  },
  {
   "cell_type": "code",
   "execution_count": 14,
   "metadata": {},
   "outputs": [],
   "source": [
    "def grid_search_opt(x_tr, x_v, y_tr, y_v, clf, hyper_param_dict):\n",
    "\n",
    "    # Create a Grid Search\n",
    "    clf = GridSearchCV(clf, hyper_param_dict, cv=5, verbose=1,  scoring = scoring_metric, n_jobs = -1)\n",
    "\n",
    "    # Best Model\n",
    "    clf.fit(x_tr, y_tr)\n",
    "    \n",
    "    # Export Best Parameters to New Model\n",
    "    clf_best_est = clf.best_estimator_\n",
    "\n",
    "    print(\"Best parameters set found on training set:\")\n",
    "    print()\n",
    "    print(clf.best_params_)\n",
    "    print()\n",
    "    means = clf.cv_results_['mean_test_score']\n",
    "    stds = clf.cv_results_['std_test_score']\n",
    "    for mean, std, params in zip(means, stds, clf.cv_results_['params']):\n",
    "        print(\"%0.3f (+/-%0.03f) for %r\"\n",
    "              % (mean, std * 2, params))\n",
    "    print()\n",
    "\n",
    "    return clf_best_est"
   ]
  },
  {
   "cell_type": "markdown",
   "metadata": {},
   "source": [
    "# Data Set: Discharge Notes\n",
    "The following analysis will be of the data frame with all discharge notes."
   ]
  },
  {
   "cell_type": "markdown",
   "metadata": {},
   "source": [
    "## Data Processing"
   ]
  },
  {
   "cell_type": "markdown",
   "metadata": {},
   "source": [
    "First the data is processed and tokenized. This will take a while."
   ]
  },
  {
   "cell_type": "code",
   "execution_count": 15,
   "metadata": {},
   "outputs": [],
   "source": [
    "df = df.sample(frac = 1, random_state = random_state)\n",
    "x_tr, x_v, x_te, y_tr, y_v, y_te, df_tr = data_split(df)"
   ]
  },
  {
   "cell_type": "code",
   "execution_count": 16,
   "metadata": {},
   "outputs": [
    {
     "data": {
      "text/plain": [
       "(26325, 42)"
      ]
     },
     "execution_count": 16,
     "metadata": {},
     "output_type": "execute_result"
    }
   ],
   "source": [
    "x_tr.shape"
   ]
  },
  {
   "cell_type": "code",
   "execution_count": 17,
   "metadata": {},
   "outputs": [
    {
     "data": {
      "text/html": [
       "<div>\n",
       "<style scoped>\n",
       "    .dataframe tbody tr th:only-of-type {\n",
       "        vertical-align: middle;\n",
       "    }\n",
       "\n",
       "    .dataframe tbody tr th {\n",
       "        vertical-align: top;\n",
       "    }\n",
       "\n",
       "    .dataframe thead th {\n",
       "        text-align: right;\n",
       "    }\n",
       "</style>\n",
       "<table border=\"1\" class=\"dataframe\">\n",
       "  <thead>\n",
       "    <tr style=\"text-align: right;\">\n",
       "      <th></th>\n",
       "      <th>age_yr</th>\n",
       "      <th>length_stay_hr_log</th>\n",
       "      <th>icu_stay</th>\n",
       "      <th>albumin_test</th>\n",
       "      <th>albumin_flag</th>\n",
       "      <th>calcium_test</th>\n",
       "      <th>calcium_flag</th>\n",
       "      <th>magnesium_test</th>\n",
       "      <th>magnesium_flag</th>\n",
       "      <th>platelets_test</th>\n",
       "      <th>...</th>\n",
       "      <th>marital_status_WIDOWED</th>\n",
       "      <th>marital_status_SEPARATED</th>\n",
       "      <th>marital_status_UNKNOWN</th>\n",
       "      <th>marital_status_LIFE_PARTNER</th>\n",
       "      <th>ethnicity_UNKNOWN</th>\n",
       "      <th>ethnicity_OTHER</th>\n",
       "      <th>ethnicity_HISPANIC</th>\n",
       "      <th>ethnicity_BLACK</th>\n",
       "      <th>ethnicity_ASIAN</th>\n",
       "      <th>gender_F</th>\n",
       "    </tr>\n",
       "  </thead>\n",
       "  <tbody>\n",
       "    <tr>\n",
       "      <th>count</th>\n",
       "      <td>26325.000000</td>\n",
       "      <td>26325.000000</td>\n",
       "      <td>26325.000000</td>\n",
       "      <td>26325.000000</td>\n",
       "      <td>26325.000000</td>\n",
       "      <td>26325.000000</td>\n",
       "      <td>26325.000000</td>\n",
       "      <td>26325.000000</td>\n",
       "      <td>26325.000000</td>\n",
       "      <td>26325.000000</td>\n",
       "      <td>...</td>\n",
       "      <td>26325.000000</td>\n",
       "      <td>26325.000000</td>\n",
       "      <td>26325.000000</td>\n",
       "      <td>26325.000000</td>\n",
       "      <td>26325.000000</td>\n",
       "      <td>26325.000000</td>\n",
       "      <td>26325.000000</td>\n",
       "      <td>26325.000000</td>\n",
       "      <td>26325.000000</td>\n",
       "      <td>26325.000000</td>\n",
       "    </tr>\n",
       "    <tr>\n",
       "      <th>mean</th>\n",
       "      <td>72.923863</td>\n",
       "      <td>7.434686</td>\n",
       "      <td>0.982222</td>\n",
       "      <td>0.593542</td>\n",
       "      <td>0.396505</td>\n",
       "      <td>0.950237</td>\n",
       "      <td>0.696676</td>\n",
       "      <td>0.978689</td>\n",
       "      <td>0.383134</td>\n",
       "      <td>0.989516</td>\n",
       "      <td>...</td>\n",
       "      <td>0.137626</td>\n",
       "      <td>0.011130</td>\n",
       "      <td>0.006040</td>\n",
       "      <td>0.000304</td>\n",
       "      <td>0.097588</td>\n",
       "      <td>0.030275</td>\n",
       "      <td>0.036809</td>\n",
       "      <td>0.096866</td>\n",
       "      <td>0.023248</td>\n",
       "      <td>0.432669</td>\n",
       "    </tr>\n",
       "    <tr>\n",
       "      <th>std</th>\n",
       "      <td>52.805612</td>\n",
       "      <td>1.170586</td>\n",
       "      <td>0.132145</td>\n",
       "      <td>0.491181</td>\n",
       "      <td>0.489181</td>\n",
       "      <td>0.217458</td>\n",
       "      <td>0.459703</td>\n",
       "      <td>0.144420</td>\n",
       "      <td>0.486160</td>\n",
       "      <td>0.101857</td>\n",
       "      <td>...</td>\n",
       "      <td>0.344513</td>\n",
       "      <td>0.104913</td>\n",
       "      <td>0.077483</td>\n",
       "      <td>0.017430</td>\n",
       "      <td>0.296762</td>\n",
       "      <td>0.171347</td>\n",
       "      <td>0.188296</td>\n",
       "      <td>0.295781</td>\n",
       "      <td>0.150693</td>\n",
       "      <td>0.495455</td>\n",
       "    </tr>\n",
       "    <tr>\n",
       "      <th>min</th>\n",
       "      <td>0.000000</td>\n",
       "      <td>0.378512</td>\n",
       "      <td>0.000000</td>\n",
       "      <td>0.000000</td>\n",
       "      <td>0.000000</td>\n",
       "      <td>0.000000</td>\n",
       "      <td>0.000000</td>\n",
       "      <td>0.000000</td>\n",
       "      <td>0.000000</td>\n",
       "      <td>0.000000</td>\n",
       "      <td>...</td>\n",
       "      <td>0.000000</td>\n",
       "      <td>0.000000</td>\n",
       "      <td>0.000000</td>\n",
       "      <td>0.000000</td>\n",
       "      <td>0.000000</td>\n",
       "      <td>0.000000</td>\n",
       "      <td>0.000000</td>\n",
       "      <td>0.000000</td>\n",
       "      <td>0.000000</td>\n",
       "      <td>0.000000</td>\n",
       "    </tr>\n",
       "    <tr>\n",
       "      <th>25%</th>\n",
       "      <td>52.300000</td>\n",
       "      <td>6.686501</td>\n",
       "      <td>1.000000</td>\n",
       "      <td>0.000000</td>\n",
       "      <td>0.000000</td>\n",
       "      <td>1.000000</td>\n",
       "      <td>0.000000</td>\n",
       "      <td>1.000000</td>\n",
       "      <td>0.000000</td>\n",
       "      <td>1.000000</td>\n",
       "      <td>...</td>\n",
       "      <td>0.000000</td>\n",
       "      <td>0.000000</td>\n",
       "      <td>0.000000</td>\n",
       "      <td>0.000000</td>\n",
       "      <td>0.000000</td>\n",
       "      <td>0.000000</td>\n",
       "      <td>0.000000</td>\n",
       "      <td>0.000000</td>\n",
       "      <td>0.000000</td>\n",
       "      <td>0.000000</td>\n",
       "    </tr>\n",
       "    <tr>\n",
       "      <th>50%</th>\n",
       "      <td>64.900000</td>\n",
       "      <td>7.402586</td>\n",
       "      <td>1.000000</td>\n",
       "      <td>1.000000</td>\n",
       "      <td>0.000000</td>\n",
       "      <td>1.000000</td>\n",
       "      <td>1.000000</td>\n",
       "      <td>1.000000</td>\n",
       "      <td>0.000000</td>\n",
       "      <td>1.000000</td>\n",
       "      <td>...</td>\n",
       "      <td>0.000000</td>\n",
       "      <td>0.000000</td>\n",
       "      <td>0.000000</td>\n",
       "      <td>0.000000</td>\n",
       "      <td>0.000000</td>\n",
       "      <td>0.000000</td>\n",
       "      <td>0.000000</td>\n",
       "      <td>0.000000</td>\n",
       "      <td>0.000000</td>\n",
       "      <td>0.000000</td>\n",
       "    </tr>\n",
       "    <tr>\n",
       "      <th>75%</th>\n",
       "      <td>77.000000</td>\n",
       "      <td>8.162895</td>\n",
       "      <td>1.000000</td>\n",
       "      <td>1.000000</td>\n",
       "      <td>1.000000</td>\n",
       "      <td>1.000000</td>\n",
       "      <td>1.000000</td>\n",
       "      <td>1.000000</td>\n",
       "      <td>1.000000</td>\n",
       "      <td>1.000000</td>\n",
       "      <td>...</td>\n",
       "      <td>0.000000</td>\n",
       "      <td>0.000000</td>\n",
       "      <td>0.000000</td>\n",
       "      <td>0.000000</td>\n",
       "      <td>0.000000</td>\n",
       "      <td>0.000000</td>\n",
       "      <td>0.000000</td>\n",
       "      <td>0.000000</td>\n",
       "      <td>0.000000</td>\n",
       "      <td>1.000000</td>\n",
       "    </tr>\n",
       "    <tr>\n",
       "      <th>max</th>\n",
       "      <td>311.800000</td>\n",
       "      <td>12.248610</td>\n",
       "      <td>1.000000</td>\n",
       "      <td>1.000000</td>\n",
       "      <td>1.000000</td>\n",
       "      <td>1.000000</td>\n",
       "      <td>1.000000</td>\n",
       "      <td>1.000000</td>\n",
       "      <td>1.000000</td>\n",
       "      <td>1.000000</td>\n",
       "      <td>...</td>\n",
       "      <td>1.000000</td>\n",
       "      <td>1.000000</td>\n",
       "      <td>1.000000</td>\n",
       "      <td>1.000000</td>\n",
       "      <td>1.000000</td>\n",
       "      <td>1.000000</td>\n",
       "      <td>1.000000</td>\n",
       "      <td>1.000000</td>\n",
       "      <td>1.000000</td>\n",
       "      <td>1.000000</td>\n",
       "    </tr>\n",
       "  </tbody>\n",
       "</table>\n",
       "<p>8 rows × 42 columns</p>\n",
       "</div>"
      ],
      "text/plain": [
       "             age_yr  length_stay_hr_log      icu_stay  albumin_test  \\\n",
       "count  26325.000000        26325.000000  26325.000000  26325.000000   \n",
       "mean      72.923863            7.434686      0.982222      0.593542   \n",
       "std       52.805612            1.170586      0.132145      0.491181   \n",
       "min        0.000000            0.378512      0.000000      0.000000   \n",
       "25%       52.300000            6.686501      1.000000      0.000000   \n",
       "50%       64.900000            7.402586      1.000000      1.000000   \n",
       "75%       77.000000            8.162895      1.000000      1.000000   \n",
       "max      311.800000           12.248610      1.000000      1.000000   \n",
       "\n",
       "       albumin_flag  calcium_test  calcium_flag  magnesium_test  \\\n",
       "count  26325.000000  26325.000000  26325.000000    26325.000000   \n",
       "mean       0.396505      0.950237      0.696676        0.978689   \n",
       "std        0.489181      0.217458      0.459703        0.144420   \n",
       "min        0.000000      0.000000      0.000000        0.000000   \n",
       "25%        0.000000      1.000000      0.000000        1.000000   \n",
       "50%        0.000000      1.000000      1.000000        1.000000   \n",
       "75%        1.000000      1.000000      1.000000        1.000000   \n",
       "max        1.000000      1.000000      1.000000        1.000000   \n",
       "\n",
       "       magnesium_flag  platelets_test  ...  marital_status_WIDOWED  \\\n",
       "count    26325.000000    26325.000000  ...            26325.000000   \n",
       "mean         0.383134        0.989516  ...                0.137626   \n",
       "std          0.486160        0.101857  ...                0.344513   \n",
       "min          0.000000        0.000000  ...                0.000000   \n",
       "25%          0.000000        1.000000  ...                0.000000   \n",
       "50%          0.000000        1.000000  ...                0.000000   \n",
       "75%          1.000000        1.000000  ...                0.000000   \n",
       "max          1.000000        1.000000  ...                1.000000   \n",
       "\n",
       "       marital_status_SEPARATED  marital_status_UNKNOWN  \\\n",
       "count              26325.000000            26325.000000   \n",
       "mean                   0.011130                0.006040   \n",
       "std                    0.104913                0.077483   \n",
       "min                    0.000000                0.000000   \n",
       "25%                    0.000000                0.000000   \n",
       "50%                    0.000000                0.000000   \n",
       "75%                    0.000000                0.000000   \n",
       "max                    1.000000                1.000000   \n",
       "\n",
       "       marital_status_LIFE_PARTNER  ethnicity_UNKNOWN  ethnicity_OTHER  \\\n",
       "count                 26325.000000       26325.000000     26325.000000   \n",
       "mean                      0.000304           0.097588         0.030275   \n",
       "std                       0.017430           0.296762         0.171347   \n",
       "min                       0.000000           0.000000         0.000000   \n",
       "25%                       0.000000           0.000000         0.000000   \n",
       "50%                       0.000000           0.000000         0.000000   \n",
       "75%                       0.000000           0.000000         0.000000   \n",
       "max                       1.000000           1.000000         1.000000   \n",
       "\n",
       "       ethnicity_HISPANIC  ethnicity_BLACK  ethnicity_ASIAN      gender_F  \n",
       "count        26325.000000     26325.000000     26325.000000  26325.000000  \n",
       "mean             0.036809         0.096866         0.023248      0.432669  \n",
       "std              0.188296         0.295781         0.150693      0.495455  \n",
       "min              0.000000         0.000000         0.000000      0.000000  \n",
       "25%              0.000000         0.000000         0.000000      0.000000  \n",
       "50%              0.000000         0.000000         0.000000      0.000000  \n",
       "75%              0.000000         0.000000         0.000000      1.000000  \n",
       "max              1.000000         1.000000         1.000000      1.000000  \n",
       "\n",
       "[8 rows x 42 columns]"
      ]
     },
     "execution_count": 17,
     "metadata": {},
     "output_type": "execute_result"
    }
   ],
   "source": [
    "x_tr.describe()"
   ]
  },
  {
   "cell_type": "code",
   "execution_count": 18,
   "metadata": {},
   "outputs": [
    {
     "data": {
      "text/plain": [
       "(26325, 43)"
      ]
     },
     "execution_count": 18,
     "metadata": {},
     "output_type": "execute_result"
    }
   ],
   "source": [
    "df_tr.shape"
   ]
  },
  {
   "cell_type": "markdown",
   "metadata": {},
   "source": [
    "### Imbalance Data Set Method\n",
    "Use Negative Sub Sampling to correct the imbalance in the training data set."
   ]
  },
  {
   "cell_type": "code",
   "execution_count": 19,
   "metadata": {},
   "outputs": [],
   "source": [
    "x_tr_imb_sample, y_tr_imb_sample = sub_sample(df_tr)"
   ]
  },
  {
   "cell_type": "code",
   "execution_count": 20,
   "metadata": {},
   "outputs": [
    {
     "name": "stdout",
     "output_type": "stream",
     "text": [
      "Original dataset shape Counter({0: 24873, 1: 1452})\n",
      "Resampled dataset shape Counter({1: 1452, 0: 1452})\n"
     ]
    }
   ],
   "source": [
    "print('Original dataset shape %s' % Counter(y_tr))\n",
    "print('Resampled dataset shape %s' % Counter(y_tr_imb_sample))"
   ]
  },
  {
   "cell_type": "markdown",
   "metadata": {},
   "source": [
    "## Modeling - Default Settings"
   ]
  },
  {
   "cell_type": "markdown",
   "metadata": {},
   "source": [
    "### Naive Bayes"
   ]
  },
  {
   "cell_type": "markdown",
   "metadata": {},
   "source": [
    "#### Bernoulli"
   ]
  },
  {
   "cell_type": "code",
   "execution_count": 21,
   "metadata": {},
   "outputs": [
    {
     "name": "stdout",
     "output_type": "stream",
     "text": [
      "         Score  Train Validation\n",
      "0          AUC  0.654      0.669\n",
      "1     Accuracy  0.608      0.553\n",
      "2    Precision  0.599      0.088\n",
      "3       Recall  0.658      0.713\n",
      "4           F1  0.314      0.078\n",
      "5  Specificity  0.559      0.543\n",
      "6   Prevalence  0.500      0.058\n"
     ]
    },
    {
     "data": {
      "image/png": "[encoded data removed]",
      "text/plain": [
       "<Figure size 432x288 with 1 Axes>"
      ]
     },
     "metadata": {
      "needs_background": "light"
     },
     "output_type": "display_data"
    }
   ],
   "source": [
    "# Define X/Y Values\n",
    "x_tr = x_tr_imb_sample\n",
    "x_v = x_v\n",
    "y_tr = y_tr_imb_sample\n",
    "y_v = y_v\n",
    "\n",
    "clf = BernoulliNB()\n",
    "#clf = MultinomialNB()\n",
    "#clf = ComplementNB()\n",
    "#clf = GaussianNB()\n",
    "\n",
    "train_model_default(clf, x_tr, x_v, y_tr, y_v)"
   ]
  },
  {
   "cell_type": "markdown",
   "metadata": {},
   "source": [
    "#### Multinomial"
   ]
  },
  {
   "cell_type": "code",
   "execution_count": 22,
   "metadata": {},
   "outputs": [
    {
     "name": "stdout",
     "output_type": "stream",
     "text": [
      "         Score  Train Validation\n",
      "0          AUC  0.658      0.665\n",
      "1     Accuracy  0.618      0.579\n",
      "2    Precision  0.614      0.086\n",
      "3       Recall  0.634      0.650\n",
      "4           F1  0.312      0.076\n",
      "5  Specificity  0.602      0.574\n",
      "6   Prevalence  0.500      0.058\n"
     ]
    },
    {
     "data": {
      "image/png": "[encoded data removed]",
      "text/plain": [
       "<Figure size 432x288 with 1 Axes>"
      ]
     },
     "metadata": {
      "needs_background": "light"
     },
     "output_type": "display_data"
    }
   ],
   "source": [
    "# Define X/Y Values\n",
    "x_tr = x_tr_imb_sample\n",
    "x_v = x_v\n",
    "y_tr = y_tr_imb_sample\n",
    "y_v = y_v\n",
    "\n",
    "#clf = BernoulliNB()\n",
    "clf = MultinomialNB()\n",
    "#clf = ComplementNB()\n",
    "#clf = GaussianNB()\n",
    "\n",
    "train_model_default(clf, x_tr, x_v, y_tr, y_v)"
   ]
  },
  {
   "cell_type": "markdown",
   "metadata": {},
   "source": [
    "#### Complement"
   ]
  },
  {
   "cell_type": "code",
   "execution_count": 23,
   "metadata": {},
   "outputs": [
    {
     "name": "stdout",
     "output_type": "stream",
     "text": [
      "         Score  Train Validation\n",
      "0          AUC  0.658      0.665\n",
      "1     Accuracy  0.618      0.579\n",
      "2    Precision  0.614      0.086\n",
      "3       Recall  0.634      0.650\n",
      "4           F1  0.312      0.076\n",
      "5  Specificity  0.602      0.574\n",
      "6   Prevalence  0.500      0.058\n"
     ]
    },
    {
     "data": {
      "image/png": "[encoded data removed]",
      "text/plain": [
       "<Figure size 432x288 with 1 Axes>"
      ]
     },
     "metadata": {
      "needs_background": "light"
     },
     "output_type": "display_data"
    }
   ],
   "source": [
    "# Define X/Y Values\n",
    "x_tr = x_tr_imb_sample\n",
    "x_v = x_v\n",
    "y_tr = y_tr_imb_sample\n",
    "y_v = y_v\n",
    "\n",
    "#clf = BernoulliNB()\n",
    "#clf = MultinomialNB()\n",
    "clf = ComplementNB()\n",
    "#clf = GaussianNB()\n",
    "\n",
    "train_model_default(clf, x_tr, x_v, y_tr, y_v)"
   ]
  },
  {
   "cell_type": "markdown",
   "metadata": {},
   "source": [
    "#### Gaussian"
   ]
  },
  {
   "cell_type": "code",
   "execution_count": 24,
   "metadata": {},
   "outputs": [
    {
     "name": "stdout",
     "output_type": "stream",
     "text": [
      "         Score  Train Validation\n",
      "0          AUC  0.651      0.662\n",
      "1     Accuracy  0.569      0.284\n",
      "2    Precision  0.543      0.070\n",
      "3       Recall  0.882      0.917\n",
      "4           F1  0.336      0.065\n",
      "5  Specificity  0.256      0.245\n",
      "6   Prevalence  0.500      0.058\n"
     ]
    },
    {
     "data": {
      "image/png": "[encoded data removed]",
      "text/plain": [
       "<Figure size 432x288 with 1 Axes>"
      ]
     },
     "metadata": {
      "needs_background": "light"
     },
     "output_type": "display_data"
    }
   ],
   "source": [
    "# Define X/Y Values\n",
    "x_tr = x_tr_imb_sample\n",
    "x_v = x_v\n",
    "y_tr = y_tr_imb_sample\n",
    "y_v = y_v\n",
    "\n",
    "#clf = MultinomialNB()\n",
    "#clf = ComplementNB()\n",
    "clf = GaussianNB()\n",
    "train_model_default(clf, x_tr, x_v, y_tr, y_v)"
   ]
  },
  {
   "cell_type": "markdown",
   "metadata": {},
   "source": [
    "### Logistic Regression"
   ]
  },
  {
   "cell_type": "code",
   "execution_count": 25,
   "metadata": {},
   "outputs": [
    {
     "name": "stdout",
     "output_type": "stream",
     "text": [
      "         Score  Train Validation\n",
      "0          AUC  0.669      0.665\n",
      "1     Accuracy  0.626      0.588\n",
      "2    Precision  0.624      0.087\n",
      "3       Recall  0.636      0.640\n",
      "4           F1  0.315      0.076\n",
      "5  Specificity  0.616      0.585\n",
      "6   Prevalence  0.500      0.058\n"
     ]
    },
    {
     "data": {
      "image/png": "[encoded data removed]",
      "text/plain": [
       "<Figure size 432x288 with 1 Axes>"
      ]
     },
     "metadata": {
      "needs_background": "light"
     },
     "output_type": "display_data"
    }
   ],
   "source": [
    "# Define Classifier - Default Settings\n",
    "clf = LogisticRegression(random_state = random_state, solver = solver_log, max_iter = max_iter_log)\n",
    "\n",
    "# Define X/Y Values\n",
    "x_tr = x_tr_imb_sample\n",
    "x_v = x_v\n",
    "y_tr = y_tr_imb_sample\n",
    "y_v = y_v\n",
    "\n",
    "train_model_default(clf, x_tr, x_v, y_tr, y_v)"
   ]
  },
  {
   "cell_type": "markdown",
   "metadata": {},
   "source": [
    "###  Random Forest"
   ]
  },
  {
   "cell_type": "code",
   "execution_count": 26,
   "metadata": {},
   "outputs": [
    {
     "name": "stdout",
     "output_type": "stream",
     "text": [
      "         Score  Train Validation\n",
      "0          AUC  1.000      0.655\n",
      "1     Accuracy  1.000      0.564\n",
      "2    Precision  1.000      0.087\n",
      "3       Recall  1.000      0.642\n",
      "4           F1  0.500      0.077\n",
      "5  Specificity  1.000      0.560\n",
      "6   Prevalence  0.500      0.058\n"
     ]
    },
    {
     "data": {
      "image/png": "[encoded data removed]",
      "text/plain": [
       "<Figure size 432x288 with 1 Axes>"
      ]
     },
     "metadata": {
      "needs_background": "light"
     },
     "output_type": "display_data"
    }
   ],
   "source": [
    "# Define Classifier - Default Settings\n",
    "clf = RandomForestClassifier(random_state = random_state, n_estimators = 100)\n",
    "\n",
    "# Define X/Y Values\n",
    "x_tr = x_tr_imb_sample\n",
    "x_v = x_v\n",
    "y_tr = y_tr_imb_sample\n",
    "y_v = y_v\n",
    "\n",
    "train_model_default(clf, x_tr, x_v, y_tr, y_v)"
   ]
  },
  {
   "cell_type": "markdown",
   "metadata": {},
   "source": [
    "### Gradient Boost Classifier"
   ]
  },
  {
   "cell_type": "code",
   "execution_count": 27,
   "metadata": {},
   "outputs": [
    {
     "name": "stdout",
     "output_type": "stream",
     "text": [
      "         Score  Train Validation\n",
      "0          AUC  0.774      0.669\n",
      "1     Accuracy  0.691      0.583\n",
      "2    Precision  0.681      0.090\n",
      "3       Recall  0.720      0.676\n",
      "4           F1  0.350      0.079\n",
      "5  Specificity  0.663      0.577\n",
      "6   Prevalence  0.500      0.058\n"
     ]
    },
    {
     "data": {
      "image/png": "[encoded data removed]",
      "text/plain": [
       "<Figure size 432x288 with 1 Axes>"
      ]
     },
     "metadata": {
      "needs_background": "light"
     },
     "output_type": "display_data"
    }
   ],
   "source": [
    "# Define Classifier - Default Settings\n",
    "clf = GradientBoostingClassifier(random_state = random_state)\n",
    "\n",
    "# Define X/Y Values\n",
    "x_tr = x_tr_imb_sample\n",
    "x_v = x_v\n",
    "y_tr = y_tr_imb_sample\n",
    "y_v = y_v\n",
    "\n",
    "train_model_default(clf, x_tr, x_v, y_tr, y_v)"
   ]
  },
  {
   "cell_type": "markdown",
   "metadata": {},
   "source": [
    "### Ada Boost Classifier"
   ]
  },
  {
   "cell_type": "code",
   "execution_count": 28,
   "metadata": {},
   "outputs": [
    {
     "name": "stdout",
     "output_type": "stream",
     "text": [
      "         Score  Train Validation\n",
      "0          AUC  0.693      0.662\n",
      "1     Accuracy  0.640      0.606\n",
      "2    Precision  0.642      0.089\n",
      "3       Recall  0.632      0.631\n",
      "4           F1  0.318      0.078\n",
      "5  Specificity  0.648      0.604\n",
      "6   Prevalence  0.500      0.058\n"
     ]
    },
    {
     "data": {
      "image/png": "[encoded data removed]",
      "text/plain": [
       "<Figure size 432x288 with 1 Axes>"
      ]
     },
     "metadata": {
      "needs_background": "light"
     },
     "output_type": "display_data"
    }
   ],
   "source": [
    "# Define Classifier - Default Settings\n",
    "clf = AdaBoostClassifier(random_state = random_state)\n",
    "\n",
    "# Define X/Y Values\n",
    "x_tr = x_tr_imb_sample\n",
    "x_v = x_v\n",
    "y_tr = y_tr_imb_sample\n",
    "y_v = y_v\n",
    "\n",
    "train_model_default(clf, x_tr, x_v, y_tr, y_v)"
   ]
  },
  {
   "cell_type": "markdown",
   "metadata": {},
   "source": [
    "### XGBoost"
   ]
  },
  {
   "cell_type": "code",
   "execution_count": 29,
   "metadata": {},
   "outputs": [
    {
     "name": "stdout",
     "output_type": "stream",
     "text": [
      "         Score  Train Validation\n",
      "0          AUC  0.760      0.670\n",
      "1     Accuracy  0.685      0.582\n",
      "2    Precision  0.674      0.089\n",
      "3       Recall  0.713      0.668\n",
      "4           F1  0.347      0.078\n",
      "5  Specificity  0.656      0.577\n",
      "6   Prevalence  0.500      0.058\n"
     ]
    },
    {
     "data": {
      "image/png": "[encoded data removed]",
      "text/plain": [
       "<Figure size 432x288 with 1 Axes>"
      ]
     },
     "metadata": {
      "needs_background": "light"
     },
     "output_type": "display_data"
    }
   ],
   "source": [
    "# Define Classifier - Default Settings\n",
    "clf = XGBClassifier(random_state = random_state)\n",
    "\n",
    "# Define X/Y Values\n",
    "x_tr = x_tr_imb_sample\n",
    "x_v = x_v\n",
    "y_tr = y_tr_imb_sample\n",
    "y_v = y_v\n",
    "\n",
    "train_model_default(clf, x_tr, x_v, y_tr, y_v)"
   ]
  },
  {
   "cell_type": "code",
   "execution_count": 30,
   "metadata": {},
   "outputs": [
    {
     "data": {
      "text/plain": [
       "(8775, 42)"
      ]
     },
     "execution_count": 30,
     "metadata": {},
     "output_type": "execute_result"
    }
   ],
   "source": [
    "x_v.shape"
   ]
  },
  {
   "cell_type": "code",
   "execution_count": 31,
   "metadata": {},
   "outputs": [
    {
     "data": {
      "text/plain": [
       "(49818, 42)"
      ]
     },
     "execution_count": 31,
     "metadata": {},
     "output_type": "execute_result"
    }
   ],
   "source": [
    "x_tr.shape"
   ]
  },
  {
   "cell_type": "code",
   "execution_count": 32,
   "metadata": {},
   "outputs": [
    {
     "data": {
      "text/plain": [
       "(49818,)"
      ]
     },
     "execution_count": 32,
     "metadata": {},
     "output_type": "execute_result"
    }
   ],
   "source": [
    "y_tr.shape"
   ]
  },
  {
   "cell_type": "code",
   "execution_count": 33,
   "metadata": {},
   "outputs": [
    {
     "data": {
      "text/plain": [
       "(8775,)"
      ]
     },
     "execution_count": 33,
     "metadata": {},
     "output_type": "execute_result"
    }
   ],
   "source": [
    "y_v.shape"
   ]
  },
  {
   "cell_type": "markdown",
   "metadata": {},
   "source": [
    "## Parameter Optimization"
   ]
  },
  {
   "cell_type": "markdown",
   "metadata": {},
   "source": [
    "After analyzing a suite of classifiers using default setting, the following four classifiers returned quality results, so we will move forward with these models.\n",
    "\n",
    "* Naive Bayes\n",
    "* KNNeighbors\n",
    "* XGBoost Classifier"
   ]
  },
  {
   "cell_type": "markdown",
   "metadata": {},
   "source": [
    "#### Define X Y "
   ]
  },
  {
   "cell_type": "code",
   "execution_count": 30,
   "metadata": {},
   "outputs": [],
   "source": [
    "# Define X/Y Values\n",
    "x_tr = x_tr_imb_sample\n",
    "x_v = x_v\n",
    "y_tr = y_tr_imb_sample\n",
    "y_v = y_v"
   ]
  },
  {
   "cell_type": "markdown",
   "metadata": {},
   "source": [
    "### Naive Bayes"
   ]
  },
  {
   "cell_type": "markdown",
   "metadata": {},
   "source": [
    "Naive Bayes cannot use the dimensionally reduced matrices due to negative values."
   ]
  },
  {
   "cell_type": "markdown",
   "metadata": {},
   "source": [
    "#### Bernoulli"
   ]
  },
  {
   "cell_type": "code",
   "execution_count": 31,
   "metadata": {},
   "outputs": [
    {
     "name": "stdout",
     "output_type": "stream",
     "text": [
      "Fitting 5 folds for each of 11 candidates, totalling 55 fits\n"
     ]
    },
    {
     "name": "stderr",
     "output_type": "stream",
     "text": [
      "[Parallel(n_jobs=-1)]: Using backend LokyBackend with 8 concurrent workers.\n",
      "[Parallel(n_jobs=-1)]: Done  34 tasks      | elapsed:    3.0s\n",
      "[Parallel(n_jobs=-1)]: Done  40 out of  55 | elapsed:    3.0s remaining:    1.1s\n",
      "[Parallel(n_jobs=-1)]: Done  55 out of  55 | elapsed:    3.1s finished\n"
     ]
    },
    {
     "name": "stdout",
     "output_type": "stream",
     "text": [
      "Best parameters set found on training set:\n",
      "\n",
      "{'alpha': 1.0}\n",
      "\n",
      "0.603 (+/-0.019) for {'alpha': 1e-05}\n",
      "0.603 (+/-0.019) for {'alpha': 0.0001}\n",
      "0.603 (+/-0.019) for {'alpha': 0.001}\n",
      "0.603 (+/-0.019) for {'alpha': 0.01}\n",
      "0.603 (+/-0.019) for {'alpha': 0.1}\n",
      "0.603 (+/-0.019) for {'alpha': 1.0}\n",
      "0.600 (+/-0.019) for {'alpha': 10.0}\n",
      "0.586 (+/-0.027) for {'alpha': 100.0}\n",
      "0.556 (+/-0.050) for {'alpha': 1000.0}\n",
      "0.543 (+/-0.036) for {'alpha': 10000.0}\n",
      "0.540 (+/-0.036) for {'alpha': 100000.0}\n",
      "\n",
      "         Score  Train Validation\n",
      "0          AUC  0.654      0.669\n",
      "1     Accuracy  0.608      0.553\n",
      "2    Precision  0.599      0.088\n",
      "3       Recall  0.658      0.713\n",
      "4           F1  0.314      0.078\n",
      "5  Specificity  0.559      0.543\n",
      "6   Prevalence  0.500      0.058\n"
     ]
    },
    {
     "data": {
      "image/png": "[encoded data removed]",
      "text/plain": [
       "<Figure size 432x288 with 1 Axes>"
      ]
     },
     "metadata": {
      "needs_background": "light"
     },
     "output_type": "display_data"
    }
   ],
   "source": [
    "#Define Parameters\n",
    "alpha = np.logspace(-5, 5, 11)\n",
    "\n",
    "# Create hyperparameter options\n",
    "hyperparameters = dict(alpha = alpha)\n",
    "\n",
    "# Establish Classifier\n",
    "clf = BernoulliNB()\n",
    "\n",
    "clf = grid_search_opt(x_tr, x_v, y_tr, y_v, clf, hyperparameters)\n",
    "\n",
    "opt_model_scoring(clf, x_tr, x_v, y_tr, y_v)\n",
    "\n",
    "# Define for Test Analysis\n",
    "clf_nb_ber_opt = clf"
   ]
  },
  {
   "cell_type": "markdown",
   "metadata": {},
   "source": [
    "#### Gaussian"
   ]
  },
  {
   "cell_type": "code",
   "execution_count": 32,
   "metadata": {},
   "outputs": [
    {
     "name": "stdout",
     "output_type": "stream",
     "text": [
      "Fitting 5 folds for each of 7 candidates, totalling 35 fits\n"
     ]
    },
    {
     "name": "stderr",
     "output_type": "stream",
     "text": [
      "[Parallel(n_jobs=-1)]: Using backend LokyBackend with 8 concurrent workers.\n",
      "[Parallel(n_jobs=-1)]: Done  35 out of  35 | elapsed:    0.1s finished\n"
     ]
    },
    {
     "name": "stdout",
     "output_type": "stream",
     "text": [
      "Best parameters set found on training set:\n",
      "\n",
      "{'var_smoothing': 1e-05}\n",
      "\n",
      "0.521 (+/-0.054) for {'var_smoothing': 1e-09}\n",
      "0.541 (+/-0.028) for {'var_smoothing': 1e-08}\n",
      "0.562 (+/-0.021) for {'var_smoothing': 1e-07}\n",
      "0.582 (+/-0.015) for {'var_smoothing': 1e-06}\n",
      "0.599 (+/-0.012) for {'var_smoothing': 1e-05}\n",
      "0.576 (+/-0.044) for {'var_smoothing': 0.0001}\n",
      "0.561 (+/-0.043) for {'var_smoothing': 0.001}\n",
      "\n",
      "         Score  Train Validation\n",
      "0          AUC  0.659      0.669\n",
      "1     Accuracy  0.617      0.468\n",
      "2    Precision  0.591      0.080\n",
      "3       Recall  0.758      0.778\n",
      "4           F1  0.332      0.073\n",
      "5  Specificity  0.475      0.449\n",
      "6   Prevalence  0.500      0.058\n"
     ]
    },
    {
     "data": {
      "image/png": "[encoded data removed]",
      "text/plain": [
       "<Figure size 432x288 with 1 Axes>"
      ]
     },
     "metadata": {
      "needs_background": "light"
     },
     "output_type": "display_data"
    }
   ],
   "source": [
    "#Define Parameters\n",
    "var_smoothing = np.logspace(-9, -3, 7)\n",
    "\n",
    "#priors = np.linspace(.01, .99, 10).astype('float')\n",
    "\n",
    "# Create hyperparameter options\n",
    "hyperparameters = dict(var_smoothing = var_smoothing)\n",
    "\n",
    "# Establish Classifier\n",
    "clf = GaussianNB()\n",
    "\n",
    "clf = grid_search_opt(x_tr, x_v, y_tr, y_v, clf, hyperparameters)\n",
    "\n",
    "opt_model_scoring(clf, x_tr, x_v, y_tr, y_v)\n",
    "\n",
    "# Define for Test Analysis\n",
    "clf_nb_gaus_opt = clf"
   ]
  },
  {
   "cell_type": "markdown",
   "metadata": {},
   "source": [
    "#### Complement"
   ]
  },
  {
   "cell_type": "code",
   "execution_count": 33,
   "metadata": {},
   "outputs": [
    {
     "name": "stdout",
     "output_type": "stream",
     "text": [
      "Fitting 5 folds for each of 40 candidates, totalling 200 fits\n"
     ]
    },
    {
     "name": "stderr",
     "output_type": "stream",
     "text": [
      "[Parallel(n_jobs=-1)]: Using backend LokyBackend with 8 concurrent workers.\n",
      "[Parallel(n_jobs=-1)]: Done 200 out of 200 | elapsed:    0.3s finished\n"
     ]
    },
    {
     "name": "stdout",
     "output_type": "stream",
     "text": [
      "Best parameters set found on training set:\n",
      "\n",
      "{'alpha': 78.47599703514611, 'norm': 'True'}\n",
      "\n",
      "0.464 (+/-0.098) for {'alpha': 1.0, 'norm': 'True'}\n",
      "0.464 (+/-0.098) for {'alpha': 1.0, 'norm': 'False'}\n",
      "0.471 (+/-0.098) for {'alpha': 1.6237767391887217, 'norm': 'True'}\n",
      "0.471 (+/-0.098) for {'alpha': 1.6237767391887217, 'norm': 'False'}\n",
      "0.482 (+/-0.081) for {'alpha': 2.636650898730358, 'norm': 'True'}\n",
      "0.482 (+/-0.081) for {'alpha': 2.636650898730358, 'norm': 'False'}\n",
      "0.491 (+/-0.080) for {'alpha': 4.281332398719393, 'norm': 'True'}\n",
      "0.491 (+/-0.080) for {'alpha': 4.281332398719393, 'norm': 'False'}\n",
      "0.500 (+/-0.071) for {'alpha': 6.951927961775605, 'norm': 'True'}\n",
      "0.500 (+/-0.071) for {'alpha': 6.951927961775605, 'norm': 'False'}\n",
      "0.514 (+/-0.057) for {'alpha': 11.28837891684689, 'norm': 'True'}\n",
      "0.514 (+/-0.057) for {'alpha': 11.28837891684689, 'norm': 'False'}\n",
      "0.522 (+/-0.050) for {'alpha': 18.329807108324356, 'norm': 'True'}\n",
      "0.522 (+/-0.050) for {'alpha': 18.329807108324356, 'norm': 'False'}\n",
      "0.536 (+/-0.050) for {'alpha': 29.76351441631318, 'norm': 'True'}\n",
      "0.536 (+/-0.050) for {'alpha': 29.76351441631318, 'norm': 'False'}\n",
      "0.548 (+/-0.047) for {'alpha': 48.32930238571752, 'norm': 'True'}\n",
      "0.548 (+/-0.047) for {'alpha': 48.32930238571752, 'norm': 'False'}\n",
      "0.549 (+/-0.047) for {'alpha': 78.47599703514611, 'norm': 'True'}\n",
      "0.549 (+/-0.047) for {'alpha': 78.47599703514611, 'norm': 'False'}\n",
      "0.544 (+/-0.051) for {'alpha': 127.42749857031335, 'norm': 'True'}\n",
      "0.544 (+/-0.051) for {'alpha': 127.42749857031335, 'norm': 'False'}\n",
      "0.530 (+/-0.061) for {'alpha': 206.913808111479, 'norm': 'True'}\n",
      "0.530 (+/-0.061) for {'alpha': 206.913808111479, 'norm': 'False'}\n",
      "0.500 (+/-0.065) for {'alpha': 335.9818286283781, 'norm': 'True'}\n",
      "0.500 (+/-0.065) for {'alpha': 335.9818286283781, 'norm': 'False'}\n",
      "0.439 (+/-0.078) for {'alpha': 545.5594781168514, 'norm': 'True'}\n",
      "0.439 (+/-0.078) for {'alpha': 545.5594781168514, 'norm': 'False'}\n",
      "0.371 (+/-0.060) for {'alpha': 885.8667904100823, 'norm': 'True'}\n",
      "0.371 (+/-0.060) for {'alpha': 885.8667904100823, 'norm': 'False'}\n",
      "0.344 (+/-0.028) for {'alpha': 1438.449888287663, 'norm': 'True'}\n",
      "0.344 (+/-0.028) for {'alpha': 1438.449888287663, 'norm': 'False'}\n",
      "0.339 (+/-0.016) for {'alpha': 2335.7214690901214, 'norm': 'True'}\n",
      "0.339 (+/-0.016) for {'alpha': 2335.7214690901214, 'norm': 'False'}\n",
      "0.335 (+/-0.005) for {'alpha': 3792.690190732246, 'norm': 'True'}\n",
      "0.335 (+/-0.005) for {'alpha': 3792.690190732246, 'norm': 'False'}\n",
      "0.333 (+/-0.001) for {'alpha': 6158.48211066026, 'norm': 'True'}\n",
      "0.333 (+/-0.001) for {'alpha': 6158.48211066026, 'norm': 'False'}\n",
      "0.333 (+/-0.001) for {'alpha': 10000.0, 'norm': 'True'}\n",
      "0.333 (+/-0.001) for {'alpha': 10000.0, 'norm': 'False'}\n",
      "\n",
      "         Score  Train Validation\n",
      "0          AUC  0.652      0.662\n",
      "1     Accuracy  0.601      0.375\n",
      "2    Precision  0.569      0.074\n",
      "3       Recall  0.833      0.851\n",
      "4           F1  0.338      0.068\n",
      "5  Specificity  0.368      0.345\n",
      "6   Prevalence  0.500      0.058\n"
     ]
    },
    {
     "data": {
      "image/png": "[encoded data removed]",
      "text/plain": [
       "<Figure size 432x288 with 1 Axes>"
      ]
     },
     "metadata": {
      "needs_background": "light"
     },
     "output_type": "display_data"
    }
   ],
   "source": [
    "#Define Parameters\n",
    "alpha = np.logspace(0, 4, 20)\n",
    "\n",
    "norm = ['True', 'False']\n",
    "\n",
    "# Create hyperparameter options\n",
    "hyperparameters = dict(alpha = alpha, norm = norm)\n",
    "\n",
    "# Establish Classifier\n",
    "clf = ComplementNB()\n",
    "\n",
    "clf = grid_search_opt(x_tr, x_v, y_tr, y_v, clf, hyperparameters)\n",
    "\n",
    "opt_model_scoring(clf, x_tr, x_v, y_tr, y_v)\n",
    "\n",
    "# Define for Test Analysis\n",
    "clf_nb_comp_opt = clf"
   ]
  },
  {
   "cell_type": "markdown",
   "metadata": {},
   "source": [
    "#### MultiNomial"
   ]
  },
  {
   "cell_type": "code",
   "execution_count": 35,
   "metadata": {},
   "outputs": [
    {
     "name": "stdout",
     "output_type": "stream",
     "text": [
      "Fitting 5 folds for each of 13 candidates, totalling 65 fits\n"
     ]
    },
    {
     "name": "stderr",
     "output_type": "stream",
     "text": [
      "[Parallel(n_jobs=-1)]: Using backend LokyBackend with 8 concurrent workers.\n",
      "[Parallel(n_jobs=-1)]: Done  65 out of  65 | elapsed:    0.1s finished\n"
     ]
    },
    {
     "name": "stdout",
     "output_type": "stream",
     "text": [
      "Best parameters set found on training set:\n",
      "\n",
      "{'alpha': 1e-08}\n",
      "\n",
      "0.606 (+/-0.025) for {'alpha': 1e-08}\n",
      "0.606 (+/-0.025) for {'alpha': 1e-07}\n",
      "0.606 (+/-0.025) for {'alpha': 1e-06}\n",
      "0.606 (+/-0.025) for {'alpha': 1e-05}\n",
      "0.606 (+/-0.025) for {'alpha': 0.0001}\n",
      "0.606 (+/-0.025) for {'alpha': 0.001}\n",
      "0.606 (+/-0.025) for {'alpha': 0.01}\n",
      "0.606 (+/-0.025) for {'alpha': 0.1}\n",
      "0.606 (+/-0.023) for {'alpha': 1.0}\n",
      "0.604 (+/-0.022) for {'alpha': 10.0}\n",
      "0.595 (+/-0.037) for {'alpha': 100.0}\n",
      "0.439 (+/-0.082) for {'alpha': 1000.0}\n",
      "0.334 (+/-0.003) for {'alpha': 10000.0}\n",
      "\n",
      "         Score  Train Validation\n",
      "0          AUC  0.659      0.666\n",
      "1     Accuracy  0.617      0.580\n",
      "2    Precision  0.614      0.086\n",
      "3       Recall  0.633      0.652\n",
      "4           F1  0.312      0.076\n",
      "5  Specificity  0.602      0.575\n",
      "6   Prevalence  0.500      0.058\n"
     ]
    },
    {
     "data": {
      "image/png": "[encoded data removed]",
      "text/plain": [
       "<Figure size 432x288 with 1 Axes>"
      ]
     },
     "metadata": {
      "needs_background": "light"
     },
     "output_type": "display_data"
    }
   ],
   "source": [
    "#Define Parameters\n",
    "alpha = np.logspace(-8, 4, 13)\n",
    "\n",
    "# Create hyperparameter options\n",
    "hyperparameters = dict(alpha = alpha)\n",
    "\n",
    "# Establish Classifier\n",
    "clf = ComplementNB()\n",
    "\n",
    "clf = grid_search_opt(x_tr, x_v, y_tr, y_v, clf, hyperparameters)\n",
    "\n",
    "opt_model_scoring(clf, x_tr, x_v, y_tr, y_v)\n",
    "\n",
    "# Define for Test Analysis\n",
    "clf_nb_mn_opt = clf"
   ]
  },
  {
   "cell_type": "markdown",
   "metadata": {},
   "source": [
    "### KNNeighbors"
   ]
  },
  {
   "cell_type": "markdown",
   "metadata": {},
   "source": [
    "#### Define Function Inputs"
   ]
  },
  {
   "cell_type": "code",
   "execution_count": 36,
   "metadata": {},
   "outputs": [],
   "source": [
    "# Establish Classifier\n",
    "clf = KNeighborsClassifier()\n",
    "\n",
    "#Define Parameters\n",
    "n_neighbors  = np.linspace(2,12,6).astype('int') \n",
    "weights = ('uniform', 'distance')\n",
    "metric = ('euclidean', 'manhattan')\n",
    "\n",
    "# Create hyperparameter options\n",
    "hyperparameters = dict(n_neighbors = n_neighbors, weights = weights, metric = metric)"
   ]
  },
  {
   "cell_type": "code",
   "execution_count": 37,
   "metadata": {},
   "outputs": [
    {
     "name": "stdout",
     "output_type": "stream",
     "text": [
      "Fitting 5 folds for each of 24 candidates, totalling 120 fits\n"
     ]
    },
    {
     "name": "stderr",
     "output_type": "stream",
     "text": [
      "[Parallel(n_jobs=-1)]: Using backend LokyBackend with 8 concurrent workers.\n",
      "[Parallel(n_jobs=-1)]: Done  56 tasks      | elapsed:    0.6s\n",
      "[Parallel(n_jobs=-1)]: Done 120 out of 120 | elapsed:    1.2s finished\n"
     ]
    },
    {
     "name": "stdout",
     "output_type": "stream",
     "text": [
      "Best parameters set found on training set:\n",
      "\n",
      "{'metric': 'manhattan', 'n_neighbors': 10, 'weights': 'distance'}\n",
      "\n",
      "0.525 (+/-0.022) for {'metric': 'euclidean', 'n_neighbors': 2, 'weights': 'uniform'}\n",
      "0.539 (+/-0.039) for {'metric': 'euclidean', 'n_neighbors': 2, 'weights': 'distance'}\n",
      "0.549 (+/-0.026) for {'metric': 'euclidean', 'n_neighbors': 4, 'weights': 'uniform'}\n",
      "0.550 (+/-0.026) for {'metric': 'euclidean', 'n_neighbors': 4, 'weights': 'distance'}\n",
      "0.553 (+/-0.033) for {'metric': 'euclidean', 'n_neighbors': 6, 'weights': 'uniform'}\n",
      "0.563 (+/-0.031) for {'metric': 'euclidean', 'n_neighbors': 6, 'weights': 'distance'}\n",
      "0.557 (+/-0.016) for {'metric': 'euclidean', 'n_neighbors': 8, 'weights': 'uniform'}\n",
      "0.559 (+/-0.040) for {'metric': 'euclidean', 'n_neighbors': 8, 'weights': 'distance'}\n",
      "0.558 (+/-0.018) for {'metric': 'euclidean', 'n_neighbors': 10, 'weights': 'uniform'}\n",
      "0.560 (+/-0.025) for {'metric': 'euclidean', 'n_neighbors': 10, 'weights': 'distance'}\n",
      "0.554 (+/-0.010) for {'metric': 'euclidean', 'n_neighbors': 12, 'weights': 'uniform'}\n",
      "0.566 (+/-0.037) for {'metric': 'euclidean', 'n_neighbors': 12, 'weights': 'distance'}\n",
      "0.524 (+/-0.036) for {'metric': 'manhattan', 'n_neighbors': 2, 'weights': 'uniform'}\n",
      "0.543 (+/-0.056) for {'metric': 'manhattan', 'n_neighbors': 2, 'weights': 'distance'}\n",
      "0.550 (+/-0.031) for {'metric': 'manhattan', 'n_neighbors': 4, 'weights': 'uniform'}\n",
      "0.560 (+/-0.024) for {'metric': 'manhattan', 'n_neighbors': 4, 'weights': 'distance'}\n",
      "0.550 (+/-0.023) for {'metric': 'manhattan', 'n_neighbors': 6, 'weights': 'uniform'}\n",
      "0.562 (+/-0.040) for {'metric': 'manhattan', 'n_neighbors': 6, 'weights': 'distance'}\n",
      "0.569 (+/-0.024) for {'metric': 'manhattan', 'n_neighbors': 8, 'weights': 'uniform'}\n",
      "0.570 (+/-0.023) for {'metric': 'manhattan', 'n_neighbors': 8, 'weights': 'distance'}\n",
      "0.576 (+/-0.023) for {'metric': 'manhattan', 'n_neighbors': 10, 'weights': 'uniform'}\n",
      "0.582 (+/-0.030) for {'metric': 'manhattan', 'n_neighbors': 10, 'weights': 'distance'}\n",
      "0.572 (+/-0.018) for {'metric': 'manhattan', 'n_neighbors': 12, 'weights': 'uniform'}\n",
      "0.575 (+/-0.017) for {'metric': 'manhattan', 'n_neighbors': 12, 'weights': 'distance'}\n",
      "\n",
      "         Score  Train Validation\n",
      "0          AUC  1.000      0.625\n",
      "1     Accuracy  1.000      0.517\n",
      "2    Precision  1.000      0.078\n",
      "3       Recall  1.000      0.674\n",
      "4           F1  0.500      0.070\n",
      "5  Specificity  1.000      0.507\n",
      "6   Prevalence  0.500      0.058\n"
     ]
    },
    {
     "data": {
      "image/png": "[encoded data removed]",
      "text/plain": [
       "<Figure size 432x288 with 1 Axes>"
      ]
     },
     "metadata": {
      "needs_background": "light"
     },
     "output_type": "display_data"
    }
   ],
   "source": [
    "clf = grid_search_opt(x_tr, x_v, y_tr, y_v, clf, hyperparameters)\n",
    "\n",
    "opt_model_scoring(clf, x_tr, x_v, y_tr, y_v)\n",
    "\n",
    "# Define for Test Analysis\n",
    "clf_knn_opt = clf"
   ]
  },
  {
   "cell_type": "markdown",
   "metadata": {},
   "source": [
    "### Logistic Regression"
   ]
  },
  {
   "cell_type": "markdown",
   "metadata": {},
   "source": [
    "#### Define Function Inputs"
   ]
  },
  {
   "cell_type": "code",
   "execution_count": 38,
   "metadata": {},
   "outputs": [
    {
     "name": "stdout",
     "output_type": "stream",
     "text": [
      "Fitting 5 folds for each of 14 candidates, totalling 70 fits\n"
     ]
    },
    {
     "name": "stderr",
     "output_type": "stream",
     "text": [
      "[Parallel(n_jobs=-1)]: Using backend LokyBackend with 8 concurrent workers.\n",
      "[Parallel(n_jobs=-1)]: Done  70 out of  70 | elapsed:  1.9min finished\n"
     ]
    },
    {
     "name": "stdout",
     "output_type": "stream",
     "text": [
      "Best parameters set found on training set:\n",
      "\n",
      "{'C': 10.0, 'penalty': 'l2'}\n",
      "\n",
      "0.333 (+/-0.000) for {'C': 0.001, 'penalty': 'l1'}\n",
      "0.570 (+/-0.012) for {'C': 0.001, 'penalty': 'l2'}\n",
      "0.497 (+/-0.164) for {'C': 0.01, 'penalty': 'l1'}\n",
      "0.597 (+/-0.019) for {'C': 0.01, 'penalty': 'l2'}\n",
      "0.600 (+/-0.028) for {'C': 0.1, 'penalty': 'l1'}\n",
      "0.606 (+/-0.029) for {'C': 0.1, 'penalty': 'l2'}\n",
      "0.606 (+/-0.036) for {'C': 1.0, 'penalty': 'l1'}\n",
      "0.606 (+/-0.038) for {'C': 1.0, 'penalty': 'l2'}\n",
      "0.607 (+/-0.037) for {'C': 10.0, 'penalty': 'l1'}\n",
      "0.607 (+/-0.034) for {'C': 10.0, 'penalty': 'l2'}\n",
      "0.607 (+/-0.035) for {'C': 100.0, 'penalty': 'l1'}\n",
      "0.607 (+/-0.034) for {'C': 100.0, 'penalty': 'l2'}\n",
      "0.607 (+/-0.034) for {'C': 1000.0, 'penalty': 'l1'}\n",
      "0.607 (+/-0.034) for {'C': 1000.0, 'penalty': 'l2'}\n",
      "\n",
      "         Score  Train Validation\n",
      "0          AUC  0.669      0.665\n",
      "1     Accuracy  0.626      0.589\n",
      "2    Precision  0.624      0.087\n",
      "3       Recall  0.636      0.642\n",
      "4           F1  0.315      0.077\n",
      "5  Specificity  0.617      0.585\n",
      "6   Prevalence  0.500      0.058\n"
     ]
    },
    {
     "data": {
      "image/png": "[encoded data removed]",
      "text/plain": [
       "<Figure size 432x288 with 1 Axes>"
      ]
     },
     "metadata": {
      "needs_background": "light"
     },
     "output_type": "display_data"
    }
   ],
   "source": [
    "# Establish Classifier\n",
    "clf = LogisticRegression(random_state = random_state, solver = solver_log, max_iter = max_iter_log)\n",
    "\n",
    "#Define Parameters\n",
    "penalty = ['l1','l2']       \n",
    "C = np.logspace(-3, 3, 7)\n",
    "\n",
    "# Create hyperparameter options\n",
    "hyperparameters = dict(C=C, penalty = penalty)\n",
    "\n",
    "clf = grid_search_opt(x_tr, x_v, y_tr, y_v, clf, hyperparameters)\n",
    "\n",
    "opt_model_scoring(clf, x_tr, x_v, y_tr, y_v)\n",
    "\n",
    "# Define for Test Analysis\n",
    "clf_log_opt = clf"
   ]
  },
  {
   "cell_type": "markdown",
   "metadata": {},
   "source": [
    "### Random Forest"
   ]
  },
  {
   "cell_type": "markdown",
   "metadata": {},
   "source": [
    "Random Forest models have so far performed so-so, and have taken a very long time to run. For the training data it often overfits to match 100%. I recommend commenting out these models until final analysis"
   ]
  },
  {
   "cell_type": "markdown",
   "metadata": {},
   "source": [
    "#### Define Function Inputs"
   ]
  },
  {
   "cell_type": "code",
   "execution_count": 42,
   "metadata": {},
   "outputs": [
    {
     "name": "stdout",
     "output_type": "stream",
     "text": [
      "Fitting 5 folds for each of 240 candidates, totalling 1200 fits\n"
     ]
    },
    {
     "name": "stderr",
     "output_type": "stream",
     "text": [
      "[Parallel(n_jobs=-1)]: Using backend LokyBackend with 8 concurrent workers.\n",
      "[Parallel(n_jobs=-1)]: Done  88 tasks      | elapsed:    1.8s\n",
      "[Parallel(n_jobs=-1)]: Done 638 tasks      | elapsed:   16.3s\n",
      "[Parallel(n_jobs=-1)]: Done 1138 tasks      | elapsed:   35.2s\n",
      "[Parallel(n_jobs=-1)]: Done 1200 out of 1200 | elapsed:   37.3s finished\n"
     ]
    },
    {
     "name": "stdout",
     "output_type": "stream",
     "text": [
      "Best parameters set found on training set:\n",
      "\n",
      "{'max_depth': 15, 'min_samples_leaf': 10, 'min_samples_split': 2, 'n_estimators': 50}\n",
      "\n",
      "0.614 (+/-0.013) for {'max_depth': 5, 'min_samples_leaf': 1, 'min_samples_split': 2, 'n_estimators': 25}\n",
      "0.617 (+/-0.008) for {'max_depth': 5, 'min_samples_leaf': 1, 'min_samples_split': 2, 'n_estimators': 50}\n",
      "0.612 (+/-0.011) for {'max_depth': 5, 'min_samples_leaf': 1, 'min_samples_split': 2, 'n_estimators': 100}\n",
      "0.606 (+/-0.020) for {'max_depth': 5, 'min_samples_leaf': 1, 'min_samples_split': 5, 'n_estimators': 25}\n",
      "0.609 (+/-0.018) for {'max_depth': 5, 'min_samples_leaf': 1, 'min_samples_split': 5, 'n_estimators': 50}\n",
      "0.608 (+/-0.008) for {'max_depth': 5, 'min_samples_leaf': 1, 'min_samples_split': 5, 'n_estimators': 100}\n",
      "0.612 (+/-0.027) for {'max_depth': 5, 'min_samples_leaf': 1, 'min_samples_split': 10, 'n_estimators': 25}\n",
      "0.613 (+/-0.008) for {'max_depth': 5, 'min_samples_leaf': 1, 'min_samples_split': 10, 'n_estimators': 50}\n",
      "0.611 (+/-0.006) for {'max_depth': 5, 'min_samples_leaf': 1, 'min_samples_split': 10, 'n_estimators': 100}\n",
      "0.610 (+/-0.026) for {'max_depth': 5, 'min_samples_leaf': 1, 'min_samples_split': 15, 'n_estimators': 25}\n",
      "0.611 (+/-0.015) for {'max_depth': 5, 'min_samples_leaf': 1, 'min_samples_split': 15, 'n_estimators': 50}\n",
      "0.611 (+/-0.009) for {'max_depth': 5, 'min_samples_leaf': 1, 'min_samples_split': 15, 'n_estimators': 100}\n",
      "0.611 (+/-0.022) for {'max_depth': 5, 'min_samples_leaf': 2, 'min_samples_split': 2, 'n_estimators': 25}\n",
      "0.610 (+/-0.015) for {'max_depth': 5, 'min_samples_leaf': 2, 'min_samples_split': 2, 'n_estimators': 50}\n",
      "0.605 (+/-0.020) for {'max_depth': 5, 'min_samples_leaf': 2, 'min_samples_split': 2, 'n_estimators': 100}\n",
      "0.612 (+/-0.018) for {'max_depth': 5, 'min_samples_leaf': 2, 'min_samples_split': 5, 'n_estimators': 25}\n",
      "0.610 (+/-0.024) for {'max_depth': 5, 'min_samples_leaf': 2, 'min_samples_split': 5, 'n_estimators': 50}\n",
      "0.610 (+/-0.014) for {'max_depth': 5, 'min_samples_leaf': 2, 'min_samples_split': 5, 'n_estimators': 100}\n",
      "0.616 (+/-0.027) for {'max_depth': 5, 'min_samples_leaf': 2, 'min_samples_split': 10, 'n_estimators': 25}\n",
      "0.611 (+/-0.011) for {'max_depth': 5, 'min_samples_leaf': 2, 'min_samples_split': 10, 'n_estimators': 50}\n",
      "0.607 (+/-0.011) for {'max_depth': 5, 'min_samples_leaf': 2, 'min_samples_split': 10, 'n_estimators': 100}\n",
      "0.620 (+/-0.019) for {'max_depth': 5, 'min_samples_leaf': 2, 'min_samples_split': 15, 'n_estimators': 25}\n",
      "0.614 (+/-0.018) for {'max_depth': 5, 'min_samples_leaf': 2, 'min_samples_split': 15, 'n_estimators': 50}\n",
      "0.613 (+/-0.007) for {'max_depth': 5, 'min_samples_leaf': 2, 'min_samples_split': 15, 'n_estimators': 100}\n",
      "0.616 (+/-0.017) for {'max_depth': 5, 'min_samples_leaf': 5, 'min_samples_split': 2, 'n_estimators': 25}\n",
      "0.616 (+/-0.015) for {'max_depth': 5, 'min_samples_leaf': 5, 'min_samples_split': 2, 'n_estimators': 50}\n",
      "0.611 (+/-0.017) for {'max_depth': 5, 'min_samples_leaf': 5, 'min_samples_split': 2, 'n_estimators': 100}\n",
      "0.616 (+/-0.017) for {'max_depth': 5, 'min_samples_leaf': 5, 'min_samples_split': 5, 'n_estimators': 25}\n",
      "0.616 (+/-0.015) for {'max_depth': 5, 'min_samples_leaf': 5, 'min_samples_split': 5, 'n_estimators': 50}\n",
      "0.611 (+/-0.017) for {'max_depth': 5, 'min_samples_leaf': 5, 'min_samples_split': 5, 'n_estimators': 100}\n",
      "0.616 (+/-0.017) for {'max_depth': 5, 'min_samples_leaf': 5, 'min_samples_split': 10, 'n_estimators': 25}\n",
      "0.616 (+/-0.015) for {'max_depth': 5, 'min_samples_leaf': 5, 'min_samples_split': 10, 'n_estimators': 50}\n",
      "0.611 (+/-0.017) for {'max_depth': 5, 'min_samples_leaf': 5, 'min_samples_split': 10, 'n_estimators': 100}\n",
      "0.613 (+/-0.028) for {'max_depth': 5, 'min_samples_leaf': 5, 'min_samples_split': 15, 'n_estimators': 25}\n",
      "0.614 (+/-0.021) for {'max_depth': 5, 'min_samples_leaf': 5, 'min_samples_split': 15, 'n_estimators': 50}\n",
      "0.613 (+/-0.006) for {'max_depth': 5, 'min_samples_leaf': 5, 'min_samples_split': 15, 'n_estimators': 100}\n",
      "0.607 (+/-0.017) for {'max_depth': 5, 'min_samples_leaf': 10, 'min_samples_split': 2, 'n_estimators': 25}\n",
      "0.604 (+/-0.017) for {'max_depth': 5, 'min_samples_leaf': 10, 'min_samples_split': 2, 'n_estimators': 50}\n",
      "0.613 (+/-0.017) for {'max_depth': 5, 'min_samples_leaf': 10, 'min_samples_split': 2, 'n_estimators': 100}\n",
      "0.607 (+/-0.017) for {'max_depth': 5, 'min_samples_leaf': 10, 'min_samples_split': 5, 'n_estimators': 25}\n",
      "0.604 (+/-0.017) for {'max_depth': 5, 'min_samples_leaf': 10, 'min_samples_split': 5, 'n_estimators': 50}\n",
      "0.613 (+/-0.017) for {'max_depth': 5, 'min_samples_leaf': 10, 'min_samples_split': 5, 'n_estimators': 100}\n",
      "0.607 (+/-0.017) for {'max_depth': 5, 'min_samples_leaf': 10, 'min_samples_split': 10, 'n_estimators': 25}\n",
      "0.604 (+/-0.017) for {'max_depth': 5, 'min_samples_leaf': 10, 'min_samples_split': 10, 'n_estimators': 50}\n",
      "0.613 (+/-0.017) for {'max_depth': 5, 'min_samples_leaf': 10, 'min_samples_split': 10, 'n_estimators': 100}\n",
      "0.607 (+/-0.017) for {'max_depth': 5, 'min_samples_leaf': 10, 'min_samples_split': 15, 'n_estimators': 25}\n",
      "0.604 (+/-0.017) for {'max_depth': 5, 'min_samples_leaf': 10, 'min_samples_split': 15, 'n_estimators': 50}\n",
      "0.613 (+/-0.017) for {'max_depth': 5, 'min_samples_leaf': 10, 'min_samples_split': 15, 'n_estimators': 100}\n",
      "0.608 (+/-0.010) for {'max_depth': 8, 'min_samples_leaf': 1, 'min_samples_split': 2, 'n_estimators': 25}\n",
      "0.612 (+/-0.016) for {'max_depth': 8, 'min_samples_leaf': 1, 'min_samples_split': 2, 'n_estimators': 50}\n",
      "0.614 (+/-0.012) for {'max_depth': 8, 'min_samples_leaf': 1, 'min_samples_split': 2, 'n_estimators': 100}\n",
      "0.604 (+/-0.023) for {'max_depth': 8, 'min_samples_leaf': 1, 'min_samples_split': 5, 'n_estimators': 25}\n",
      "0.616 (+/-0.009) for {'max_depth': 8, 'min_samples_leaf': 1, 'min_samples_split': 5, 'n_estimators': 50}\n",
      "0.613 (+/-0.016) for {'max_depth': 8, 'min_samples_leaf': 1, 'min_samples_split': 5, 'n_estimators': 100}\n",
      "0.609 (+/-0.024) for {'max_depth': 8, 'min_samples_leaf': 1, 'min_samples_split': 10, 'n_estimators': 25}\n",
      "0.615 (+/-0.020) for {'max_depth': 8, 'min_samples_leaf': 1, 'min_samples_split': 10, 'n_estimators': 50}\n",
      "0.613 (+/-0.019) for {'max_depth': 8, 'min_samples_leaf': 1, 'min_samples_split': 10, 'n_estimators': 100}\n",
      "0.605 (+/-0.026) for {'max_depth': 8, 'min_samples_leaf': 1, 'min_samples_split': 15, 'n_estimators': 25}\n",
      "0.614 (+/-0.021) for {'max_depth': 8, 'min_samples_leaf': 1, 'min_samples_split': 15, 'n_estimators': 50}\n",
      "0.613 (+/-0.016) for {'max_depth': 8, 'min_samples_leaf': 1, 'min_samples_split': 15, 'n_estimators': 100}\n",
      "0.602 (+/-0.019) for {'max_depth': 8, 'min_samples_leaf': 2, 'min_samples_split': 2, 'n_estimators': 25}\n",
      "0.609 (+/-0.009) for {'max_depth': 8, 'min_samples_leaf': 2, 'min_samples_split': 2, 'n_estimators': 50}\n",
      "0.615 (+/-0.010) for {'max_depth': 8, 'min_samples_leaf': 2, 'min_samples_split': 2, 'n_estimators': 100}\n",
      "0.605 (+/-0.015) for {'max_depth': 8, 'min_samples_leaf': 2, 'min_samples_split': 5, 'n_estimators': 25}\n",
      "0.610 (+/-0.020) for {'max_depth': 8, 'min_samples_leaf': 2, 'min_samples_split': 5, 'n_estimators': 50}\n",
      "0.614 (+/-0.016) for {'max_depth': 8, 'min_samples_leaf': 2, 'min_samples_split': 5, 'n_estimators': 100}\n",
      "0.618 (+/-0.036) for {'max_depth': 8, 'min_samples_leaf': 2, 'min_samples_split': 10, 'n_estimators': 25}\n",
      "0.611 (+/-0.014) for {'max_depth': 8, 'min_samples_leaf': 2, 'min_samples_split': 10, 'n_estimators': 50}\n",
      "0.616 (+/-0.023) for {'max_depth': 8, 'min_samples_leaf': 2, 'min_samples_split': 10, 'n_estimators': 100}\n",
      "0.614 (+/-0.009) for {'max_depth': 8, 'min_samples_leaf': 2, 'min_samples_split': 15, 'n_estimators': 25}\n",
      "0.607 (+/-0.009) for {'max_depth': 8, 'min_samples_leaf': 2, 'min_samples_split': 15, 'n_estimators': 50}\n",
      "0.607 (+/-0.013) for {'max_depth': 8, 'min_samples_leaf': 2, 'min_samples_split': 15, 'n_estimators': 100}\n",
      "0.606 (+/-0.020) for {'max_depth': 8, 'min_samples_leaf': 5, 'min_samples_split': 2, 'n_estimators': 25}\n",
      "0.615 (+/-0.018) for {'max_depth': 8, 'min_samples_leaf': 5, 'min_samples_split': 2, 'n_estimators': 50}\n",
      "0.619 (+/-0.014) for {'max_depth': 8, 'min_samples_leaf': 5, 'min_samples_split': 2, 'n_estimators': 100}\n",
      "0.606 (+/-0.020) for {'max_depth': 8, 'min_samples_leaf': 5, 'min_samples_split': 5, 'n_estimators': 25}\n",
      "0.615 (+/-0.018) for {'max_depth': 8, 'min_samples_leaf': 5, 'min_samples_split': 5, 'n_estimators': 50}\n",
      "0.619 (+/-0.014) for {'max_depth': 8, 'min_samples_leaf': 5, 'min_samples_split': 5, 'n_estimators': 100}\n",
      "0.606 (+/-0.020) for {'max_depth': 8, 'min_samples_leaf': 5, 'min_samples_split': 10, 'n_estimators': 25}\n",
      "0.615 (+/-0.018) for {'max_depth': 8, 'min_samples_leaf': 5, 'min_samples_split': 10, 'n_estimators': 50}\n",
      "0.619 (+/-0.014) for {'max_depth': 8, 'min_samples_leaf': 5, 'min_samples_split': 10, 'n_estimators': 100}\n",
      "0.609 (+/-0.016) for {'max_depth': 8, 'min_samples_leaf': 5, 'min_samples_split': 15, 'n_estimators': 25}\n",
      "0.611 (+/-0.023) for {'max_depth': 8, 'min_samples_leaf': 5, 'min_samples_split': 15, 'n_estimators': 50}\n",
      "0.613 (+/-0.008) for {'max_depth': 8, 'min_samples_leaf': 5, 'min_samples_split': 15, 'n_estimators': 100}\n",
      "0.613 (+/-0.013) for {'max_depth': 8, 'min_samples_leaf': 10, 'min_samples_split': 2, 'n_estimators': 25}\n",
      "0.613 (+/-0.017) for {'max_depth': 8, 'min_samples_leaf': 10, 'min_samples_split': 2, 'n_estimators': 50}\n",
      "0.610 (+/-0.007) for {'max_depth': 8, 'min_samples_leaf': 10, 'min_samples_split': 2, 'n_estimators': 100}\n",
      "0.613 (+/-0.013) for {'max_depth': 8, 'min_samples_leaf': 10, 'min_samples_split': 5, 'n_estimators': 25}\n",
      "0.613 (+/-0.017) for {'max_depth': 8, 'min_samples_leaf': 10, 'min_samples_split': 5, 'n_estimators': 50}\n",
      "0.610 (+/-0.007) for {'max_depth': 8, 'min_samples_leaf': 10, 'min_samples_split': 5, 'n_estimators': 100}\n",
      "0.613 (+/-0.013) for {'max_depth': 8, 'min_samples_leaf': 10, 'min_samples_split': 10, 'n_estimators': 25}\n",
      "0.613 (+/-0.017) for {'max_depth': 8, 'min_samples_leaf': 10, 'min_samples_split': 10, 'n_estimators': 50}\n",
      "0.610 (+/-0.007) for {'max_depth': 8, 'min_samples_leaf': 10, 'min_samples_split': 10, 'n_estimators': 100}\n",
      "0.613 (+/-0.013) for {'max_depth': 8, 'min_samples_leaf': 10, 'min_samples_split': 15, 'n_estimators': 25}\n",
      "0.613 (+/-0.017) for {'max_depth': 8, 'min_samples_leaf': 10, 'min_samples_split': 15, 'n_estimators': 50}\n",
      "0.610 (+/-0.007) for {'max_depth': 8, 'min_samples_leaf': 10, 'min_samples_split': 15, 'n_estimators': 100}\n",
      "0.597 (+/-0.020) for {'max_depth': 15, 'min_samples_leaf': 1, 'min_samples_split': 2, 'n_estimators': 25}\n",
      "0.602 (+/-0.023) for {'max_depth': 15, 'min_samples_leaf': 1, 'min_samples_split': 2, 'n_estimators': 50}\n",
      "0.608 (+/-0.020) for {'max_depth': 15, 'min_samples_leaf': 1, 'min_samples_split': 2, 'n_estimators': 100}\n",
      "0.601 (+/-0.015) for {'max_depth': 15, 'min_samples_leaf': 1, 'min_samples_split': 5, 'n_estimators': 25}\n",
      "0.610 (+/-0.014) for {'max_depth': 15, 'min_samples_leaf': 1, 'min_samples_split': 5, 'n_estimators': 50}\n",
      "0.611 (+/-0.017) for {'max_depth': 15, 'min_samples_leaf': 1, 'min_samples_split': 5, 'n_estimators': 100}\n",
      "0.615 (+/-0.023) for {'max_depth': 15, 'min_samples_leaf': 1, 'min_samples_split': 10, 'n_estimators': 25}\n",
      "0.610 (+/-0.010) for {'max_depth': 15, 'min_samples_leaf': 1, 'min_samples_split': 10, 'n_estimators': 50}\n",
      "0.614 (+/-0.016) for {'max_depth': 15, 'min_samples_leaf': 1, 'min_samples_split': 10, 'n_estimators': 100}\n",
      "0.603 (+/-0.010) for {'max_depth': 15, 'min_samples_leaf': 1, 'min_samples_split': 15, 'n_estimators': 25}\n",
      "0.616 (+/-0.022) for {'max_depth': 15, 'min_samples_leaf': 1, 'min_samples_split': 15, 'n_estimators': 50}\n",
      "0.616 (+/-0.017) for {'max_depth': 15, 'min_samples_leaf': 1, 'min_samples_split': 15, 'n_estimators': 100}\n",
      "0.598 (+/-0.019) for {'max_depth': 15, 'min_samples_leaf': 2, 'min_samples_split': 2, 'n_estimators': 25}\n",
      "0.606 (+/-0.009) for {'max_depth': 15, 'min_samples_leaf': 2, 'min_samples_split': 2, 'n_estimators': 50}\n",
      "0.609 (+/-0.014) for {'max_depth': 15, 'min_samples_leaf': 2, 'min_samples_split': 2, 'n_estimators': 100}\n",
      "0.597 (+/-0.029) for {'max_depth': 15, 'min_samples_leaf': 2, 'min_samples_split': 5, 'n_estimators': 25}\n",
      "0.603 (+/-0.017) for {'max_depth': 15, 'min_samples_leaf': 2, 'min_samples_split': 5, 'n_estimators': 50}\n",
      "0.607 (+/-0.008) for {'max_depth': 15, 'min_samples_leaf': 2, 'min_samples_split': 5, 'n_estimators': 100}\n",
      "0.604 (+/-0.026) for {'max_depth': 15, 'min_samples_leaf': 2, 'min_samples_split': 10, 'n_estimators': 25}\n",
      "0.619 (+/-0.017) for {'max_depth': 15, 'min_samples_leaf': 2, 'min_samples_split': 10, 'n_estimators': 50}\n",
      "0.618 (+/-0.012) for {'max_depth': 15, 'min_samples_leaf': 2, 'min_samples_split': 10, 'n_estimators': 100}\n",
      "0.610 (+/-0.037) for {'max_depth': 15, 'min_samples_leaf': 2, 'min_samples_split': 15, 'n_estimators': 25}\n",
      "0.610 (+/-0.016) for {'max_depth': 15, 'min_samples_leaf': 2, 'min_samples_split': 15, 'n_estimators': 50}\n",
      "0.613 (+/-0.007) for {'max_depth': 15, 'min_samples_leaf': 2, 'min_samples_split': 15, 'n_estimators': 100}\n",
      "0.611 (+/-0.014) for {'max_depth': 15, 'min_samples_leaf': 5, 'min_samples_split': 2, 'n_estimators': 25}\n",
      "0.616 (+/-0.010) for {'max_depth': 15, 'min_samples_leaf': 5, 'min_samples_split': 2, 'n_estimators': 50}\n",
      "0.615 (+/-0.029) for {'max_depth': 15, 'min_samples_leaf': 5, 'min_samples_split': 2, 'n_estimators': 100}\n",
      "0.611 (+/-0.014) for {'max_depth': 15, 'min_samples_leaf': 5, 'min_samples_split': 5, 'n_estimators': 25}\n",
      "0.616 (+/-0.010) for {'max_depth': 15, 'min_samples_leaf': 5, 'min_samples_split': 5, 'n_estimators': 50}\n",
      "0.615 (+/-0.029) for {'max_depth': 15, 'min_samples_leaf': 5, 'min_samples_split': 5, 'n_estimators': 100}\n",
      "0.611 (+/-0.014) for {'max_depth': 15, 'min_samples_leaf': 5, 'min_samples_split': 10, 'n_estimators': 25}\n",
      "0.616 (+/-0.010) for {'max_depth': 15, 'min_samples_leaf': 5, 'min_samples_split': 10, 'n_estimators': 50}\n",
      "0.615 (+/-0.029) for {'max_depth': 15, 'min_samples_leaf': 5, 'min_samples_split': 10, 'n_estimators': 100}\n",
      "0.619 (+/-0.006) for {'max_depth': 15, 'min_samples_leaf': 5, 'min_samples_split': 15, 'n_estimators': 25}\n",
      "0.620 (+/-0.015) for {'max_depth': 15, 'min_samples_leaf': 5, 'min_samples_split': 15, 'n_estimators': 50}\n",
      "0.611 (+/-0.015) for {'max_depth': 15, 'min_samples_leaf': 5, 'min_samples_split': 15, 'n_estimators': 100}\n",
      "0.619 (+/-0.026) for {'max_depth': 15, 'min_samples_leaf': 10, 'min_samples_split': 2, 'n_estimators': 25}\n",
      "0.620 (+/-0.018) for {'max_depth': 15, 'min_samples_leaf': 10, 'min_samples_split': 2, 'n_estimators': 50}\n",
      "0.617 (+/-0.009) for {'max_depth': 15, 'min_samples_leaf': 10, 'min_samples_split': 2, 'n_estimators': 100}\n",
      "0.619 (+/-0.026) for {'max_depth': 15, 'min_samples_leaf': 10, 'min_samples_split': 5, 'n_estimators': 25}\n",
      "0.620 (+/-0.018) for {'max_depth': 15, 'min_samples_leaf': 10, 'min_samples_split': 5, 'n_estimators': 50}\n",
      "0.617 (+/-0.009) for {'max_depth': 15, 'min_samples_leaf': 10, 'min_samples_split': 5, 'n_estimators': 100}\n",
      "0.619 (+/-0.026) for {'max_depth': 15, 'min_samples_leaf': 10, 'min_samples_split': 10, 'n_estimators': 25}\n",
      "0.620 (+/-0.018) for {'max_depth': 15, 'min_samples_leaf': 10, 'min_samples_split': 10, 'n_estimators': 50}\n",
      "0.617 (+/-0.009) for {'max_depth': 15, 'min_samples_leaf': 10, 'min_samples_split': 10, 'n_estimators': 100}\n",
      "0.619 (+/-0.026) for {'max_depth': 15, 'min_samples_leaf': 10, 'min_samples_split': 15, 'n_estimators': 25}\n",
      "0.620 (+/-0.018) for {'max_depth': 15, 'min_samples_leaf': 10, 'min_samples_split': 15, 'n_estimators': 50}\n",
      "0.617 (+/-0.009) for {'max_depth': 15, 'min_samples_leaf': 10, 'min_samples_split': 15, 'n_estimators': 100}\n",
      "0.577 (+/-0.036) for {'max_depth': 25, 'min_samples_leaf': 1, 'min_samples_split': 2, 'n_estimators': 25}\n",
      "0.588 (+/-0.025) for {'max_depth': 25, 'min_samples_leaf': 1, 'min_samples_split': 2, 'n_estimators': 50}\n",
      "0.596 (+/-0.028) for {'max_depth': 25, 'min_samples_leaf': 1, 'min_samples_split': 2, 'n_estimators': 100}\n",
      "0.598 (+/-0.034) for {'max_depth': 25, 'min_samples_leaf': 1, 'min_samples_split': 5, 'n_estimators': 25}\n",
      "0.602 (+/-0.023) for {'max_depth': 25, 'min_samples_leaf': 1, 'min_samples_split': 5, 'n_estimators': 50}\n",
      "0.605 (+/-0.033) for {'max_depth': 25, 'min_samples_leaf': 1, 'min_samples_split': 5, 'n_estimators': 100}\n",
      "0.612 (+/-0.011) for {'max_depth': 25, 'min_samples_leaf': 1, 'min_samples_split': 10, 'n_estimators': 25}\n",
      "0.612 (+/-0.026) for {'max_depth': 25, 'min_samples_leaf': 1, 'min_samples_split': 10, 'n_estimators': 50}\n",
      "0.615 (+/-0.014) for {'max_depth': 25, 'min_samples_leaf': 1, 'min_samples_split': 10, 'n_estimators': 100}\n",
      "0.605 (+/-0.020) for {'max_depth': 25, 'min_samples_leaf': 1, 'min_samples_split': 15, 'n_estimators': 25}\n",
      "0.613 (+/-0.016) for {'max_depth': 25, 'min_samples_leaf': 1, 'min_samples_split': 15, 'n_estimators': 50}\n",
      "0.610 (+/-0.012) for {'max_depth': 25, 'min_samples_leaf': 1, 'min_samples_split': 15, 'n_estimators': 100}\n",
      "0.599 (+/-0.021) for {'max_depth': 25, 'min_samples_leaf': 2, 'min_samples_split': 2, 'n_estimators': 25}\n",
      "0.610 (+/-0.016) for {'max_depth': 25, 'min_samples_leaf': 2, 'min_samples_split': 2, 'n_estimators': 50}\n",
      "0.610 (+/-0.022) for {'max_depth': 25, 'min_samples_leaf': 2, 'min_samples_split': 2, 'n_estimators': 100}\n",
      "0.599 (+/-0.039) for {'max_depth': 25, 'min_samples_leaf': 2, 'min_samples_split': 5, 'n_estimators': 25}\n",
      "0.604 (+/-0.020) for {'max_depth': 25, 'min_samples_leaf': 2, 'min_samples_split': 5, 'n_estimators': 50}\n",
      "0.610 (+/-0.015) for {'max_depth': 25, 'min_samples_leaf': 2, 'min_samples_split': 5, 'n_estimators': 100}\n",
      "0.604 (+/-0.029) for {'max_depth': 25, 'min_samples_leaf': 2, 'min_samples_split': 10, 'n_estimators': 25}\n",
      "0.609 (+/-0.019) for {'max_depth': 25, 'min_samples_leaf': 2, 'min_samples_split': 10, 'n_estimators': 50}\n",
      "0.612 (+/-0.012) for {'max_depth': 25, 'min_samples_leaf': 2, 'min_samples_split': 10, 'n_estimators': 100}\n",
      "0.602 (+/-0.017) for {'max_depth': 25, 'min_samples_leaf': 2, 'min_samples_split': 15, 'n_estimators': 25}\n",
      "0.610 (+/-0.021) for {'max_depth': 25, 'min_samples_leaf': 2, 'min_samples_split': 15, 'n_estimators': 50}\n",
      "0.609 (+/-0.024) for {'max_depth': 25, 'min_samples_leaf': 2, 'min_samples_split': 15, 'n_estimators': 100}\n",
      "0.602 (+/-0.018) for {'max_depth': 25, 'min_samples_leaf': 5, 'min_samples_split': 2, 'n_estimators': 25}\n",
      "0.616 (+/-0.017) for {'max_depth': 25, 'min_samples_leaf': 5, 'min_samples_split': 2, 'n_estimators': 50}\n",
      "0.611 (+/-0.010) for {'max_depth': 25, 'min_samples_leaf': 5, 'min_samples_split': 2, 'n_estimators': 100}\n",
      "0.602 (+/-0.018) for {'max_depth': 25, 'min_samples_leaf': 5, 'min_samples_split': 5, 'n_estimators': 25}\n",
      "0.616 (+/-0.017) for {'max_depth': 25, 'min_samples_leaf': 5, 'min_samples_split': 5, 'n_estimators': 50}\n",
      "0.611 (+/-0.010) for {'max_depth': 25, 'min_samples_leaf': 5, 'min_samples_split': 5, 'n_estimators': 100}\n",
      "0.602 (+/-0.018) for {'max_depth': 25, 'min_samples_leaf': 5, 'min_samples_split': 10, 'n_estimators': 25}\n",
      "0.616 (+/-0.017) for {'max_depth': 25, 'min_samples_leaf': 5, 'min_samples_split': 10, 'n_estimators': 50}\n",
      "0.611 (+/-0.010) for {'max_depth': 25, 'min_samples_leaf': 5, 'min_samples_split': 10, 'n_estimators': 100}\n",
      "0.601 (+/-0.013) for {'max_depth': 25, 'min_samples_leaf': 5, 'min_samples_split': 15, 'n_estimators': 25}\n",
      "0.613 (+/-0.018) for {'max_depth': 25, 'min_samples_leaf': 5, 'min_samples_split': 15, 'n_estimators': 50}\n",
      "0.611 (+/-0.006) for {'max_depth': 25, 'min_samples_leaf': 5, 'min_samples_split': 15, 'n_estimators': 100}\n",
      "0.614 (+/-0.018) for {'max_depth': 25, 'min_samples_leaf': 10, 'min_samples_split': 2, 'n_estimators': 25}\n",
      "0.616 (+/-0.008) for {'max_depth': 25, 'min_samples_leaf': 10, 'min_samples_split': 2, 'n_estimators': 50}\n",
      "0.614 (+/-0.009) for {'max_depth': 25, 'min_samples_leaf': 10, 'min_samples_split': 2, 'n_estimators': 100}\n",
      "0.614 (+/-0.018) for {'max_depth': 25, 'min_samples_leaf': 10, 'min_samples_split': 5, 'n_estimators': 25}\n",
      "0.616 (+/-0.008) for {'max_depth': 25, 'min_samples_leaf': 10, 'min_samples_split': 5, 'n_estimators': 50}\n",
      "0.614 (+/-0.009) for {'max_depth': 25, 'min_samples_leaf': 10, 'min_samples_split': 5, 'n_estimators': 100}\n",
      "0.614 (+/-0.018) for {'max_depth': 25, 'min_samples_leaf': 10, 'min_samples_split': 10, 'n_estimators': 25}\n",
      "0.616 (+/-0.008) for {'max_depth': 25, 'min_samples_leaf': 10, 'min_samples_split': 10, 'n_estimators': 50}\n",
      "0.614 (+/-0.009) for {'max_depth': 25, 'min_samples_leaf': 10, 'min_samples_split': 10, 'n_estimators': 100}\n",
      "0.614 (+/-0.018) for {'max_depth': 25, 'min_samples_leaf': 10, 'min_samples_split': 15, 'n_estimators': 25}\n",
      "0.616 (+/-0.008) for {'max_depth': 25, 'min_samples_leaf': 10, 'min_samples_split': 15, 'n_estimators': 50}\n",
      "0.614 (+/-0.009) for {'max_depth': 25, 'min_samples_leaf': 10, 'min_samples_split': 15, 'n_estimators': 100}\n",
      "0.590 (+/-0.028) for {'max_depth': 30, 'min_samples_leaf': 1, 'min_samples_split': 2, 'n_estimators': 25}\n",
      "0.595 (+/-0.046) for {'max_depth': 30, 'min_samples_leaf': 1, 'min_samples_split': 2, 'n_estimators': 50}\n",
      "0.593 (+/-0.037) for {'max_depth': 30, 'min_samples_leaf': 1, 'min_samples_split': 2, 'n_estimators': 100}\n",
      "0.584 (+/-0.019) for {'max_depth': 30, 'min_samples_leaf': 1, 'min_samples_split': 5, 'n_estimators': 25}\n",
      "0.604 (+/-0.019) for {'max_depth': 30, 'min_samples_leaf': 1, 'min_samples_split': 5, 'n_estimators': 50}\n",
      "0.603 (+/-0.022) for {'max_depth': 30, 'min_samples_leaf': 1, 'min_samples_split': 5, 'n_estimators': 100}\n",
      "0.608 (+/-0.019) for {'max_depth': 30, 'min_samples_leaf': 1, 'min_samples_split': 10, 'n_estimators': 25}\n",
      "0.610 (+/-0.022) for {'max_depth': 30, 'min_samples_leaf': 1, 'min_samples_split': 10, 'n_estimators': 50}\n",
      "0.610 (+/-0.016) for {'max_depth': 30, 'min_samples_leaf': 1, 'min_samples_split': 10, 'n_estimators': 100}\n",
      "0.606 (+/-0.025) for {'max_depth': 30, 'min_samples_leaf': 1, 'min_samples_split': 15, 'n_estimators': 25}\n",
      "0.613 (+/-0.021) for {'max_depth': 30, 'min_samples_leaf': 1, 'min_samples_split': 15, 'n_estimators': 50}\n",
      "0.611 (+/-0.014) for {'max_depth': 30, 'min_samples_leaf': 1, 'min_samples_split': 15, 'n_estimators': 100}\n",
      "0.604 (+/-0.019) for {'max_depth': 30, 'min_samples_leaf': 2, 'min_samples_split': 2, 'n_estimators': 25}\n",
      "0.611 (+/-0.010) for {'max_depth': 30, 'min_samples_leaf': 2, 'min_samples_split': 2, 'n_estimators': 50}\n",
      "0.611 (+/-0.013) for {'max_depth': 30, 'min_samples_leaf': 2, 'min_samples_split': 2, 'n_estimators': 100}\n",
      "0.603 (+/-0.032) for {'max_depth': 30, 'min_samples_leaf': 2, 'min_samples_split': 5, 'n_estimators': 25}\n",
      "0.614 (+/-0.031) for {'max_depth': 30, 'min_samples_leaf': 2, 'min_samples_split': 5, 'n_estimators': 50}\n",
      "0.617 (+/-0.022) for {'max_depth': 30, 'min_samples_leaf': 2, 'min_samples_split': 5, 'n_estimators': 100}\n",
      "0.595 (+/-0.029) for {'max_depth': 30, 'min_samples_leaf': 2, 'min_samples_split': 10, 'n_estimators': 25}\n",
      "0.615 (+/-0.011) for {'max_depth': 30, 'min_samples_leaf': 2, 'min_samples_split': 10, 'n_estimators': 50}\n",
      "0.617 (+/-0.023) for {'max_depth': 30, 'min_samples_leaf': 2, 'min_samples_split': 10, 'n_estimators': 100}\n",
      "0.602 (+/-0.016) for {'max_depth': 30, 'min_samples_leaf': 2, 'min_samples_split': 15, 'n_estimators': 25}\n",
      "0.611 (+/-0.020) for {'max_depth': 30, 'min_samples_leaf': 2, 'min_samples_split': 15, 'n_estimators': 50}\n",
      "0.613 (+/-0.027) for {'max_depth': 30, 'min_samples_leaf': 2, 'min_samples_split': 15, 'n_estimators': 100}\n",
      "0.604 (+/-0.018) for {'max_depth': 30, 'min_samples_leaf': 5, 'min_samples_split': 2, 'n_estimators': 25}\n",
      "0.613 (+/-0.012) for {'max_depth': 30, 'min_samples_leaf': 5, 'min_samples_split': 2, 'n_estimators': 50}\n",
      "0.613 (+/-0.010) for {'max_depth': 30, 'min_samples_leaf': 5, 'min_samples_split': 2, 'n_estimators': 100}\n",
      "0.604 (+/-0.018) for {'max_depth': 30, 'min_samples_leaf': 5, 'min_samples_split': 5, 'n_estimators': 25}\n",
      "0.613 (+/-0.012) for {'max_depth': 30, 'min_samples_leaf': 5, 'min_samples_split': 5, 'n_estimators': 50}\n",
      "0.613 (+/-0.010) for {'max_depth': 30, 'min_samples_leaf': 5, 'min_samples_split': 5, 'n_estimators': 100}\n",
      "0.604 (+/-0.018) for {'max_depth': 30, 'min_samples_leaf': 5, 'min_samples_split': 10, 'n_estimators': 25}\n",
      "0.613 (+/-0.012) for {'max_depth': 30, 'min_samples_leaf': 5, 'min_samples_split': 10, 'n_estimators': 50}\n",
      "0.613 (+/-0.010) for {'max_depth': 30, 'min_samples_leaf': 5, 'min_samples_split': 10, 'n_estimators': 100}\n",
      "0.601 (+/-0.013) for {'max_depth': 30, 'min_samples_leaf': 5, 'min_samples_split': 15, 'n_estimators': 25}\n",
      "0.613 (+/-0.018) for {'max_depth': 30, 'min_samples_leaf': 5, 'min_samples_split': 15, 'n_estimators': 50}\n",
      "0.612 (+/-0.009) for {'max_depth': 30, 'min_samples_leaf': 5, 'min_samples_split': 15, 'n_estimators': 100}\n",
      "0.614 (+/-0.018) for {'max_depth': 30, 'min_samples_leaf': 10, 'min_samples_split': 2, 'n_estimators': 25}\n",
      "0.616 (+/-0.008) for {'max_depth': 30, 'min_samples_leaf': 10, 'min_samples_split': 2, 'n_estimators': 50}\n",
      "0.614 (+/-0.009) for {'max_depth': 30, 'min_samples_leaf': 10, 'min_samples_split': 2, 'n_estimators': 100}\n",
      "0.614 (+/-0.018) for {'max_depth': 30, 'min_samples_leaf': 10, 'min_samples_split': 5, 'n_estimators': 25}\n",
      "0.616 (+/-0.008) for {'max_depth': 30, 'min_samples_leaf': 10, 'min_samples_split': 5, 'n_estimators': 50}\n",
      "0.614 (+/-0.009) for {'max_depth': 30, 'min_samples_leaf': 10, 'min_samples_split': 5, 'n_estimators': 100}\n",
      "0.614 (+/-0.018) for {'max_depth': 30, 'min_samples_leaf': 10, 'min_samples_split': 10, 'n_estimators': 25}\n",
      "0.616 (+/-0.008) for {'max_depth': 30, 'min_samples_leaf': 10, 'min_samples_split': 10, 'n_estimators': 50}\n",
      "0.614 (+/-0.009) for {'max_depth': 30, 'min_samples_leaf': 10, 'min_samples_split': 10, 'n_estimators': 100}\n",
      "0.614 (+/-0.018) for {'max_depth': 30, 'min_samples_leaf': 10, 'min_samples_split': 15, 'n_estimators': 25}\n",
      "0.616 (+/-0.008) for {'max_depth': 30, 'min_samples_leaf': 10, 'min_samples_split': 15, 'n_estimators': 50}\n",
      "0.614 (+/-0.009) for {'max_depth': 30, 'min_samples_leaf': 10, 'min_samples_split': 15, 'n_estimators': 100}\n",
      "\n",
      "         Score  Train Validation\n",
      "0          AUC  0.786      0.676\n",
      "1     Accuracy  0.717      0.572\n",
      "2    Precision  0.706      0.087\n",
      "3       Recall  0.742      0.676\n",
      "4           F1  0.362      0.077\n",
      "5  Specificity  0.691      0.565\n",
      "6   Prevalence  0.500      0.058\n"
     ]
    },
    {
     "data": {
      "image/png": "[encoded data removed]",
      "text/plain": [
       "<Figure size 432x288 with 1 Axes>"
      ]
     },
     "metadata": {
      "needs_background": "light"
     },
     "output_type": "display_data"
    }
   ],
   "source": [
    "# Establish Classifier\n",
    "clf = RandomForestClassifier(random_state = random_state)\n",
    "\n",
    "#Define Parameters\n",
    "n_estimators = [25, 50, 100]\n",
    "max_depth = [5, 8, 15, 25, 30]\n",
    "min_samples_split = [2, 5, 10, 15]\n",
    "min_samples_leaf = [1, 2, 5, 10] \n",
    "\n",
    "\n",
    "# Create hyperparameter options\n",
    "hyperparameters = dict(n_estimators=n_estimators, \n",
    "                       max_depth=max_depth,\n",
    "                       min_samples_split = min_samples_split,\n",
    "                       min_samples_leaf = min_samples_leaf)\n",
    "\n",
    "clf = grid_search_opt(x_tr, x_v, y_tr, y_v, clf, hyperparameters)\n",
    "\n",
    "opt_model_scoring(clf, x_tr, x_v, y_tr, y_v)\n",
    "\n",
    "# Define for Test Analysis\n",
    "clf_rf_opt = clf"
   ]
  },
  {
   "cell_type": "markdown",
   "metadata": {},
   "source": [
    "### Ada Boost"
   ]
  },
  {
   "cell_type": "markdown",
   "metadata": {},
   "source": [
    "#### Define Function Inputs"
   ]
  },
  {
   "cell_type": "code",
   "execution_count": 44,
   "metadata": {
    "scrolled": true
   },
   "outputs": [
    {
     "name": "stdout",
     "output_type": "stream",
     "text": [
      "Fitting 5 folds for each of 20 candidates, totalling 100 fits\n"
     ]
    },
    {
     "name": "stderr",
     "output_type": "stream",
     "text": [
      "[Parallel(n_jobs=-1)]: Using backend LokyBackend with 8 concurrent workers.\n",
      "[Parallel(n_jobs=-1)]: Done  34 tasks      | elapsed:   11.5s\n",
      "[Parallel(n_jobs=-1)]: Done 100 out of 100 | elapsed:   32.6s finished\n"
     ]
    },
    {
     "name": "stdout",
     "output_type": "stream",
     "text": [
      "Best parameters set found on training set:\n",
      "\n",
      "{'learning_rate': 0.1, 'n_estimators': 400}\n",
      "\n",
      "0.490 (+/-0.086) for {'learning_rate': 0.001, 'n_estimators': 300}\n",
      "0.513 (+/-0.075) for {'learning_rate': 0.001, 'n_estimators': 400}\n",
      "0.535 (+/-0.067) for {'learning_rate': 0.001, 'n_estimators': 500}\n",
      "0.548 (+/-0.069) for {'learning_rate': 0.001, 'n_estimators': 600}\n",
      "0.586 (+/-0.032) for {'learning_rate': 0.01, 'n_estimators': 300}\n",
      "0.587 (+/-0.037) for {'learning_rate': 0.01, 'n_estimators': 400}\n",
      "0.591 (+/-0.025) for {'learning_rate': 0.01, 'n_estimators': 500}\n",
      "0.594 (+/-0.022) for {'learning_rate': 0.01, 'n_estimators': 600}\n",
      "0.612 (+/-0.016) for {'learning_rate': 0.1, 'n_estimators': 300}\n",
      "0.612 (+/-0.021) for {'learning_rate': 0.1, 'n_estimators': 400}\n",
      "0.609 (+/-0.015) for {'learning_rate': 0.1, 'n_estimators': 500}\n",
      "0.608 (+/-0.015) for {'learning_rate': 0.1, 'n_estimators': 600}\n",
      "0.589 (+/-0.030) for {'learning_rate': 1.0, 'n_estimators': 300}\n",
      "0.588 (+/-0.031) for {'learning_rate': 1.0, 'n_estimators': 400}\n",
      "0.586 (+/-0.031) for {'learning_rate': 1.0, 'n_estimators': 500}\n",
      "0.585 (+/-0.024) for {'learning_rate': 1.0, 'n_estimators': 600}\n",
      "0.333 (+/-0.000) for {'learning_rate': 10.0, 'n_estimators': 300}\n",
      "0.333 (+/-0.000) for {'learning_rate': 10.0, 'n_estimators': 400}\n",
      "0.333 (+/-0.000) for {'learning_rate': 10.0, 'n_estimators': 500}\n",
      "0.333 (+/-0.000) for {'learning_rate': 10.0, 'n_estimators': 600}\n",
      "\n",
      "         Score  Train Validation\n",
      "0          AUC  0.692      0.665\n",
      "1     Accuracy  0.645      0.598\n",
      "2    Precision  0.642      0.090\n",
      "3       Recall  0.656      0.652\n",
      "4           F1  0.325      0.079\n",
      "5  Specificity  0.634      0.594\n",
      "6   Prevalence  0.500      0.058\n"
     ]
    },
    {
     "data": {
      "image/png": "[encoded data removed]",
      "text/plain": [
       "<Figure size 432x288 with 1 Axes>"
      ]
     },
     "metadata": {
      "needs_background": "light"
     },
     "output_type": "display_data"
    }
   ],
   "source": [
    "# Establish Classifier\n",
    "clf = AdaBoostClassifier(random_state = random_state)\n",
    "\n",
    "#Define Parameters\n",
    "n_estimators = [300, 400, 500, 600]\n",
    "learning_rate = np.logspace(-3, 1, 5)\n",
    "\n",
    "# Create hyperparameter options\n",
    "hyperparameters = dict(n_estimators=n_estimators, \n",
    "                       learning_rate=learning_rate)\n",
    "\n",
    "clf = grid_search_opt(x_tr, x_v, y_tr, y_v, clf, hyperparameters)\n",
    "\n",
    "opt_model_scoring(clf, x_tr, x_v, y_tr, y_v)\n",
    "\n",
    "# Define for Test Analysis\n",
    "clf_ada_opt = clf"
   ]
  },
  {
   "cell_type": "markdown",
   "metadata": {},
   "source": [
    "### XGBoost"
   ]
  },
  {
   "cell_type": "markdown",
   "metadata": {},
   "source": [
    "#### Define Function Inputs"
   ]
  },
  {
   "cell_type": "code",
   "execution_count": 57,
   "metadata": {},
   "outputs": [
    {
     "name": "stdout",
     "output_type": "stream",
     "text": [
      "Fitting 5 folds for each of 30 candidates, totalling 150 fits\n"
     ]
    },
    {
     "name": "stderr",
     "output_type": "stream",
     "text": [
      "[Parallel(n_jobs=-1)]: Using backend LokyBackend with 8 concurrent workers.\n",
      "[Parallel(n_jobs=-1)]: Done  52 tasks      | elapsed:    2.7s\n",
      "[Parallel(n_jobs=-1)]: Done 150 out of 150 | elapsed:    7.0s finished\n"
     ]
    },
    {
     "name": "stdout",
     "output_type": "stream",
     "text": [
      "Best parameters set found on training set:\n",
      "\n",
      "{'learning_rate': 0.1, 'n_estimators': 100}\n",
      "\n",
      "0.541 (+/-0.038) for {'learning_rate': 0.0001, 'n_estimators': 25}\n",
      "0.547 (+/-0.026) for {'learning_rate': 0.0001, 'n_estimators': 50}\n",
      "0.547 (+/-0.026) for {'learning_rate': 0.0001, 'n_estimators': 100}\n",
      "0.549 (+/-0.026) for {'learning_rate': 0.0001, 'n_estimators': 150}\n",
      "0.551 (+/-0.028) for {'learning_rate': 0.0001, 'n_estimators': 200}\n",
      "0.554 (+/-0.025) for {'learning_rate': 0.001, 'n_estimators': 25}\n",
      "0.554 (+/-0.024) for {'learning_rate': 0.001, 'n_estimators': 50}\n",
      "0.553 (+/-0.025) for {'learning_rate': 0.001, 'n_estimators': 100}\n",
      "0.553 (+/-0.024) for {'learning_rate': 0.001, 'n_estimators': 150}\n",
      "0.550 (+/-0.023) for {'learning_rate': 0.001, 'n_estimators': 200}\n",
      "0.554 (+/-0.031) for {'learning_rate': 0.01, 'n_estimators': 25}\n",
      "0.566 (+/-0.026) for {'learning_rate': 0.01, 'n_estimators': 50}\n",
      "0.593 (+/-0.012) for {'learning_rate': 0.01, 'n_estimators': 100}\n",
      "0.592 (+/-0.025) for {'learning_rate': 0.01, 'n_estimators': 150}\n",
      "0.600 (+/-0.030) for {'learning_rate': 0.01, 'n_estimators': 200}\n",
      "0.599 (+/-0.021) for {'learning_rate': 0.1, 'n_estimators': 25}\n",
      "0.605 (+/-0.016) for {'learning_rate': 0.1, 'n_estimators': 50}\n",
      "0.608 (+/-0.029) for {'learning_rate': 0.1, 'n_estimators': 100}\n",
      "0.606 (+/-0.030) for {'learning_rate': 0.1, 'n_estimators': 150}\n",
      "0.598 (+/-0.024) for {'learning_rate': 0.1, 'n_estimators': 200}\n",
      "0.582 (+/-0.009) for {'learning_rate': 1.0, 'n_estimators': 25}\n",
      "0.579 (+/-0.014) for {'learning_rate': 1.0, 'n_estimators': 50}\n",
      "0.580 (+/-0.029) for {'learning_rate': 1.0, 'n_estimators': 100}\n",
      "0.576 (+/-0.032) for {'learning_rate': 1.0, 'n_estimators': 150}\n",
      "0.569 (+/-0.028) for {'learning_rate': 1.0, 'n_estimators': 200}\n",
      "0.333 (+/-0.000) for {'learning_rate': 10.0, 'n_estimators': 25}\n",
      "0.333 (+/-0.000) for {'learning_rate': 10.0, 'n_estimators': 50}\n",
      "0.333 (+/-0.000) for {'learning_rate': 10.0, 'n_estimators': 100}\n",
      "0.333 (+/-0.000) for {'learning_rate': 10.0, 'n_estimators': 150}\n",
      "0.333 (+/-0.000) for {'learning_rate': 10.0, 'n_estimators': 200}\n",
      "\n",
      "         Score  Train Validation\n",
      "0          AUC  0.760      0.670\n",
      "1     Accuracy  0.685      0.582\n",
      "2    Precision  0.674      0.089\n",
      "3       Recall  0.713      0.668\n",
      "4           F1  0.347      0.078\n",
      "5  Specificity  0.656      0.577\n",
      "6   Prevalence  0.500      0.058\n"
     ]
    },
    {
     "data": {
      "image/png": "[encoded data removed]",
      "text/plain": [
       "<Figure size 432x288 with 1 Axes>"
      ]
     },
     "metadata": {
      "needs_background": "light"
     },
     "output_type": "display_data"
    }
   ],
   "source": [
    "# Establish Classifier\n",
    "clf = XGBClassifier(random_state = random_state)\n",
    "\n",
    "#Define Parameters\n",
    "n_estimators = [25, 50, 100, 150, 200]\n",
    "learning_rate = np.logspace(-4, 1, 6)\n",
    "\n",
    "# Create hyperparameter options\n",
    "hyperparameters = dict(n_estimators=n_estimators, learning_rate=learning_rate)\n",
    "\n",
    "clf = grid_search_opt(x_tr, x_v, y_tr, y_v, clf, hyperparameters)\n",
    "\n",
    "opt_model_scoring(clf, x_tr, x_v, y_tr, y_v)\n",
    "\n",
    "# Define for Test Analysis\n",
    "clf_xbg_opt = clf"
   ]
  },
  {
   "cell_type": "markdown",
   "metadata": {},
   "source": [
    "# Test Set Scoring"
   ]
  },
  {
   "cell_type": "markdown",
   "metadata": {},
   "source": [
    "## General Function"
   ]
  },
  {
   "cell_type": "code",
   "execution_count": 46,
   "metadata": {},
   "outputs": [],
   "source": [
    "def test_score (clf, x):\n",
    "    \n",
    "    print(\"Detailed classification report:\")\n",
    "    print()\n",
    "    print(\"The model is trained and tuned on the training and validation sets..\")\n",
    "    print(\"The scores are computed on the test set.\")\n",
    "    print()\n",
    "    y_true, y_pred = y_te, clf.predict(x)\n",
    "    print(classification_report(y_true, y_pred, digits = 3))\n",
    "    print()\n",
    "    \n",
    "    prevalence_te = '%.3f' %calc_prevalence(y_true)\n",
    "    auc_score_te = '%.3f' %roc_auc_score(y_true, y_pred)\n",
    "    print('AUC Score: ', auc_score_te)\n",
    "    print('Positive Target Prevalence: ', prevalence_te)\n",
    "    "
   ]
  },
  {
   "cell_type": "code",
   "execution_count": 47,
   "metadata": {},
   "outputs": [],
   "source": [
    "def test_score_cv(clf, x):\n",
    "    scoring = ['roc_auc', 'accuracy', 'balanced_accuracy', 'precision', 'recall', 'f1']\n",
    "    \n",
    "    results = cross_validate(estimator = clf,\n",
    "                                          X = x,\n",
    "                                          y = y_te,\n",
    "                                          cv = 5,\n",
    "                                          scoring = scoring)\n",
    "    for metric_name in results.keys():\n",
    "        average_score = np.average(results[metric_name])\n",
    "        print('%s : %.3f' % (metric_name, average_score))\n",
    "    \n",
    "    prevalence_te = '%.3f' %calc_prevalence(y_te)\n",
    "    print('positive target prevalence: ', prevalence_te)"
   ]
  },
  {
   "cell_type": "markdown",
   "metadata": {},
   "source": [
    "## Naive Bayes"
   ]
  },
  {
   "cell_type": "markdown",
   "metadata": {},
   "source": [
    "### Overall Metrics"
   ]
  },
  {
   "cell_type": "code",
   "execution_count": 48,
   "metadata": {},
   "outputs": [
    {
     "name": "stdout",
     "output_type": "stream",
     "text": [
      "Detailed classification report:\n",
      "\n",
      "The model is trained and tuned on the training and validation sets..\n",
      "The scores are computed on the test set.\n",
      "\n",
      "              precision    recall  f1-score   support\n",
      "\n",
      "           0      0.960     0.548     0.698      8241\n",
      "           1      0.085     0.652     0.151       534\n",
      "\n",
      "    accuracy                          0.554      8775\n",
      "   macro avg      0.523     0.600     0.424      8775\n",
      "weighted avg      0.907     0.554     0.664      8775\n",
      "\n",
      "\n",
      "AUC Score:  0.600\n",
      "Positive Target Prevalence:  0.061\n"
     ]
    }
   ],
   "source": [
    "test_score(clf_nb_ber_opt, x_te)"
   ]
  },
  {
   "cell_type": "markdown",
   "metadata": {},
   "source": [
    "### Cross Validation"
   ]
  },
  {
   "cell_type": "code",
   "execution_count": 49,
   "metadata": {},
   "outputs": [
    {
     "name": "stdout",
     "output_type": "stream",
     "text": [
      "fit_time : 0.010\n",
      "score_time : 0.019\n",
      "test_roc_auc : 0.633\n",
      "test_accuracy : 0.938\n",
      "test_balanced_accuracy : 0.502\n",
      "test_precision : 0.130\n",
      "test_recall : 0.006\n",
      "test_f1 : 0.011\n",
      "positive target prevalence:  0.061\n"
     ]
    },
    {
     "name": "stderr",
     "output_type": "stream",
     "text": [
      "C:\\Users\\canfi\\Anaconda3\\lib\\site-packages\\sklearn\\metrics\\classification.py:1437: UndefinedMetricWarning: Precision is ill-defined and being set to 0.0 due to no predicted samples.\n",
      "  'precision', 'predicted', average, warn_for)\n",
      "C:\\Users\\canfi\\Anaconda3\\lib\\site-packages\\sklearn\\metrics\\classification.py:1437: UndefinedMetricWarning: F-score is ill-defined and being set to 0.0 due to no predicted samples.\n",
      "  'precision', 'predicted', average, warn_for)\n"
     ]
    }
   ],
   "source": [
    "test_score_cv(clf_nb_ber_opt, x_te)"
   ]
  },
  {
   "cell_type": "markdown",
   "metadata": {},
   "source": [
    "## KNNeighbors"
   ]
  },
  {
   "cell_type": "markdown",
   "metadata": {},
   "source": [
    "### Overall Metrics"
   ]
  },
  {
   "cell_type": "code",
   "execution_count": 50,
   "metadata": {},
   "outputs": [
    {
     "name": "stdout",
     "output_type": "stream",
     "text": [
      "Detailed classification report:\n",
      "\n",
      "The model is trained and tuned on the training and validation sets..\n",
      "The scores are computed on the test set.\n",
      "\n",
      "              precision    recall  f1-score   support\n",
      "\n",
      "           0      0.957     0.513     0.668      8241\n",
      "           1      0.079     0.644     0.141       534\n",
      "\n",
      "    accuracy                          0.521      8775\n",
      "   macro avg      0.518     0.579     0.404      8775\n",
      "weighted avg      0.904     0.521     0.636      8775\n",
      "\n",
      "\n",
      "AUC Score:  0.579\n",
      "Positive Target Prevalence:  0.061\n"
     ]
    }
   ],
   "source": [
    "test_score(clf_knn_opt, x_te)"
   ]
  },
  {
   "cell_type": "markdown",
   "metadata": {},
   "source": [
    "### Cross Validation"
   ]
  },
  {
   "cell_type": "code",
   "execution_count": 51,
   "metadata": {},
   "outputs": [
    {
     "name": "stderr",
     "output_type": "stream",
     "text": [
      "C:\\Users\\canfi\\Anaconda3\\lib\\site-packages\\sklearn\\metrics\\classification.py:1437: UndefinedMetricWarning: Precision is ill-defined and being set to 0.0 due to no predicted samples.\n",
      "  'precision', 'predicted', average, warn_for)\n",
      "C:\\Users\\canfi\\Anaconda3\\lib\\site-packages\\sklearn\\metrics\\classification.py:1437: UndefinedMetricWarning: F-score is ill-defined and being set to 0.0 due to no predicted samples.\n",
      "  'precision', 'predicted', average, warn_for)\n"
     ]
    },
    {
     "name": "stdout",
     "output_type": "stream",
     "text": [
      "fit_time : 0.018\n",
      "score_time : 0.881\n",
      "test_roc_auc : 0.522\n",
      "test_accuracy : 0.938\n",
      "test_balanced_accuracy : 0.501\n",
      "test_precision : 0.167\n",
      "test_recall : 0.004\n",
      "test_f1 : 0.007\n",
      "positive target prevalence:  0.061\n"
     ]
    }
   ],
   "source": [
    "test_score_cv(clf_knn_opt, x_te)"
   ]
  },
  {
   "cell_type": "markdown",
   "metadata": {},
   "source": [
    "## Logistic Regression"
   ]
  },
  {
   "cell_type": "markdown",
   "metadata": {},
   "source": [
    "### Overall Metrics"
   ]
  },
  {
   "cell_type": "code",
   "execution_count": 52,
   "metadata": {},
   "outputs": [
    {
     "name": "stdout",
     "output_type": "stream",
     "text": [
      "Detailed classification report:\n",
      "\n",
      "The model is trained and tuned on the training and validation sets..\n",
      "The scores are computed on the test set.\n",
      "\n",
      "              precision    recall  f1-score   support\n",
      "\n",
      "           0      0.960     0.593     0.733      8241\n",
      "           1      0.090     0.622     0.157       534\n",
      "\n",
      "    accuracy                          0.594      8775\n",
      "   macro avg      0.525     0.607     0.445      8775\n",
      "weighted avg      0.907     0.594     0.698      8775\n",
      "\n",
      "\n",
      "AUC Score:  0.607\n",
      "Positive Target Prevalence:  0.061\n"
     ]
    }
   ],
   "source": [
    "test_score(clf_log_opt, x_te)"
   ]
  },
  {
   "cell_type": "markdown",
   "metadata": {},
   "source": [
    "### Cross Validation"
   ]
  },
  {
   "cell_type": "code",
   "execution_count": 53,
   "metadata": {},
   "outputs": [
    {
     "name": "stderr",
     "output_type": "stream",
     "text": [
      "C:\\Users\\canfi\\Anaconda3\\lib\\site-packages\\sklearn\\linear_model\\sag.py:337: ConvergenceWarning: The max_iter was reached which means the coef_ did not converge\n",
      "  \"the coef_ did not converge\", ConvergenceWarning)\n",
      "C:\\Users\\canfi\\Anaconda3\\lib\\site-packages\\sklearn\\metrics\\classification.py:1437: UndefinedMetricWarning: Precision is ill-defined and being set to 0.0 due to no predicted samples.\n",
      "  'precision', 'predicted', average, warn_for)\n",
      "C:\\Users\\canfi\\Anaconda3\\lib\\site-packages\\sklearn\\metrics\\classification.py:1437: UndefinedMetricWarning: F-score is ill-defined and being set to 0.0 due to no predicted samples.\n",
      "  'precision', 'predicted', average, warn_for)\n",
      "C:\\Users\\canfi\\Anaconda3\\lib\\site-packages\\sklearn\\metrics\\classification.py:1437: UndefinedMetricWarning: Precision is ill-defined and being set to 0.0 due to no predicted samples.\n",
      "  'precision', 'predicted', average, warn_for)\n",
      "C:\\Users\\canfi\\Anaconda3\\lib\\site-packages\\sklearn\\metrics\\classification.py:1437: UndefinedMetricWarning: F-score is ill-defined and being set to 0.0 due to no predicted samples.\n",
      "  'precision', 'predicted', average, warn_for)\n",
      "C:\\Users\\canfi\\Anaconda3\\lib\\site-packages\\sklearn\\metrics\\classification.py:1437: UndefinedMetricWarning: Precision is ill-defined and being set to 0.0 due to no predicted samples.\n",
      "  'precision', 'predicted', average, warn_for)\n",
      "C:\\Users\\canfi\\Anaconda3\\lib\\site-packages\\sklearn\\metrics\\classification.py:1437: UndefinedMetricWarning: F-score is ill-defined and being set to 0.0 due to no predicted samples.\n",
      "  'precision', 'predicted', average, warn_for)\n",
      "C:\\Users\\canfi\\Anaconda3\\lib\\site-packages\\sklearn\\metrics\\classification.py:1437: UndefinedMetricWarning: Precision is ill-defined and being set to 0.0 due to no predicted samples.\n",
      "  'precision', 'predicted', average, warn_for)\n",
      "C:\\Users\\canfi\\Anaconda3\\lib\\site-packages\\sklearn\\metrics\\classification.py:1437: UndefinedMetricWarning: F-score is ill-defined and being set to 0.0 due to no predicted samples.\n",
      "  'precision', 'predicted', average, warn_for)\n"
     ]
    },
    {
     "name": "stdout",
     "output_type": "stream",
     "text": [
      "fit_time : 13.751\n",
      "score_time : 0.012\n",
      "test_roc_auc : 0.632\n",
      "test_accuracy : 0.939\n",
      "test_balanced_accuracy : 0.500\n",
      "test_precision : 0.000\n",
      "test_recall : 0.000\n",
      "test_f1 : 0.000\n",
      "positive target prevalence:  0.061\n"
     ]
    },
    {
     "name": "stderr",
     "output_type": "stream",
     "text": [
      "C:\\Users\\canfi\\Anaconda3\\lib\\site-packages\\sklearn\\metrics\\classification.py:1437: UndefinedMetricWarning: Precision is ill-defined and being set to 0.0 due to no predicted samples.\n",
      "  'precision', 'predicted', average, warn_for)\n",
      "C:\\Users\\canfi\\Anaconda3\\lib\\site-packages\\sklearn\\metrics\\classification.py:1437: UndefinedMetricWarning: F-score is ill-defined and being set to 0.0 due to no predicted samples.\n",
      "  'precision', 'predicted', average, warn_for)\n"
     ]
    }
   ],
   "source": [
    "test_score_cv(clf_log_opt, x_te)"
   ]
  },
  {
   "cell_type": "markdown",
   "metadata": {},
   "source": [
    "## Random Forest"
   ]
  },
  {
   "cell_type": "code",
   "execution_count": null,
   "metadata": {},
   "outputs": [],
   "source": [
    "clf = clf_rf_opt"
   ]
  },
  {
   "cell_type": "code",
   "execution_count": 62,
   "metadata": {},
   "outputs": [
    {
     "name": "stdout",
     "output_type": "stream",
     "text": [
      "Detailed classification report:\n",
      "\n",
      "The model is trained and tuned on the training and validation sets..\n",
      "The scores are computed on the test set.\n",
      "\n",
      "              precision    recall  f1-score   support\n",
      "\n",
      "           0      0.958     0.569     0.714      8241\n",
      "           1      0.085     0.616     0.149       534\n",
      "\n",
      "    accuracy                          0.572      8775\n",
      "   macro avg      0.522     0.593     0.432      8775\n",
      "weighted avg      0.905     0.572     0.680      8775\n",
      "\n",
      "\n",
      "AUC Score:  0.593\n",
      "Positive Target Prevalence:  0.061\n"
     ]
    }
   ],
   "source": [
    "test_score(clf, x_te)"
   ]
  },
  {
   "cell_type": "code",
   "execution_count": 63,
   "metadata": {},
   "outputs": [
    {
     "name": "stderr",
     "output_type": "stream",
     "text": [
      "C:\\Users\\canfi\\Anaconda3\\lib\\site-packages\\sklearn\\metrics\\classification.py:1437: UndefinedMetricWarning: Precision is ill-defined and being set to 0.0 due to no predicted samples.\n",
      "  'precision', 'predicted', average, warn_for)\n",
      "C:\\Users\\canfi\\Anaconda3\\lib\\site-packages\\sklearn\\metrics\\classification.py:1437: UndefinedMetricWarning: F-score is ill-defined and being set to 0.0 due to no predicted samples.\n",
      "  'precision', 'predicted', average, warn_for)\n",
      "C:\\Users\\canfi\\Anaconda3\\lib\\site-packages\\sklearn\\metrics\\classification.py:1437: UndefinedMetricWarning: Precision is ill-defined and being set to 0.0 due to no predicted samples.\n",
      "  'precision', 'predicted', average, warn_for)\n",
      "C:\\Users\\canfi\\Anaconda3\\lib\\site-packages\\sklearn\\metrics\\classification.py:1437: UndefinedMetricWarning: F-score is ill-defined and being set to 0.0 due to no predicted samples.\n",
      "  'precision', 'predicted', average, warn_for)\n",
      "C:\\Users\\canfi\\Anaconda3\\lib\\site-packages\\sklearn\\metrics\\classification.py:1437: UndefinedMetricWarning: Precision is ill-defined and being set to 0.0 due to no predicted samples.\n",
      "  'precision', 'predicted', average, warn_for)\n",
      "C:\\Users\\canfi\\Anaconda3\\lib\\site-packages\\sklearn\\metrics\\classification.py:1437: UndefinedMetricWarning: F-score is ill-defined and being set to 0.0 due to no predicted samples.\n",
      "  'precision', 'predicted', average, warn_for)\n",
      "C:\\Users\\canfi\\Anaconda3\\lib\\site-packages\\sklearn\\metrics\\classification.py:1437: UndefinedMetricWarning: Precision is ill-defined and being set to 0.0 due to no predicted samples.\n",
      "  'precision', 'predicted', average, warn_for)\n",
      "C:\\Users\\canfi\\Anaconda3\\lib\\site-packages\\sklearn\\metrics\\classification.py:1437: UndefinedMetricWarning: F-score is ill-defined and being set to 0.0 due to no predicted samples.\n",
      "  'precision', 'predicted', average, warn_for)\n"
     ]
    },
    {
     "name": "stdout",
     "output_type": "stream",
     "text": [
      "fit_time : 0.573\n",
      "score_time : 0.038\n",
      "test_roc_auc : 0.637\n",
      "test_accuracy : 0.939\n",
      "test_balanced_accuracy : 0.500\n",
      "test_precision : 0.000\n",
      "test_recall : 0.000\n",
      "test_f1 : 0.000\n",
      "positive target prevalence:  0.061\n"
     ]
    },
    {
     "name": "stderr",
     "output_type": "stream",
     "text": [
      "C:\\Users\\canfi\\Anaconda3\\lib\\site-packages\\sklearn\\metrics\\classification.py:1437: UndefinedMetricWarning: Precision is ill-defined and being set to 0.0 due to no predicted samples.\n",
      "  'precision', 'predicted', average, warn_for)\n",
      "C:\\Users\\canfi\\Anaconda3\\lib\\site-packages\\sklearn\\metrics\\classification.py:1437: UndefinedMetricWarning: F-score is ill-defined and being set to 0.0 due to no predicted samples.\n",
      "  'precision', 'predicted', average, warn_for)\n"
     ]
    }
   ],
   "source": [
    "test_score_cv(clf, x_te)"
   ]
  },
  {
   "cell_type": "markdown",
   "metadata": {},
   "source": [
    "## Ada Boost"
   ]
  },
  {
   "cell_type": "code",
   "execution_count": 54,
   "metadata": {},
   "outputs": [],
   "source": [
    "clf = clf_ada_opt"
   ]
  },
  {
   "cell_type": "markdown",
   "metadata": {},
   "source": [
    "### Overall Metrics"
   ]
  },
  {
   "cell_type": "code",
   "execution_count": 55,
   "metadata": {},
   "outputs": [
    {
     "name": "stdout",
     "output_type": "stream",
     "text": [
      "Detailed classification report:\n",
      "\n",
      "The model is trained and tuned on the training and validation sets..\n",
      "The scores are computed on the test set.\n",
      "\n",
      "              precision    recall  f1-score   support\n",
      "\n",
      "           0      0.959     0.595     0.734      8241\n",
      "           1      0.088     0.603     0.154       534\n",
      "\n",
      "    accuracy                          0.595      8775\n",
      "   macro avg      0.523     0.599     0.444      8775\n",
      "weighted avg      0.906     0.595     0.699      8775\n",
      "\n",
      "\n",
      "AUC Score:  0.599\n",
      "Positive Target Prevalence:  0.061\n"
     ]
    }
   ],
   "source": [
    "test_score(clf, x_te)"
   ]
  },
  {
   "cell_type": "markdown",
   "metadata": {},
   "source": [
    "### Cross Validation"
   ]
  },
  {
   "cell_type": "code",
   "execution_count": 56,
   "metadata": {},
   "outputs": [
    {
     "name": "stderr",
     "output_type": "stream",
     "text": [
      "C:\\Users\\canfi\\Anaconda3\\lib\\site-packages\\sklearn\\metrics\\classification.py:1437: UndefinedMetricWarning: Precision is ill-defined and being set to 0.0 due to no predicted samples.\n",
      "  'precision', 'predicted', average, warn_for)\n",
      "C:\\Users\\canfi\\Anaconda3\\lib\\site-packages\\sklearn\\metrics\\classification.py:1437: UndefinedMetricWarning: F-score is ill-defined and being set to 0.0 due to no predicted samples.\n",
      "  'precision', 'predicted', average, warn_for)\n",
      "C:\\Users\\canfi\\Anaconda3\\lib\\site-packages\\sklearn\\metrics\\classification.py:1437: UndefinedMetricWarning: Precision is ill-defined and being set to 0.0 due to no predicted samples.\n",
      "  'precision', 'predicted', average, warn_for)\n",
      "C:\\Users\\canfi\\Anaconda3\\lib\\site-packages\\sklearn\\metrics\\classification.py:1437: UndefinedMetricWarning: F-score is ill-defined and being set to 0.0 due to no predicted samples.\n",
      "  'precision', 'predicted', average, warn_for)\n",
      "C:\\Users\\canfi\\Anaconda3\\lib\\site-packages\\sklearn\\metrics\\classification.py:1437: UndefinedMetricWarning: Precision is ill-defined and being set to 0.0 due to no predicted samples.\n",
      "  'precision', 'predicted', average, warn_for)\n",
      "C:\\Users\\canfi\\Anaconda3\\lib\\site-packages\\sklearn\\metrics\\classification.py:1437: UndefinedMetricWarning: F-score is ill-defined and being set to 0.0 due to no predicted samples.\n",
      "  'precision', 'predicted', average, warn_for)\n",
      "C:\\Users\\canfi\\Anaconda3\\lib\\site-packages\\sklearn\\metrics\\classification.py:1437: UndefinedMetricWarning: Precision is ill-defined and being set to 0.0 due to no predicted samples.\n",
      "  'precision', 'predicted', average, warn_for)\n",
      "C:\\Users\\canfi\\Anaconda3\\lib\\site-packages\\sklearn\\metrics\\classification.py:1437: UndefinedMetricWarning: F-score is ill-defined and being set to 0.0 due to no predicted samples.\n",
      "  'precision', 'predicted', average, warn_for)\n",
      "C:\\Users\\canfi\\Anaconda3\\lib\\site-packages\\sklearn\\metrics\\classification.py:1437: UndefinedMetricWarning: Precision is ill-defined and being set to 0.0 due to no predicted samples.\n",
      "  'precision', 'predicted', average, warn_for)\n"
     ]
    },
    {
     "name": "stdout",
     "output_type": "stream",
     "text": [
      "fit_time : 2.709\n",
      "score_time : 0.907\n",
      "test_roc_auc : 0.636\n",
      "test_accuracy : 0.939\n",
      "test_balanced_accuracy : 0.500\n",
      "test_precision : 0.000\n",
      "test_recall : 0.000\n",
      "test_f1 : 0.000\n",
      "positive target prevalence:  0.061\n"
     ]
    },
    {
     "name": "stderr",
     "output_type": "stream",
     "text": [
      "C:\\Users\\canfi\\Anaconda3\\lib\\site-packages\\sklearn\\metrics\\classification.py:1437: UndefinedMetricWarning: F-score is ill-defined and being set to 0.0 due to no predicted samples.\n",
      "  'precision', 'predicted', average, warn_for)\n"
     ]
    }
   ],
   "source": [
    "test_score_cv(clf, x_te)"
   ]
  },
  {
   "cell_type": "markdown",
   "metadata": {},
   "source": [
    "## XGBoost"
   ]
  },
  {
   "cell_type": "code",
   "execution_count": 58,
   "metadata": {},
   "outputs": [],
   "source": [
    "clf = clf_xbg_opt"
   ]
  },
  {
   "cell_type": "markdown",
   "metadata": {},
   "source": [
    "### Overall Metrics"
   ]
  },
  {
   "cell_type": "code",
   "execution_count": 59,
   "metadata": {},
   "outputs": [
    {
     "name": "stdout",
     "output_type": "stream",
     "text": [
      "Detailed classification report:\n",
      "\n",
      "The model is trained and tuned on the training and validation sets..\n",
      "The scores are computed on the test set.\n",
      "\n",
      "              precision    recall  f1-score   support\n",
      "\n",
      "           0      0.958     0.569     0.714      8241\n",
      "           1      0.085     0.616     0.149       534\n",
      "\n",
      "    accuracy                          0.572      8775\n",
      "   macro avg      0.522     0.593     0.432      8775\n",
      "weighted avg      0.905     0.572     0.680      8775\n",
      "\n",
      "\n",
      "AUC Score:  0.593\n",
      "Positive Target Prevalence:  0.061\n"
     ]
    }
   ],
   "source": [
    "test_score(clf, x_te)"
   ]
  },
  {
   "cell_type": "markdown",
   "metadata": {},
   "source": [
    "### Cross Validation"
   ]
  },
  {
   "cell_type": "code",
   "execution_count": 61,
   "metadata": {
    "scrolled": true
   },
   "outputs": [
    {
     "name": "stderr",
     "output_type": "stream",
     "text": [
      "C:\\Users\\canfi\\Anaconda3\\lib\\site-packages\\sklearn\\metrics\\classification.py:1437: UndefinedMetricWarning: Precision is ill-defined and being set to 0.0 due to no predicted samples.\n",
      "  'precision', 'predicted', average, warn_for)\n",
      "C:\\Users\\canfi\\Anaconda3\\lib\\site-packages\\sklearn\\metrics\\classification.py:1437: UndefinedMetricWarning: F-score is ill-defined and being set to 0.0 due to no predicted samples.\n",
      "  'precision', 'predicted', average, warn_for)\n",
      "C:\\Users\\canfi\\Anaconda3\\lib\\site-packages\\sklearn\\metrics\\classification.py:1437: UndefinedMetricWarning: Precision is ill-defined and being set to 0.0 due to no predicted samples.\n",
      "  'precision', 'predicted', average, warn_for)\n",
      "C:\\Users\\canfi\\Anaconda3\\lib\\site-packages\\sklearn\\metrics\\classification.py:1437: UndefinedMetricWarning: F-score is ill-defined and being set to 0.0 due to no predicted samples.\n",
      "  'precision', 'predicted', average, warn_for)\n",
      "C:\\Users\\canfi\\Anaconda3\\lib\\site-packages\\sklearn\\metrics\\classification.py:1437: UndefinedMetricWarning: Precision is ill-defined and being set to 0.0 due to no predicted samples.\n",
      "  'precision', 'predicted', average, warn_for)\n",
      "C:\\Users\\canfi\\Anaconda3\\lib\\site-packages\\sklearn\\metrics\\classification.py:1437: UndefinedMetricWarning: F-score is ill-defined and being set to 0.0 due to no predicted samples.\n",
      "  'precision', 'predicted', average, warn_for)\n",
      "C:\\Users\\canfi\\Anaconda3\\lib\\site-packages\\sklearn\\metrics\\classification.py:1437: UndefinedMetricWarning: Precision is ill-defined and being set to 0.0 due to no predicted samples.\n",
      "  'precision', 'predicted', average, warn_for)\n",
      "C:\\Users\\canfi\\Anaconda3\\lib\\site-packages\\sklearn\\metrics\\classification.py:1437: UndefinedMetricWarning: F-score is ill-defined and being set to 0.0 due to no predicted samples.\n",
      "  'precision', 'predicted', average, warn_for)\n"
     ]
    },
    {
     "name": "stdout",
     "output_type": "stream",
     "text": [
      "fit_time : 0.595\n",
      "score_time : 0.038\n",
      "test_roc_auc : 0.637\n",
      "test_accuracy : 0.939\n",
      "test_balanced_accuracy : 0.500\n",
      "test_precision : 0.000\n",
      "test_recall : 0.000\n",
      "test_f1 : 0.000\n",
      "positive target prevalence:  0.061\n"
     ]
    },
    {
     "name": "stderr",
     "output_type": "stream",
     "text": [
      "C:\\Users\\canfi\\Anaconda3\\lib\\site-packages\\sklearn\\metrics\\classification.py:1437: UndefinedMetricWarning: Precision is ill-defined and being set to 0.0 due to no predicted samples.\n",
      "  'precision', 'predicted', average, warn_for)\n",
      "C:\\Users\\canfi\\Anaconda3\\lib\\site-packages\\sklearn\\metrics\\classification.py:1437: UndefinedMetricWarning: F-score is ill-defined and being set to 0.0 due to no predicted samples.\n",
      "  'precision', 'predicted', average, warn_for)\n"
     ]
    }
   ],
   "source": [
    "test_score_cv(clf, x_te)"
   ]
  },
  {
   "cell_type": "markdown",
   "metadata": {},
   "source": [
    "# Visuals"
   ]
  },
  {
   "cell_type": "markdown",
   "metadata": {},
   "source": [
    "## ROC"
   ]
  },
  {
   "cell_type": "code",
   "execution_count": 66,
   "metadata": {},
   "outputs": [
    {
     "data": {
      "image/png": "[encoded data removed]",
      "text/plain": [
       "<Figure size 432x288 with 1 Axes>"
      ]
     },
     "metadata": {
      "needs_background": "light"
     },
     "output_type": "display_data"
    }
   ],
   "source": [
    "# Define X/Y Values\n",
    "x_tr = x_tr_imb_sample\n",
    "x_v = x_v\n",
    "x_te = x_te\n",
    "y_tr = y_tr_imb_sample\n",
    "y_v = y_v\n",
    "y_te = y_te\n",
    "\n",
    "\n",
    "model = clf_log_opt\n",
    "\n",
    "y_train_preds = model.predict_proba(x_tr)[:,1]\n",
    "y_valid_preds = model.predict_proba(x_v)[:,1]\n",
    "y_test_preds = model.predict_proba(x_te)[:,1]\n",
    "\n",
    "fpr_train, tpr_train, thresholds_train = roc_curve(y_tr, y_train_preds)\n",
    "fpr_valid, tpr_valid, thresholds_valid = roc_curve(y_v, y_valid_preds)\n",
    "fpr_test, tpr_test, thresholds_test = roc_curve(y_te, y_test_preds)\n",
    "\n",
    "thresh = 0.5\n",
    "\n",
    "auc_train = roc_auc_score(y_tr, y_train_preds)\n",
    "auc_valid = roc_auc_score(y_v, y_valid_preds)\n",
    "auc_test = roc_auc_score(y_te, y_test_preds)\n",
    "\n",
    "plt.plot(fpr_train, tpr_train,'r-', label = 'Train AUC: %.2f'%auc_train)\n",
    "plt.plot(fpr_valid, tpr_valid,'b-',label = 'Valid AUC: %.2f'%auc_valid)\n",
    "plt.plot(fpr_test, tpr_test,'g-',label = 'Test AUC: %.2f'%auc_test)\n",
    "\n",
    "plt.plot([0,1],[0,1],'-k')\n",
    "plt.xlabel('False Positive Rate')\n",
    "plt.ylabel('True Positive Rate')\n",
    "plt.legend()\n",
    "plt.show()"
   ]
  }
 ],
 "metadata": {
  "kernelspec": {
   "display_name": "Python 3",
   "language": "python",
   "name": "python3"
  },
  "language_info": {
   "codemirror_mode": {
    "name": "ipython",
    "version": 3
   },
   "file_extension": ".py",
   "mimetype": "text/x-python",
   "name": "python",
   "nbconvert_exporter": "python",
   "pygments_lexer": "ipython3",
   "version": "3.7.3"
  }
 },
 "nbformat": 4,
 "nbformat_minor": 2
}
