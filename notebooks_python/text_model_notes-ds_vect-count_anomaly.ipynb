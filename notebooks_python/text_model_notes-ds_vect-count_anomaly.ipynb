{
 "cells": [
  {
   "cell_type": "markdown",
   "metadata": {},
   "source": [
    "# Note\n",
    "Previous notebook drafts have analyzed several classification methods not included here, particularly SVM methods. The SVM classifiers did not return quality results and took long times to run. They are therefore not included in this analysis."
   ]
  },
  {
   "cell_type": "markdown",
   "metadata": {},
   "source": [
    "# Defining Parameters\n",
    "\n",
    "* **Data**: Discharge Summary Notes\n",
    "* **Model Imbalance**: Sub-Sampling Negeatives\n",
    "* **Vectorizor**: Count\n",
    "* **Vectorizor Parameters**: 3000\n",
    "* **Dimension Reduction Method**: Truncated SVD\n",
    "* **Grid Search Scoring Parameter**: f1_macro"
   ]
  },
  {
   "cell_type": "code",
   "execution_count": 382,
   "metadata": {},
   "outputs": [],
   "source": [
    "scoring_metric = 'f1_macro'\n",
    "max_features = 3000\n",
    "max_iter_log = 500\n",
    "n_iter_search = 25"
   ]
  },
  {
   "cell_type": "markdown",
   "metadata": {},
   "source": [
    "# Library Calls"
   ]
  },
  {
   "cell_type": "code",
   "execution_count": 427,
   "metadata": {},
   "outputs": [],
   "source": [
    "import pandas as pd\n",
    "import numpy as np\n",
    "import seaborn as sns\n",
    "import feather\n",
    "import nltk\n",
    "import re\n",
    "import string\n",
    "import yellowbrick\n",
    "import sklearn\n",
    "import matplotlib.pyplot as plt\n",
    "\n",
    "from scipy.stats import randint as sp_randint\n",
    "from sklearn.decomposition import TruncatedSVD\n",
    "from nltk.tokenize import sent_tokenize\n",
    "from sklearn.feature_extraction.text import CountVectorizer, TfidfVectorizer\n",
    "from yellowbrick.text import FreqDistVisualizer\n",
    "from yellowbrick.features import RadViz\n",
    "\n",
    "from sklearn.model_selection import GridSearchCV, RandomizedSearchCV, StratifiedKFold\n",
    "\n",
    "from sklearn.svm import SVC, LinearSVC\n",
    "from sklearn.ensemble import RandomForestClassifier, GradientBoostingClassifier, AdaBoostClassifier, IsolationForest\n",
    "from sklearn.linear_model import LogisticRegression\n",
    "from sklearn.naive_bayes import MultinomialNB\n",
    "from sklearn.neighbors import KNeighborsClassifier\n",
    "from xgboost import XGBClassifier\n",
    "\n",
    "from sklearn.metrics import classification_report, roc_curve, roc_auc_score\n",
    "from sklearn.metrics import accuracy_score,precision_recall_fscore_support\n",
    "from sklearn.metrics import make_scorer, accuracy_score, precision_score, recall_score, f1_score, balanced_accuracy_score\n",
    "from sklearn.metrics import confusion_matrix\n",
    "\n",
    "from sklearn.model_selection import cross_val_score, cross_validate\n",
    "\n",
    "# Random State\n",
    "rng = np.random.RandomState(5590)\n",
    "solver_log = 'saga'"
   ]
  },
  {
   "cell_type": "markdown",
   "metadata": {},
   "source": [
    "# Data Import and Processing\n",
    "## !!!One Data Frame Import Must Be Commented Out!!!!"
   ]
  },
  {
   "cell_type": "markdown",
   "metadata": {},
   "source": [
    "We define the dataframes as none for a subsqent check."
   ]
  },
  {
   "cell_type": "code",
   "execution_count": 325,
   "metadata": {},
   "outputs": [],
   "source": [
    "df_all = None\n",
    "df_ds = None"
   ]
  },
  {
   "cell_type": "code",
   "execution_count": 326,
   "metadata": {},
   "outputs": [],
   "source": [
    "# All Available Notes\n",
    "#df_all = pd.read_csv('./data/text_processed_all.csv.gz', compression='gzip', low_memory=False)\n",
    "\n",
    "# Dishcharge Summary Notes Onlly\n",
    "df_ds = pd.read_csv('./data/text_processed_discharge_summary.csv.gz', compression='gzip', low_memory=False)"
   ]
  },
  {
   "cell_type": "code",
   "execution_count": 327,
   "metadata": {},
   "outputs": [
    {
     "data": {
      "text/plain": [
       "(43875, 3)"
      ]
     },
     "execution_count": 327,
     "metadata": {},
     "output_type": "execute_result"
    }
   ],
   "source": [
    "df_ds.shape"
   ]
  },
  {
   "cell_type": "markdown",
   "metadata": {},
   "source": [
    "# Define Data Frame"
   ]
  },
  {
   "cell_type": "markdown",
   "metadata": {},
   "source": [
    "Here we do a check to see which data frame we are analyzing, All Notes or Discharge Notes"
   ]
  },
  {
   "cell_type": "code",
   "execution_count": 328,
   "metadata": {},
   "outputs": [],
   "source": [
    "if df_all is not None:\n",
    "    df = df_all\n",
    "else:\n",
    "    df = df_ds\n",
    "      \n",
    "# Convert HADMID to String\n",
    "df.hadm_id = df.hadm_id.astype('int64').astype(str)\n",
    "\n",
    "# Convert Readmit_30 to Int\n",
    "df.readmit_30 = df.readmit_30.astype('int')"
   ]
  },
  {
   "cell_type": "code",
   "execution_count": 329,
   "metadata": {},
   "outputs": [
    {
     "data": {
      "text/plain": [
       "(43875, 3)"
      ]
     },
     "execution_count": 329,
     "metadata": {},
     "output_type": "execute_result"
    }
   ],
   "source": [
    "df.shape"
   ]
  },
  {
   "cell_type": "markdown",
   "metadata": {},
   "source": [
    "# Functions"
   ]
  },
  {
   "cell_type": "markdown",
   "metadata": {},
   "source": [
    "## Modified Tokenizer\n",
    "Define a modified tokenizer function. This function will remove numbers and characters, as well as set all words to lower case."
   ]
  },
  {
   "cell_type": "code",
   "execution_count": 330,
   "metadata": {},
   "outputs": [],
   "source": [
    "def tokenize_note_events(text):\n",
    "    #create a list of all characters and numbers\n",
    "    num_puct_list = string.punctuation+'0123456789'\n",
    "    \n",
    "    # Create a dictionary aligning each numeric and chcarter to a space\n",
    "    t = str.maketrans(dict.fromkeys(num_puct_list, \" \"))\n",
    "    \n",
    "    # Convert Text to lower case and apply dictionary\n",
    "    text = text.lower().translate(t)\n",
    "    \n",
    "    #tokenize\n",
    "    tokens = nltk.word_tokenize(text)\n",
    "    return tokens"
   ]
  },
  {
   "cell_type": "markdown",
   "metadata": {},
   "source": [
    "## Custom Stop Words\n",
    "Define custom stop words"
   ]
  },
  {
   "cell_type": "code",
   "execution_count": 331,
   "metadata": {},
   "outputs": [],
   "source": [
    "stop_words = ['the','and','to','of','was','with','a','on','in','for','name',\n",
    " 'is','patient','s','he','at','as','or','one','she','his','her','am', \n",
    " 'were','you','pt','pm','by','be','had','your','this','date', 'from',\n",
    " 'there','an','that','p','are','have','has','h','but','o', \n",
    " 'namepattern','which','every','also', 'w', 'd', 'c', 'l', \n",
    " 'q', 'r', 'x', 't', 'm', 'it', 'ml']"
   ]
  },
  {
   "cell_type": "markdown",
   "metadata": {},
   "source": [
    "## Text Processing Function with Truncated SVD\n",
    "The following function performs all of the prec-processing steps, using sub-sampling to balance the data. The function tokenizes the text using 1-grams and 2-grams. The function returns a processed predictor dataframe for the training and validation data, as well as the target variable for the training and validation data."
   ]
  },
  {
   "cell_type": "code",
   "execution_count": 332,
   "metadata": {},
   "outputs": [],
   "source": [
    "def text_processing_tr_v_te(df):\n",
    "    # Clean the Entire Data Set of numbers, characters, carriage returns, and new lines\n",
    "    df.text = df.text.fillna(' ')\n",
    "    df.text = df.text.str.replace('\\n',' ')\n",
    "    df.text = df.text.str.replace('\\r',' ')\n",
    "    \n",
    "    # Split into Train, Valid and Test\n",
    "    ## Shuffle\n",
    "    df = df.sample(n = len(df), random_state = rng)\n",
    "    df = df.reset_index(drop = True)\n",
    "    \n",
    "    ## Extract Data for Test and Valid Sampling\n",
    "    df_v_te = df.sample(frac=0.40, random_state = rng)\n",
    "    \n",
    "    ## Test Sample\n",
    "    df_te = df_v_te.sample(frac = 0.5, random_state = rng)\n",
    "    \n",
    "    ## Valid Sample\n",
    "    df_v = df_v_te.drop(df_te.index)\n",
    "\n",
    "    ## Training Sample\n",
    "    df_tr = df.drop(df_v_te.index)\n",
    "    \n",
    "    # Initialize Vectorizer and SVD\n",
    "    ## Use Modified Tokenizer, Set number of n-grams, use custom stop words\n",
    "    vect = CountVectorizer(max_features = max_features, \n",
    "                           tokenizer = tokenize_note_events, \n",
    "                           ngram_range = (1,2),\n",
    "                           stop_words=stop_words\n",
    "                          )\n",
    "\n",
    "    # Transform Text\n",
    "    # Fit Vectorizer on Training Data\n",
    "    vect.fit(df_tr.text.values)\n",
    "\n",
    "    # Transform the text into vectors.\n",
    "    x_tr_tf = vect.transform(df_tr.text.values)\n",
    "    x_v_tf = vect.transform(df_v.text.values)\n",
    "    x_te_tf  = vect.transform(df_te.text.values)\n",
    "\n",
    "    # Define Target Variables\n",
    "    y_tr = df_tr.readmit_30\n",
    "    y_v = df_v.readmit_30\n",
    "    y_te = df_te.readmit_30\n",
    "    \n",
    "    return x_tr_tf, x_v_tf, x_te_tf, y_tr, y_v, y_te"
   ]
  },
  {
   "cell_type": "markdown",
   "metadata": {},
   "source": [
    "## Truncated SVD"
   ]
  },
  {
   "cell_type": "code",
   "execution_count": 333,
   "metadata": {},
   "outputs": [],
   "source": [
    "def trunc_svd(x_tr, x_v, x_te, n):\n",
    "    svd = TruncatedSVD(n_components = n, n_iter = 7, random_state = rng)\n",
    "    # Fit SVD on Training Data\n",
    "    svd.fit(x_tr)\n",
    "    \n",
    "    # Transform Sparse Matrices\n",
    "    x_tr_svd = svd.transform(x_tr)\n",
    "    x_v_svd = svd.transform(x_v)\n",
    "    x_te_svd  = svd.transform(x_te)\n",
    "    \n",
    "    return x_tr_svd, x_v_svd, x_te_svd, svd"
   ]
  },
  {
   "cell_type": "markdown",
   "metadata": {},
   "source": [
    "## Model Output"
   ]
  },
  {
   "cell_type": "markdown",
   "metadata": {},
   "source": [
    "### Scoring Metrics\n",
    "The following functions calculate the scoring metrics the models will be evlauted on."
   ]
  },
  {
   "cell_type": "code",
   "execution_count": 334,
   "metadata": {},
   "outputs": [],
   "source": [
    "def calc_specificity(y_actual, y_pred, thresh):\n",
    "    # calculates specificity\n",
    "    return sum((y_pred < thresh) & (y_actual == 0)) /sum(y_actual ==0)\n",
    "\n",
    "def calc_prevalence(y_actual):\n",
    "    # calculates prevalence\n",
    "    return sum((y_actual == 1)) /len(y_actual)"
   ]
  },
  {
   "cell_type": "markdown",
   "metadata": {},
   "source": [
    "### Scoring Output\n",
    "The following code generates the visual output of the scoring metrics."
   ]
  },
  {
   "cell_type": "code",
   "execution_count": 335,
   "metadata": {},
   "outputs": [],
   "source": [
    "def roc_curve_plot(y_tr, y_tr_preds, y_v, y_v_preds):\n",
    "    \n",
    "    fpr_tr, tpr_tr, thresholds_tr = roc_curve(y_tr, y_tr_preds)\n",
    "    fpr_v, tpr_v, thresholds_v = roc_curve(y_v, y_v_preds)\n",
    "    \n",
    "    plt.plot(fpr_tr, tpr_tr,'r-', label = 'Train AUC: %.2f'%roc_auc_score(y_tr, y_tr_preds))\n",
    "    plt.plot(fpr_v, tpr_v,'b-',label = 'Valid AUC: %.2f'%roc_auc_score(y_v, y_v_preds))\n",
    "    plt.plot([0,1],[0,1],'-k')\n",
    "    plt.xlabel('False Positive Rate')\n",
    "    plt.ylabel('True Positive Rate')\n",
    "    plt.legend()\n",
    "    plt.show()"
   ]
  },
  {
   "cell_type": "markdown",
   "metadata": {},
   "source": [
    "### Confusion Matrix"
   ]
  },
  {
   "cell_type": "code",
   "execution_count": 404,
   "metadata": {},
   "outputs": [],
   "source": [
    "def pretty_cm(y_pred, y_truth, labels):\n",
    "    '''\n",
    "    'Pretty' implementation of a confusion matrix with some evaluation statistics.\n",
    "    \n",
    "    Input:\n",
    "    y_pred - object with class predictions from the model\n",
    "    y_truth - object with actual classes\n",
    "    labels - list containing label names\n",
    "    '''\n",
    "    \n",
    "    cm = confusion_matrix(y_truth, y_pred)\n",
    "    ax= plt.subplot()\n",
    "    sns.heatmap(cm, annot=True, fmt=\"d\", linewidths=.5, square = True, cmap = 'BuGn_r')\n",
    "    ax.set_xlabel('Predicted label')\n",
    "    ax.set_ylabel('Actual label')\n",
    "    ax.set_title('Confusion Matrix', size = 15) \n",
    "    ax.xaxis.set_ticklabels(labels)\n",
    "    ax.yaxis.set_ticklabels(labels)\n",
    "    \n",
    "    print('#######################')\n",
    "    print('Evaluation metrics ####')\n",
    "    print('#######################')\n",
    "    print('Accuracy: {:.3f}'.format(accuracy_score(y_truth, y_pred)))\n",
    "    print('AUC Score: {:.3f}'.format(roc_auc_score(y_truth, y_pred)))\n",
    "    print('Precision: {:.3f}'.format(precision_score(y_truth, y_pred)))\n",
    "    print('Precision Weighted: {:.3f}'.format(precision_score(y_truth, y_pred, average = 'weighted')))\n",
    "    print('Recall: {:.3f}'.format(recall_score(y_truth, y_pred)))\n",
    "    print('Recall Weighted: {:.3f}'.format(recall_score(y_truth, y_pred, average = 'weighted')))\n",
    "    print('F1: {:.3f}'.format(f1_score(y_truth, y_pred)))\n",
    "    print('F1 Weighted: {:.3f}'.format(f1_score(y_truth, y_pred, average = 'weighted')))\n",
    "    print('Prevelance: {:.3f}'.format(calc_prevalence(y_truth)))"
   ]
  },
  {
   "cell_type": "markdown",
   "metadata": {},
   "source": [
    "## Model Execution"
   ]
  },
  {
   "cell_type": "markdown",
   "metadata": {},
   "source": [
    "The following function trains a default model to the training data and generates training and validation scores."
   ]
  },
  {
   "cell_type": "code",
   "execution_count": 337,
   "metadata": {},
   "outputs": [],
   "source": [
    "def train_model_default(clf, x_tr, x_v):\n",
    "    \n",
    "    clf.fit(x_tr, y_tr)\n",
    "\n",
    "    y_tr_preds = clf.predict_proba(x_tr)[:,1]\n",
    "    y_v_preds = clf.predict_proba(x_v)[:,1]\n",
    "\n",
    "    roc_curve(y_tr, y_tr_preds, y_v, y_v_preds)"
   ]
  },
  {
   "cell_type": "markdown",
   "metadata": {},
   "source": [
    "The following function takes in the optimized model and generates training and validation scores\n"
   ]
  },
  {
   "cell_type": "code",
   "execution_count": 338,
   "metadata": {},
   "outputs": [],
   "source": [
    "def opt_model_scoring(clf, x_tr, x_v):\n",
    "    \n",
    "    y_tr_preds = clf.predict_proba(x_tr)[:,1]\n",
    "    y_v_preds = clf.predict_proba(x_v)[:,1]\n",
    "\n",
    "    roc_curve(y_tr, y_tr_preds, y_v, y_v_preds)"
   ]
  },
  {
   "cell_type": "markdown",
   "metadata": {},
   "source": [
    "The following function runs the gridsearchcv"
   ]
  },
  {
   "cell_type": "markdown",
   "metadata": {},
   "source": [
    "# Data Set: Discharge Notes\n",
    "The following analysis will be of the data frame with all discharge notes."
   ]
  },
  {
   "cell_type": "markdown",
   "metadata": {},
   "source": [
    "## Data Processing"
   ]
  },
  {
   "cell_type": "markdown",
   "metadata": {},
   "source": [
    "First the data is processed and tokenized. This will take a while."
   ]
  },
  {
   "cell_type": "code",
   "execution_count": 340,
   "metadata": {
    "scrolled": true
   },
   "outputs": [],
   "source": [
    "df = df.sample(frac = 1, random_state = rng)\n",
    "x_tr, x_v, x_te, y_tr, y_v, y_te = text_processing_tr_v_te(df)"
   ]
  },
  {
   "cell_type": "markdown",
   "metadata": {},
   "source": [
    "## Modeling - Default Settings"
   ]
  },
  {
   "cell_type": "markdown",
   "metadata": {},
   "source": [
    "### Isolation Forest"
   ]
  },
  {
   "cell_type": "code",
   "execution_count": 343,
   "metadata": {},
   "outputs": [
    {
     "name": "stderr",
     "output_type": "stream",
     "text": [
      "C:\\Users\\canfi\\Anaconda3\\lib\\site-packages\\sklearn\\ensemble\\iforest.py:237: FutureWarning: default contamination parameter 0.1 will change in version 0.22 to \"auto\". This will change the predict method behavior.\n",
      "  FutureWarning)\n",
      "[Parallel(n_jobs=1)]: Using backend SequentialBackend with 1 concurrent workers.\n",
      "[Parallel(n_jobs=1)]: Done   1 out of   1 | elapsed:  1.4min finished\n"
     ]
    },
    {
     "data": {
      "text/plain": [
       "IsolationForest(behaviour='new', bootstrap=False, contamination='legacy',\n",
       "                max_features=1.0, max_samples=100, n_estimators=100,\n",
       "                n_jobs=None,\n",
       "                random_state=<mtrand.RandomState object at 0x0000021709861E10>,\n",
       "                verbose=1, warm_start=False)"
      ]
     },
     "execution_count": 343,
     "metadata": {},
     "output_type": "execute_result"
    }
   ],
   "source": [
    "clf = IsolationForest(max_samples=100, random_state=rng,  behaviour=\"new\", verbose = 1)\n",
    "\n",
    "clf.fit(x_tr)"
   ]
  },
  {
   "cell_type": "code",
   "execution_count": 344,
   "metadata": {},
   "outputs": [
    {
     "name": "stdout",
     "output_type": "stream",
     "text": [
      "#######################\n",
      "Evaluation metrics ####\n",
      "#######################\n",
      "Accuracy: 0.854\n",
      "AUC Score: 0.531\n",
      "Precision: 0.106\n",
      "Recall: 0.159\n",
      "F1: 0.127\n",
      "Prevelance: 0.067\n"
     ]
    },
    {
     "data": {
      "image/png": "[encoded data removed]",
      "text/plain": [
       "<Figure size 432x288 with 2 Axes>"
      ]
     },
     "metadata": {
      "needs_background": "light"
     },
     "output_type": "display_data"
    }
   ],
   "source": [
    "# Training\n",
    "x = x_tr\n",
    "y_pred = clf.predict(x)\n",
    "y_pred = [1 if x == -1 else 0 for x in y_pred]\n",
    "y_tr_pred = pd.Series(y_pred)\n",
    "pretty_cm(y_pred, y_tr, [0, 1])"
   ]
  },
  {
   "cell_type": "code",
   "execution_count": 345,
   "metadata": {},
   "outputs": [
    {
     "name": "stdout",
     "output_type": "stream",
     "text": [
      "#######################\n",
      "Evaluation metrics ####\n",
      "#######################\n",
      "Accuracy: 0.857\n",
      "AUC Score: 0.527\n",
      "Precision: 0.094\n",
      "Recall: 0.150\n",
      "F1: 0.115\n",
      "Prevelance: 0.062\n"
     ]
    },
    {
     "data": {
      "image/png": "[encoded data removed]",
      "text/plain": [
       "<Figure size 432x288 with 2 Axes>"
      ]
     },
     "metadata": {
      "needs_background": "light"
     },
     "output_type": "display_data"
    }
   ],
   "source": [
    "# Validation\n",
    "x = x_v\n",
    "y = y_v\n",
    "y_pred = clf.predict(x)\n",
    "y_pred = [1 if x == -1 else 0 for x in y_pred]\n",
    "y_v_pred = pd.Series(y_pred)\n",
    "\n",
    "pretty_cm(y_pred, y, [0, 1])"
   ]
  },
  {
   "cell_type": "code",
   "execution_count": 346,
   "metadata": {},
   "outputs": [],
   "source": [
    "#roc_curve(y_tr, y_tr_pred, y_v, y_v_pred)"
   ]
  },
  {
   "cell_type": "markdown",
   "metadata": {},
   "source": [
    "## Parameter Optimization"
   ]
  },
  {
   "cell_type": "markdown",
   "metadata": {},
   "source": [
    "### Average Precision\n",
    "Ran poorly. Do not re-run."
   ]
  },
  {
   "cell_type": "code",
   "execution_count": 371,
   "metadata": {},
   "outputs": [],
   "source": [
    "# # Model\n",
    "# clf = IsolationForest(random_state=rng,  behaviour=\"new\")\n",
    "\n",
    "# # Parameters\n",
    "# param_dist = {'n_estimators':sp_randint(100,400),\n",
    "#                    'max_samples': sp_randint(100,500), \n",
    "#                    'contamination': [0.01, 0.05, 0.1, 0.2], \n",
    "#                    'max_features': sp_randint(1,20), \n",
    "#                    'bootstrap': [True, False]}\n",
    "\n",
    "# # Scorer\n",
    "# scorer = 'average_precision'\n",
    "\n",
    "# # Number of Search\n",
    "# n_iter_search = n_iter_search\n",
    "\n",
    "# # Radomizer\n",
    "# random_if_estimator = RandomizedSearchCV(clf, \n",
    "#                                        param_dist,\n",
    "#                                        n_iter = n_iter_search,\n",
    "#                                        scoring = scorer, \n",
    "#                                        cv=5,\n",
    "#                                        n_jobs = 4,\n",
    "#                                        verbose = 1,\n",
    "#                                        return_train_score = True)"
   ]
  },
  {
   "cell_type": "code",
   "execution_count": 372,
   "metadata": {},
   "outputs": [
    {
     "name": "stdout",
     "output_type": "stream",
     "text": [
      "Fitting 5 folds for each of 50 candidates, totalling 250 fits\n"
     ]
    },
    {
     "name": "stderr",
     "output_type": "stream",
     "text": [
      "[Parallel(n_jobs=4)]: Using backend LokyBackend with 4 concurrent workers.\n",
      "[Parallel(n_jobs=4)]: Done  42 tasks      | elapsed:  5.6min\n",
      "[Parallel(n_jobs=4)]: Done 192 tasks      | elapsed: 25.2min\n",
      "[Parallel(n_jobs=4)]: Done 250 out of 250 | elapsed: 33.6min finished\n"
     ]
    },
    {
     "data": {
      "text/plain": [
       "RandomizedSearchCV(cv=5, error_score='raise-deprecating',\n",
       "                   estimator=IsolationForest(behaviour='new', bootstrap=False,\n",
       "                                             contamination='legacy',\n",
       "                                             max_features=1.0,\n",
       "                                             max_samples='auto',\n",
       "                                             n_estimators=100, n_jobs=None,\n",
       "                                             random_state=<mtrand.RandomState object at 0x0000021709861E10>,\n",
       "                                             verbose=0, warm_start=False),\n",
       "                   iid='warn', n_iter=50, n_jobs=4,\n",
       "                   param_distributions={'bootstra...\n",
       "                                        'max_features': <scipy.stats._distn_infrastructure.rv_frozen object at 0x000002177F3B1748>,\n",
       "                                        'max_samples': <scipy.stats._distn_infrastructure.rv_frozen object at 0x000002177F3B1828>,\n",
       "                                        'n_estimators': <scipy.stats._distn_infrastructure.rv_frozen object at 0x000002177F3B1668>},\n",
       "                   pre_dispatch='2*n_jobs', random_state=None, refit=True,\n",
       "                   return_train_score=True, scoring='average_precision',\n",
       "                   verbose=1)"
      ]
     },
     "execution_count": 372,
     "metadata": {},
     "output_type": "execute_result"
    }
   ],
   "source": [
    "# random_if_estimator.fit(x_tr, y_tr)"
   ]
  },
  {
   "cell_type": "code",
   "execution_count": 373,
   "metadata": {},
   "outputs": [
    {
     "name": "stdout",
     "output_type": "stream",
     "text": [
      "Scorer\n",
      "make_scorer(average_precision_score, needs_threshold=True)\n",
      "\n",
      "Best Score\n",
      "0.05495066232615143\n",
      "\n",
      "Best Score Parameters\n",
      "{'bootstrap': True, 'contamination': 0.01, 'max_features': 1, 'max_samples': 167, 'n_estimators': 102}\n"
     ]
    }
   ],
   "source": [
    "# print('Scorer')\n",
    "# print(random_if_estimator.scorer_)\n",
    "# print(\"\")\n",
    "# print(\"Best Score\")\n",
    "# print(random_if_estimator.best_score_)\n",
    "# print(\"\")\n",
    "# print(\"Best Score Parameters\")\n",
    "# print(random_if_estimator.best_params_)"
   ]
  },
  {
   "cell_type": "code",
   "execution_count": 374,
   "metadata": {},
   "outputs": [],
   "source": [
    "# clf_avg_pre = random_if_estimator.best_estimator_\n",
    "# clf = clf_avg_pre"
   ]
  },
  {
   "cell_type": "code",
   "execution_count": 375,
   "metadata": {},
   "outputs": [
    {
     "name": "stdout",
     "output_type": "stream",
     "text": [
      "#######################\n",
      "Evaluation metrics ####\n",
      "#######################\n",
      "Accuracy: 0.926\n",
      "AUC Score: 0.506\n",
      "Precision: 0.136\n",
      "Recall: 0.020\n",
      "F1: 0.035\n",
      "Prevelance: 0.067\n"
     ]
    },
    {
     "data": {
      "image/png": "[encoded data removed]",
      "text/plain": [
       "<Figure size 432x288 with 2 Axes>"
      ]
     },
     "metadata": {
      "needs_background": "light"
     },
     "output_type": "display_data"
    }
   ],
   "source": [
    "# # Training\n",
    "# x = x_tr\n",
    "# y_pred = clf.predict(x)\n",
    "# y_pred = [1 if x == -1 else 0 for x in y_pred]\n",
    "# y_tr_pred = pd.Series(y_pred)\n",
    "# pretty_cm(y_pred, y_tr, [0, 1])"
   ]
  },
  {
   "cell_type": "code",
   "execution_count": 376,
   "metadata": {},
   "outputs": [
    {
     "name": "stdout",
     "output_type": "stream",
     "text": [
      "#######################\n",
      "Evaluation metrics ####\n",
      "#######################\n",
      "Accuracy: 0.929\n",
      "AUC Score: 0.507\n",
      "Precision: 0.130\n",
      "Recall: 0.024\n",
      "F1: 0.040\n",
      "Prevelance: 0.062\n"
     ]
    },
    {
     "data": {
      "image/png": "[encoded data removed]",
      "text/plain": [
       "<Figure size 432x288 with 2 Axes>"
      ]
     },
     "metadata": {
      "needs_background": "light"
     },
     "output_type": "display_data"
    }
   ],
   "source": [
    "# # Validation\n",
    "# x = x_v\n",
    "# y = y_v\n",
    "# y_pred = clf.predict(x)\n",
    "# y_pred = [1 if x == -1 else 0 for x in y_pred]\n",
    "# y_v_pred = pd.Series(y_pred)\n",
    "\n",
    "# pretty_cm(y_pred, y, [0, 1])"
   ]
  },
  {
   "cell_type": "code",
   "execution_count": 377,
   "metadata": {},
   "outputs": [
    {
     "data": {
      "image/png": "[encoded data removed]",
      "text/plain": [
       "<Figure size 432x288 with 1 Axes>"
      ]
     },
     "metadata": {
      "needs_background": "light"
     },
     "output_type": "display_data"
    }
   ],
   "source": [
    "# roc_curve_plot(y_tr, y_tr_pred, y_v, y_v_pred)"
   ]
  },
  {
   "cell_type": "markdown",
   "metadata": {},
   "source": [
    "### Balanced Accuracy\n",
    "Do Not Run. Was Generating Batches with Zero Positives"
   ]
  },
  {
   "cell_type": "code",
   "execution_count": 380,
   "metadata": {},
   "outputs": [],
   "source": [
    "# # Model\n",
    "# clf = IsolationForest(random_state=rng,  behaviour=\"new\")\n",
    "\n",
    "# # Parameters\n",
    "# param_dist = {'n_estimators':sp_randint(100,400),\n",
    "#                    'max_samples': sp_randint(100,500), \n",
    "#                    'contamination': [0.01, 0.05, 0.1, 0.2], \n",
    "#                    'max_features': sp_randint(1,20), \n",
    "#                    'bootstrap': [True, False]}\n",
    "\n",
    "# # Scorer\n",
    "# scorer = 'balanced_accuracy'\n",
    "\n",
    "# # Number of Search\n",
    "# n_iter_search = n_iter_search\n",
    "\n",
    "# # Radomizer\n",
    "# random_if_estimator = RandomizedSearchCV(clf, \n",
    "#                                        param_dist,\n",
    "#                                        n_iter = n_iter_search,\n",
    "#                                        scoring = scorer, \n",
    "#                                        cv=5,\n",
    "#                                        #n_jobs = -1,\n",
    "#                                        verbose = 1,\n",
    "#                                        return_train_score = True)"
   ]
  },
  {
   "cell_type": "code",
   "execution_count": null,
   "metadata": {},
   "outputs": [],
   "source": [
    "#random_if_estimator.fit(x_tr, y_tr)"
   ]
  },
  {
   "cell_type": "code",
   "execution_count": null,
   "metadata": {},
   "outputs": [],
   "source": [
    "# print('Scorer')\n",
    "# print(random_if_estimator.scorer_)\n",
    "# print(\"\")\n",
    "# print(\"Best Score\")\n",
    "# print(random_if_estimator.best_score_)\n",
    "# print(\"\")\n",
    "# print(\"Best Score Parameters\")\n",
    "# print(random_if_estimator.best_params_)"
   ]
  },
  {
   "cell_type": "code",
   "execution_count": null,
   "metadata": {},
   "outputs": [],
   "source": [
    "# clf_bal_acc = random_if_estimator.best_estimator_\n",
    "# clf = clf_bal_acc"
   ]
  },
  {
   "cell_type": "code",
   "execution_count": null,
   "metadata": {},
   "outputs": [],
   "source": [
    "# # Training\n",
    "# x = x_tr\n",
    "# y_pred = clf.predict(x)\n",
    "# y_pred = [1 if x == -1 else 0 for x in y_pred]\n",
    "# y_tr_pred = pd.Series(y_pred)\n",
    "# pretty_cm(y_pred, y_tr, [0, 1])"
   ]
  },
  {
   "cell_type": "code",
   "execution_count": null,
   "metadata": {},
   "outputs": [],
   "source": [
    "# # Validation\n",
    "# x = x_v\n",
    "# y_pred = clf.predict(x)\n",
    "# y_pred = [1 if x == -1 else 0 for x in y_pred]\n",
    "# y_v_pred = pd.Series(y_pred)\n",
    "\n",
    "# pretty_cm(y_pred, y, [0, 1])"
   ]
  },
  {
   "cell_type": "code",
   "execution_count": null,
   "metadata": {},
   "outputs": [],
   "source": [
    "# roc_curve_plot(y_tr, y_tr_pred, y_v, y_v_pred)"
   ]
  },
  {
   "cell_type": "markdown",
   "metadata": {},
   "source": [
    "### AUC Score\n",
    "Best Tuning Metric so far."
   ]
  },
  {
   "cell_type": "code",
   "execution_count": 385,
   "metadata": {},
   "outputs": [],
   "source": [
    "# Model\n",
    "clf = IsolationForest(random_state=rng,  behaviour=\"new\")\n",
    "\n",
    "# Parameters\n",
    "param_dist = {'n_estimators':sp_randint(100,400),\n",
    "                   'max_samples': sp_randint(100,500), \n",
    "                   'contamination': [0.01, 0.05, 0.1, 0.2], \n",
    "                   'max_features': sp_randint(1,20), \n",
    "                   'bootstrap': [True, False]}\n",
    "\n",
    "# Scorer\n",
    "scorer = 'roc_auc'\n",
    "\n",
    "# Number of Search\n",
    "n_iter_search = n_iter_search\n",
    "\n",
    "# Radomizer\n",
    "random_if_estimator = RandomizedSearchCV(clf, \n",
    "                                       param_dist,\n",
    "                                       n_iter = n_iter_search,\n",
    "                                       scoring = scorer, \n",
    "                                       cv=5,\n",
    "                                       n_jobs = 4,\n",
    "                                       verbose = 1,\n",
    "                                       return_train_score = True)"
   ]
  },
  {
   "cell_type": "code",
   "execution_count": 386,
   "metadata": {
    "scrolled": true
   },
   "outputs": [
    {
     "name": "stdout",
     "output_type": "stream",
     "text": [
      "Fitting 5 folds for each of 25 candidates, totalling 125 fits\n"
     ]
    },
    {
     "name": "stderr",
     "output_type": "stream",
     "text": [
      "[Parallel(n_jobs=4)]: Using backend LokyBackend with 4 concurrent workers.\n",
      "[Parallel(n_jobs=4)]: Done  42 tasks      | elapsed:  8.0min\n",
      "[Parallel(n_jobs=4)]: Done 125 out of 125 | elapsed: 19.6min finished\n"
     ]
    },
    {
     "data": {
      "text/plain": [
       "RandomizedSearchCV(cv=5, error_score='raise-deprecating',\n",
       "                   estimator=IsolationForest(behaviour='new', bootstrap=False,\n",
       "                                             contamination='legacy',\n",
       "                                             max_features=1.0,\n",
       "                                             max_samples='auto',\n",
       "                                             n_estimators=100, n_jobs=None,\n",
       "                                             random_state=<mtrand.RandomState object at 0x0000021709861E10>,\n",
       "                                             verbose=0, warm_start=False),\n",
       "                   iid='warn', n_iter=25, n_jobs=4,\n",
       "                   param_distributions={'bootstra...\n",
       "                                        'max_features': <scipy.stats._distn_infrastructure.rv_frozen object at 0x0000021748239F98>,\n",
       "                                        'max_samples': <scipy.stats._distn_infrastructure.rv_frozen object at 0x0000021709947FD0>,\n",
       "                                        'n_estimators': <scipy.stats._distn_infrastructure.rv_frozen object at 0x0000021748239550>},\n",
       "                   pre_dispatch='2*n_jobs', random_state=None, refit=True,\n",
       "                   return_train_score=True, scoring='roc_auc', verbose=1)"
      ]
     },
     "execution_count": 386,
     "metadata": {},
     "output_type": "execute_result"
    }
   ],
   "source": [
    "random_if_estimator.fit(x_tr, y_tr)"
   ]
  },
  {
   "cell_type": "code",
   "execution_count": 387,
   "metadata": {},
   "outputs": [
    {
     "name": "stdout",
     "output_type": "stream",
     "text": [
      "Scorer\n",
      "make_scorer(roc_auc_score, needs_threshold=True)\n",
      "\n",
      "Best Score\n",
      "0.4157943337639521\n",
      "\n",
      "Best Score Parameters\n",
      "{'bootstrap': False, 'contamination': 0.05, 'max_features': 11, 'max_samples': 440, 'n_estimators': 154}\n"
     ]
    }
   ],
   "source": [
    "print('Scorer')\n",
    "print(random_if_estimator.scorer_)\n",
    "print(\"\")\n",
    "print(\"Best Score\")\n",
    "print(random_if_estimator.best_score_)\n",
    "print(\"\")\n",
    "print(\"Best Score Parameters\")\n",
    "print(random_if_estimator.best_params_)"
   ]
  },
  {
   "cell_type": "code",
   "execution_count": 388,
   "metadata": {},
   "outputs": [],
   "source": [
    "clf_auc = random_if_estimator.best_estimator_\n",
    "clf = clf_auc"
   ]
  },
  {
   "cell_type": "code",
   "execution_count": 389,
   "metadata": {},
   "outputs": [
    {
     "name": "stdout",
     "output_type": "stream",
     "text": [
      "#######################\n",
      "Evaluation metrics ####\n",
      "#######################\n",
      "Accuracy: 0.894\n",
      "AUC Score: 0.519\n",
      "Precision: 0.114\n",
      "Recall: 0.085\n",
      "F1: 0.097\n",
      "Prevelance: 0.067\n"
     ]
    },
    {
     "data": {
      "image/png": "[encoded data removed]",
      "text/plain": [
       "<Figure size 432x288 with 2 Axes>"
      ]
     },
     "metadata": {
      "needs_background": "light"
     },
     "output_type": "display_data"
    }
   ],
   "source": [
    "# Training\n",
    "x = x_tr\n",
    "y_pred = clf.predict(x)\n",
    "y_pred = [1 if x == -1 else 0 for x in y_pred]\n",
    "y_tr_pred = pd.Series(y_pred)\n",
    "pretty_cm(y_pred, y_tr, [0, 1])"
   ]
  },
  {
   "cell_type": "code",
   "execution_count": 390,
   "metadata": {},
   "outputs": [
    {
     "name": "stdout",
     "output_type": "stream",
     "text": [
      "#######################\n",
      "Evaluation metrics ####\n",
      "#######################\n",
      "Accuracy: 0.897\n",
      "AUC Score: 0.516\n",
      "Precision: 0.098\n",
      "Recall: 0.081\n",
      "F1: 0.088\n",
      "Prevelance: 0.062\n"
     ]
    },
    {
     "data": {
      "image/png": "[encoded data removed]",
      "text/plain": [
       "<Figure size 432x288 with 2 Axes>"
      ]
     },
     "metadata": {
      "needs_background": "light"
     },
     "output_type": "display_data"
    }
   ],
   "source": [
    "# Validation\n",
    "x = x_v\n",
    "y_pred = clf.predict(x)\n",
    "y_pred = [1 if x == -1 else 0 for x in y_pred]\n",
    "y_v_pred = pd.Series(y_pred)\n",
    "\n",
    "pretty_cm(y_pred, y, [0, 1])"
   ]
  },
  {
   "cell_type": "code",
   "execution_count": 391,
   "metadata": {},
   "outputs": [
    {
     "data": {
      "image/png": "[encoded data removed]",
      "text/plain": [
       "<Figure size 432x288 with 1 Axes>"
      ]
     },
     "metadata": {
      "needs_background": "light"
     },
     "output_type": "display_data"
    }
   ],
   "source": [
    "roc_curve_plot(y_tr, y_tr_pred, y_v, y_v_pred)"
   ]
  },
  {
   "cell_type": "markdown",
   "metadata": {},
   "source": [
    "### F1 Weighted\n",
    "Ran once and performed poorly. Do not run again."
   ]
  },
  {
   "cell_type": "code",
   "execution_count": 394,
   "metadata": {},
   "outputs": [],
   "source": [
    "# # Model\n",
    "# clf = IsolationForest(random_state=rng,  behaviour=\"new\")\n",
    "\n",
    "# # Parameters\n",
    "# param_dist = {'n_estimators':sp_randint(100,400),\n",
    "#                    'max_samples': sp_randint(100,500), \n",
    "#                    'contamination': [0.01, 0.05, 0.1, 0.2], \n",
    "#                    'max_features': sp_randint(1,20), \n",
    "#                    'bootstrap': [True, False]}\n",
    "\n",
    "# # Scorer\n",
    "# scorer = 'f1_weighted'\n",
    "\n",
    "# # Number of Search\n",
    "# n_iter_search = n_iter_search\n",
    "\n",
    "# # Radomizer\n",
    "# random_if_estimator = RandomizedSearchCV(clf, \n",
    "#                                        param_dist,\n",
    "#                                        n_iter = n_iter_search,\n",
    "#                                        scoring = scorer, \n",
    "#                                        cv=5,\n",
    "#                                        n_jobs = 4,\n",
    "#                                        verbose = 1,\n",
    "#                                        return_train_score = True)"
   ]
  },
  {
   "cell_type": "code",
   "execution_count": 395,
   "metadata": {},
   "outputs": [
    {
     "name": "stdout",
     "output_type": "stream",
     "text": [
      "Fitting 5 folds for each of 25 candidates, totalling 125 fits\n"
     ]
    },
    {
     "name": "stderr",
     "output_type": "stream",
     "text": [
      "[Parallel(n_jobs=4)]: Using backend LokyBackend with 4 concurrent workers.\n",
      "[Parallel(n_jobs=4)]: Done  42 tasks      | elapsed:  6.6min\n",
      "[Parallel(n_jobs=4)]: Done 125 out of 125 | elapsed: 17.5min finished\n"
     ]
    },
    {
     "data": {
      "text/plain": [
       "RandomizedSearchCV(cv=5, error_score='raise-deprecating',\n",
       "                   estimator=IsolationForest(behaviour='new', bootstrap=False,\n",
       "                                             contamination='legacy',\n",
       "                                             max_features=1.0,\n",
       "                                             max_samples='auto',\n",
       "                                             n_estimators=100, n_jobs=None,\n",
       "                                             random_state=<mtrand.RandomState object at 0x0000021709861E10>,\n",
       "                                             verbose=0, warm_start=False),\n",
       "                   iid='warn', n_iter=25, n_jobs=4,\n",
       "                   param_distributions={'bootstra...\n",
       "                                        'max_features': <scipy.stats._distn_infrastructure.rv_frozen object at 0x000002170E323940>,\n",
       "                                        'max_samples': <scipy.stats._distn_infrastructure.rv_frozen object at 0x000002170E323B70>,\n",
       "                                        'n_estimators': <scipy.stats._distn_infrastructure.rv_frozen object at 0x000002170E3232B0>},\n",
       "                   pre_dispatch='2*n_jobs', random_state=None, refit=True,\n",
       "                   return_train_score=True, scoring='f1_weighted', verbose=1)"
      ]
     },
     "execution_count": 395,
     "metadata": {},
     "output_type": "execute_result"
    }
   ],
   "source": [
    "# random_if_estimator.fit(x_tr, y_tr)"
   ]
  },
  {
   "cell_type": "code",
   "execution_count": null,
   "metadata": {},
   "outputs": [],
   "source": [
    "# print('Scorer')\n",
    "# print(random_if_estimator.scorer_)\n",
    "# print(\"\")\n",
    "# print(\"Best Score\")\n",
    "# print(random_if_estimator.best_score_)\n",
    "# print(\"\")\n",
    "# print(\"Best Score Parameters\")\n",
    "# print(random_if_estimator.best_params_)"
   ]
  },
  {
   "cell_type": "code",
   "execution_count": 396,
   "metadata": {},
   "outputs": [],
   "source": [
    "# clf_f1 = random_if_estimator.best_estimator_\n",
    "# clf = clf_f1"
   ]
  },
  {
   "cell_type": "code",
   "execution_count": 405,
   "metadata": {},
   "outputs": [
    {
     "name": "stdout",
     "output_type": "stream",
     "text": [
      "#######################\n",
      "Evaluation metrics ####\n",
      "#######################\n",
      "Accuracy: 0.925\n",
      "AUC Score: 0.505\n",
      "Precision: 0.125\n",
      "Precision Weighted: 0.879\n",
      "Recall: 0.019\n",
      "Recall Weighted: 0.925\n",
      "F1: 0.033\n",
      "F1 Weighted: 0.899\n",
      "Prevelance: 0.067\n"
     ]
    },
    {
     "data": {
      "image/png": "[encoded data removed]",
      "text/plain": [
       "<Figure size 432x288 with 2 Axes>"
      ]
     },
     "metadata": {
      "needs_background": "light"
     },
     "output_type": "display_data"
    }
   ],
   "source": [
    "# # Training\n",
    "# x = x_tr\n",
    "# y_pred = clf.predict(x)\n",
    "# y_pred = [1 if x == -1 else 0 for x in y_pred]\n",
    "# y_tr_pred = pd.Series(y_pred)\n",
    "# pretty_cm(y_pred, y_tr, [0, 1])"
   ]
  },
  {
   "cell_type": "code",
   "execution_count": 406,
   "metadata": {},
   "outputs": [
    {
     "name": "stdout",
     "output_type": "stream",
     "text": [
      "#######################\n",
      "Evaluation metrics ####\n",
      "#######################\n",
      "Accuracy: 0.930\n",
      "AUC Score: 0.505\n",
      "Precision: 0.121\n",
      "Precision Weighted: 0.888\n",
      "Recall: 0.020\n",
      "Recall Weighted: 0.930\n",
      "F1: 0.035\n",
      "F1 Weighted: 0.906\n",
      "Prevelance: 0.062\n"
     ]
    },
    {
     "data": {
      "image/png": "[encoded data removed]",
      "text/plain": [
       "<Figure size 432x288 with 2 Axes>"
      ]
     },
     "metadata": {
      "needs_background": "light"
     },
     "output_type": "display_data"
    }
   ],
   "source": [
    "# # Validation\n",
    "# x = x_v\n",
    "# y_pred = clf.predict(x)\n",
    "# y_pred = [1 if x == -1 else 0 for x in y_pred]\n",
    "# y_v_pred = pd.Series(y_pred)\n",
    "\n",
    "# pretty_cm(y_pred, y, [0, 1])"
   ]
  },
  {
   "cell_type": "code",
   "execution_count": 403,
   "metadata": {},
   "outputs": [
    {
     "data": {
      "image/png": "[encoded data removed]",
      "text/plain": [
       "<Figure size 432x288 with 1 Axes>"
      ]
     },
     "metadata": {
      "needs_background": "light"
     },
     "output_type": "display_data"
    }
   ],
   "source": [
    "# roc_curve_plot(y_tr, y_tr_pred, y_v, y_v_pred)"
   ]
  },
  {
   "cell_type": "markdown",
   "metadata": {},
   "source": [
    "### Precision Weighted\n",
    "Ran once and scored very poorly. Do not run again."
   ]
  },
  {
   "cell_type": "code",
   "execution_count": 411,
   "metadata": {},
   "outputs": [],
   "source": [
    "# # Model\n",
    "# clf = IsolationForest(random_state=rng,  behaviour=\"new\")\n",
    "\n",
    "# # Parameters\n",
    "# param_dist = {'n_estimators':sp_randint(100,400),\n",
    "#                    'max_samples': sp_randint(100,500), \n",
    "#                    'contamination': [0.01, 0.05, 0.1, 0.2], \n",
    "#                    'max_features': sp_randint(1,20), \n",
    "#                    'bootstrap': [True, False]}\n",
    "\n",
    "# # Scorer\n",
    "# scorer = 'precision_weighted'\n",
    "\n",
    "# # Number of Search\n",
    "# n_iter_search = n_iter_search\n",
    "\n",
    "# # Radomizer\n",
    "# random_if_estimator = RandomizedSearchCV(clf, \n",
    "#                                        param_dist,\n",
    "#                                        n_iter = n_iter_search,\n",
    "#                                        scoring = scorer, \n",
    "#                                        cv=5,\n",
    "#                                        n_jobs = 4,\n",
    "#                                        verbose = 1,\n",
    "#                                        return_train_score = True)"
   ]
  },
  {
   "cell_type": "code",
   "execution_count": 412,
   "metadata": {},
   "outputs": [
    {
     "name": "stdout",
     "output_type": "stream",
     "text": [
      "Fitting 5 folds for each of 25 candidates, totalling 125 fits\n"
     ]
    },
    {
     "name": "stderr",
     "output_type": "stream",
     "text": [
      "[Parallel(n_jobs=4)]: Using backend LokyBackend with 4 concurrent workers.\n",
      "[Parallel(n_jobs=4)]: Done  42 tasks      | elapsed:  4.4min\n",
      "[Parallel(n_jobs=4)]: Done 125 out of 125 | elapsed: 15.4min finished\n"
     ]
    },
    {
     "data": {
      "text/plain": [
       "RandomizedSearchCV(cv=5, error_score='raise-deprecating',\n",
       "                   estimator=IsolationForest(behaviour='new', bootstrap=False,\n",
       "                                             contamination='legacy',\n",
       "                                             max_features=1.0,\n",
       "                                             max_samples='auto',\n",
       "                                             n_estimators=100, n_jobs=None,\n",
       "                                             random_state=<mtrand.RandomState object at 0x000002170CCB2048>,\n",
       "                                             verbose=0, warm_start=False),\n",
       "                   iid='warn', n_iter=25, n_jobs=4,\n",
       "                   param_distributions={'bootstra...\n",
       "                                        'max_features': <scipy.stats._distn_infrastructure.rv_frozen object at 0x0000021749A6B320>,\n",
       "                                        'max_samples': <scipy.stats._distn_infrastructure.rv_frozen object at 0x0000021749A6B6A0>,\n",
       "                                        'n_estimators': <scipy.stats._distn_infrastructure.rv_frozen object at 0x0000021708F344A8>},\n",
       "                   pre_dispatch='2*n_jobs', random_state=None, refit=True,\n",
       "                   return_train_score=True, scoring='precision_weighted',\n",
       "                   verbose=1)"
      ]
     },
     "execution_count": 412,
     "metadata": {},
     "output_type": "execute_result"
    }
   ],
   "source": [
    "#random_if_estimator.fit(x_tr, y_tr)"
   ]
  },
  {
   "cell_type": "code",
   "execution_count": 413,
   "metadata": {},
   "outputs": [
    {
     "name": "stdout",
     "output_type": "stream",
     "text": [
      "Scorer\n",
      "make_scorer(precision_score, pos_label=None, average=weighted)\n",
      "\n",
      "Best Score\n",
      "0.004476010188541674\n",
      "\n",
      "Best Score Parameters\n",
      "{'bootstrap': False, 'contamination': 0.01, 'max_features': 12, 'max_samples': 313, 'n_estimators': 124}\n"
     ]
    }
   ],
   "source": [
    "# print('Scorer')\n",
    "# print(random_if_estimator.scorer_)\n",
    "# print(\"\")\n",
    "# print(\"Best Score\")\n",
    "# print(random_if_estimator.best_score_)\n",
    "# print(\"\")\n",
    "# print(\"Best Score Parameters\")\n",
    "# print(random_if_estimator.best_params_)"
   ]
  },
  {
   "cell_type": "code",
   "execution_count": 415,
   "metadata": {},
   "outputs": [],
   "source": [
    "# clf_pre = random_if_estimator.best_estimator_\n",
    "# clf = clf_pre"
   ]
  },
  {
   "cell_type": "code",
   "execution_count": 416,
   "metadata": {},
   "outputs": [
    {
     "name": "stdout",
     "output_type": "stream",
     "text": [
      "#######################\n",
      "Evaluation metrics ####\n",
      "#######################\n",
      "Accuracy: 0.925\n",
      "AUC Score: 0.504\n",
      "Precision: 0.121\n",
      "Precision Weighted: 0.879\n",
      "Recall: 0.018\n",
      "Recall Weighted: 0.925\n",
      "F1: 0.032\n",
      "F1 Weighted: 0.899\n",
      "Prevelance: 0.067\n"
     ]
    },
    {
     "data": {
      "image/png": "[encoded data removed]",
      "text/plain": [
       "<Figure size 432x288 with 2 Axes>"
      ]
     },
     "metadata": {
      "needs_background": "light"
     },
     "output_type": "display_data"
    }
   ],
   "source": [
    "# # Training\n",
    "# x = x_tr\n",
    "# y_pred = clf.predict(x)\n",
    "# y_pred = [1 if x == -1 else 0 for x in y_pred]\n",
    "# y_tr_pred = pd.Series(y_pred)\n",
    "# pretty_cm(y_pred, y_tr, [0, 1])"
   ]
  },
  {
   "cell_type": "code",
   "execution_count": 417,
   "metadata": {},
   "outputs": [
    {
     "name": "stdout",
     "output_type": "stream",
     "text": [
      "#######################\n",
      "Evaluation metrics ####\n",
      "#######################\n",
      "Accuracy: 0.930\n",
      "AUC Score: 0.504\n",
      "Precision: 0.111\n",
      "Precision Weighted: 0.887\n",
      "Recall: 0.018\n",
      "Recall Weighted: 0.930\n",
      "F1: 0.031\n",
      "F1 Weighted: 0.906\n",
      "Prevelance: 0.062\n"
     ]
    },
    {
     "data": {
      "image/png": "[encoded data removed]",
      "text/plain": [
       "<Figure size 432x288 with 2 Axes>"
      ]
     },
     "metadata": {
      "needs_background": "light"
     },
     "output_type": "display_data"
    }
   ],
   "source": [
    "# # Validation\n",
    "# x = x_v\n",
    "# y_pred = clf.predict(x)\n",
    "# y_pred = [1 if x == -1 else 0 for x in y_pred]\n",
    "# y_v_pred = pd.Series(y_pred)\n",
    "\n",
    "# pretty_cm(y_pred, y, [0, 1])"
   ]
  },
  {
   "cell_type": "code",
   "execution_count": 418,
   "metadata": {},
   "outputs": [
    {
     "data": {
      "image/png": "[encoded data removed]",
      "text/plain": [
       "<Figure size 432x288 with 1 Axes>"
      ]
     },
     "metadata": {
      "needs_background": "light"
     },
     "output_type": "display_data"
    }
   ],
   "source": [
    "#roc_curve_plot(y_tr, y_tr_pred, y_v, y_v_pred)"
   ]
  },
  {
   "cell_type": "markdown",
   "metadata": {},
   "source": [
    "# Test Set Scoring"
   ]
  },
  {
   "cell_type": "markdown",
   "metadata": {},
   "source": [
    "## General Function"
   ]
  },
  {
   "cell_type": "code",
   "execution_count": 423,
   "metadata": {},
   "outputs": [],
   "source": [
    "def test_score(clf, x):\n",
    "    \n",
    "    print(\"Detailed classification report:\")\n",
    "    print()\n",
    "    print(\"The model is trained and tuned on the training and validation sets..\")\n",
    "    print(\"The scores are computed on the test set.\")\n",
    "    print()\n",
    "    y_true, y_pred = y_te, clf.predict(x)\n",
    "    y_pred = [1 if x == -1 else 0 for x in y_pred]\n",
    "    print(classification_report(y_true, y_pred, digits = 3))\n",
    "    print()\n",
    "    \n",
    "    prevalence_te = '%.3f' %calc_prevalence(y_true)\n",
    "    auc_score_te = '%.3f' %roc_auc_score(y_true, y_pred)\n",
    "    print('AUC Score: ', auc_score_te)\n",
    "    print('Positive Target Prevalence: ', prevalence_te)\n",
    "    "
   ]
  },
  {
   "cell_type": "code",
   "execution_count": 420,
   "metadata": {},
   "outputs": [],
   "source": [
    "def test_score_cv(clf, x):\n",
    "    scoring = ['roc_auc', 'accuracy', 'balanced_accuracy', 'precision', 'recall', 'f1']\n",
    "    \n",
    "    results = cross_validate(estimator = clf,\n",
    "                                          X = x,\n",
    "                                          y = y_te,\n",
    "                                          cv = 5,\n",
    "                                          scoring = scoring)\n",
    "    for metric_name in results.keys():\n",
    "        average_score = np.average(results[metric_name])\n",
    "        print('%s : %.3f' % (metric_name, average_score))\n",
    "    \n",
    "    prevalence_te = '%.3f' %calc_prevalence(y_te)\n",
    "    print('positive target prevalence: ', prevalence_te)"
   ]
  },
  {
   "cell_type": "markdown",
   "metadata": {},
   "source": [
    "## Isolation Forest"
   ]
  },
  {
   "cell_type": "code",
   "execution_count": 426,
   "metadata": {
    "scrolled": true
   },
   "outputs": [
    {
     "name": "stdout",
     "output_type": "stream",
     "text": [
      "#######################\n",
      "Evaluation metrics ####\n",
      "#######################\n",
      "Accuracy: 0.894\n",
      "AUC Score: 0.518\n",
      "Precision: 0.114\n",
      "Precision Weighted: 0.879\n",
      "Recall: 0.084\n",
      "Recall Weighted: 0.894\n",
      "F1: 0.097\n",
      "F1 Weighted: 0.886\n",
      "Prevelance: 0.068\n"
     ]
    },
    {
     "data": {
      "image/png": "[encoded data removed]",
      "text/plain": [
       "<Figure size 432x288 with 2 Axes>"
      ]
     },
     "metadata": {
      "needs_background": "light"
     },
     "output_type": "display_data"
    }
   ],
   "source": [
    "clf = clf_auc\n",
    "\n",
    "# Test\n",
    "x = x_te\n",
    "y = y_te\n",
    "y_pred = clf.predict(x)\n",
    "y_pred = [1 if x == -1 else 0 for x in y_pred]\n",
    "y_v_pred = pd.Series(y_pred)\n",
    "\n",
    "pretty_cm(y_pred, y, [0, 1])"
   ]
  },
  {
   "cell_type": "code",
   "execution_count": 425,
   "metadata": {},
   "outputs": [],
   "source": [
    "#test_score_cv(clf_auc, x_te)"
   ]
  }
 ],
 "metadata": {
  "kernelspec": {
   "display_name": "Python 3",
   "language": "python",
   "name": "python3"
  },
  "language_info": {
   "codemirror_mode": {
    "name": "ipython",
    "version": 3
   },
   "file_extension": ".py",
   "mimetype": "text/x-python",
   "name": "python",
   "nbconvert_exporter": "python",
   "pygments_lexer": "ipython3",
   "version": "3.7.3"
  }
 },
 "nbformat": 4,
 "nbformat_minor": 2
}
