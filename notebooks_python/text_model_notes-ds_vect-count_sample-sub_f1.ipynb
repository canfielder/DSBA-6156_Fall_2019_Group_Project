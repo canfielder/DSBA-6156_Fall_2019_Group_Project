{
 "cells": [
  {
   "cell_type": "markdown",
   "metadata": {},
   "source": [
    "# Note\n",
    "Previous notebook drafts have analyzed several classification methods not included here, particularly SVM methods. The SVM classifiers did not return quality results and took long times to run. They are therefore not included in this analysis."
   ]
  },
  {
   "cell_type": "markdown",
   "metadata": {},
   "source": [
    "# Defining Parameters\n",
    "\n",
    "* **Data**: Discharge Summary Notes\n",
    "* **Model Imbalance**: Sub-Sampling Negeatives\n",
    "* **Vectorizor**: Count\n",
    "* **Vectorizor Parameters**: 3000\n",
    "* **Dimension Reduction Method**: Truncated SVD\n",
    "* **Grid Search Scoring Parameter**: f1_macro"
   ]
  },
  {
   "cell_type": "code",
   "execution_count": 111,
   "metadata": {},
   "outputs": [],
   "source": [
    "scoring_metric = 'f1_macro'\n",
    "max_features = 3000\n",
    "max_iter_log = 500"
   ]
  },
  {
   "cell_type": "markdown",
   "metadata": {},
   "source": [
    "# Library Calls"
   ]
  },
  {
   "cell_type": "code",
   "execution_count": 248,
   "metadata": {},
   "outputs": [],
   "source": [
    "import pandas as pd\n",
    "import numpy as np\n",
    "import feather\n",
    "import nltk\n",
    "import re\n",
    "import string\n",
    "import yellowbrick\n",
    "import sklearn\n",
    "import matplotlib.pyplot as plt\n",
    "\n",
    "from sklearn.decomposition import TruncatedSVD\n",
    "from nltk.tokenize import sent_tokenize\n",
    "from sklearn.feature_extraction.text import CountVectorizer, TfidfVectorizer\n",
    "from yellowbrick.text import FreqDistVisualizer\n",
    "from yellowbrick.features import RadViz\n",
    "\n",
    "from sklearn.model_selection import GridSearchCV, RandomizedSearchCV, StratifiedKFold\n",
    "\n",
    "from sklearn.svm import SVC, LinearSVC\n",
    "from sklearn.ensemble import RandomForestClassifier, GradientBoostingClassifier, AdaBoostClassifier\n",
    "from sklearn.linear_model import LogisticRegression\n",
    "from sklearn.naive_bayes import MultinomialNB\n",
    "from sklearn.neighbors import KNeighborsClassifier\n",
    "from xgboost import XGBClassifier\n",
    "\n",
    "from sklearn.metrics import classification_report, roc_curve, roc_auc_score\n",
    "from sklearn.metrics import accuracy_score,precision_recall_fscore_support\n",
    "from sklearn.metrics import make_scorer, accuracy_score, precision_score, recall_score, f1_score, balanced_accuracy_score\n",
    "\n",
    "from sklearn.model_selection import cross_val_score, cross_validate\n",
    "\n",
    "# Random State\n",
    "random_state = 5590\n",
    "solver_log = 'saga'"
   ]
  },
  {
   "cell_type": "markdown",
   "metadata": {},
   "source": [
    "# Data Import and Processing\n",
    "## !!!One Data Frame Import Must Be Commented Out!!!!"
   ]
  },
  {
   "cell_type": "markdown",
   "metadata": {},
   "source": [
    "We define the dataframes as none for a subsqent check."
   ]
  },
  {
   "cell_type": "code",
   "execution_count": 113,
   "metadata": {},
   "outputs": [],
   "source": [
    "df_all = None\n",
    "df_ds = None"
   ]
  },
  {
   "cell_type": "code",
   "execution_count": 114,
   "metadata": {},
   "outputs": [],
   "source": [
    "# All Available Notes\n",
    "#df_all = pd.read_csv('./data/text_processed_all.csv.gz', compression='gzip', low_memory=False)\n",
    "\n",
    "# Dishcharge Summary Notes Onlly\n",
    "df_ds = pd.read_csv('./data/text_processed_discharge_summary.csv.gz', compression='gzip', low_memory=False)"
   ]
  },
  {
   "cell_type": "markdown",
   "metadata": {},
   "source": [
    "# Define Data Frame"
   ]
  },
  {
   "cell_type": "markdown",
   "metadata": {},
   "source": [
    "Here we do a check to see which data frame we are analyzing, All Notes or Discharge Notes"
   ]
  },
  {
   "cell_type": "code",
   "execution_count": 115,
   "metadata": {},
   "outputs": [],
   "source": [
    "if df_all is not None:\n",
    "    df = df_all\n",
    "else:\n",
    "    df = df_ds\n",
    "      \n",
    "# Convert HADMID to String\n",
    "df.hadm_id = df.hadm_id.astype('int64').astype(str)\n",
    "\n",
    "# Convert Readmit_30 to Int\n",
    "df.readmit_30 = df.readmit_30.astype('int')"
   ]
  },
  {
   "cell_type": "markdown",
   "metadata": {},
   "source": [
    "# Functions"
   ]
  },
  {
   "cell_type": "markdown",
   "metadata": {},
   "source": [
    "## Modified Tokenizer\n",
    "Define a modified tokenizer function. This function will remove numbers and characters, as well as set all words to lower case."
   ]
  },
  {
   "cell_type": "code",
   "execution_count": 116,
   "metadata": {},
   "outputs": [],
   "source": [
    "def tokenize_note_events(text):\n",
    "    #create a list of all characters and numbers\n",
    "    num_puct_list = string.punctuation+'0123456789'\n",
    "    \n",
    "    # Create a dictionary aligning each numeric and chcarter to a space\n",
    "    t = str.maketrans(dict.fromkeys(num_puct_list, \" \"))\n",
    "    \n",
    "    # Convert Text to lower case and apply dictionary\n",
    "    text = text.lower().translate(t)\n",
    "    \n",
    "    #tokenize\n",
    "    tokens = nltk.word_tokenize(text)\n",
    "    return tokens"
   ]
  },
  {
   "cell_type": "markdown",
   "metadata": {},
   "source": [
    "## Custom Stop Words\n",
    "Define custom stop words"
   ]
  },
  {
   "cell_type": "code",
   "execution_count": 117,
   "metadata": {},
   "outputs": [],
   "source": [
    "stop_words = ['the','and','to','of','was','with','a','on','in','for','name',\n",
    " 'is','patient','s','he','at','as','or','one','she','his','her','am', \n",
    " 'were','you','pt','pm','by','be','had','your','this','date', 'from',\n",
    " 'there','an','that','p','are','have','has','h','but','o', \n",
    " 'namepattern','which','every','also', 'w', 'd', 'c', 'l', \n",
    " 'q', 'r', 'x', 't', 'm']"
   ]
  },
  {
   "cell_type": "markdown",
   "metadata": {},
   "source": [
    "## Text Processing Function with Truncated SVD\n",
    "The following function performs all of the prec-processing steps, using sub-sampling to balance the data. The function tokenizes the text using 1-grams and 2-grams. The function returns a processed predictor dataframe for the training and validation data, as well as the target variable for the training and validation data."
   ]
  },
  {
   "cell_type": "code",
   "execution_count": 118,
   "metadata": {},
   "outputs": [],
   "source": [
    "def text_processing_sub_sample_tr_v(df):\n",
    "    # Clean the Entire Data Set of numbers, characters, carriage returns, and new lines\n",
    "    df.text = df.text.fillna(' ')\n",
    "    df.text = df.text.str.replace('\\n',' ')\n",
    "    df.text = df.text.str.replace('\\r',' ')\n",
    "    \n",
    "    # Split into Train, Valid and Test\n",
    "    ## Shuffle\n",
    "    df = df.sample(n = len(df), random_state= random_state)\n",
    "    df = df.reset_index(drop = True)\n",
    "    \n",
    "    ## Extract Data for Test and Valid Sampling\n",
    "    df_v_te = df.sample(frac=0.40, random_state = random_state)\n",
    "    \n",
    "    ## Test Sample\n",
    "    df_te = df_v_te.sample(frac = 0.5, random_state = random_state)\n",
    "    \n",
    "    ## Valid Sample\n",
    "    df_v = df_v_te.drop(df_te.index)\n",
    "\n",
    "    ## Training Sample\n",
    "    df_tr = df.drop(df_v_te.index)\n",
    "    \n",
    "    # Sub-Sampling\n",
    "    ## Split Data into Positive and Negative Target Returns\n",
    "    rows_readmit = df_tr.readmit_30 == 1\n",
    "    df_tr_pos = df_tr.loc[rows_readmit]\n",
    "    df_tr_neg = df_tr.loc[~rows_readmit]\n",
    "    \n",
    "    # Balance the Data, and Re-merge to a single data set\n",
    "    df_tr = pd.concat([df_tr_pos, \n",
    "                                df_tr_neg.sample(n = len(df_tr_pos))], \n",
    "                                axis = 0\n",
    "                          )\n",
    "\n",
    "    # shuffle the order of training samples \n",
    "    df_tr = df_tr.sample(n = len(df_tr)).reset_index(drop = True)\n",
    "    \n",
    "    # Initialize Vectorizer and SVD\n",
    "    ## Use Modified Tokenizer, Set number of n-grams, use custom stop words\n",
    "    vect = CountVectorizer(max_features = max_features, \n",
    "                           tokenizer = tokenize_note_events, \n",
    "                           ngram_range = (1,2),\n",
    "                           stop_words=stop_words\n",
    "                          )\n",
    "\n",
    "    # Transform Text\n",
    "    # Fit Vectorizer on Training Data\n",
    "    vect.fit(df_tr.text.values)\n",
    "\n",
    "    # Transform the text into vectors.\n",
    "    x_tr_tf = vect.transform(df_tr.text.values)\n",
    "    x_v_tf = vect.transform(df_v.text.values)\n",
    "    x_te_tf  = vect.transform(df_te.text.values)\n",
    "\n",
    "    # Define Target Variables\n",
    "    y_tr = df_tr.readmit_30\n",
    "    y_v = df_v.readmit_30\n",
    "    y_te = df_te.readmit_30\n",
    "    \n",
    "    return x_tr_tf, x_v_tf, x_te_tf, y_tr, y_v, y_te, df_tr, vect"
   ]
  },
  {
   "cell_type": "markdown",
   "metadata": {},
   "source": [
    "## Truncated SVD"
   ]
  },
  {
   "cell_type": "code",
   "execution_count": 119,
   "metadata": {},
   "outputs": [],
   "source": [
    "def trunc_svd(x_tr, x_v, x_te, n):\n",
    "    svd = TruncatedSVD(n_components = n, n_iter = 7, random_state = random_state)\n",
    "    # Fit SVD on Training Data\n",
    "    svd.fit(x_tr)\n",
    "    \n",
    "    # Transform Sparse Matrices\n",
    "    x_tr_svd = svd.transform(x_tr)\n",
    "    x_v_svd = svd.transform(x_v)\n",
    "    x_te_svd  = svd.transform(x_te)\n",
    "    \n",
    "    return x_tr_svd, x_v_svd, x_te_svd"
   ]
  },
  {
   "cell_type": "markdown",
   "metadata": {},
   "source": [
    "## Model Output"
   ]
  },
  {
   "cell_type": "markdown",
   "metadata": {},
   "source": [
    "### Scoring Metrics\n",
    "The following functions calculate the scoring metrics the models will be evlauted on."
   ]
  },
  {
   "cell_type": "code",
   "execution_count": 120,
   "metadata": {},
   "outputs": [],
   "source": [
    "def calc_accuracy(y_actual, y_pred, thresh):\n",
    "    # this function calculates the accuracy with probability threshold at thresh\n",
    "    return (sum((y_pred > thresh) & (y_actual == 1)) +\n",
    "            sum((y_pred < thresh) & (y_actual == 0))) /len(y_actual)\n",
    "\n",
    "def calc_recall(y_actual, y_pred, thresh):\n",
    "    # calculates the recall\n",
    "    return sum((y_pred > thresh) & (y_actual == 1)) /sum(y_actual)\n",
    "\n",
    "def calc_precision(y_actual, y_pred, thresh):\n",
    "    # calculates the precision\n",
    "    return sum((y_pred > thresh) & (y_actual == 1)) /sum(y_pred > thresh)\n",
    "\n",
    "def calc_specificity(y_actual, y_pred, thresh):\n",
    "    # calculates specificity\n",
    "    return sum((y_pred < thresh) & (y_actual == 0)) /sum(y_actual ==0)\n",
    "\n",
    "def calc_prevalence(y_actual):\n",
    "    # calculates prevalence\n",
    "    return sum((y_actual == 1)) /len(y_actual)"
   ]
  },
  {
   "cell_type": "markdown",
   "metadata": {},
   "source": [
    "### Scoring Output\n",
    "The following code generates the visual output of the scoring metrics."
   ]
  },
  {
   "cell_type": "code",
   "execution_count": 121,
   "metadata": {},
   "outputs": [],
   "source": [
    "def model_output(y_tr, y_tr_preds, y_v, y_v_preds):\n",
    "    \n",
    "    fpr_tr, tpr_tr, thresholds_tr = roc_curve(y_tr, y_tr_preds)\n",
    "    fpr_v, tpr_v, thresholds_v = roc_curve(y_v, y_v_preds)\n",
    "\n",
    "    thresh = 0.5\n",
    "\n",
    "    auc_t = '%.3f' %roc_auc_score(y_tr, y_tr_preds)\n",
    "    auc_v = '%.3f' %roc_auc_score(y_v, y_v_preds)\n",
    "    \n",
    "    acc_t = '%.3f' %calc_accuracy(y_tr, y_tr_preds, thresh)\n",
    "    acc_v = '%.3f' %calc_accuracy(y_v, y_v_preds, thresh)\n",
    "    \n",
    "    recall_raw_t = calc_recall(y_tr, y_tr_preds, thresh)\n",
    "    recall_raw_v = calc_recall(y_v, y_v_preds, thresh)\n",
    "    \n",
    "    recall_t = '%.3f' %recall_raw_t\n",
    "    recall_v = '%.3f' %recall_raw_v\n",
    "    \n",
    "    precision_raw_t = calc_precision(y_tr, y_tr_preds, thresh)\n",
    "    precision_raw_v = calc_precision(y_v, y_v_preds, thresh)\n",
    "    \n",
    "    precision_t = '%.3f' %precision_raw_t\n",
    "    precision_v = '%.3f' %precision_raw_v\n",
    "      \n",
    "    \n",
    "    f1_t = '%.3f' %((precision_raw_t * recall_raw_t)/(precision_raw_t + recall_raw_t))\n",
    "    f1_v = '%.3f' %((precision_raw_v * recall_raw_v)/(precision_raw_v + recall_raw_v))\n",
    "    \n",
    "    specificity_t = '%.3f' %calc_specificity(y_tr, y_tr_preds, thresh)\n",
    "    specificity_v = '%.3f' %calc_specificity(y_v, y_v_preds, thresh)\n",
    "    \n",
    "    prevalence_t = '%.3f' %calc_prevalence(y_tr)\n",
    "    prevalence_v = '%.3f' %calc_prevalence(y_v)\n",
    "    \n",
    "    \n",
    "    data = {'Score':['AUC', 'Accuracy', 'Precision', 'Recall', 'F1', 'Specificity', 'Prevalence'],\n",
    "            'Train':[auc_t, acc_t, precision_t, recall_t, f1_t, specificity_t, prevalence_t],\n",
    "            'Validation':[auc_v, acc_v, precision_v, recall_v,  f1_v, specificity_v, prevalence_v]\n",
    "           }\n",
    "    \n",
    "    df = pd.DataFrame(data)\n",
    "    \n",
    "    print(df)\n",
    "\n",
    "    plt.plot(fpr_tr, tpr_tr,'r-', label = 'Train AUC: %.2f'%roc_auc_score(y_tr, y_tr_preds))\n",
    "    plt.plot(fpr_v, tpr_v,'b-',label = 'Valid AUC: %.2f'%roc_auc_score(y_v, y_v_preds))\n",
    "    plt.plot([0,1],[0,1],'-k')\n",
    "    plt.xlabel('False Positive Rate')\n",
    "    plt.ylabel('True Positive Rate')\n",
    "    plt.legend()\n",
    "    plt.show()"
   ]
  },
  {
   "cell_type": "markdown",
   "metadata": {},
   "source": [
    "## Model Execution"
   ]
  },
  {
   "cell_type": "markdown",
   "metadata": {},
   "source": [
    "The following function trains a default model to the training data and generates training and validation scores."
   ]
  },
  {
   "cell_type": "code",
   "execution_count": 122,
   "metadata": {},
   "outputs": [],
   "source": [
    "def train_model_default(clf, x_tr, x_v):\n",
    "    \n",
    "    clf.fit(x_tr, y_tr)\n",
    "\n",
    "    y_tr_preds = clf.predict_proba(x_tr)[:,1]\n",
    "    y_v_preds = clf.predict_proba(x_v)[:,1]\n",
    "\n",
    "    model_output(y_tr, y_tr_preds, y_v, y_v_preds)"
   ]
  },
  {
   "cell_type": "markdown",
   "metadata": {},
   "source": [
    "The following function takes in the optimized model and generates training and validation scores\n"
   ]
  },
  {
   "cell_type": "code",
   "execution_count": 123,
   "metadata": {},
   "outputs": [],
   "source": [
    "def opt_model_scoring(clf, x_tr, x_v):\n",
    "    \n",
    "    y_tr_preds = clf.predict_proba(x_tr)[:,1]\n",
    "    y_v_preds = clf.predict_proba(x_v)[:,1]\n",
    "\n",
    "    model_output(y_tr, y_tr_preds, y_v, y_v_preds)"
   ]
  },
  {
   "cell_type": "markdown",
   "metadata": {},
   "source": [
    "The following function runs the gridsearchcv"
   ]
  },
  {
   "cell_type": "code",
   "execution_count": 124,
   "metadata": {},
   "outputs": [],
   "source": [
    "def grid_search_opt(x_tr, x_v, clf, hyper_param_dict):\n",
    "\n",
    "\n",
    "    # Create a Grid Search\n",
    "    clf = GridSearchCV(clf, hyper_param_dict, cv=5, verbose=1,  scoring = scoring_metric, n_jobs = -1)\n",
    "\n",
    "    # Best Model\n",
    "    clf.fit(x_tr, y_tr)\n",
    "    \n",
    "    # Export Best Parameters to New Model\n",
    "    clf_best_est = clf.best_estimator_\n",
    "\n",
    "    print(\"Best parameters set found on training set:\")\n",
    "    print()\n",
    "    print(clf.best_params_)\n",
    "    print()\n",
    "    means = clf.cv_results_['mean_test_score']\n",
    "    stds = clf.cv_results_['std_test_score']\n",
    "    for mean, std, params in zip(means, stds, clf.cv_results_['params']):\n",
    "        print(\"%0.3f (+/-%0.03f) for %r\"\n",
    "              % (mean, std * 2, params))\n",
    "    print()\n",
    "\n",
    "    return clf_best_est"
   ]
  },
  {
   "cell_type": "markdown",
   "metadata": {},
   "source": [
    "# Data Set: Discharge Notes\n",
    "The following analysis will be of the data frame with all discharge notes."
   ]
  },
  {
   "cell_type": "markdown",
   "metadata": {},
   "source": [
    "## Data Processing"
   ]
  },
  {
   "cell_type": "markdown",
   "metadata": {},
   "source": [
    "First the data is processed and tokenized. This will take a while."
   ]
  },
  {
   "cell_type": "code",
   "execution_count": 125,
   "metadata": {},
   "outputs": [],
   "source": [
    "df = df.sample(frac = 1, random_state = random_state)\n",
    "x_tr_pre, x_v_pre, x_te_pre, y_tr, y_v, y_te, df_tr_non_xfrm, vect = text_processing_sub_sample_tr_v(df)"
   ]
  },
  {
   "cell_type": "markdown",
   "metadata": {},
   "source": [
    "Then we reduce the dimensions of the sparse matrics to improve model run time."
   ]
  },
  {
   "cell_type": "markdown",
   "metadata": {},
   "source": [
    "##### 30 Dimensions"
   ]
  },
  {
   "cell_type": "code",
   "execution_count": 126,
   "metadata": {},
   "outputs": [],
   "source": [
    "# x_tr_svd_30, x_v_svd_30, x_te_svd_30 = trunc_svd(x_tr_pre, x_v_pre, x_te_pre, 30)"
   ]
  },
  {
   "cell_type": "markdown",
   "metadata": {},
   "source": [
    "##### 300 Dimensions"
   ]
  },
  {
   "cell_type": "code",
   "execution_count": 127,
   "metadata": {},
   "outputs": [],
   "source": [
    "# x_tr_svd_300, x_v_svd_300, x_te_svd_300 = trunc_svd(x_tr_pre, x_v_pre, x_te_pre, 300)"
   ]
  },
  {
   "cell_type": "markdown",
   "metadata": {},
   "source": [
    "## Modeling - Default Settings"
   ]
  },
  {
   "cell_type": "markdown",
   "metadata": {},
   "source": [
    "### Naive Bayes"
   ]
  },
  {
   "cell_type": "markdown",
   "metadata": {},
   "source": [
    "#### Pre-SVD\n",
    "Naive Bayes will not run with Truncated SVD due to negative matrix values."
   ]
  },
  {
   "cell_type": "code",
   "execution_count": 173,
   "metadata": {},
   "outputs": [
    {
     "name": "stdout",
     "output_type": "stream",
     "text": [
      "         Score  Train Validation\n",
      "0          AUC  0.692      0.660\n",
      "1     Accuracy  0.657      0.657\n",
      "2    Precision  0.663      0.107\n",
      "3       Recall  0.636      0.595\n",
      "4           F1  0.325      0.091\n",
      "5  Specificity  0.677      0.661\n",
      "6   Prevalence  0.500      0.064\n"
     ]
    },
    {
     "data": {
      "image/png": "[encoded data removed]",
      "text/plain": [
       "<Figure size 432x288 with 1 Axes>"
      ]
     },
     "metadata": {
      "needs_background": "light"
     },
     "output_type": "display_data"
    }
   ],
   "source": [
    "# Define X Values\n",
    "x_tr = x_tr_pre\n",
    "x_v = x_v_pre\n",
    "\n",
    "clf = MultinomialNB()\n",
    "train_model_default(clf, x_tr, x_v)"
   ]
  },
  {
   "cell_type": "markdown",
   "metadata": {},
   "source": [
    "### Logistic Regression"
   ]
  },
  {
   "cell_type": "code",
   "execution_count": 174,
   "metadata": {},
   "outputs": [],
   "source": [
    "# Define Classifier - Default Settings\n",
    "clf = LogisticRegression(random_state = random_state, solver = solver_log, max_iter = max_iter_log)"
   ]
  },
  {
   "cell_type": "markdown",
   "metadata": {},
   "source": [
    "#### Pre SVD"
   ]
  },
  {
   "cell_type": "code",
   "execution_count": 175,
   "metadata": {},
   "outputs": [],
   "source": [
    "# # Define X Values\n",
    "# x_tr = x_tr_pre\n",
    "# x_v = x_v_pre\n",
    "\n",
    "# train_model_default(clf, x_tr, x_v)"
   ]
  },
  {
   "cell_type": "markdown",
   "metadata": {},
   "source": [
    "#### Post SVD"
   ]
  },
  {
   "cell_type": "markdown",
   "metadata": {},
   "source": [
    "##### 30 Dimensions"
   ]
  },
  {
   "cell_type": "code",
   "execution_count": 176,
   "metadata": {},
   "outputs": [
    {
     "name": "stderr",
     "output_type": "stream",
     "text": [
      "C:\\Users\\canfi\\Anaconda3\\lib\\site-packages\\sklearn\\linear_model\\sag.py:337: ConvergenceWarning: The max_iter was reached which means the coef_ did not converge\n",
      "  \"the coef_ did not converge\", ConvergenceWarning)\n"
     ]
    },
    {
     "name": "stdout",
     "output_type": "stream",
     "text": [
      "         Score  Train Validation\n",
      "0          AUC  0.689      0.668\n",
      "1     Accuracy  0.644      0.671\n",
      "2    Precision  0.654      0.109\n",
      "3       Recall  0.612      0.577\n",
      "4           F1  0.316      0.092\n",
      "5  Specificity  0.677      0.678\n",
      "6   Prevalence  0.500      0.064\n"
     ]
    },
    {
     "data": {
      "image/png": "[encoded data removed]",
      "text/plain": [
       "<Figure size 432x288 with 1 Axes>"
      ]
     },
     "metadata": {
      "needs_background": "light"
     },
     "output_type": "display_data"
    }
   ],
   "source": [
    "# Define X Values\n",
    "x_tr = x_tr_svd_30\n",
    "x_v = x_v_svd_30\n",
    "\n",
    "train_model_default(clf, x_tr, x_v)"
   ]
  },
  {
   "cell_type": "markdown",
   "metadata": {},
   "source": [
    "##### 300 Dimensions"
   ]
  },
  {
   "cell_type": "code",
   "execution_count": 177,
   "metadata": {},
   "outputs": [],
   "source": [
    "# # Define X Values\n",
    "# x_tr = x_tr_svd_300\n",
    "# x_v = x_v_svd_300\n",
    "\n",
    "# train_model_default(clf, x_tr, x_v)"
   ]
  },
  {
   "cell_type": "markdown",
   "metadata": {},
   "source": [
    "###  Random Forest"
   ]
  },
  {
   "cell_type": "code",
   "execution_count": 178,
   "metadata": {},
   "outputs": [],
   "source": [
    "# Define Classifier - Default Settings\n",
    "clf = RandomForestClassifier(random_state = random_state, n_estimators = 100)"
   ]
  },
  {
   "cell_type": "markdown",
   "metadata": {},
   "source": [
    "#### Pre SVD"
   ]
  },
  {
   "cell_type": "code",
   "execution_count": 179,
   "metadata": {},
   "outputs": [],
   "source": [
    "# # Define X Values\n",
    "# x_tr = x_tr_pre\n",
    "# x_v = x_v_pre\n",
    "\n",
    "# train_model_default(clf, x_tr, x_v)"
   ]
  },
  {
   "cell_type": "markdown",
   "metadata": {},
   "source": [
    "#### Post SVD"
   ]
  },
  {
   "cell_type": "markdown",
   "metadata": {},
   "source": [
    "##### 30 Dimensions"
   ]
  },
  {
   "cell_type": "code",
   "execution_count": 180,
   "metadata": {},
   "outputs": [
    {
     "name": "stdout",
     "output_type": "stream",
     "text": [
      "         Score  Train Validation\n",
      "0          AUC  1.000      0.654\n",
      "1     Accuracy  1.000      0.602\n",
      "2    Precision  1.000      0.100\n",
      "3       Recall  1.000      0.611\n",
      "4           F1  0.500      0.086\n",
      "5  Specificity  1.000      0.601\n",
      "6   Prevalence  0.500      0.064\n"
     ]
    },
    {
     "data": {
      "image/png": "[encoded data removed]",
      "text/plain": [
       "<Figure size 432x288 with 1 Axes>"
      ]
     },
     "metadata": {
      "needs_background": "light"
     },
     "output_type": "display_data"
    }
   ],
   "source": [
    "# Define X Values\n",
    "x_tr = x_tr_svd_30\n",
    "x_v = x_v_svd_30\n",
    "\n",
    "train_model_default(clf, x_tr, x_v)"
   ]
  },
  {
   "cell_type": "markdown",
   "metadata": {},
   "source": [
    "##### 300 Dimensions"
   ]
  },
  {
   "cell_type": "code",
   "execution_count": 181,
   "metadata": {},
   "outputs": [],
   "source": [
    "# # Define X Values\n",
    "# x_tr = x_tr_svd_300\n",
    "# x_v = x_v_svd_300\n",
    "\n",
    "# train_model_default(clf, x_tr, x_v)"
   ]
  },
  {
   "cell_type": "markdown",
   "metadata": {},
   "source": [
    "### Gradient Boost Classifier"
   ]
  },
  {
   "cell_type": "code",
   "execution_count": 182,
   "metadata": {},
   "outputs": [],
   "source": [
    "# Define Classifier - Default Settings\n",
    "clf = GradientBoostingClassifier(random_state = random_state)"
   ]
  },
  {
   "cell_type": "markdown",
   "metadata": {},
   "source": [
    "#### Pre SVD"
   ]
  },
  {
   "cell_type": "code",
   "execution_count": 183,
   "metadata": {},
   "outputs": [],
   "source": [
    "# # Define X Values\n",
    "# x_tr = x_tr_pre\n",
    "# x_v = x_v_pre\n",
    "\n",
    "# train_model_default(clf, x_tr, x_v)"
   ]
  },
  {
   "cell_type": "markdown",
   "metadata": {},
   "source": [
    "#### Post SVD"
   ]
  },
  {
   "cell_type": "markdown",
   "metadata": {},
   "source": [
    "##### 30 Dimensions"
   ]
  },
  {
   "cell_type": "code",
   "execution_count": 184,
   "metadata": {},
   "outputs": [
    {
     "name": "stdout",
     "output_type": "stream",
     "text": [
      "         Score  Train Validation\n",
      "0          AUC  0.858      0.651\n",
      "1     Accuracy  0.773      0.629\n",
      "2    Precision  0.780      0.100\n",
      "3       Recall  0.761      0.599\n",
      "4           F1  0.385      0.086\n",
      "5  Specificity  0.785      0.631\n",
      "6   Prevalence  0.500      0.064\n"
     ]
    },
    {
     "data": {
      "image/png": "[encoded data removed]",
      "text/plain": [
       "<Figure size 432x288 with 1 Axes>"
      ]
     },
     "metadata": {
      "needs_background": "light"
     },
     "output_type": "display_data"
    }
   ],
   "source": [
    "# Define X Values\n",
    "x_tr = x_tr_svd_30\n",
    "x_v = x_v_svd_30\n",
    "\n",
    "train_model_default(clf, x_tr, x_v)"
   ]
  },
  {
   "cell_type": "markdown",
   "metadata": {},
   "source": [
    "##### 300 Dimensions"
   ]
  },
  {
   "cell_type": "code",
   "execution_count": 185,
   "metadata": {},
   "outputs": [],
   "source": [
    "# # Define X Values\n",
    "# x_tr = x_tr_svd_300\n",
    "# x_v = x_v_svd_300\n",
    "\n",
    "# train_model_default(clf, x_tr, x_v)"
   ]
  },
  {
   "cell_type": "markdown",
   "metadata": {},
   "source": [
    "### Ada Boost Classifier"
   ]
  },
  {
   "cell_type": "code",
   "execution_count": 186,
   "metadata": {},
   "outputs": [],
   "source": [
    "# Define Classifier - Default Settings\n",
    "clf = AdaBoostClassifier(random_state = random_state)"
   ]
  },
  {
   "cell_type": "markdown",
   "metadata": {},
   "source": [
    "#### Pre SVD"
   ]
  },
  {
   "cell_type": "code",
   "execution_count": 187,
   "metadata": {},
   "outputs": [],
   "source": [
    "# # Define X Values\n",
    "# x_tr = x_tr_pre\n",
    "# x_v = x_v_pre\n",
    "\n",
    "# train_model_default(clf, x_tr, x_v)"
   ]
  },
  {
   "cell_type": "markdown",
   "metadata": {},
   "source": [
    "#### Post SVD"
   ]
  },
  {
   "cell_type": "markdown",
   "metadata": {},
   "source": [
    "##### 30 Dimensions"
   ]
  },
  {
   "cell_type": "code",
   "execution_count": 188,
   "metadata": {},
   "outputs": [
    {
     "name": "stdout",
     "output_type": "stream",
     "text": [
      "         Score  Train Validation\n",
      "0          AUC  0.741      0.645\n",
      "1     Accuracy  0.681      0.637\n",
      "2    Precision  0.686      0.101\n",
      "3       Recall  0.667      0.586\n",
      "4           F1  0.338      0.086\n",
      "5  Specificity  0.695      0.641\n",
      "6   Prevalence  0.500      0.064\n"
     ]
    },
    {
     "data": {
      "image/png": "[encoded data removed]",
      "text/plain": [
       "<Figure size 432x288 with 1 Axes>"
      ]
     },
     "metadata": {
      "needs_background": "light"
     },
     "output_type": "display_data"
    }
   ],
   "source": [
    "# Define X Values\n",
    "x_tr = x_tr_svd_30\n",
    "x_v = x_v_svd_30\n",
    "\n",
    "train_model_default(clf, x_tr, x_v)"
   ]
  },
  {
   "cell_type": "markdown",
   "metadata": {},
   "source": [
    "##### 300 Dimensions"
   ]
  },
  {
   "cell_type": "code",
   "execution_count": 189,
   "metadata": {},
   "outputs": [],
   "source": [
    "# # Define X Values\n",
    "# x_tr = x_tr_svd_300\n",
    "# x_v = x_v_svd_300\n",
    "\n",
    "# train_model_default(clf, x_tr, x_v)"
   ]
  },
  {
   "cell_type": "markdown",
   "metadata": {},
   "source": [
    "### XGBoost"
   ]
  },
  {
   "cell_type": "code",
   "execution_count": 190,
   "metadata": {},
   "outputs": [],
   "source": [
    "# Define Classifier - Default Settings\n",
    "clf = XGBClassifier(random_state = random_state)"
   ]
  },
  {
   "cell_type": "markdown",
   "metadata": {},
   "source": [
    "#### Pre SVD"
   ]
  },
  {
   "cell_type": "code",
   "execution_count": 191,
   "metadata": {},
   "outputs": [],
   "source": [
    "# # Define X Values\n",
    "# x_tr = x_tr_pre\n",
    "# x_v = x_v_pre\n",
    "\n",
    "# train_model_default(clf, x_tr, x_v)"
   ]
  },
  {
   "cell_type": "markdown",
   "metadata": {},
   "source": [
    "#### Post SVD"
   ]
  },
  {
   "cell_type": "markdown",
   "metadata": {},
   "source": [
    "##### 30 Dimensions"
   ]
  },
  {
   "cell_type": "code",
   "execution_count": 192,
   "metadata": {},
   "outputs": [
    {
     "name": "stdout",
     "output_type": "stream",
     "text": [
      "         Score  Train Validation\n",
      "0          AUC  0.848      0.651\n",
      "1     Accuracy  0.768      0.640\n",
      "2    Precision  0.777      0.102\n",
      "3       Recall  0.751      0.588\n",
      "4           F1  0.382      0.087\n",
      "5  Specificity  0.785      0.643\n",
      "6   Prevalence  0.500      0.064\n"
     ]
    },
    {
     "data": {
      "image/png": "[encoded data removed]",
      "text/plain": [
       "<Figure size 432x288 with 1 Axes>"
      ]
     },
     "metadata": {
      "needs_background": "light"
     },
     "output_type": "display_data"
    }
   ],
   "source": [
    "# Define X Values\n",
    "x_tr = x_tr_svd_30\n",
    "x_v = x_v_svd_30\n",
    "\n",
    "train_model_default(clf, x_tr, x_v)"
   ]
  },
  {
   "cell_type": "markdown",
   "metadata": {},
   "source": [
    "##### 300 Dimensions"
   ]
  },
  {
   "cell_type": "code",
   "execution_count": 193,
   "metadata": {},
   "outputs": [],
   "source": [
    "# # Define X Values\n",
    "# x_tr = x_tr_svd_30\n",
    "# x_v = x_v_svd_30\n",
    "\n",
    "# train_model_default(clf, x_tr, x_v)"
   ]
  },
  {
   "cell_type": "markdown",
   "metadata": {},
   "source": [
    "## Parameter Optimization"
   ]
  },
  {
   "cell_type": "markdown",
   "metadata": {},
   "source": [
    "After analyzing a suite of classifiers using default setting, the following four classifiers returned quality results, so we will move forward with these models.\n",
    "\n",
    "* Naive Bayes\n",
    "* KNNeighbors\n",
    "* Logistic Regression\n",
    "* Ada Boost Classifier\n",
    "* Gradient Boost Classifier\n",
    "* XGBoost Classifier"
   ]
  },
  {
   "cell_type": "markdown",
   "metadata": {},
   "source": [
    "### Naive Bayes"
   ]
  },
  {
   "cell_type": "markdown",
   "metadata": {},
   "source": [
    "Naive Bayes cannot use the dimensionally reduced matrices due to negative values."
   ]
  },
  {
   "cell_type": "markdown",
   "metadata": {},
   "source": [
    "#### Define Function Inputs"
   ]
  },
  {
   "cell_type": "code",
   "execution_count": 194,
   "metadata": {},
   "outputs": [],
   "source": [
    "# Establish Classifier\n",
    "clf = MultinomialNB()\n",
    "\n",
    "#Define Parameters\n",
    "alpha = np.logspace(-5, 5, 11)\n",
    "\n",
    "# Create hyperparameter options\n",
    "hyperparameters = dict(alpha = alpha)"
   ]
  },
  {
   "cell_type": "code",
   "execution_count": 195,
   "metadata": {},
   "outputs": [
    {
     "name": "stdout",
     "output_type": "stream",
     "text": [
      "Fitting 5 folds for each of 11 candidates, totalling 55 fits\n"
     ]
    },
    {
     "name": "stderr",
     "output_type": "stream",
     "text": [
      "[Parallel(n_jobs=-1)]: Using backend LokyBackend with 8 concurrent workers.\n",
      "[Parallel(n_jobs=-1)]: Done  34 tasks      | elapsed:    3.8s\n",
      "[Parallel(n_jobs=-1)]: Done  55 out of  55 | elapsed:    4.2s finished\n"
     ]
    },
    {
     "name": "stdout",
     "output_type": "stream",
     "text": [
      "Best parameters set found on training set:\n",
      "\n",
      "{'alpha': 10.0}\n",
      "\n",
      "0.634 (+/-0.037) for {'alpha': 1e-05}\n",
      "0.634 (+/-0.037) for {'alpha': 0.0001}\n",
      "0.634 (+/-0.037) for {'alpha': 0.001}\n",
      "0.634 (+/-0.037) for {'alpha': 0.01}\n",
      "0.634 (+/-0.037) for {'alpha': 0.1}\n",
      "0.634 (+/-0.038) for {'alpha': 1.0}\n",
      "0.635 (+/-0.039) for {'alpha': 10.0}\n",
      "0.632 (+/-0.029) for {'alpha': 100.0}\n",
      "0.543 (+/-0.017) for {'alpha': 1000.0}\n",
      "0.338 (+/-0.011) for {'alpha': 10000.0}\n",
      "0.333 (+/-0.000) for {'alpha': 100000.0}\n",
      "\n",
      "         Score  Train Validation\n",
      "0          AUC  0.692      0.660\n",
      "1     Accuracy  0.657      0.657\n",
      "2    Precision  0.664      0.108\n",
      "3       Recall  0.636      0.595\n",
      "4           F1  0.325      0.091\n",
      "5  Specificity  0.678      0.662\n",
      "6   Prevalence  0.500      0.064\n"
     ]
    },
    {
     "data": {
      "image/png": "[encoded data removed]",
      "text/plain": [
       "<Figure size 432x288 with 1 Axes>"
      ]
     },
     "metadata": {
      "needs_background": "light"
     },
     "output_type": "display_data"
    }
   ],
   "source": [
    "# Define X Values\n",
    "x_tr = x_tr_pre\n",
    "x_v = x_v_pre\n",
    "\n",
    "clf = grid_search_opt(x_tr, x_v, clf, hyperparameters)\n",
    "\n",
    "opt_model_scoring(clf, x_tr, x_v)\n",
    "\n",
    "# Define for Test Analysis\n",
    "clf_nb_opt_pre = clf"
   ]
  },
  {
   "cell_type": "markdown",
   "metadata": {},
   "source": [
    "### KNNeighbors"
   ]
  },
  {
   "cell_type": "markdown",
   "metadata": {},
   "source": [
    "#### Define Function Inputs"
   ]
  },
  {
   "cell_type": "code",
   "execution_count": 196,
   "metadata": {},
   "outputs": [],
   "source": [
    "# Establish Classifier\n",
    "clf = KNeighborsClassifier()\n",
    "\n",
    "#Define Parameters\n",
    "n_neighbors  = np.linspace(3,33,11).astype('int') \n",
    "weights = ('uniform', 'distance')\n",
    "metric = ('euclidean', 'manhattan')\n",
    "\n",
    "# Create hyperparameter options\n",
    "hyperparameters = dict(n_neighbors = n_neighbors, weights = weights, metric = metric)"
   ]
  },
  {
   "cell_type": "markdown",
   "metadata": {},
   "source": [
    "#### Pre SVD"
   ]
  },
  {
   "cell_type": "code",
   "execution_count": 197,
   "metadata": {},
   "outputs": [
    {
     "name": "stdout",
     "output_type": "stream",
     "text": [
      "Fitting 5 folds for each of 44 candidates, totalling 220 fits\n"
     ]
    },
    {
     "name": "stderr",
     "output_type": "stream",
     "text": [
      "[Parallel(n_jobs=-1)]: Using backend LokyBackend with 8 concurrent workers.\n",
      "[Parallel(n_jobs=-1)]: Done  34 tasks      | elapsed:   15.9s\n",
      "[Parallel(n_jobs=-1)]: Done 184 tasks      | elapsed:  2.4min\n",
      "[Parallel(n_jobs=-1)]: Done 220 out of 220 | elapsed:  3.2min finished\n"
     ]
    },
    {
     "name": "stdout",
     "output_type": "stream",
     "text": [
      "Best parameters set found on training set:\n",
      "\n",
      "{'metric': 'euclidean', 'n_neighbors': 27, 'weights': 'uniform'}\n",
      "\n",
      "0.577 (+/-0.044) for {'metric': 'euclidean', 'n_neighbors': 3, 'weights': 'uniform'}\n",
      "0.577 (+/-0.044) for {'metric': 'euclidean', 'n_neighbors': 3, 'weights': 'distance'}\n",
      "0.555 (+/-0.036) for {'metric': 'euclidean', 'n_neighbors': 6, 'weights': 'uniform'}\n",
      "0.589 (+/-0.036) for {'metric': 'euclidean', 'n_neighbors': 6, 'weights': 'distance'}\n",
      "0.581 (+/-0.015) for {'metric': 'euclidean', 'n_neighbors': 9, 'weights': 'uniform'}\n",
      "0.581 (+/-0.015) for {'metric': 'euclidean', 'n_neighbors': 9, 'weights': 'distance'}\n",
      "0.561 (+/-0.030) for {'metric': 'euclidean', 'n_neighbors': 12, 'weights': 'uniform'}\n",
      "0.588 (+/-0.015) for {'metric': 'euclidean', 'n_neighbors': 12, 'weights': 'distance'}\n",
      "0.587 (+/-0.011) for {'metric': 'euclidean', 'n_neighbors': 15, 'weights': 'uniform'}\n",
      "0.587 (+/-0.011) for {'metric': 'euclidean', 'n_neighbors': 15, 'weights': 'distance'}\n",
      "0.576 (+/-0.029) for {'metric': 'euclidean', 'n_neighbors': 18, 'weights': 'uniform'}\n",
      "0.593 (+/-0.018) for {'metric': 'euclidean', 'n_neighbors': 18, 'weights': 'distance'}\n",
      "0.590 (+/-0.015) for {'metric': 'euclidean', 'n_neighbors': 21, 'weights': 'uniform'}\n",
      "0.590 (+/-0.015) for {'metric': 'euclidean', 'n_neighbors': 21, 'weights': 'distance'}\n",
      "0.576 (+/-0.019) for {'metric': 'euclidean', 'n_neighbors': 24, 'weights': 'uniform'}\n",
      "0.587 (+/-0.011) for {'metric': 'euclidean', 'n_neighbors': 24, 'weights': 'distance'}\n",
      "0.594 (+/-0.025) for {'metric': 'euclidean', 'n_neighbors': 27, 'weights': 'uniform'}\n",
      "0.594 (+/-0.025) for {'metric': 'euclidean', 'n_neighbors': 27, 'weights': 'distance'}\n",
      "0.582 (+/-0.028) for {'metric': 'euclidean', 'n_neighbors': 30, 'weights': 'uniform'}\n",
      "0.591 (+/-0.024) for {'metric': 'euclidean', 'n_neighbors': 30, 'weights': 'distance'}\n",
      "0.591 (+/-0.036) for {'metric': 'euclidean', 'n_neighbors': 33, 'weights': 'uniform'}\n",
      "0.591 (+/-0.036) for {'metric': 'euclidean', 'n_neighbors': 33, 'weights': 'distance'}\n",
      "0.555 (+/-0.040) for {'metric': 'manhattan', 'n_neighbors': 3, 'weights': 'uniform'}\n",
      "0.555 (+/-0.040) for {'metric': 'manhattan', 'n_neighbors': 3, 'weights': 'distance'}\n",
      "0.495 (+/-0.060) for {'metric': 'manhattan', 'n_neighbors': 6, 'weights': 'uniform'}\n",
      "0.559 (+/-0.041) for {'metric': 'manhattan', 'n_neighbors': 6, 'weights': 'distance'}\n",
      "0.535 (+/-0.052) for {'metric': 'manhattan', 'n_neighbors': 9, 'weights': 'uniform'}\n",
      "0.535 (+/-0.052) for {'metric': 'manhattan', 'n_neighbors': 9, 'weights': 'distance'}\n",
      "0.501 (+/-0.061) for {'metric': 'manhattan', 'n_neighbors': 12, 'weights': 'uniform'}\n",
      "0.536 (+/-0.052) for {'metric': 'manhattan', 'n_neighbors': 12, 'weights': 'distance'}\n",
      "0.525 (+/-0.055) for {'metric': 'manhattan', 'n_neighbors': 15, 'weights': 'uniform'}\n",
      "0.525 (+/-0.056) for {'metric': 'manhattan', 'n_neighbors': 15, 'weights': 'distance'}\n",
      "0.498 (+/-0.061) for {'metric': 'manhattan', 'n_neighbors': 18, 'weights': 'uniform'}\n",
      "0.524 (+/-0.057) for {'metric': 'manhattan', 'n_neighbors': 18, 'weights': 'distance'}\n",
      "0.513 (+/-0.053) for {'metric': 'manhattan', 'n_neighbors': 21, 'weights': 'uniform'}\n",
      "0.513 (+/-0.053) for {'metric': 'manhattan', 'n_neighbors': 21, 'weights': 'distance'}\n",
      "0.491 (+/-0.050) for {'metric': 'manhattan', 'n_neighbors': 24, 'weights': 'uniform'}\n",
      "0.523 (+/-0.054) for {'metric': 'manhattan', 'n_neighbors': 24, 'weights': 'distance'}\n",
      "0.507 (+/-0.053) for {'metric': 'manhattan', 'n_neighbors': 27, 'weights': 'uniform'}\n",
      "0.507 (+/-0.053) for {'metric': 'manhattan', 'n_neighbors': 27, 'weights': 'distance'}\n",
      "0.476 (+/-0.033) for {'metric': 'manhattan', 'n_neighbors': 30, 'weights': 'uniform'}\n",
      "0.506 (+/-0.044) for {'metric': 'manhattan', 'n_neighbors': 30, 'weights': 'distance'}\n",
      "0.499 (+/-0.048) for {'metric': 'manhattan', 'n_neighbors': 33, 'weights': 'uniform'}\n",
      "0.499 (+/-0.048) for {'metric': 'manhattan', 'n_neighbors': 33, 'weights': 'distance'}\n",
      "\n",
      "         Score  Train Validation\n",
      "0          AUC  0.708      0.663\n",
      "1     Accuracy  0.642      0.754\n",
      "2    Precision  0.711      0.120\n",
      "3       Recall  0.478      0.448\n",
      "4           F1  0.286      0.095\n",
      "5  Specificity  0.806      0.775\n",
      "6   Prevalence  0.500      0.064\n"
     ]
    },
    {
     "data": {
      "image/png": "[encoded data removed]",
      "text/plain": [
       "<Figure size 432x288 with 1 Axes>"
      ]
     },
     "metadata": {
      "needs_background": "light"
     },
     "output_type": "display_data"
    }
   ],
   "source": [
    "# Define X Values\n",
    "x_tr = x_tr_pre\n",
    "x_v = x_v_pre\n",
    "\n",
    "clf = grid_search_opt(x_tr, x_v, clf, hyperparameters)\n",
    "\n",
    "opt_model_scoring(clf, x_tr, x_v)\n",
    "\n",
    "# Define for Test Analysis\n",
    "clf_knn_opt_pre = clf"
   ]
  },
  {
   "cell_type": "markdown",
   "metadata": {},
   "source": [
    "### Logistic Regression"
   ]
  },
  {
   "cell_type": "markdown",
   "metadata": {},
   "source": [
    "#### Define Function Inputs"
   ]
  },
  {
   "cell_type": "code",
   "execution_count": 198,
   "metadata": {},
   "outputs": [],
   "source": [
    "# Establish Classifier\n",
    "clf = LogisticRegression(random_state = random_state, solver = solver_log, max_iter = max_iter_log)\n",
    "\n",
    "#Define Parameters\n",
    "penalty = ['l1','l2']       \n",
    "C = np.logspace(-5, 1, 7)\n",
    "\n",
    "# Create hyperparameter options\n",
    "hyperparameters = dict(C=C, penalty = penalty)"
   ]
  },
  {
   "cell_type": "markdown",
   "metadata": {},
   "source": [
    "#### Pre SVD"
   ]
  },
  {
   "cell_type": "code",
   "execution_count": 199,
   "metadata": {},
   "outputs": [
    {
     "name": "stdout",
     "output_type": "stream",
     "text": [
      "Fitting 5 folds for each of 14 candidates, totalling 70 fits\n"
     ]
    },
    {
     "name": "stderr",
     "output_type": "stream",
     "text": [
      "[Parallel(n_jobs=-1)]: Using backend LokyBackend with 8 concurrent workers.\n",
      "[Parallel(n_jobs=-1)]: Done  34 tasks      | elapsed:   35.4s\n",
      "[Parallel(n_jobs=-1)]: Done  70 out of  70 | elapsed:  3.9min finished\n"
     ]
    },
    {
     "name": "stdout",
     "output_type": "stream",
     "text": [
      "Best parameters set found on training set:\n",
      "\n",
      "{'C': 0.0001, 'penalty': 'l2'}\n",
      "\n",
      "0.333 (+/-0.000) for {'C': 1e-05, 'penalty': 'l1'}\n",
      "0.628 (+/-0.041) for {'C': 1e-05, 'penalty': 'l2'}\n",
      "0.333 (+/-0.000) for {'C': 0.0001, 'penalty': 'l1'}\n",
      "0.643 (+/-0.053) for {'C': 0.0001, 'penalty': 'l2'}\n",
      "0.440 (+/-0.057) for {'C': 0.001, 'penalty': 'l1'}\n",
      "0.634 (+/-0.058) for {'C': 0.001, 'penalty': 'l2'}\n",
      "0.617 (+/-0.031) for {'C': 0.01, 'penalty': 'l1'}\n",
      "0.599 (+/-0.067) for {'C': 0.01, 'penalty': 'l2'}\n",
      "0.611 (+/-0.050) for {'C': 0.1, 'penalty': 'l1'}\n",
      "0.584 (+/-0.061) for {'C': 0.1, 'penalty': 'l2'}\n",
      "0.587 (+/-0.061) for {'C': 1.0, 'penalty': 'l1'}\n",
      "0.583 (+/-0.057) for {'C': 1.0, 'penalty': 'l2'}\n",
      "0.583 (+/-0.058) for {'C': 10.0, 'penalty': 'l1'}\n",
      "0.584 (+/-0.058) for {'C': 10.0, 'penalty': 'l2'}\n",
      "\n",
      "         Score  Train Validation\n",
      "0          AUC  0.761      0.690\n",
      "1     Accuracy  0.693      0.667\n",
      "2    Precision  0.697      0.112\n",
      "3       Recall  0.683      0.609\n",
      "4           F1  0.345      0.095\n",
      "5  Specificity  0.703      0.670\n",
      "6   Prevalence  0.500      0.064\n"
     ]
    },
    {
     "data": {
      "image/png": "[encoded data removed]",
      "text/plain": [
       "<Figure size 432x288 with 1 Axes>"
      ]
     },
     "metadata": {
      "needs_background": "light"
     },
     "output_type": "display_data"
    }
   ],
   "source": [
    "# Define X Values\n",
    "x_tr = x_tr_pre\n",
    "x_v = x_v_pre\n",
    "\n",
    "clf = grid_search_opt(x_tr, x_v, clf, hyperparameters)\n",
    "\n",
    "opt_model_scoring(clf, x_tr, x_v)\n",
    "\n",
    "# Define for Test Analysis\n",
    "clf_logreg_opt_pre = clf"
   ]
  },
  {
   "cell_type": "markdown",
   "metadata": {},
   "source": [
    "### Random Forest"
   ]
  },
  {
   "cell_type": "markdown",
   "metadata": {},
   "source": [
    "Random Forest models have so far performed so-so, and have taken a very long time to run. For the training data it often overfits to match 100%. I recommend commenting out these models until final analysis"
   ]
  },
  {
   "cell_type": "markdown",
   "metadata": {},
   "source": [
    "#### Define Function Inputs"
   ]
  },
  {
   "cell_type": "code",
   "execution_count": 200,
   "metadata": {},
   "outputs": [],
   "source": [
    "# Establish Classifier\n",
    "clf = RandomForestClassifier(random_state = random_state)\n",
    "\n",
    "#Define Parameters\n",
    "n_estimators = [100, 300, 500, 800, 1200]\n",
    "max_depth = [5, 8, 15, 25, 30]\n",
    "min_samples_split = [2, 5, 10, 15, 100]\n",
    "min_samples_leaf = [1, 2, 5, 10] \n",
    "\n",
    "\n",
    "# Create hyperparameter options\n",
    "hyperparameters = dict(n_estimators=n_estimators, \n",
    "                       max_depth=max_depth,\n",
    "                       min_samples_split = min_samples_split,\n",
    "                       min_samples_leaf = min_samples_leaf)"
   ]
  },
  {
   "cell_type": "markdown",
   "metadata": {},
   "source": [
    "#### Pre SVD"
   ]
  },
  {
   "cell_type": "code",
   "execution_count": 201,
   "metadata": {},
   "outputs": [],
   "source": [
    "# # Define X Values\n",
    "# x_tr = x_tr_pre\n",
    "# x_v = x_v_pre\n",
    "\n",
    "# clf = grid_search_opt(x_tr, x_v, clf, hyperparameters)\n",
    "\n",
    "# opt_model_scoring(clf, x_tr, x_v)\n",
    "\n",
    "# # Define for Test Analysis\n",
    "# clf_rf_opt_pre = clf"
   ]
  },
  {
   "cell_type": "markdown",
   "metadata": {},
   "source": [
    "### Ada Boost"
   ]
  },
  {
   "cell_type": "markdown",
   "metadata": {},
   "source": [
    "#### Define Function Inputs"
   ]
  },
  {
   "cell_type": "code",
   "execution_count": 208,
   "metadata": {},
   "outputs": [],
   "source": [
    "# Define X Values\n",
    "x_tr = x_tr_pre\n",
    "x_v = x_v_pre\n",
    "\n",
    "# Establish Classifier\n",
    "clf = AdaBoostClassifier(random_state = random_state)\n",
    "\n",
    "#Define Parameters\n",
    "n_estimators = [50, 100, 150, 200, 250]\n",
    "learning_rate = np.logspace(-4, 2, 7)\n",
    "\n",
    "# Create hyperparameter options\n",
    "hyperparameters = dict(n_estimators=n_estimators, \n",
    "                       learning_rate=learning_rate)"
   ]
  },
  {
   "cell_type": "markdown",
   "metadata": {},
   "source": [
    "#### Pre SVD"
   ]
  },
  {
   "cell_type": "code",
   "execution_count": 209,
   "metadata": {},
   "outputs": [
    {
     "name": "stdout",
     "output_type": "stream",
     "text": [
      "Fitting 5 folds for each of 35 candidates, totalling 175 fits\n"
     ]
    },
    {
     "name": "stderr",
     "output_type": "stream",
     "text": [
      "[Parallel(n_jobs=-1)]: Using backend LokyBackend with 8 concurrent workers.\n",
      "[Parallel(n_jobs=-1)]: Done  34 tasks      | elapsed:  1.7min\n",
      "[Parallel(n_jobs=-1)]: Done 175 out of 175 | elapsed: 10.9min finished\n"
     ]
    },
    {
     "name": "stdout",
     "output_type": "stream",
     "text": [
      "Best parameters set found on training set:\n",
      "\n",
      "{'learning_rate': 0.1, 'n_estimators': 200}\n",
      "\n",
      "0.574 (+/-0.027) for {'learning_rate': 0.0001, 'n_estimators': 50}\n",
      "0.577 (+/-0.041) for {'learning_rate': 0.0001, 'n_estimators': 100}\n",
      "0.577 (+/-0.041) for {'learning_rate': 0.0001, 'n_estimators': 150}\n",
      "0.577 (+/-0.041) for {'learning_rate': 0.0001, 'n_estimators': 200}\n",
      "0.577 (+/-0.041) for {'learning_rate': 0.0001, 'n_estimators': 250}\n",
      "0.577 (+/-0.041) for {'learning_rate': 0.001, 'n_estimators': 50}\n",
      "0.578 (+/-0.037) for {'learning_rate': 0.001, 'n_estimators': 100}\n",
      "0.585 (+/-0.039) for {'learning_rate': 0.001, 'n_estimators': 150}\n",
      "0.585 (+/-0.039) for {'learning_rate': 0.001, 'n_estimators': 200}\n",
      "0.585 (+/-0.041) for {'learning_rate': 0.001, 'n_estimators': 250}\n",
      "0.596 (+/-0.039) for {'learning_rate': 0.01, 'n_estimators': 50}\n",
      "0.610 (+/-0.023) for {'learning_rate': 0.01, 'n_estimators': 100}\n",
      "0.619 (+/-0.036) for {'learning_rate': 0.01, 'n_estimators': 150}\n",
      "0.627 (+/-0.036) for {'learning_rate': 0.01, 'n_estimators': 200}\n",
      "0.627 (+/-0.031) for {'learning_rate': 0.01, 'n_estimators': 250}\n",
      "0.631 (+/-0.051) for {'learning_rate': 0.1, 'n_estimators': 50}\n",
      "0.637 (+/-0.048) for {'learning_rate': 0.1, 'n_estimators': 100}\n",
      "0.640 (+/-0.047) for {'learning_rate': 0.1, 'n_estimators': 150}\n",
      "0.642 (+/-0.045) for {'learning_rate': 0.1, 'n_estimators': 200}\n",
      "0.639 (+/-0.047) for {'learning_rate': 0.1, 'n_estimators': 250}\n",
      "0.599 (+/-0.035) for {'learning_rate': 1.0, 'n_estimators': 50}\n",
      "0.598 (+/-0.032) for {'learning_rate': 1.0, 'n_estimators': 100}\n",
      "0.597 (+/-0.040) for {'learning_rate': 1.0, 'n_estimators': 150}\n",
      "0.595 (+/-0.033) for {'learning_rate': 1.0, 'n_estimators': 200}\n",
      "0.588 (+/-0.039) for {'learning_rate': 1.0, 'n_estimators': 250}\n",
      "0.347 (+/-0.056) for {'learning_rate': 10.0, 'n_estimators': 50}\n",
      "0.347 (+/-0.056) for {'learning_rate': 10.0, 'n_estimators': 100}\n",
      "0.347 (+/-0.056) for {'learning_rate': 10.0, 'n_estimators': 150}\n",
      "0.347 (+/-0.056) for {'learning_rate': 10.0, 'n_estimators': 200}\n",
      "0.347 (+/-0.056) for {'learning_rate': 10.0, 'n_estimators': 250}\n",
      "0.333 (+/-0.000) for {'learning_rate': 100.0, 'n_estimators': 50}\n",
      "0.333 (+/-0.000) for {'learning_rate': 100.0, 'n_estimators': 100}\n",
      "0.333 (+/-0.000) for {'learning_rate': 100.0, 'n_estimators': 150}\n",
      "0.333 (+/-0.000) for {'learning_rate': 100.0, 'n_estimators': 200}\n",
      "0.333 (+/-0.000) for {'learning_rate': 100.0, 'n_estimators': 250}\n",
      "\n",
      "         Score  Train Validation\n",
      "0          AUC  0.766      0.698\n",
      "1     Accuracy  0.698      0.680\n",
      "2    Precision  0.712      0.118\n",
      "3       Recall  0.665      0.618\n",
      "4           F1  0.344      0.099\n",
      "5  Specificity  0.731      0.684\n",
      "6   Prevalence  0.500      0.064\n"
     ]
    },
    {
     "data": {
      "image/png": "[encoded data removed]",
      "text/plain": [
       "<Figure size 432x288 with 1 Axes>"
      ]
     },
     "metadata": {
      "needs_background": "light"
     },
     "output_type": "display_data"
    }
   ],
   "source": [
    "# Define X Values\n",
    "x_tr = x_tr_pre\n",
    "x_v = x_v_pre\n",
    "\n",
    "clf = grid_search_opt(x_tr, x_v, clf, hyperparameters)\n",
    "\n",
    "opt_model_scoring(clf, x_tr, x_v)\n",
    "\n",
    "# Define for Test Analysis\n",
    "clf_ada_opt_pre = clf"
   ]
  },
  {
   "cell_type": "markdown",
   "metadata": {},
   "source": [
    "### XGBoost"
   ]
  },
  {
   "cell_type": "markdown",
   "metadata": {},
   "source": [
    "#### Define Function Inputs"
   ]
  },
  {
   "cell_type": "code",
   "execution_count": 204,
   "metadata": {},
   "outputs": [],
   "source": [
    "# Establish Classifier\n",
    "clf = XGBClassifier(random_state = random_state)\n",
    "\n",
    "#Define Parameters\n",
    "n_estimators = [25, 50, 100, 150, 200]\n",
    "learning_rate = np.logspace(-4, 1, 6)\n",
    "\n",
    "# Create hyperparameter options\n",
    "hyperparameters = dict(n_estimators=n_estimators, learning_rate=learning_rate)"
   ]
  },
  {
   "cell_type": "markdown",
   "metadata": {},
   "source": [
    "#### Pre SVD"
   ]
  },
  {
   "cell_type": "code",
   "execution_count": 205,
   "metadata": {},
   "outputs": [
    {
     "name": "stdout",
     "output_type": "stream",
     "text": [
      "Fitting 5 folds for each of 30 candidates, totalling 150 fits\n"
     ]
    },
    {
     "name": "stderr",
     "output_type": "stream",
     "text": [
      "[Parallel(n_jobs=-1)]: Using backend LokyBackend with 8 concurrent workers.\n",
      "[Parallel(n_jobs=-1)]: Done  34 tasks      | elapsed:  1.1min\n",
      "[Parallel(n_jobs=-1)]: Done 150 out of 150 | elapsed:  4.8min finished\n"
     ]
    },
    {
     "name": "stdout",
     "output_type": "stream",
     "text": [
      "Best parameters set found on training set:\n",
      "\n",
      "{'learning_rate': 0.1, 'n_estimators': 50}\n",
      "\n",
      "0.575 (+/-0.027) for {'learning_rate': 0.0001, 'n_estimators': 25}\n",
      "0.575 (+/-0.027) for {'learning_rate': 0.0001, 'n_estimators': 50}\n",
      "0.583 (+/-0.043) for {'learning_rate': 0.0001, 'n_estimators': 100}\n",
      "0.584 (+/-0.046) for {'learning_rate': 0.0001, 'n_estimators': 150}\n",
      "0.584 (+/-0.044) for {'learning_rate': 0.0001, 'n_estimators': 200}\n",
      "0.591 (+/-0.039) for {'learning_rate': 0.001, 'n_estimators': 25}\n",
      "0.597 (+/-0.031) for {'learning_rate': 0.001, 'n_estimators': 50}\n",
      "0.597 (+/-0.041) for {'learning_rate': 0.001, 'n_estimators': 100}\n",
      "0.599 (+/-0.046) for {'learning_rate': 0.001, 'n_estimators': 150}\n",
      "0.605 (+/-0.042) for {'learning_rate': 0.001, 'n_estimators': 200}\n",
      "0.611 (+/-0.033) for {'learning_rate': 0.01, 'n_estimators': 25}\n",
      "0.625 (+/-0.030) for {'learning_rate': 0.01, 'n_estimators': 50}\n",
      "0.632 (+/-0.038) for {'learning_rate': 0.01, 'n_estimators': 100}\n",
      "0.638 (+/-0.041) for {'learning_rate': 0.01, 'n_estimators': 150}\n",
      "0.642 (+/-0.038) for {'learning_rate': 0.01, 'n_estimators': 200}\n",
      "0.642 (+/-0.041) for {'learning_rate': 0.1, 'n_estimators': 25}\n",
      "0.647 (+/-0.032) for {'learning_rate': 0.1, 'n_estimators': 50}\n",
      "0.641 (+/-0.034) for {'learning_rate': 0.1, 'n_estimators': 100}\n",
      "0.643 (+/-0.034) for {'learning_rate': 0.1, 'n_estimators': 150}\n",
      "0.637 (+/-0.039) for {'learning_rate': 0.1, 'n_estimators': 200}\n",
      "0.596 (+/-0.036) for {'learning_rate': 1.0, 'n_estimators': 25}\n",
      "0.594 (+/-0.036) for {'learning_rate': 1.0, 'n_estimators': 50}\n",
      "0.602 (+/-0.046) for {'learning_rate': 1.0, 'n_estimators': 100}\n",
      "0.591 (+/-0.037) for {'learning_rate': 1.0, 'n_estimators': 150}\n",
      "0.593 (+/-0.040) for {'learning_rate': 1.0, 'n_estimators': 200}\n",
      "0.333 (+/-0.000) for {'learning_rate': 10.0, 'n_estimators': 25}\n",
      "0.333 (+/-0.000) for {'learning_rate': 10.0, 'n_estimators': 50}\n",
      "0.333 (+/-0.000) for {'learning_rate': 10.0, 'n_estimators': 100}\n",
      "0.333 (+/-0.000) for {'learning_rate': 10.0, 'n_estimators': 150}\n",
      "0.333 (+/-0.000) for {'learning_rate': 10.0, 'n_estimators': 200}\n",
      "\n",
      "         Score  Train Validation\n",
      "0          AUC  0.845      0.697\n",
      "1     Accuracy  0.759      0.660\n",
      "2    Precision  0.767      0.114\n",
      "3       Recall  0.743      0.634\n",
      "4           F1  0.378      0.096\n",
      "5  Specificity  0.774      0.661\n",
      "6   Prevalence  0.500      0.064\n"
     ]
    },
    {
     "data": {
      "image/png": "[encoded data removed]",
      "text/plain": [
       "<Figure size 432x288 with 1 Axes>"
      ]
     },
     "metadata": {
      "needs_background": "light"
     },
     "output_type": "display_data"
    }
   ],
   "source": [
    "# Define X Values\n",
    "x_tr = x_tr_pre\n",
    "x_v = x_v_pre\n",
    "\n",
    "clf = grid_search_opt(x_tr, x_v, clf, hyperparameters)\n",
    "\n",
    "opt_model_scoring(clf, x_tr, x_v)\n",
    "\n",
    "# Define for Test Analysis\n",
    "clf_xbg_opt_pre = clf"
   ]
  },
  {
   "cell_type": "markdown",
   "metadata": {},
   "source": [
    "# Test Set Scoring"
   ]
  },
  {
   "cell_type": "markdown",
   "metadata": {},
   "source": [
    "## General Function"
   ]
  },
  {
   "cell_type": "code",
   "execution_count": 233,
   "metadata": {},
   "outputs": [],
   "source": [
    "def test_score (clf, x):\n",
    "    \n",
    "    print(\"Detailed classification report:\")\n",
    "    print()\n",
    "    print(\"The model is trained and tuned on the training and validation sets..\")\n",
    "    print(\"The scores are computed on the test set.\")\n",
    "    print()\n",
    "    y_true, y_pred = y_te, clf.predict(x)\n",
    "    print(classification_report(y_true, y_pred, digits = 3))\n",
    "    print()\n",
    "    \n",
    "    prevalence_te = '%.3f' %calc_prevalence(y_true)\n",
    "    auc_score_te = '%.3f' %roc_auc_score(y_true, y_pred)\n",
    "    print('AUC Score: ', auc_score_te)\n",
    "    print('Positive Target Prevalence: ', prevalence_te)\n",
    "    "
   ]
  },
  {
   "cell_type": "code",
   "execution_count": 245,
   "metadata": {},
   "outputs": [],
   "source": [
    "def test_score_cv(clf, x):\n",
    "    scoring = ['roc_auc', 'accuracy', 'balanced_accuracy', 'precision', 'recall', 'f1']\n",
    "    \n",
    "    results = cross_validate(estimator = clf,\n",
    "                                          X = x,\n",
    "                                          y = y_te,\n",
    "                                          cv = 5,\n",
    "                                          scoring = scoring)\n",
    "    for metric_name in results.keys():\n",
    "        average_score = np.average(results[metric_name])\n",
    "        print('%s : %.3f' % (metric_name, average_score))\n",
    "    \n",
    "    prevalence_te = '%.3f' %calc_prevalence(y_te)\n",
    "    print('positive target prevalence: ', prevalence_te)"
   ]
  },
  {
   "cell_type": "markdown",
   "metadata": {},
   "source": [
    "## Naive Bayes"
   ]
  },
  {
   "cell_type": "markdown",
   "metadata": {},
   "source": [
    "### Overall Metrics"
   ]
  },
  {
   "cell_type": "code",
   "execution_count": 234,
   "metadata": {},
   "outputs": [
    {
     "name": "stdout",
     "output_type": "stream",
     "text": [
      "Detailed classification report:\n",
      "\n",
      "The model is trained and tuned on the training and validation sets..\n",
      "The scores are computed on the test set.\n",
      "\n",
      "              precision    recall  f1-score   support\n",
      "\n",
      "           0      0.961     0.666     0.787      8170\n",
      "           1      0.124     0.636     0.207       605\n",
      "\n",
      "    accuracy                          0.664      8775\n",
      "   macro avg      0.542     0.651     0.497      8775\n",
      "weighted avg      0.903     0.664     0.747      8775\n",
      "\n",
      "\n",
      "AUC Score:  0.651\n",
      "Positive Target Prevalence:  0.069\n"
     ]
    }
   ],
   "source": [
    "test_score(clf_nb_opt_pre, x_te_pre)"
   ]
  },
  {
   "cell_type": "markdown",
   "metadata": {},
   "source": [
    "### Cross Validation"
   ]
  },
  {
   "cell_type": "code",
   "execution_count": 246,
   "metadata": {},
   "outputs": [
    {
     "name": "stdout",
     "output_type": "stream",
     "text": [
      "fit_time : 0.221\n",
      "score_time : 0.176\n",
      "test_roc_auc : 0.687\n",
      "test_accuracy : 0.700\n",
      "test_balanced_accuracy : 0.647\n",
      "test_precision : 0.130\n",
      "test_recall : 0.585\n",
      "test_f1 : 0.212\n",
      "positive target prevalence:  0.069\n"
     ]
    }
   ],
   "source": [
    "test_score_cv(clf_nb_opt_pre, x_te_pre)"
   ]
  },
  {
   "cell_type": "markdown",
   "metadata": {},
   "source": [
    "## KNNeighbors"
   ]
  },
  {
   "cell_type": "markdown",
   "metadata": {},
   "source": [
    "### Overall Metrics"
   ]
  },
  {
   "cell_type": "code",
   "execution_count": 235,
   "metadata": {},
   "outputs": [
    {
     "name": "stdout",
     "output_type": "stream",
     "text": [
      "Detailed classification report:\n",
      "\n",
      "The model is trained and tuned on the training and validation sets..\n",
      "The scores are computed on the test set.\n",
      "\n",
      "              precision    recall  f1-score   support\n",
      "\n",
      "           0      0.954     0.785     0.861      8170\n",
      "           1      0.143     0.484     0.221       605\n",
      "\n",
      "    accuracy                          0.764      8775\n",
      "   macro avg      0.548     0.635     0.541      8775\n",
      "weighted avg      0.898     0.764     0.817      8775\n",
      "\n",
      "\n",
      "AUC Score:  0.635\n",
      "Positive Target Prevalence:  0.069\n"
     ]
    }
   ],
   "source": [
    "test_score(clf_knn_opt_pre, x_te_pre)"
   ]
  },
  {
   "cell_type": "markdown",
   "metadata": {},
   "source": [
    "### Cross Validation"
   ]
  },
  {
   "cell_type": "code",
   "execution_count": 226,
   "metadata": {},
   "outputs": [
    {
     "name": "stderr",
     "output_type": "stream",
     "text": [
      "C:\\Users\\canfi\\Anaconda3\\lib\\site-packages\\sklearn\\metrics\\classification.py:1437: UndefinedMetricWarning: Precision is ill-defined and being set to 0.0 due to no predicted samples.\n",
      "  'precision', 'predicted', average, warn_for)\n",
      "C:\\Users\\canfi\\Anaconda3\\lib\\site-packages\\sklearn\\metrics\\classification.py:1437: UndefinedMetricWarning: F-score is ill-defined and being set to 0.0 in labels with no predicted samples.\n",
      "  'precision', 'predicted', average, warn_for)\n",
      "C:\\Users\\canfi\\Anaconda3\\lib\\site-packages\\sklearn\\metrics\\classification.py:1437: UndefinedMetricWarning: Precision is ill-defined and being set to 0.0 due to no predicted samples.\n",
      "  'precision', 'predicted', average, warn_for)\n",
      "C:\\Users\\canfi\\Anaconda3\\lib\\site-packages\\sklearn\\metrics\\classification.py:1437: UndefinedMetricWarning: F-score is ill-defined and being set to 0.0 in labels with no predicted samples.\n",
      "  'precision', 'predicted', average, warn_for)\n",
      "C:\\Users\\canfi\\Anaconda3\\lib\\site-packages\\sklearn\\metrics\\classification.py:1437: UndefinedMetricWarning: Precision is ill-defined and being set to 0.0 due to no predicted samples.\n",
      "  'precision', 'predicted', average, warn_for)\n",
      "C:\\Users\\canfi\\Anaconda3\\lib\\site-packages\\sklearn\\metrics\\classification.py:1437: UndefinedMetricWarning: F-score is ill-defined and being set to 0.0 in labels with no predicted samples.\n",
      "  'precision', 'predicted', average, warn_for)\n",
      "C:\\Users\\canfi\\Anaconda3\\lib\\site-packages\\sklearn\\metrics\\classification.py:1437: UndefinedMetricWarning: Precision is ill-defined and being set to 0.0 due to no predicted samples.\n",
      "  'precision', 'predicted', average, warn_for)\n",
      "C:\\Users\\canfi\\Anaconda3\\lib\\site-packages\\sklearn\\metrics\\classification.py:1437: UndefinedMetricWarning: F-score is ill-defined and being set to 0.0 in labels with no predicted samples.\n",
      "  'precision', 'predicted', average, warn_for)\n",
      "C:\\Users\\canfi\\Anaconda3\\lib\\site-packages\\sklearn\\metrics\\classification.py:1437: UndefinedMetricWarning: Precision is ill-defined and being set to 0.0 due to no predicted samples.\n",
      "  'precision', 'predicted', average, warn_for)\n"
     ]
    },
    {
     "name": "stdout",
     "output_type": "stream",
     "text": [
      "fit_time : 0.068\n",
      "score_time : 43.900\n",
      "test_roc_auc : 0.624\n",
      "test_accuracy : 0.931\n",
      "test_balanced_accuracy : 0.500\n",
      "test_precision : 0.000\n",
      "test_recall : 0.000\n",
      "test_f1_macro : 0.482\n",
      "positive target prevalence:  0.069\n"
     ]
    },
    {
     "name": "stderr",
     "output_type": "stream",
     "text": [
      "C:\\Users\\canfi\\Anaconda3\\lib\\site-packages\\sklearn\\metrics\\classification.py:1437: UndefinedMetricWarning: F-score is ill-defined and being set to 0.0 in labels with no predicted samples.\n",
      "  'precision', 'predicted', average, warn_for)\n"
     ]
    }
   ],
   "source": [
    "test_score_cv(clf_knn_opt_pre, x_te_pre)1"
   ]
  },
  {
   "cell_type": "markdown",
   "metadata": {},
   "source": [
    "## Logistic Regression"
   ]
  },
  {
   "cell_type": "markdown",
   "metadata": {},
   "source": [
    "### Overall Metrics"
   ]
  },
  {
   "cell_type": "code",
   "execution_count": 236,
   "metadata": {},
   "outputs": [
    {
     "name": "stdout",
     "output_type": "stream",
     "text": [
      "Detailed classification report:\n",
      "\n",
      "The model is trained and tuned on the training and validation sets..\n",
      "The scores are computed on the test set.\n",
      "\n",
      "              precision    recall  f1-score   support\n",
      "\n",
      "           0      0.964     0.673     0.793      8170\n",
      "           1      0.130     0.661     0.218       605\n",
      "\n",
      "    accuracy                          0.672      8775\n",
      "   macro avg      0.547     0.667     0.505      8775\n",
      "weighted avg      0.907     0.672     0.753      8775\n",
      "\n",
      "\n",
      "AUC Score:  0.667\n",
      "Positive Target Prevalence:  0.069\n"
     ]
    }
   ],
   "source": [
    "test_score(clf_logreg_opt_pre, x_te_pre)"
   ]
  },
  {
   "cell_type": "markdown",
   "metadata": {},
   "source": [
    "### Cross Validation"
   ]
  },
  {
   "cell_type": "code",
   "execution_count": 228,
   "metadata": {},
   "outputs": [
    {
     "name": "stderr",
     "output_type": "stream",
     "text": [
      "C:\\Users\\canfi\\Anaconda3\\lib\\site-packages\\sklearn\\metrics\\classification.py:1437: UndefinedMetricWarning: Precision is ill-defined and being set to 0.0 due to no predicted samples.\n",
      "  'precision', 'predicted', average, warn_for)\n",
      "C:\\Users\\canfi\\Anaconda3\\lib\\site-packages\\sklearn\\metrics\\classification.py:1437: UndefinedMetricWarning: F-score is ill-defined and being set to 0.0 in labels with no predicted samples.\n",
      "  'precision', 'predicted', average, warn_for)\n",
      "C:\\Users\\canfi\\Anaconda3\\lib\\site-packages\\sklearn\\metrics\\classification.py:1437: UndefinedMetricWarning: Precision is ill-defined and being set to 0.0 due to no predicted samples.\n",
      "  'precision', 'predicted', average, warn_for)\n",
      "C:\\Users\\canfi\\Anaconda3\\lib\\site-packages\\sklearn\\metrics\\classification.py:1437: UndefinedMetricWarning: F-score is ill-defined and being set to 0.0 in labels with no predicted samples.\n",
      "  'precision', 'predicted', average, warn_for)\n",
      "C:\\Users\\canfi\\Anaconda3\\lib\\site-packages\\sklearn\\metrics\\classification.py:1437: UndefinedMetricWarning: Precision is ill-defined and being set to 0.0 due to no predicted samples.\n",
      "  'precision', 'predicted', average, warn_for)\n",
      "C:\\Users\\canfi\\Anaconda3\\lib\\site-packages\\sklearn\\metrics\\classification.py:1437: UndefinedMetricWarning: F-score is ill-defined and being set to 0.0 in labels with no predicted samples.\n",
      "  'precision', 'predicted', average, warn_for)\n",
      "C:\\Users\\canfi\\Anaconda3\\lib\\site-packages\\sklearn\\metrics\\classification.py:1437: UndefinedMetricWarning: Precision is ill-defined and being set to 0.0 due to no predicted samples.\n",
      "  'precision', 'predicted', average, warn_for)\n",
      "C:\\Users\\canfi\\Anaconda3\\lib\\site-packages\\sklearn\\metrics\\classification.py:1437: UndefinedMetricWarning: F-score is ill-defined and being set to 0.0 in labels with no predicted samples.\n",
      "  'precision', 'predicted', average, warn_for)\n"
     ]
    },
    {
     "name": "stdout",
     "output_type": "stream",
     "text": [
      "fit_time : 3.936\n",
      "score_time : 0.054\n",
      "test_roc_auc : 0.609\n",
      "test_accuracy : 0.931\n",
      "test_balanced_accuracy : 0.500\n",
      "test_precision : 0.000\n",
      "test_recall : 0.000\n",
      "test_f1_macro : 0.482\n",
      "positive target prevalence:  0.069\n"
     ]
    },
    {
     "name": "stderr",
     "output_type": "stream",
     "text": [
      "C:\\Users\\canfi\\Anaconda3\\lib\\site-packages\\sklearn\\metrics\\classification.py:1437: UndefinedMetricWarning: Precision is ill-defined and being set to 0.0 due to no predicted samples.\n",
      "  'precision', 'predicted', average, warn_for)\n",
      "C:\\Users\\canfi\\Anaconda3\\lib\\site-packages\\sklearn\\metrics\\classification.py:1437: UndefinedMetricWarning: F-score is ill-defined and being set to 0.0 in labels with no predicted samples.\n",
      "  'precision', 'predicted', average, warn_for)\n"
     ]
    }
   ],
   "source": [
    "test_score_cv(clf_logreg_opt_pre, x_te_pre)"
   ]
  },
  {
   "cell_type": "markdown",
   "metadata": {},
   "source": [
    "## Ada Boost"
   ]
  },
  {
   "cell_type": "markdown",
   "metadata": {},
   "source": [
    "### Overall Metrics"
   ]
  },
  {
   "cell_type": "code",
   "execution_count": 237,
   "metadata": {},
   "outputs": [
    {
     "name": "stdout",
     "output_type": "stream",
     "text": [
      "Detailed classification report:\n",
      "\n",
      "The model is trained and tuned on the training and validation sets..\n",
      "The scores are computed on the test set.\n",
      "\n",
      "              precision    recall  f1-score   support\n",
      "\n",
      "           0      0.960     0.685     0.799      8170\n",
      "           1      0.126     0.613     0.209       605\n",
      "\n",
      "    accuracy                          0.680      8775\n",
      "   macro avg      0.543     0.649     0.504      8775\n",
      "weighted avg      0.902     0.680     0.759      8775\n",
      "\n",
      "\n",
      "AUC Score:  0.649\n",
      "Positive Target Prevalence:  0.069\n"
     ]
    }
   ],
   "source": [
    "test_score(clf_ada_opt_pre, x_te_pre)"
   ]
  },
  {
   "cell_type": "markdown",
   "metadata": {},
   "source": [
    "### Cross Validation"
   ]
  },
  {
   "cell_type": "code",
   "execution_count": 230,
   "metadata": {},
   "outputs": [
    {
     "name": "stderr",
     "output_type": "stream",
     "text": [
      "C:\\Users\\canfi\\Anaconda3\\lib\\site-packages\\sklearn\\metrics\\classification.py:1437: UndefinedMetricWarning: Precision is ill-defined and being set to 0.0 due to no predicted samples.\n",
      "  'precision', 'predicted', average, warn_for)\n",
      "C:\\Users\\canfi\\Anaconda3\\lib\\site-packages\\sklearn\\metrics\\classification.py:1437: UndefinedMetricWarning: F-score is ill-defined and being set to 0.0 in labels with no predicted samples.\n",
      "  'precision', 'predicted', average, warn_for)\n",
      "C:\\Users\\canfi\\Anaconda3\\lib\\site-packages\\sklearn\\metrics\\classification.py:1437: UndefinedMetricWarning: Precision is ill-defined and being set to 0.0 due to no predicted samples.\n",
      "  'precision', 'predicted', average, warn_for)\n",
      "C:\\Users\\canfi\\Anaconda3\\lib\\site-packages\\sklearn\\metrics\\classification.py:1437: UndefinedMetricWarning: F-score is ill-defined and being set to 0.0 in labels with no predicted samples.\n",
      "  'precision', 'predicted', average, warn_for)\n",
      "C:\\Users\\canfi\\Anaconda3\\lib\\site-packages\\sklearn\\metrics\\classification.py:1437: UndefinedMetricWarning: Precision is ill-defined and being set to 0.0 due to no predicted samples.\n",
      "  'precision', 'predicted', average, warn_for)\n",
      "C:\\Users\\canfi\\Anaconda3\\lib\\site-packages\\sklearn\\metrics\\classification.py:1437: UndefinedMetricWarning: F-score is ill-defined and being set to 0.0 in labels with no predicted samples.\n",
      "  'precision', 'predicted', average, warn_for)\n",
      "C:\\Users\\canfi\\Anaconda3\\lib\\site-packages\\sklearn\\metrics\\classification.py:1437: UndefinedMetricWarning: Precision is ill-defined and being set to 0.0 due to no predicted samples.\n",
      "  'precision', 'predicted', average, warn_for)\n"
     ]
    },
    {
     "name": "stdout",
     "output_type": "stream",
     "text": [
      "fit_time : 57.937\n",
      "score_time : 11.060\n",
      "test_roc_auc : 0.691\n",
      "test_accuracy : 0.931\n",
      "test_balanced_accuracy : 0.500\n",
      "test_precision : 0.000\n",
      "test_recall : 0.000\n",
      "test_f1_macro : 0.482\n",
      "positive target prevalence:  0.069\n"
     ]
    },
    {
     "name": "stderr",
     "output_type": "stream",
     "text": [
      "C:\\Users\\canfi\\Anaconda3\\lib\\site-packages\\sklearn\\metrics\\classification.py:1437: UndefinedMetricWarning: F-score is ill-defined and being set to 0.0 in labels with no predicted samples.\n",
      "  'precision', 'predicted', average, warn_for)\n"
     ]
    }
   ],
   "source": [
    "test_score_cv(clf_ada_opt_pre, x_te_pre)"
   ]
  },
  {
   "cell_type": "markdown",
   "metadata": {},
   "source": [
    "## XGBoost"
   ]
  },
  {
   "cell_type": "markdown",
   "metadata": {},
   "source": [
    "### Overall Metrics"
   ]
  },
  {
   "cell_type": "code",
   "execution_count": 238,
   "metadata": {},
   "outputs": [
    {
     "name": "stdout",
     "output_type": "stream",
     "text": [
      "Detailed classification report:\n",
      "\n",
      "The model is trained and tuned on the training and validation sets..\n",
      "The scores are computed on the test set.\n",
      "\n",
      "              precision    recall  f1-score   support\n",
      "\n",
      "           0      0.962     0.657     0.781      8170\n",
      "           1      0.123     0.650     0.207       605\n",
      "\n",
      "    accuracy                          0.657      8775\n",
      "   macro avg      0.543     0.653     0.494      8775\n",
      "weighted avg      0.904     0.657     0.741      8775\n",
      "\n",
      "\n",
      "AUC Score:  0.653\n",
      "Positive Target Prevalence:  0.069\n"
     ]
    }
   ],
   "source": [
    "test_score(clf_xbg_opt_pre, x_te_pre)"
   ]
  },
  {
   "cell_type": "markdown",
   "metadata": {},
   "source": [
    "### Cross Validation"
   ]
  },
  {
   "cell_type": "code",
   "execution_count": 232,
   "metadata": {
    "scrolled": true
   },
   "outputs": [
    {
     "name": "stderr",
     "output_type": "stream",
     "text": [
      "C:\\Users\\canfi\\Anaconda3\\lib\\site-packages\\sklearn\\metrics\\classification.py:1437: UndefinedMetricWarning: Precision is ill-defined and being set to 0.0 due to no predicted samples.\n",
      "  'precision', 'predicted', average, warn_for)\n",
      "C:\\Users\\canfi\\Anaconda3\\lib\\site-packages\\sklearn\\metrics\\classification.py:1437: UndefinedMetricWarning: F-score is ill-defined and being set to 0.0 in labels with no predicted samples.\n",
      "  'precision', 'predicted', average, warn_for)\n",
      "C:\\Users\\canfi\\Anaconda3\\lib\\site-packages\\sklearn\\metrics\\classification.py:1437: UndefinedMetricWarning: Precision is ill-defined and being set to 0.0 due to no predicted samples.\n",
      "  'precision', 'predicted', average, warn_for)\n"
     ]
    },
    {
     "name": "stdout",
     "output_type": "stream",
     "text": [
      "fit_time : 7.811\n",
      "score_time : 1.828\n",
      "test_roc_auc : 0.716\n",
      "test_accuracy : 0.931\n",
      "test_balanced_accuracy : 0.502\n",
      "test_precision : 0.333\n",
      "test_recall : 0.005\n",
      "test_f1_macro : 0.487\n",
      "positive target prevalence:  0.069\n"
     ]
    },
    {
     "name": "stderr",
     "output_type": "stream",
     "text": [
      "C:\\Users\\canfi\\Anaconda3\\lib\\site-packages\\sklearn\\metrics\\classification.py:1437: UndefinedMetricWarning: F-score is ill-defined and being set to 0.0 in labels with no predicted samples.\n",
      "  'precision', 'predicted', average, warn_for)\n"
     ]
    }
   ],
   "source": [
    "test_score_cv(clf_xbg_opt_pre, x_te_pre)"
   ]
  }
 ],
 "metadata": {
  "kernelspec": {
   "display_name": "Python 3",
   "language": "python",
   "name": "python3"
  },
  "language_info": {
   "codemirror_mode": {
    "name": "ipython",
    "version": 3
   },
   "file_extension": ".py",
   "mimetype": "text/x-python",
   "name": "python",
   "nbconvert_exporter": "python",
   "pygments_lexer": "ipython3",
   "version": "3.7.3"
  }
 },
 "nbformat": 4,
 "nbformat_minor": 2
}
