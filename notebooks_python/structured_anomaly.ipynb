{
 "cells": [
  {
   "cell_type": "markdown",
   "metadata": {},
   "source": [
    "# Defining Parameters\n",
    "\n",
    "* **Data**: Structured"
   ]
  },
  {
   "cell_type": "code",
   "execution_count": 1,
   "metadata": {},
   "outputs": [],
   "source": [
    "scoring_metric = 'f1_weighted'\n",
    "max_iter_log = 500\n",
    "\n",
    "#Randomized Search Metric\n",
    "n_iter_search = 25"
   ]
  },
  {
   "cell_type": "markdown",
   "metadata": {},
   "source": [
    "# Library Calls"
   ]
  },
  {
   "cell_type": "code",
   "execution_count": 2,
   "metadata": {},
   "outputs": [],
   "source": [
    "import pandas as pd\n",
    "import numpy as np\n",
    "import seaborn as sns\n",
    "import feather\n",
    "import nltk\n",
    "import re\n",
    "import string\n",
    "import sklearn\n",
    "import matplotlib.pyplot as plt\n",
    "\n",
    "from scipy.stats import randint as sp_randint\n",
    "from sklearn.decomposition import TruncatedSVD\n",
    "from nltk.tokenize import sent_tokenize\n",
    "from sklearn.feature_extraction.text import CountVectorizer, TfidfVectorizer\n",
    "\n",
    "from sklearn.model_selection import GridSearchCV, RandomizedSearchCV,  cross_val_score, cross_validate\n",
    "\n",
    "from sklearn.svm import SVC, OneClassSVM \n",
    "from sklearn.ensemble import IsolationForest\n",
    "\n",
    "from sklearn.metrics import classification_report, roc_curve, roc_auc_score\n",
    "from sklearn.metrics import accuracy_score,precision_recall_fscore_support\n",
    "from sklearn.metrics import make_scorer, accuracy_score, precision_score, recall_score, f1_score, balanced_accuracy_score\n",
    "from sklearn.metrics import confusion_matrix\n",
    "\n",
    "# Random State\n",
    "rng = np.random.RandomState(5590)\n",
    "solver_log = 'saga'"
   ]
  },
  {
   "cell_type": "markdown",
   "metadata": {},
   "source": [
    "# Data Import and Processing"
   ]
  },
  {
   "cell_type": "markdown",
   "metadata": {},
   "source": [
    "We define the dataframes as none for a subsqent check."
   ]
  },
  {
   "cell_type": "code",
   "execution_count": 3,
   "metadata": {},
   "outputs": [],
   "source": [
    "path = './data/df_structured_export.feather'\n",
    "\n",
    "df = feather.read_dataframe(path)"
   ]
  },
  {
   "cell_type": "markdown",
   "metadata": {},
   "source": [
    "# Define Data Frame"
   ]
  },
  {
   "cell_type": "markdown",
   "metadata": {},
   "source": [
    "Here we do a check to see which data frame we are analyzing, All Notes or Discharge Notes"
   ]
  },
  {
   "cell_type": "code",
   "execution_count": 4,
   "metadata": {},
   "outputs": [],
   "source": [
    "# if df_all is not None:\n",
    "#     df = df_all\n",
    "# else:\n",
    "#     df = df_ds\n",
    "      \n",
    "# Convert HADMID to String\n",
    "df.hadm_id = df.hadm_id.astype('int64').astype(str)\n",
    "\n",
    "# Convert Readmit_30 to Int\n",
    "df.readmit_30 = df.readmit_30.astype('int')"
   ]
  },
  {
   "cell_type": "code",
   "execution_count": 5,
   "metadata": {},
   "outputs": [
    {
     "data": {
      "text/plain": [
       "(43875, 45)"
      ]
     },
     "execution_count": 5,
     "metadata": {},
     "output_type": "execute_result"
    }
   ],
   "source": [
    "df.shape"
   ]
  },
  {
   "cell_type": "markdown",
   "metadata": {},
   "source": [
    "We need to drop the id variables."
   ]
  },
  {
   "cell_type": "code",
   "execution_count": 6,
   "metadata": {},
   "outputs": [],
   "source": [
    "df.drop(columns = ['hadm_id', 'subject_id'], inplace=True)"
   ]
  },
  {
   "cell_type": "code",
   "execution_count": 7,
   "metadata": {},
   "outputs": [
    {
     "data": {
      "text/html": [
       "<div>\n",
       "<style scoped>\n",
       "    .dataframe tbody tr th:only-of-type {\n",
       "        vertical-align: middle;\n",
       "    }\n",
       "\n",
       "    .dataframe tbody tr th {\n",
       "        vertical-align: top;\n",
       "    }\n",
       "\n",
       "    .dataframe thead th {\n",
       "        text-align: right;\n",
       "    }\n",
       "</style>\n",
       "<table border=\"1\" class=\"dataframe\">\n",
       "  <thead>\n",
       "    <tr style=\"text-align: right;\">\n",
       "      <th></th>\n",
       "      <th>0</th>\n",
       "      <th>1</th>\n",
       "      <th>2</th>\n",
       "      <th>3</th>\n",
       "      <th>4</th>\n",
       "    </tr>\n",
       "  </thead>\n",
       "  <tbody>\n",
       "    <tr>\n",
       "      <th>readmit_30</th>\n",
       "      <td>0.00000</td>\n",
       "      <td>0.000000</td>\n",
       "      <td>0.000000</td>\n",
       "      <td>0.000000</td>\n",
       "      <td>0.000000</td>\n",
       "    </tr>\n",
       "    <tr>\n",
       "      <th>age_yr</th>\n",
       "      <td>65.00000</td>\n",
       "      <td>71.200000</td>\n",
       "      <td>75.300000</td>\n",
       "      <td>39.000000</td>\n",
       "      <td>59.000000</td>\n",
       "    </tr>\n",
       "    <tr>\n",
       "      <th>length_stay_hr_log</th>\n",
       "      <td>4.78136</td>\n",
       "      <td>7.043301</td>\n",
       "      <td>7.343408</td>\n",
       "      <td>6.100137</td>\n",
       "      <td>6.405992</td>\n",
       "    </tr>\n",
       "    <tr>\n",
       "      <th>icu_stay</th>\n",
       "      <td>1.00000</td>\n",
       "      <td>1.000000</td>\n",
       "      <td>1.000000</td>\n",
       "      <td>1.000000</td>\n",
       "      <td>1.000000</td>\n",
       "    </tr>\n",
       "    <tr>\n",
       "      <th>albumin_test</th>\n",
       "      <td>0.00000</td>\n",
       "      <td>0.000000</td>\n",
       "      <td>1.000000</td>\n",
       "      <td>0.000000</td>\n",
       "      <td>1.000000</td>\n",
       "    </tr>\n",
       "    <tr>\n",
       "      <th>albumin_flag</th>\n",
       "      <td>0.00000</td>\n",
       "      <td>0.000000</td>\n",
       "      <td>0.000000</td>\n",
       "      <td>0.000000</td>\n",
       "      <td>1.000000</td>\n",
       "    </tr>\n",
       "    <tr>\n",
       "      <th>calcium_test</th>\n",
       "      <td>1.00000</td>\n",
       "      <td>1.000000</td>\n",
       "      <td>1.000000</td>\n",
       "      <td>1.000000</td>\n",
       "      <td>1.000000</td>\n",
       "    </tr>\n",
       "    <tr>\n",
       "      <th>calcium_flag</th>\n",
       "      <td>0.00000</td>\n",
       "      <td>1.000000</td>\n",
       "      <td>1.000000</td>\n",
       "      <td>0.000000</td>\n",
       "      <td>1.000000</td>\n",
       "    </tr>\n",
       "    <tr>\n",
       "      <th>magnesium_test</th>\n",
       "      <td>1.00000</td>\n",
       "      <td>1.000000</td>\n",
       "      <td>1.000000</td>\n",
       "      <td>1.000000</td>\n",
       "      <td>1.000000</td>\n",
       "    </tr>\n",
       "    <tr>\n",
       "      <th>magnesium_flag</th>\n",
       "      <td>0.00000</td>\n",
       "      <td>0.000000</td>\n",
       "      <td>0.000000</td>\n",
       "      <td>0.000000</td>\n",
       "      <td>0.000000</td>\n",
       "    </tr>\n",
       "    <tr>\n",
       "      <th>platelets_test</th>\n",
       "      <td>1.00000</td>\n",
       "      <td>1.000000</td>\n",
       "      <td>1.000000</td>\n",
       "      <td>1.000000</td>\n",
       "      <td>1.000000</td>\n",
       "    </tr>\n",
       "    <tr>\n",
       "      <th>platelets_flag</th>\n",
       "      <td>0.00000</td>\n",
       "      <td>1.000000</td>\n",
       "      <td>1.000000</td>\n",
       "      <td>0.000000</td>\n",
       "      <td>1.000000</td>\n",
       "    </tr>\n",
       "    <tr>\n",
       "      <th>urea_test</th>\n",
       "      <td>1.00000</td>\n",
       "      <td>1.000000</td>\n",
       "      <td>1.000000</td>\n",
       "      <td>1.000000</td>\n",
       "      <td>1.000000</td>\n",
       "    </tr>\n",
       "    <tr>\n",
       "      <th>urea_flag</th>\n",
       "      <td>0.00000</td>\n",
       "      <td>0.000000</td>\n",
       "      <td>1.000000</td>\n",
       "      <td>0.000000</td>\n",
       "      <td>1.000000</td>\n",
       "    </tr>\n",
       "    <tr>\n",
       "      <th>micro_bio_test</th>\n",
       "      <td>1.00000</td>\n",
       "      <td>1.000000</td>\n",
       "      <td>1.000000</td>\n",
       "      <td>0.000000</td>\n",
       "      <td>1.000000</td>\n",
       "    </tr>\n",
       "    <tr>\n",
       "      <th>admission_type_ELECTIVE</th>\n",
       "      <td>0.00000</td>\n",
       "      <td>1.000000</td>\n",
       "      <td>0.000000</td>\n",
       "      <td>0.000000</td>\n",
       "      <td>0.000000</td>\n",
       "    </tr>\n",
       "    <tr>\n",
       "      <th>admission_type_URGENT</th>\n",
       "      <td>0.00000</td>\n",
       "      <td>0.000000</td>\n",
       "      <td>0.000000</td>\n",
       "      <td>0.000000</td>\n",
       "      <td>0.000000</td>\n",
       "    </tr>\n",
       "    <tr>\n",
       "      <th>admission_location_PHYS_REF_NORMAL</th>\n",
       "      <td>0.00000</td>\n",
       "      <td>1.000000</td>\n",
       "      <td>0.000000</td>\n",
       "      <td>0.000000</td>\n",
       "      <td>0.000000</td>\n",
       "    </tr>\n",
       "    <tr>\n",
       "      <th>admission_location_TRANSFER_FROM_HOSP</th>\n",
       "      <td>0.00000</td>\n",
       "      <td>0.000000</td>\n",
       "      <td>1.000000</td>\n",
       "      <td>1.000000</td>\n",
       "      <td>0.000000</td>\n",
       "    </tr>\n",
       "    <tr>\n",
       "      <th>admission_location_CLINIC_REF_PREMATURE</th>\n",
       "      <td>0.00000</td>\n",
       "      <td>0.000000</td>\n",
       "      <td>0.000000</td>\n",
       "      <td>0.000000</td>\n",
       "      <td>0.000000</td>\n",
       "    </tr>\n",
       "    <tr>\n",
       "      <th>admission_location_OTHER</th>\n",
       "      <td>0.00000</td>\n",
       "      <td>0.000000</td>\n",
       "      <td>0.000000</td>\n",
       "      <td>0.000000</td>\n",
       "      <td>0.000000</td>\n",
       "    </tr>\n",
       "    <tr>\n",
       "      <th>discharge_location_OTHER</th>\n",
       "      <td>1.00000</td>\n",
       "      <td>0.000000</td>\n",
       "      <td>0.000000</td>\n",
       "      <td>0.000000</td>\n",
       "      <td>0.000000</td>\n",
       "    </tr>\n",
       "    <tr>\n",
       "      <th>discharge_location_HOME</th>\n",
       "      <td>0.00000</td>\n",
       "      <td>0.000000</td>\n",
       "      <td>0.000000</td>\n",
       "      <td>1.000000</td>\n",
       "      <td>1.000000</td>\n",
       "    </tr>\n",
       "    <tr>\n",
       "      <th>discharge_location_REHAB</th>\n",
       "      <td>0.00000</td>\n",
       "      <td>0.000000</td>\n",
       "      <td>0.000000</td>\n",
       "      <td>0.000000</td>\n",
       "      <td>0.000000</td>\n",
       "    </tr>\n",
       "    <tr>\n",
       "      <th>discharge_location_LONG_TERM_CARE_HOSPITAL</th>\n",
       "      <td>0.00000</td>\n",
       "      <td>0.000000</td>\n",
       "      <td>0.000000</td>\n",
       "      <td>0.000000</td>\n",
       "      <td>0.000000</td>\n",
       "    </tr>\n",
       "    <tr>\n",
       "      <th>discharge_location_SNF</th>\n",
       "      <td>0.00000</td>\n",
       "      <td>0.000000</td>\n",
       "      <td>0.000000</td>\n",
       "      <td>0.000000</td>\n",
       "      <td>0.000000</td>\n",
       "    </tr>\n",
       "    <tr>\n",
       "      <th>insurance_Private</th>\n",
       "      <td>1.00000</td>\n",
       "      <td>0.000000</td>\n",
       "      <td>0.000000</td>\n",
       "      <td>1.000000</td>\n",
       "      <td>1.000000</td>\n",
       "    </tr>\n",
       "    <tr>\n",
       "      <th>insurance_Medicaid</th>\n",
       "      <td>0.00000</td>\n",
       "      <td>0.000000</td>\n",
       "      <td>0.000000</td>\n",
       "      <td>0.000000</td>\n",
       "      <td>0.000000</td>\n",
       "    </tr>\n",
       "    <tr>\n",
       "      <th>insurance_Self_Pay</th>\n",
       "      <td>0.00000</td>\n",
       "      <td>0.000000</td>\n",
       "      <td>0.000000</td>\n",
       "      <td>0.000000</td>\n",
       "      <td>0.000000</td>\n",
       "    </tr>\n",
       "    <tr>\n",
       "      <th>insurance_Government</th>\n",
       "      <td>0.00000</td>\n",
       "      <td>0.000000</td>\n",
       "      <td>0.000000</td>\n",
       "      <td>0.000000</td>\n",
       "      <td>0.000000</td>\n",
       "    </tr>\n",
       "    <tr>\n",
       "      <th>marital_status_SINGLE</th>\n",
       "      <td>0.00000</td>\n",
       "      <td>0.000000</td>\n",
       "      <td>0.000000</td>\n",
       "      <td>1.000000</td>\n",
       "      <td>0.000000</td>\n",
       "    </tr>\n",
       "    <tr>\n",
       "      <th>marital_status_MISSING</th>\n",
       "      <td>0.00000</td>\n",
       "      <td>0.000000</td>\n",
       "      <td>0.000000</td>\n",
       "      <td>0.000000</td>\n",
       "      <td>0.000000</td>\n",
       "    </tr>\n",
       "    <tr>\n",
       "      <th>marital_status_DIVORCED</th>\n",
       "      <td>0.00000</td>\n",
       "      <td>0.000000</td>\n",
       "      <td>0.000000</td>\n",
       "      <td>0.000000</td>\n",
       "      <td>0.000000</td>\n",
       "    </tr>\n",
       "    <tr>\n",
       "      <th>marital_status_WIDOWED</th>\n",
       "      <td>0.00000</td>\n",
       "      <td>0.000000</td>\n",
       "      <td>0.000000</td>\n",
       "      <td>0.000000</td>\n",
       "      <td>0.000000</td>\n",
       "    </tr>\n",
       "    <tr>\n",
       "      <th>marital_status_SEPARATED</th>\n",
       "      <td>0.00000</td>\n",
       "      <td>0.000000</td>\n",
       "      <td>0.000000</td>\n",
       "      <td>0.000000</td>\n",
       "      <td>0.000000</td>\n",
       "    </tr>\n",
       "    <tr>\n",
       "      <th>marital_status_UNKNOWN</th>\n",
       "      <td>0.00000</td>\n",
       "      <td>0.000000</td>\n",
       "      <td>0.000000</td>\n",
       "      <td>0.000000</td>\n",
       "      <td>0.000000</td>\n",
       "    </tr>\n",
       "    <tr>\n",
       "      <th>marital_status_LIFE_PARTNER</th>\n",
       "      <td>0.00000</td>\n",
       "      <td>0.000000</td>\n",
       "      <td>0.000000</td>\n",
       "      <td>0.000000</td>\n",
       "      <td>0.000000</td>\n",
       "    </tr>\n",
       "    <tr>\n",
       "      <th>ethnicity_UNKNOWN</th>\n",
       "      <td>0.00000</td>\n",
       "      <td>0.000000</td>\n",
       "      <td>0.000000</td>\n",
       "      <td>0.000000</td>\n",
       "      <td>0.000000</td>\n",
       "    </tr>\n",
       "    <tr>\n",
       "      <th>ethnicity_OTHER</th>\n",
       "      <td>0.00000</td>\n",
       "      <td>0.000000</td>\n",
       "      <td>0.000000</td>\n",
       "      <td>0.000000</td>\n",
       "      <td>0.000000</td>\n",
       "    </tr>\n",
       "    <tr>\n",
       "      <th>ethnicity_HISPANIC</th>\n",
       "      <td>0.00000</td>\n",
       "      <td>0.000000</td>\n",
       "      <td>0.000000</td>\n",
       "      <td>0.000000</td>\n",
       "      <td>0.000000</td>\n",
       "    </tr>\n",
       "    <tr>\n",
       "      <th>ethnicity_BLACK</th>\n",
       "      <td>0.00000</td>\n",
       "      <td>0.000000</td>\n",
       "      <td>0.000000</td>\n",
       "      <td>0.000000</td>\n",
       "      <td>0.000000</td>\n",
       "    </tr>\n",
       "    <tr>\n",
       "      <th>ethnicity_ASIAN</th>\n",
       "      <td>0.00000</td>\n",
       "      <td>0.000000</td>\n",
       "      <td>0.000000</td>\n",
       "      <td>0.000000</td>\n",
       "      <td>0.000000</td>\n",
       "    </tr>\n",
       "    <tr>\n",
       "      <th>gender_F</th>\n",
       "      <td>1.00000</td>\n",
       "      <td>0.000000</td>\n",
       "      <td>0.000000</td>\n",
       "      <td>0.000000</td>\n",
       "      <td>0.000000</td>\n",
       "    </tr>\n",
       "  </tbody>\n",
       "</table>\n",
       "</div>"
      ],
      "text/plain": [
       "                                                   0          1          2  \\\n",
       "readmit_30                                   0.00000   0.000000   0.000000   \n",
       "age_yr                                      65.00000  71.200000  75.300000   \n",
       "length_stay_hr_log                           4.78136   7.043301   7.343408   \n",
       "icu_stay                                     1.00000   1.000000   1.000000   \n",
       "albumin_test                                 0.00000   0.000000   1.000000   \n",
       "albumin_flag                                 0.00000   0.000000   0.000000   \n",
       "calcium_test                                 1.00000   1.000000   1.000000   \n",
       "calcium_flag                                 0.00000   1.000000   1.000000   \n",
       "magnesium_test                               1.00000   1.000000   1.000000   \n",
       "magnesium_flag                               0.00000   0.000000   0.000000   \n",
       "platelets_test                               1.00000   1.000000   1.000000   \n",
       "platelets_flag                               0.00000   1.000000   1.000000   \n",
       "urea_test                                    1.00000   1.000000   1.000000   \n",
       "urea_flag                                    0.00000   0.000000   1.000000   \n",
       "micro_bio_test                               1.00000   1.000000   1.000000   \n",
       "admission_type_ELECTIVE                      0.00000   1.000000   0.000000   \n",
       "admission_type_URGENT                        0.00000   0.000000   0.000000   \n",
       "admission_location_PHYS_REF_NORMAL           0.00000   1.000000   0.000000   \n",
       "admission_location_TRANSFER_FROM_HOSP        0.00000   0.000000   1.000000   \n",
       "admission_location_CLINIC_REF_PREMATURE      0.00000   0.000000   0.000000   \n",
       "admission_location_OTHER                     0.00000   0.000000   0.000000   \n",
       "discharge_location_OTHER                     1.00000   0.000000   0.000000   \n",
       "discharge_location_HOME                      0.00000   0.000000   0.000000   \n",
       "discharge_location_REHAB                     0.00000   0.000000   0.000000   \n",
       "discharge_location_LONG_TERM_CARE_HOSPITAL   0.00000   0.000000   0.000000   \n",
       "discharge_location_SNF                       0.00000   0.000000   0.000000   \n",
       "insurance_Private                            1.00000   0.000000   0.000000   \n",
       "insurance_Medicaid                           0.00000   0.000000   0.000000   \n",
       "insurance_Self_Pay                           0.00000   0.000000   0.000000   \n",
       "insurance_Government                         0.00000   0.000000   0.000000   \n",
       "marital_status_SINGLE                        0.00000   0.000000   0.000000   \n",
       "marital_status_MISSING                       0.00000   0.000000   0.000000   \n",
       "marital_status_DIVORCED                      0.00000   0.000000   0.000000   \n",
       "marital_status_WIDOWED                       0.00000   0.000000   0.000000   \n",
       "marital_status_SEPARATED                     0.00000   0.000000   0.000000   \n",
       "marital_status_UNKNOWN                       0.00000   0.000000   0.000000   \n",
       "marital_status_LIFE_PARTNER                  0.00000   0.000000   0.000000   \n",
       "ethnicity_UNKNOWN                            0.00000   0.000000   0.000000   \n",
       "ethnicity_OTHER                              0.00000   0.000000   0.000000   \n",
       "ethnicity_HISPANIC                           0.00000   0.000000   0.000000   \n",
       "ethnicity_BLACK                              0.00000   0.000000   0.000000   \n",
       "ethnicity_ASIAN                              0.00000   0.000000   0.000000   \n",
       "gender_F                                     1.00000   0.000000   0.000000   \n",
       "\n",
       "                                                    3          4  \n",
       "readmit_30                                   0.000000   0.000000  \n",
       "age_yr                                      39.000000  59.000000  \n",
       "length_stay_hr_log                           6.100137   6.405992  \n",
       "icu_stay                                     1.000000   1.000000  \n",
       "albumin_test                                 0.000000   1.000000  \n",
       "albumin_flag                                 0.000000   1.000000  \n",
       "calcium_test                                 1.000000   1.000000  \n",
       "calcium_flag                                 0.000000   1.000000  \n",
       "magnesium_test                               1.000000   1.000000  \n",
       "magnesium_flag                               0.000000   0.000000  \n",
       "platelets_test                               1.000000   1.000000  \n",
       "platelets_flag                               0.000000   1.000000  \n",
       "urea_test                                    1.000000   1.000000  \n",
       "urea_flag                                    0.000000   1.000000  \n",
       "micro_bio_test                               0.000000   1.000000  \n",
       "admission_type_ELECTIVE                      0.000000   0.000000  \n",
       "admission_type_URGENT                        0.000000   0.000000  \n",
       "admission_location_PHYS_REF_NORMAL           0.000000   0.000000  \n",
       "admission_location_TRANSFER_FROM_HOSP        1.000000   0.000000  \n",
       "admission_location_CLINIC_REF_PREMATURE      0.000000   0.000000  \n",
       "admission_location_OTHER                     0.000000   0.000000  \n",
       "discharge_location_OTHER                     0.000000   0.000000  \n",
       "discharge_location_HOME                      1.000000   1.000000  \n",
       "discharge_location_REHAB                     0.000000   0.000000  \n",
       "discharge_location_LONG_TERM_CARE_HOSPITAL   0.000000   0.000000  \n",
       "discharge_location_SNF                       0.000000   0.000000  \n",
       "insurance_Private                            1.000000   1.000000  \n",
       "insurance_Medicaid                           0.000000   0.000000  \n",
       "insurance_Self_Pay                           0.000000   0.000000  \n",
       "insurance_Government                         0.000000   0.000000  \n",
       "marital_status_SINGLE                        1.000000   0.000000  \n",
       "marital_status_MISSING                       0.000000   0.000000  \n",
       "marital_status_DIVORCED                      0.000000   0.000000  \n",
       "marital_status_WIDOWED                       0.000000   0.000000  \n",
       "marital_status_SEPARATED                     0.000000   0.000000  \n",
       "marital_status_UNKNOWN                       0.000000   0.000000  \n",
       "marital_status_LIFE_PARTNER                  0.000000   0.000000  \n",
       "ethnicity_UNKNOWN                            0.000000   0.000000  \n",
       "ethnicity_OTHER                              0.000000   0.000000  \n",
       "ethnicity_HISPANIC                           0.000000   0.000000  \n",
       "ethnicity_BLACK                              0.000000   0.000000  \n",
       "ethnicity_ASIAN                              0.000000   0.000000  \n",
       "gender_F                                     0.000000   0.000000  "
      ]
     },
     "execution_count": 7,
     "metadata": {},
     "output_type": "execute_result"
    }
   ],
   "source": [
    "df.head().T"
   ]
  },
  {
   "cell_type": "markdown",
   "metadata": {},
   "source": [
    "# Functions"
   ]
  },
  {
   "cell_type": "code",
   "execution_count": 8,
   "metadata": {},
   "outputs": [],
   "source": [
    "def data_split(df):\n",
    "    # Split into Train, Valid and Test\n",
    "    ## Shuffle\n",
    "    df = df.sample(n = len(df), random_state= rng)\n",
    "    df = df.reset_index(drop = True)\n",
    "    \n",
    "    ## Extract Data for Test and Valid Sampling\n",
    "    df_v_te = df.sample(frac=0.40, random_state = rng)\n",
    "    \n",
    "    ## Test Sample\n",
    "    df_te = df_v_te.sample(frac = 0.5, random_state = rng)\n",
    "    \n",
    "    ## Valid Sample\n",
    "    df_v = df_v_te.drop(df_te.index)\n",
    "\n",
    "    ## Training Sample\n",
    "    df_tr = df.drop(df_v_te.index)\n",
    "    \n",
    "\n",
    "#     x_tr = df_tr.drop(columns = ['readmit_30'])\n",
    "#     x_v = df_v.drop(columns = ['readmit_30'])\n",
    "#     x_te  = df_te.drop(columns = ['readmit_30'])\n",
    "    \n",
    "#     # Define Target Variables\n",
    "#     y_tr = df_tr.readmit_30\n",
    "#     y_v = df_v.readmit_30\n",
    "#     y_te = df_te.readmit_30\n",
    "    \n",
    "    return df_tr, df_v, df_te"
   ]
  },
  {
   "cell_type": "markdown",
   "metadata": {},
   "source": [
    "## Model Output"
   ]
  },
  {
   "cell_type": "markdown",
   "metadata": {},
   "source": [
    "### Scoring Metrics\n",
    "The following functions calculate the scoring metrics the models will be evlauted on."
   ]
  },
  {
   "cell_type": "code",
   "execution_count": 9,
   "metadata": {},
   "outputs": [],
   "source": [
    "def calc_specificity(y_actual, y_pred, thresh):\n",
    "    # calculates specificity\n",
    "    return sum((y_pred < thresh) & (y_actual == 0)) /sum(y_actual ==0)\n",
    "\n",
    "def calc_prevalence(y_actual):\n",
    "    # calculates prevalence\n",
    "    return sum((y_actual == 1)) /len(y_actual)"
   ]
  },
  {
   "cell_type": "markdown",
   "metadata": {},
   "source": [
    "### Scoring Output\n",
    "The following code generates the visual output of the scoring metrics."
   ]
  },
  {
   "cell_type": "code",
   "execution_count": 10,
   "metadata": {},
   "outputs": [],
   "source": [
    "def roc_curve_plot(y_tr, y_tr_preds, y_v, y_v_preds):\n",
    "    \n",
    "    fpr_tr, tpr_tr, thresholds_tr = roc_curve(y_tr, y_tr_preds)\n",
    "    fpr_v, tpr_v, thresholds_v = roc_curve(y_v, y_v_preds)\n",
    "    \n",
    "    plt.plot(fpr_tr, tpr_tr,'r-', label = 'Train AUC: %.2f'%roc_auc_score(y_tr, y_tr_preds))\n",
    "    plt.plot(fpr_v, tpr_v,'b-',label = 'Valid AUC: %.2f'%roc_auc_score(y_v, y_v_preds))\n",
    "    plt.plot([0,1],[0,1],'-k')\n",
    "    plt.xlabel('False Positive Rate')\n",
    "    plt.ylabel('True Positive Rate')\n",
    "    plt.legend()\n",
    "    plt.show()"
   ]
  },
  {
   "cell_type": "markdown",
   "metadata": {},
   "source": [
    "### Confusion Matrix"
   ]
  },
  {
   "cell_type": "code",
   "execution_count": 11,
   "metadata": {},
   "outputs": [],
   "source": [
    "def pretty_cm(y_pred, y_truth, labels):\n",
    "    '''\n",
    "    'Pretty' implementation of a confusion matrix with some evaluation statistics.\n",
    "    \n",
    "    Input:\n",
    "    y_pred - object with class predictions from the model\n",
    "    y_truth - object with actual classes\n",
    "    labels - list containing label names\n",
    "    '''\n",
    "    \n",
    "    cm = confusion_matrix(y_truth, y_pred)\n",
    "    ax= plt.subplot()\n",
    "    sns.heatmap(cm, annot=True, fmt=\"d\", linewidths=.5, square = True, cmap = 'BuGn_r')\n",
    "    ax.set_xlabel('Predicted label')\n",
    "    ax.set_ylabel('Actual label')\n",
    "    ax.set_title('Confusion Matrix', size = 15) \n",
    "    ax.xaxis.set_ticklabels(labels)\n",
    "    ax.yaxis.set_ticklabels(labels)\n",
    "    \n",
    "    print('#######################')\n",
    "    print('Evaluation metrics ####')\n",
    "    print('#######################')\n",
    "    print('Accuracy: {:.3f}'.format(accuracy_score(y_truth, y_pred)))\n",
    "    print('AUC Score: {:.3f}'.format(roc_auc_score(y_truth, y_pred)))\n",
    "    print('Precision: {:.3f}'.format(precision_score(y_truth, y_pred)))\n",
    "    print('Precision Weighted: {:.3f}'.format(precision_score(y_truth, y_pred, average = 'weighted')))\n",
    "    print('Recall: {:.3f}'.format(recall_score(y_truth, y_pred)))\n",
    "    print('Recall Weighted: {:.3f}'.format(recall_score(y_truth, y_pred, average = 'weighted')))\n",
    "    print('F1: {:.3f}'.format(f1_score(y_truth, y_pred)))\n",
    "    print('F1 Weighted: {:.3f}'.format(f1_score(y_truth, y_pred, average = 'weighted')))\n",
    "    print('Prevelance: {:.3f}'.format(calc_prevalence(y_truth)))"
   ]
  },
  {
   "cell_type": "markdown",
   "metadata": {},
   "source": [
    "## Model Execution"
   ]
  },
  {
   "cell_type": "markdown",
   "metadata": {},
   "source": [
    "The following function trains a default model to the training data and generates training and validation scores."
   ]
  },
  {
   "cell_type": "code",
   "execution_count": 12,
   "metadata": {},
   "outputs": [],
   "source": [
    "def train_model_default(clf, x_tr, x_v):\n",
    "    \n",
    "    clf.fit(x_tr, y_tr)\n",
    "\n",
    "    y_tr_preds = clf.predict_proba(x_tr)[:,1]\n",
    "    y_v_preds = clf.predict_proba(x_v)[:,1]\n",
    "\n",
    "    roc_curve_plot(y_tr, y_tr_preds, y_v, y_v_preds)"
   ]
  },
  {
   "cell_type": "markdown",
   "metadata": {},
   "source": [
    "The following function takes in the optimized model and generates training and validation scores\n"
   ]
  },
  {
   "cell_type": "code",
   "execution_count": 13,
   "metadata": {},
   "outputs": [],
   "source": [
    "def opt_model_scoring(clf, x_tr, x_v):\n",
    "    \n",
    "    y_tr_preds = clf.predict_proba(x_tr)[:,1]\n",
    "    y_v_preds = clf.predict_proba(x_v)[:,1]\n",
    "\n",
    "    roc_curve_plot(y_tr, y_tr_preds, y_v, y_v_preds)"
   ]
  },
  {
   "cell_type": "markdown",
   "metadata": {},
   "source": [
    "The following function runs the gridsearchcv"
   ]
  },
  {
   "cell_type": "markdown",
   "metadata": {},
   "source": [
    "## Data Processing"
   ]
  },
  {
   "cell_type": "markdown",
   "metadata": {},
   "source": [
    "Split the Data into train, validation, and test data sets."
   ]
  },
  {
   "cell_type": "code",
   "execution_count": 14,
   "metadata": {
    "scrolled": true
   },
   "outputs": [],
   "source": [
    "df = df.sample(frac = 1, random_state = rng)\n",
    "df_tr, df_v, df_te = data_split(df)"
   ]
  },
  {
   "cell_type": "markdown",
   "metadata": {},
   "source": [
    "Split the training data into normal and outlier data."
   ]
  },
  {
   "cell_type": "code",
   "execution_count": 15,
   "metadata": {},
   "outputs": [],
   "source": [
    "df_tr_normal = df_tr[df_tr['readmit_30']==0]\n",
    "df_tr_outlier = df_tr[df_tr['readmit_30']==1]"
   ]
  },
  {
   "cell_type": "code",
   "execution_count": 16,
   "metadata": {},
   "outputs": [],
   "source": [
    "# Define Target Sets\n",
    "x_tr_all = df_tr.drop(columns = ['readmit_30'])\n",
    "x_tr_normal = df_tr_normal.drop(columns = ['readmit_30'])\n",
    "x_tr_outlier = df_tr_outlier.drop(columns = ['readmit_30'])\n",
    "x_v = df_v.drop(columns = ['readmit_30'])\n",
    "x_te = df_te.drop(columns = ['readmit_30'])\n",
    "\n",
    "# Define Target Variables\n",
    "y_tr_all = df_tr.readmit_30\n",
    "y_tr_normal = df_tr_normal.readmit_30\n",
    "y_tr_outlier = df_tr_outlier.readmit_30\n",
    "y_v = df_v.readmit_30\n",
    "y_te = df_te.readmit_30"
   ]
  },
  {
   "cell_type": "code",
   "execution_count": 17,
   "metadata": {},
   "outputs": [],
   "source": [
    "# Proportion of Outliers\n",
    "outlier_prop = len(df_tr_outlier) / len(df_tr_normal) "
   ]
  },
  {
   "cell_type": "markdown",
   "metadata": {},
   "source": [
    "## Modeling - Default Settings"
   ]
  },
  {
   "cell_type": "markdown",
   "metadata": {},
   "source": [
    "### One Class SVM\n",
    "\n",
    "One class SVM trains the model on only normal (non-readmit) data. Then predicts on full data."
   ]
  },
  {
   "cell_type": "code",
   "execution_count": 18,
   "metadata": {},
   "outputs": [],
   "source": [
    "clf = OneClassSVM(kernel='rbf', nu=outlier_prop, gamma = 0.000001) "
   ]
  },
  {
   "cell_type": "code",
   "execution_count": 19,
   "metadata": {
    "scrolled": true
   },
   "outputs": [
    {
     "data": {
      "text/plain": [
       "OneClassSVM(cache_size=200, coef0=0.0, degree=3, gamma=1e-06, kernel='rbf',\n",
       "            max_iter=-1, nu=0.05927088363109609, random_state=None,\n",
       "            shrinking=True, tol=0.001, verbose=False)"
      ]
     },
     "execution_count": 19,
     "metadata": {},
     "output_type": "execute_result"
    }
   ],
   "source": [
    "clf.fit(x_tr_normal)"
   ]
  },
  {
   "cell_type": "code",
   "execution_count": 20,
   "metadata": {},
   "outputs": [
    {
     "name": "stdout",
     "output_type": "stream",
     "text": [
      "#######################\n",
      "Evaluation metrics ####\n",
      "#######################\n",
      "Accuracy: 0.888\n",
      "AUC Score: 0.496\n",
      "Precision: 0.048\n",
      "Precision Weighted: 0.893\n",
      "Recall: 0.054\n",
      "Recall Weighted: 0.888\n",
      "F1: 0.051\n",
      "F1 Weighted: 0.891\n",
      "Prevelance: 0.056\n"
     ]
    },
    {
     "data": {
      "image/png": "[encoded data removed]",
      "text/plain": [
       "<Figure size 432x288 with 2 Axes>"
      ]
     },
     "metadata": {
      "needs_background": "light"
     },
     "output_type": "display_data"
    }
   ],
   "source": [
    "# Training\n",
    "x = x_tr_all\n",
    "y = y_tr_all\n",
    "y_pred = clf.predict(x)\n",
    "y_pred = [1 if x == -1 else 0 for x in y_pred]\n",
    "y_pred = pd.Series(y_pred)\n",
    "pretty_cm(y_pred, y, [0, 1])"
   ]
  },
  {
   "cell_type": "code",
   "execution_count": 21,
   "metadata": {},
   "outputs": [
    {
     "name": "stdout",
     "output_type": "stream",
     "text": [
      "#######################\n",
      "Evaluation metrics ####\n",
      "#######################\n",
      "Accuracy: 0.885\n",
      "AUC Score: 0.497\n",
      "Precision: 0.054\n",
      "Precision Weighted: 0.889\n",
      "Recall: 0.058\n",
      "Recall Weighted: 0.885\n",
      "F1: 0.056\n",
      "F1 Weighted: 0.887\n",
      "Prevelance: 0.059\n"
     ]
    },
    {
     "data": {
      "image/png": "[encoded data removed]",
      "text/plain": [
       "<Figure size 432x288 with 2 Axes>"
      ]
     },
     "metadata": {
      "needs_background": "light"
     },
     "output_type": "display_data"
    }
   ],
   "source": [
    "# Validation\n",
    "x = x_v\n",
    "y = y_v\n",
    "y_pred = clf.predict(x)\n",
    "y_pred = [1 if x == -1 else 0 for x in y_pred]\n",
    "y_pred = pd.Series(y_pred)\n",
    "pretty_cm(y_pred, y, [0, 1])"
   ]
  },
  {
   "cell_type": "markdown",
   "metadata": {},
   "source": [
    "### Isolation Forest"
   ]
  },
  {
   "cell_type": "markdown",
   "metadata": {},
   "source": [
    "#### Fit on No-Outlier Data"
   ]
  },
  {
   "cell_type": "code",
   "execution_count": 22,
   "metadata": {},
   "outputs": [
    {
     "name": "stderr",
     "output_type": "stream",
     "text": [
      "[Parallel(n_jobs=1)]: Using backend SequentialBackend with 1 concurrent workers.\n",
      "[Parallel(n_jobs=1)]: Done   1 out of   1 | elapsed:    0.8s finished\n"
     ]
    },
    {
     "data": {
      "text/plain": [
       "IsolationForest(behaviour='new', bootstrap=False,\n",
       "                contamination=0.05927088363109609, max_features=1.0,\n",
       "                max_samples=100, n_estimators=100, n_jobs=None,\n",
       "                random_state=<mtrand.RandomState object at 0x000001D0D257C750>,\n",
       "                verbose=1, warm_start=False)"
      ]
     },
     "execution_count": 22,
     "metadata": {},
     "output_type": "execute_result"
    }
   ],
   "source": [
    "iforest = IsolationForest(max_samples=100, random_state=rng, contamination= outlier_prop,  behaviour=\"new\", verbose = 1)\n",
    "\n",
    "iforest.fit(x_tr_normal)"
   ]
  },
  {
   "cell_type": "code",
   "execution_count": 23,
   "metadata": {},
   "outputs": [
    {
     "name": "stdout",
     "output_type": "stream",
     "text": [
      "#######################\n",
      "Evaluation metrics ####\n",
      "#######################\n",
      "Accuracy: 0.890\n",
      "AUC Score: 0.492\n",
      "Precision: 0.041\n",
      "Precision Weighted: 0.893\n",
      "Recall: 0.043\n",
      "Recall Weighted: 0.890\n",
      "F1: 0.042\n",
      "F1 Weighted: 0.892\n",
      "Prevelance: 0.056\n"
     ]
    },
    {
     "data": {
      "image/png": "[encoded data removed]",
      "text/plain": [
       "<Figure size 432x288 with 2 Axes>"
      ]
     },
     "metadata": {
      "needs_background": "light"
     },
     "output_type": "display_data"
    }
   ],
   "source": [
    "# Training\n",
    "x = x_tr_all\n",
    "y = y_tr_all\n",
    "clf = iforest\n",
    "y_pred = clf.predict(x)\n",
    "y_pred = [1 if x == -1 else 0 for x in y_pred]\n",
    "y_pred = pd.Series(y_pred)\n",
    "pretty_cm(y_pred, y, [0, 1])"
   ]
  },
  {
   "cell_type": "code",
   "execution_count": 24,
   "metadata": {},
   "outputs": [
    {
     "name": "stdout",
     "output_type": "stream",
     "text": [
      "#######################\n",
      "Evaluation metrics ####\n",
      "#######################\n",
      "Accuracy: 0.886\n",
      "AUC Score: 0.493\n",
      "Precision: 0.045\n",
      "Precision Weighted: 0.888\n",
      "Recall: 0.047\n",
      "Recall Weighted: 0.886\n",
      "F1: 0.046\n",
      "F1 Weighted: 0.887\n",
      "Prevelance: 0.059\n"
     ]
    },
    {
     "data": {
      "image/png": "[encoded data removed]",
      "text/plain": [
       "<Figure size 432x288 with 2 Axes>"
      ]
     },
     "metadata": {
      "needs_background": "light"
     },
     "output_type": "display_data"
    }
   ],
   "source": [
    "# Validation\n",
    "x = x_v\n",
    "y = y_v\n",
    "clf = iforest\n",
    "y_pred = clf.predict(x)\n",
    "y_pred = [1 if x == -1 else 0 for x in y_pred]\n",
    "y_pred = pd.Series(y_pred)\n",
    "\n",
    "pretty_cm(y_pred, y, [0, 1])"
   ]
  },
  {
   "cell_type": "markdown",
   "metadata": {},
   "source": [
    "#### Fit on All Data"
   ]
  },
  {
   "cell_type": "code",
   "execution_count": 25,
   "metadata": {},
   "outputs": [
    {
     "name": "stderr",
     "output_type": "stream",
     "text": [
      "[Parallel(n_jobs=1)]: Using backend SequentialBackend with 1 concurrent workers.\n",
      "[Parallel(n_jobs=1)]: Done   1 out of   1 | elapsed:    0.8s finished\n"
     ]
    },
    {
     "data": {
      "text/plain": [
       "IsolationForest(behaviour='new', bootstrap=False,\n",
       "                contamination=0.05927088363109609, max_features=1.0,\n",
       "                max_samples=100, n_estimators=100, n_jobs=None,\n",
       "                random_state=<mtrand.RandomState object at 0x000001D0D257C750>,\n",
       "                verbose=1, warm_start=False)"
      ]
     },
     "execution_count": 25,
     "metadata": {},
     "output_type": "execute_result"
    }
   ],
   "source": [
    "iforest = IsolationForest(max_samples=100, random_state=rng, contamination= outlier_prop,  behaviour=\"new\", verbose = 1)\n",
    "\n",
    "iforest.fit(x_tr_all)"
   ]
  },
  {
   "cell_type": "code",
   "execution_count": 26,
   "metadata": {},
   "outputs": [
    {
     "name": "stdout",
     "output_type": "stream",
     "text": [
      "#######################\n",
      "Evaluation metrics ####\n",
      "#######################\n",
      "Accuracy: 0.889\n",
      "AUC Score: 0.490\n",
      "Precision: 0.038\n",
      "Precision Weighted: 0.892\n",
      "Recall: 0.041\n",
      "Recall Weighted: 0.889\n",
      "F1: 0.040\n",
      "F1 Weighted: 0.891\n",
      "Prevelance: 0.056\n"
     ]
    },
    {
     "data": {
      "image/png": "[encoded data removed]",
      "text/plain": [
       "<Figure size 432x288 with 2 Axes>"
      ]
     },
     "metadata": {
      "needs_background": "light"
     },
     "output_type": "display_data"
    }
   ],
   "source": [
    "# Training\n",
    "x = x_tr_all\n",
    "y = y_tr_all\n",
    "clf = iforest\n",
    "y_pred = clf.predict(x)\n",
    "y_pred = [1 if x == -1 else 0 for x in y_pred]\n",
    "y_tr_pred = pd.Series(y_pred)\n",
    "pretty_cm(y_tr_pred, y, [0, 1])"
   ]
  },
  {
   "cell_type": "code",
   "execution_count": 27,
   "metadata": {},
   "outputs": [
    {
     "name": "stdout",
     "output_type": "stream",
     "text": [
      "#######################\n",
      "Evaluation metrics ####\n",
      "#######################\n",
      "Accuracy: 0.889\n",
      "AUC Score: 0.488\n",
      "Precision: 0.035\n",
      "Precision Weighted: 0.887\n",
      "Recall: 0.033\n",
      "Recall Weighted: 0.889\n",
      "F1: 0.034\n",
      "F1 Weighted: 0.888\n",
      "Prevelance: 0.059\n"
     ]
    },
    {
     "data": {
      "image/png": "[encoded data removed]",
      "text/plain": [
       "<Figure size 432x288 with 2 Axes>"
      ]
     },
     "metadata": {
      "needs_background": "light"
     },
     "output_type": "display_data"
    }
   ],
   "source": [
    "# Validation\n",
    "x = x_v\n",
    "y = y_v\n",
    "clf = iforest\n",
    "y_pred = clf.predict(x)\n",
    "y_pred = [1 if x == -1 else 0 for x in y_pred]\n",
    "y_pred = pd.Series(y_pred)\n",
    "\n",
    "pretty_cm(y_pred, y, [0, 1])"
   ]
  },
  {
   "cell_type": "markdown",
   "metadata": {},
   "source": [
    "### Visual Method\n",
    "The following method is based on generating a histogram of scores and seeing if you can visually identify a cluster of outliers.\n",
    "\n",
    "https://www.depends-on-the-definition.com/detecting-network-attacks-with-isolation-forests/"
   ]
  },
  {
   "cell_type": "code",
   "execution_count": 28,
   "metadata": {},
   "outputs": [
    {
     "data": {
      "image/png": "[encoded data removed]",
      "text/plain": [
       "<Figure size 432x288 with 1 Axes>"
      ]
     },
     "metadata": {
      "needs_background": "light"
     },
     "output_type": "display_data"
    }
   ],
   "source": [
    "#Validation\n",
    "scores = iforest.decision_function(x_tr_all)\n",
    "plt.figure(figsize=(6, 4))\n",
    "plt.hist(scores, bins=50);"
   ]
  },
  {
   "cell_type": "code",
   "execution_count": 29,
   "metadata": {},
   "outputs": [
    {
     "data": {
      "image/png": "[encoded data removed]",
      "text/plain": [
       "<Figure size 432x288 with 1 Axes>"
      ]
     },
     "metadata": {
      "needs_background": "light"
     },
     "output_type": "display_data"
    }
   ],
   "source": [
    "#Validation\n",
    "scores = iforest.decision_function(x_v)\n",
    "plt.figure(figsize=(6, 4))\n",
    "plt.hist(scores, bins=50);"
   ]
  },
  {
   "cell_type": "markdown",
   "metadata": {},
   "source": [
    "## Parameter Optimization"
   ]
  },
  {
   "cell_type": "markdown",
   "metadata": {},
   "source": [
    "### One Class SVM"
   ]
  },
  {
   "cell_type": "markdown",
   "metadata": {},
   "source": [
    "It is difficult and complicated to run a grid search for One Class SVM. The following code box is meant for manual adjustments of gamma."
   ]
  },
  {
   "cell_type": "code",
   "execution_count": 30,
   "metadata": {},
   "outputs": [
    {
     "name": "stdout",
     "output_type": "stream",
     "text": [
      "#######################\n",
      "Evaluation metrics ####\n",
      "#######################\n",
      "Accuracy: 0.907\n",
      "AUC Score: 0.500\n",
      "Precision: 0.058\n",
      "Precision Weighted: 0.890\n",
      "Recall: 0.039\n",
      "Recall Weighted: 0.907\n",
      "F1: 0.047\n",
      "F1 Weighted: 0.898\n",
      "Prevelance: 0.059\n"
     ]
    },
    {
     "data": {
      "image/png": "[encoded data removed]",
      "text/plain": [
       "<Figure size 432x288 with 2 Axes>"
      ]
     },
     "metadata": {
      "needs_background": "light"
     },
     "output_type": "display_data"
    }
   ],
   "source": [
    "svm = OneClassSVM(kernel='rbf', nu=outlier_prop, gamma = 1e-9) \n",
    "\n",
    "svm.fit(x_tr_normal)\n",
    "\n",
    "# Validation\n",
    "x = x_v\n",
    "y = y_v\n",
    "y_pred = svm.predict(x)\n",
    "y_pred = [1 if x == -1 else 0 for x in y_pred]\n",
    "y_pred = pd.Series(y_pred)\n",
    "pretty_cm(y_pred, y, [0, 1])"
   ]
  },
  {
   "cell_type": "markdown",
   "metadata": {},
   "source": [
    "The following method allows for One Class SVM to be looped over hyperparameters. \n",
    "Method based on:\n",
    "https://stackoverflow.com/questions/44698928/is-there-a-way-to-perform-grid-search-hyper-parameter-optimization-on-one-class"
   ]
  },
  {
   "cell_type": "code",
   "execution_count": 31,
   "metadata": {},
   "outputs": [],
   "source": [
    "# gammas = np.logspace(-9, 3, 13)\n",
    "# nus = np.linspace(0.01, 0.1, 5)\n",
    "\n",
    "# clf = OneClassSVM()\n",
    "\n",
    "# results = []\n",
    "\n",
    "# train_x = x_tr_normal\n",
    "# valid_x = x_v\n",
    "\n",
    "\n",
    "# for gamma in gammas:\n",
    "#     for nu in nus:\n",
    "#         clf.set_params(gamma=gamma, nu=nu)\n",
    "\n",
    "#         clf.fit(train_x)\n",
    "\n",
    "#         y_pred = clf.predict(valid_x)\n",
    "        \n",
    "#         y_pred = [1 if x == -1 else 0 for x in y_pred]\n",
    "\n",
    "#         if 1. in y_pred:  # Check if at least 1 review is predicted to be in the class\n",
    "#             results.append(((gamma, nu), (accuracy_score(y_true, y_pred),\n",
    "#                                               precision_score(y_true, y_pred),\n",
    "#                                               recall_score(y_true, y_pred),\n",
    "#                                               f1_score(y_true, y_pred),\n",
    "#                                               roc_auc_score(y_true, y_pred),\n",
    "#                                               ))\n",
    "#                                )"
   ]
  },
  {
   "cell_type": "markdown",
   "metadata": {},
   "source": [
    "### Isoaltion Forest"
   ]
  },
  {
   "cell_type": "markdown",
   "metadata": {},
   "source": [
    "#### AUC Score\n",
    "Best Tuning Metric so far."
   ]
  },
  {
   "cell_type": "code",
   "execution_count": 32,
   "metadata": {},
   "outputs": [],
   "source": [
    "# Model\n",
    "clf = IsolationForest(random_state=rng,  behaviour=\"new\")\n",
    "\n",
    "# Parameters\n",
    "param_dist = {'n_estimators':sp_randint(100,400),\n",
    "                   'max_samples': sp_randint(100,500), \n",
    "                   'contamination': [0.01, 0.05, 0.1, 0.2], \n",
    "                   'max_features': sp_randint(1,20), \n",
    "                   'bootstrap': [True, False]}\n",
    "\n",
    "# Scorer\n",
    "scorer = 'roc_auc'\n",
    "\n",
    "# Number of Search\n",
    "n_iter_search = n_iter_search\n",
    "\n",
    "# Radomizer\n",
    "random_if_estimator = RandomizedSearchCV(clf, \n",
    "                                       param_dist,\n",
    "                                       n_iter = n_iter_search,\n",
    "                                       scoring = scorer, \n",
    "                                       cv = 5,\n",
    "                                       n_jobs = 4,\n",
    "                                       verbose = 1,\n",
    "                                       return_train_score = True)"
   ]
  },
  {
   "cell_type": "code",
   "execution_count": 33,
   "metadata": {
    "scrolled": true
   },
   "outputs": [
    {
     "name": "stdout",
     "output_type": "stream",
     "text": [
      "Fitting 5 folds for each of 25 candidates, totalling 125 fits\n"
     ]
    },
    {
     "name": "stderr",
     "output_type": "stream",
     "text": [
      "[Parallel(n_jobs=4)]: Using backend LokyBackend with 4 concurrent workers.\n",
      "[Parallel(n_jobs=4)]: Done  42 tasks      | elapsed:  1.6min\n",
      "[Parallel(n_jobs=4)]: Done 125 out of 125 | elapsed:  4.2min finished\n"
     ]
    },
    {
     "data": {
      "text/plain": [
       "RandomizedSearchCV(cv=5, error_score='raise-deprecating',\n",
       "                   estimator=IsolationForest(behaviour='new', bootstrap=False,\n",
       "                                             contamination='legacy',\n",
       "                                             max_features=1.0,\n",
       "                                             max_samples='auto',\n",
       "                                             n_estimators=100, n_jobs=None,\n",
       "                                             random_state=<mtrand.RandomState object at 0x000001D0D257C750>,\n",
       "                                             verbose=0, warm_start=False),\n",
       "                   iid='warn', n_iter=25, n_jobs=4,\n",
       "                   param_distributions={'bootstra...\n",
       "                                        'max_features': <scipy.stats._distn_infrastructure.rv_frozen object at 0x000001D0D4CA58D0>,\n",
       "                                        'max_samples': <scipy.stats._distn_infrastructure.rv_frozen object at 0x000001D0D4CA55F8>,\n",
       "                                        'n_estimators': <scipy.stats._distn_infrastructure.rv_frozen object at 0x000001D0D4CA54A8>},\n",
       "                   pre_dispatch='2*n_jobs', random_state=None, refit=True,\n",
       "                   return_train_score=True, scoring='roc_auc', verbose=1)"
      ]
     },
     "execution_count": 33,
     "metadata": {},
     "output_type": "execute_result"
    }
   ],
   "source": [
    "random_if_estimator.fit(x_tr_all, y_tr_all)"
   ]
  },
  {
   "cell_type": "code",
   "execution_count": 34,
   "metadata": {},
   "outputs": [
    {
     "name": "stdout",
     "output_type": "stream",
     "text": [
      "Scorer\n",
      "make_scorer(roc_auc_score, needs_threshold=True)\n",
      "\n",
      "Best Score\n",
      "0.5428949981491342\n",
      "\n",
      "Best Score Parameters\n",
      "{'bootstrap': False, 'contamination': 0.2, 'max_features': 19, 'max_samples': 116, 'n_estimators': 226}\n"
     ]
    }
   ],
   "source": [
    "print('Scorer')\n",
    "print(random_if_estimator.scorer_)\n",
    "print(\"\")\n",
    "print(\"Best Score\")\n",
    "print(random_if_estimator.best_score_)\n",
    "print(\"\")\n",
    "print(\"Best Score Parameters\")\n",
    "print(random_if_estimator.best_params_)"
   ]
  },
  {
   "cell_type": "code",
   "execution_count": 35,
   "metadata": {},
   "outputs": [],
   "source": [
    "clf_auc = random_if_estimator.best_estimator_\n",
    "clf = clf_auc"
   ]
  },
  {
   "cell_type": "code",
   "execution_count": 36,
   "metadata": {},
   "outputs": [
    {
     "name": "stdout",
     "output_type": "stream",
     "text": [
      "#######################\n",
      "Evaluation metrics ####\n",
      "#######################\n",
      "Accuracy: 0.762\n",
      "AUC Score: 0.481\n",
      "Precision: 0.046\n",
      "Precision Weighted: 0.891\n",
      "Recall: 0.164\n",
      "Recall Weighted: 0.762\n",
      "F1: 0.072\n",
      "F1 Weighted: 0.819\n",
      "Prevelance: 0.056\n"
     ]
    },
    {
     "data": {
      "image/png": "[encoded data removed]",
      "text/plain": [
       "<Figure size 432x288 with 2 Axes>"
      ]
     },
     "metadata": {
      "needs_background": "light"
     },
     "output_type": "display_data"
    }
   ],
   "source": [
    "# Training\n",
    "x = x_tr_all\n",
    "y = y_tr_all\n",
    "y_pred = clf.predict(x)\n",
    "y_pred = [1 if x == -1 else 0 for x in y_pred]\n",
    "y_pred = pd.Series(y_pred)\n",
    "pretty_cm(y_pred, y, [0, 1])"
   ]
  },
  {
   "cell_type": "code",
   "execution_count": 37,
   "metadata": {},
   "outputs": [
    {
     "name": "stdout",
     "output_type": "stream",
     "text": [
      "#######################\n",
      "Evaluation metrics ####\n",
      "#######################\n",
      "Accuracy: 0.766\n",
      "AUC Score: 0.468\n",
      "Precision: 0.040\n",
      "Precision Weighted: 0.885\n",
      "Recall: 0.130\n",
      "Recall Weighted: 0.766\n",
      "F1: 0.061\n",
      "F1 Weighted: 0.819\n",
      "Prevelance: 0.059\n"
     ]
    },
    {
     "data": {
      "image/png": "[encoded data removed]",
      "text/plain": [
       "<Figure size 432x288 with 2 Axes>"
      ]
     },
     "metadata": {
      "needs_background": "light"
     },
     "output_type": "display_data"
    }
   ],
   "source": [
    "# Validation\n",
    "x = x_v\n",
    "y = y_v\n",
    "y_pred = clf.predict(x)\n",
    "y_pred = [1 if x == -1 else 0 for x in y_pred]\n",
    "y_pred = pd.Series(y_pred)\n",
    "\n",
    "pretty_cm(y_pred, y, [0, 1])"
   ]
  },
  {
   "cell_type": "markdown",
   "metadata": {},
   "source": [
    "### F1 Weighted\n",
    "Ran once and performed poorly. Do not run again."
   ]
  },
  {
   "cell_type": "code",
   "execution_count": 38,
   "metadata": {},
   "outputs": [],
   "source": [
    "# Model\n",
    "clf = IsolationForest(random_state=rng,  behaviour=\"new\")\n",
    "\n",
    "# Parameters\n",
    "param_dist = {'n_estimators':sp_randint(100,400),\n",
    "                   'max_samples': sp_randint(100,500), \n",
    "                   'contamination': [0.01, 0.05, 0.1, 0.2], \n",
    "                   'max_features': sp_randint(1,20), \n",
    "                   'bootstrap': [True, False]}\n",
    "\n",
    "# Scorer\n",
    "scorer = 'f1_weighted'\n",
    "\n",
    "# Number of Search\n",
    "n_iter_search = n_iter_search\n",
    "\n",
    "# Radomizer\n",
    "random_if_estimator = RandomizedSearchCV(clf, \n",
    "                                       param_dist,\n",
    "                                       n_iter = n_iter_search,\n",
    "                                       scoring = scorer, \n",
    "                                       cv=5,\n",
    "                                       n_jobs = 4,\n",
    "                                       verbose = 1,\n",
    "                                       return_train_score = True)"
   ]
  },
  {
   "cell_type": "code",
   "execution_count": 39,
   "metadata": {},
   "outputs": [
    {
     "name": "stdout",
     "output_type": "stream",
     "text": [
      "Fitting 5 folds for each of 25 candidates, totalling 125 fits\n"
     ]
    },
    {
     "name": "stderr",
     "output_type": "stream",
     "text": [
      "[Parallel(n_jobs=4)]: Using backend LokyBackend with 4 concurrent workers.\n",
      "[Parallel(n_jobs=4)]: Done  42 tasks      | elapsed:  1.6min\n",
      "[Parallel(n_jobs=4)]: Done 125 out of 125 | elapsed:  4.6min finished\n"
     ]
    },
    {
     "data": {
      "text/plain": [
       "RandomizedSearchCV(cv=5, error_score='raise-deprecating',\n",
       "                   estimator=IsolationForest(behaviour='new', bootstrap=False,\n",
       "                                             contamination='legacy',\n",
       "                                             max_features=1.0,\n",
       "                                             max_samples='auto',\n",
       "                                             n_estimators=100, n_jobs=None,\n",
       "                                             random_state=<mtrand.RandomState object at 0x000001D0D257C750>,\n",
       "                                             verbose=0, warm_start=False),\n",
       "                   iid='warn', n_iter=25, n_jobs=4,\n",
       "                   param_distributions={'bootstra...\n",
       "                                        'max_features': <scipy.stats._distn_infrastructure.rv_frozen object at 0x000001D0D47D49B0>,\n",
       "                                        'max_samples': <scipy.stats._distn_infrastructure.rv_frozen object at 0x000001D0D47D4C88>,\n",
       "                                        'n_estimators': <scipy.stats._distn_infrastructure.rv_frozen object at 0x000001D0D47D41D0>},\n",
       "                   pre_dispatch='2*n_jobs', random_state=None, refit=True,\n",
       "                   return_train_score=True, scoring='f1_weighted', verbose=1)"
      ]
     },
     "execution_count": 39,
     "metadata": {},
     "output_type": "execute_result"
    }
   ],
   "source": [
    "random_if_estimator.fit(x_tr_all, y_tr_all)"
   ]
  },
  {
   "cell_type": "code",
   "execution_count": 40,
   "metadata": {},
   "outputs": [
    {
     "name": "stdout",
     "output_type": "stream",
     "text": [
      "Scorer\n",
      "make_scorer(f1_score, pos_label=None, average=weighted)\n",
      "\n",
      "Best Score\n",
      "0.006162260735146947\n",
      "\n",
      "Best Score Parameters\n",
      "{'bootstrap': True, 'contamination': 0.2, 'max_features': 17, 'max_samples': 432, 'n_estimators': 388}\n"
     ]
    }
   ],
   "source": [
    "print('Scorer')\n",
    "print(random_if_estimator.scorer_)\n",
    "print(\"\")\n",
    "print(\"Best Score\")\n",
    "print(random_if_estimator.best_score_)\n",
    "print(\"\")\n",
    "print(\"Best Score Parameters\")\n",
    "print(random_if_estimator.best_params_)"
   ]
  },
  {
   "cell_type": "code",
   "execution_count": 41,
   "metadata": {},
   "outputs": [],
   "source": [
    "clf_f1 = random_if_estimator.best_estimator_\n",
    "clf = clf_f1"
   ]
  },
  {
   "cell_type": "code",
   "execution_count": 42,
   "metadata": {},
   "outputs": [
    {
     "name": "stdout",
     "output_type": "stream",
     "text": [
      "#######################\n",
      "Evaluation metrics ####\n",
      "#######################\n",
      "Accuracy: 0.762\n",
      "AUC Score: 0.481\n",
      "Precision: 0.046\n",
      "Precision Weighted: 0.891\n",
      "Recall: 0.164\n",
      "Recall Weighted: 0.762\n",
      "F1: 0.072\n",
      "F1 Weighted: 0.819\n",
      "Prevelance: 0.056\n"
     ]
    },
    {
     "data": {
      "image/png": "[encoded data removed]",
      "text/plain": [
       "<Figure size 432x288 with 2 Axes>"
      ]
     },
     "metadata": {
      "needs_background": "light"
     },
     "output_type": "display_data"
    }
   ],
   "source": [
    "# Training\n",
    "x = x_tr_all\n",
    "y = y_tr_all\n",
    "y_pred = clf.predict(x)\n",
    "y_pred = [1 if x == -1 else 0 for x in y_pred]\n",
    "y_pred = pd.Series(y_pred)\n",
    "pretty_cm(y_pred, y, [0, 1])"
   ]
  },
  {
   "cell_type": "code",
   "execution_count": 43,
   "metadata": {},
   "outputs": [
    {
     "name": "stdout",
     "output_type": "stream",
     "text": [
      "#######################\n",
      "Evaluation metrics ####\n",
      "#######################\n",
      "Accuracy: 0.762\n",
      "AUC Score: 0.471\n",
      "Precision: 0.042\n",
      "Precision Weighted: 0.885\n",
      "Recall: 0.142\n",
      "Recall Weighted: 0.762\n",
      "F1: 0.065\n",
      "F1 Weighted: 0.817\n",
      "Prevelance: 0.059\n"
     ]
    },
    {
     "data": {
      "image/png": "[encoded data removed]",
      "text/plain": [
       "<Figure size 432x288 with 2 Axes>"
      ]
     },
     "metadata": {
      "needs_background": "light"
     },
     "output_type": "display_data"
    }
   ],
   "source": [
    "# Validatin\n",
    "x = x_v\n",
    "y = y_v\n",
    "y_pred = clf.predict(x)\n",
    "y_pred = [1 if x == -1 else 0 for x in y_pred]\n",
    "y_pred = pd.Series(y_pred)\n",
    "pretty_cm(y_pred, y, [0, 1])"
   ]
  },
  {
   "cell_type": "markdown",
   "metadata": {},
   "source": [
    "# Test Set Scoring"
   ]
  },
  {
   "cell_type": "markdown",
   "metadata": {},
   "source": [
    "## General Function"
   ]
  },
  {
   "cell_type": "code",
   "execution_count": 44,
   "metadata": {},
   "outputs": [],
   "source": [
    "def test_score(clf, x):\n",
    "    \n",
    "    print(\"Detailed classification report:\")\n",
    "    print()\n",
    "    print(\"The model is trained and tuned on the training and validation sets..\")\n",
    "    print(\"The scores are computed on the test set.\")\n",
    "    print()\n",
    "    y_true, y_pred = y_te, clf.predict(x)\n",
    "    y_pred = [1 if x == -1 else 0 for x in y_pred]\n",
    "    print(classification_report(y_true, y_pred, digits = 3))\n",
    "    print()\n",
    "    \n",
    "    prevalence_te = '%.3f' %calc_prevalence(y_true)\n",
    "    auc_score_te = '%.3f' %roc_auc_score(y_true, y_pred)\n",
    "    print('AUC Score: ', auc_score_te)\n",
    "    print('Positive Target Prevalence: ', prevalence_te)\n",
    "    "
   ]
  },
  {
   "cell_type": "code",
   "execution_count": 45,
   "metadata": {},
   "outputs": [],
   "source": [
    "def test_score_cv(clf, x):\n",
    "    scoring = ['roc_auc', 'accuracy', 'balanced_accuracy', 'precision', 'recall', 'f1']\n",
    "    \n",
    "    results = cross_validate(estimator = clf,\n",
    "                                          X = x,\n",
    "                                          y = y_te,\n",
    "                                          cv = 5,\n",
    "                                          scoring = scoring)\n",
    "    for metric_name in results.keys():\n",
    "        average_score = np.average(results[metric_name])\n",
    "        print('%s : %.3f' % (metric_name, average_score))\n",
    "    \n",
    "    prevalence_te = '%.3f' %calc_prevalence(y_te)\n",
    "    print('positive target prevalence: ', prevalence_te)"
   ]
  },
  {
   "cell_type": "markdown",
   "metadata": {},
   "source": [
    "## One Class SVM"
   ]
  },
  {
   "cell_type": "code",
   "execution_count": 46,
   "metadata": {},
   "outputs": [
    {
     "name": "stdout",
     "output_type": "stream",
     "text": [
      "#######################\n",
      "Evaluation metrics ####\n",
      "#######################\n",
      "Accuracy: 0.911\n",
      "AUC Score: 0.504\n",
      "Precision: 0.069\n",
      "Precision Weighted: 0.892\n",
      "Recall: 0.043\n",
      "Recall Weighted: 0.911\n",
      "F1: 0.053\n",
      "F1 Weighted: 0.901\n",
      "Prevelance: 0.058\n"
     ]
    },
    {
     "data": {
      "image/png": "[encoded data removed]",
      "text/plain": [
       "<Figure size 432x288 with 2 Axes>"
      ]
     },
     "metadata": {
      "needs_background": "light"
     },
     "output_type": "display_data"
    }
   ],
   "source": [
    "# Test\n",
    "x = x_te\n",
    "y = y_te\n",
    "y_pred = svm.predict(x)\n",
    "y_pred = [1 if x == -1 else 0 for x in y_pred]\n",
    "y_pred = pd.Series(y_pred)\n",
    "pretty_cm(y_pred, y, [0, 1])"
   ]
  },
  {
   "cell_type": "markdown",
   "metadata": {},
   "source": [
    "## Isolation Forest"
   ]
  },
  {
   "cell_type": "markdown",
   "metadata": {},
   "source": [
    "#### AUC"
   ]
  },
  {
   "cell_type": "code",
   "execution_count": 47,
   "metadata": {
    "scrolled": true
   },
   "outputs": [
    {
     "name": "stdout",
     "output_type": "stream",
     "text": [
      "#######################\n",
      "Evaluation metrics ####\n",
      "#######################\n",
      "Accuracy: 0.752\n",
      "AUC Score: 0.480\n",
      "Precision: 0.048\n",
      "Precision Weighted: 0.888\n",
      "Recall: 0.173\n",
      "Recall Weighted: 0.752\n",
      "F1: 0.075\n",
      "F1 Weighted: 0.811\n",
      "Prevelance: 0.058\n"
     ]
    },
    {
     "data": {
      "image/png": "[encoded data removed]",
      "text/plain": [
       "<Figure size 432x288 with 2 Axes>"
      ]
     },
     "metadata": {
      "needs_background": "light"
     },
     "output_type": "display_data"
    }
   ],
   "source": [
    "clf = clf_auc\n",
    "\n",
    "# Test\n",
    "x = x_te\n",
    "y = y_te\n",
    "y_pred = clf.predict(x)\n",
    "y_pred = [1 if x == -1 else 0 for x in y_pred]\n",
    "y_pred = pd.Series(y_pred)\n",
    "\n",
    "pretty_cm(y_pred, y, [0, 1])"
   ]
  },
  {
   "cell_type": "markdown",
   "metadata": {},
   "source": [
    "#### F1 Weighted"
   ]
  },
  {
   "cell_type": "code",
   "execution_count": 48,
   "metadata": {},
   "outputs": [
    {
     "name": "stdout",
     "output_type": "stream",
     "text": [
      "#######################\n",
      "Evaluation metrics ####\n",
      "#######################\n",
      "Accuracy: 0.749\n",
      "AUC Score: 0.483\n",
      "Precision: 0.049\n",
      "Precision Weighted: 0.888\n",
      "Recall: 0.183\n",
      "Recall Weighted: 0.749\n",
      "F1: 0.078\n",
      "F1 Weighted: 0.810\n",
      "Prevelance: 0.058\n"
     ]
    },
    {
     "data": {
      "image/png": "[encoded data removed]",
      "text/plain": [
       "<Figure size 432x288 with 2 Axes>"
      ]
     },
     "metadata": {
      "needs_background": "light"
     },
     "output_type": "display_data"
    }
   ],
   "source": [
    "clf = clf_f1\n",
    "\n",
    "# Test\n",
    "x = x_te\n",
    "y = y_te\n",
    "y_pred = clf.predict(x)\n",
    "y_pred = [1 if x == -1 else 0 for x in y_pred]\n",
    "y_pred = pd.Series(y_pred)\n",
    "\n",
    "pretty_cm(y_pred, y, [0, 1])"
   ]
  }
 ],
 "metadata": {
  "kernelspec": {
   "display_name": "Python 3",
   "language": "python",
   "name": "python3"
  },
  "language_info": {
   "codemirror_mode": {
    "name": "ipython",
    "version": 3
   },
   "file_extension": ".py",
   "mimetype": "text/x-python",
   "name": "python",
   "nbconvert_exporter": "python",
   "pygments_lexer": "ipython3",
   "version": "3.7.3"
  }
 },
 "nbformat": 4,
 "nbformat_minor": 2
}
